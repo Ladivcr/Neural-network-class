{
  "nbformat": 4,
  "nbformat_minor": 0,
  "metadata": {
    "colab": {
      "name": "TimeSeries_H4_CNN_RNN.ipynb",
      "provenance": [],
      "collapsed_sections": []
    },
    "kernelspec": {
      "name": "python3",
      "display_name": "Python 3"
    },
    "language_info": {
      "name": "python"
    },
    "accelerator": "GPU"
  },
  "cells": [
    {
      "cell_type": "code",
      "metadata": {
        "id": "3XP4jzZzfJ2Q",
        "colab": {
          "base_uri": "https://localhost:8080/"
        },
        "outputId": "a4efa790-ac8a-4183-a223-b2b1a652fb49"
      },
      "source": [
        "!pip install -Uqq fastbook\n",
        "import fastbook\n",
        "fastbook.setup_book()"
      ],
      "execution_count": 1,
      "outputs": [
        {
          "output_type": "stream",
          "name": "stdout",
          "text": [
            "\u001b[K     |████████████████████████████████| 720 kB 5.3 MB/s \n",
            "\u001b[K     |████████████████████████████████| 186 kB 6.2 MB/s \n",
            "\u001b[K     |████████████████████████████████| 1.2 MB 37.2 MB/s \n",
            "\u001b[K     |████████████████████████████████| 46 kB 3.5 MB/s \n",
            "\u001b[K     |████████████████████████████████| 56 kB 3.0 MB/s \n",
            "\u001b[K     |████████████████████████████████| 51 kB 264 kB/s \n",
            "\u001b[?25hMounted at /content/gdrive\n"
          ]
        }
      ]
    },
    {
      "cell_type": "code",
      "metadata": {
        "id": "jIWcOrA4fkvv"
      },
      "source": [
        "from fastbook import *"
      ],
      "execution_count": 2,
      "outputs": []
    },
    {
      "cell_type": "markdown",
      "metadata": {
        "id": "4Y5vjGFuiYyV"
      },
      "source": [
        "\n",
        "- Usa redes neuronales \"convolucionales\" y redes neuronales recurrentes para predecir la columna \"Weekly Sales\"\n",
        "\n",
        "- ¿En cuál lograste mejor error?\n",
        "\n",
        "> Recuerda validar correctamente (es decir, con los últimas fechas)."
      ]
    },
    {
      "cell_type": "code",
      "metadata": {
        "id": "gJngV6Rsfnci"
      },
      "source": [
        "import seaborn as sns\n",
        "import pandas as pd\n",
        "import torch \n",
        "import torch.nn as nn\n",
        "import torch.nn.functional as F\n",
        "import fastai.tabular.all as ft\n",
        "from torch.utils.data import Dataset, DataLoader"
      ],
      "execution_count": 3,
      "outputs": []
    },
    {
      "cell_type": "code",
      "metadata": {
        "id": "JG5zrBGtfog3"
      },
      "source": [
        "stores = pd.read_csv('/content/StoresDataSet.csv')\n",
        "sales = pd.read_csv('/content/SalesDataSet.csv')\n",
        "features = pd.read_csv('/content/FeaturesDataSet.csv', index_col='Date', parse_dates=True)"
      ],
      "execution_count": 27,
      "outputs": []
    },
    {
      "cell_type": "code",
      "metadata": {
        "colab": {
          "base_uri": "https://localhost:8080/",
          "height": 206
        },
        "id": "taPZW206hgv2",
        "outputId": "5696099b-3e59-4f6d-c882-69848f0b862f"
      },
      "source": [
        "stores.head()"
      ],
      "execution_count": 28,
      "outputs": [
        {
          "output_type": "execute_result",
          "data": {
            "text/html": [
              "<div>\n",
              "<style scoped>\n",
              "    .dataframe tbody tr th:only-of-type {\n",
              "        vertical-align: middle;\n",
              "    }\n",
              "\n",
              "    .dataframe tbody tr th {\n",
              "        vertical-align: top;\n",
              "    }\n",
              "\n",
              "    .dataframe thead th {\n",
              "        text-align: right;\n",
              "    }\n",
              "</style>\n",
              "<table border=\"1\" class=\"dataframe\">\n",
              "  <thead>\n",
              "    <tr style=\"text-align: right;\">\n",
              "      <th></th>\n",
              "      <th>Store</th>\n",
              "      <th>Type</th>\n",
              "      <th>Size</th>\n",
              "    </tr>\n",
              "  </thead>\n",
              "  <tbody>\n",
              "    <tr>\n",
              "      <th>0</th>\n",
              "      <td>1</td>\n",
              "      <td>A</td>\n",
              "      <td>151315</td>\n",
              "    </tr>\n",
              "    <tr>\n",
              "      <th>1</th>\n",
              "      <td>2</td>\n",
              "      <td>A</td>\n",
              "      <td>202307</td>\n",
              "    </tr>\n",
              "    <tr>\n",
              "      <th>2</th>\n",
              "      <td>3</td>\n",
              "      <td>B</td>\n",
              "      <td>37392</td>\n",
              "    </tr>\n",
              "    <tr>\n",
              "      <th>3</th>\n",
              "      <td>4</td>\n",
              "      <td>A</td>\n",
              "      <td>205863</td>\n",
              "    </tr>\n",
              "    <tr>\n",
              "      <th>4</th>\n",
              "      <td>5</td>\n",
              "      <td>B</td>\n",
              "      <td>34875</td>\n",
              "    </tr>\n",
              "  </tbody>\n",
              "</table>\n",
              "</div>"
            ],
            "text/plain": [
              "   Store Type    Size\n",
              "0      1    A  151315\n",
              "1      2    A  202307\n",
              "2      3    B   37392\n",
              "3      4    A  205863\n",
              "4      5    B   34875"
            ]
          },
          "metadata": {},
          "execution_count": 28
        }
      ]
    },
    {
      "cell_type": "code",
      "metadata": {
        "colab": {
          "base_uri": "https://localhost:8080/",
          "height": 206
        },
        "id": "VxN4OJQghx9D",
        "outputId": "c1d8a4e3-fc51-452a-9d78-6a5aaf11737c"
      },
      "source": [
        "sales.head()"
      ],
      "execution_count": 29,
      "outputs": [
        {
          "output_type": "execute_result",
          "data": {
            "text/html": [
              "<div>\n",
              "<style scoped>\n",
              "    .dataframe tbody tr th:only-of-type {\n",
              "        vertical-align: middle;\n",
              "    }\n",
              "\n",
              "    .dataframe tbody tr th {\n",
              "        vertical-align: top;\n",
              "    }\n",
              "\n",
              "    .dataframe thead th {\n",
              "        text-align: right;\n",
              "    }\n",
              "</style>\n",
              "<table border=\"1\" class=\"dataframe\">\n",
              "  <thead>\n",
              "    <tr style=\"text-align: right;\">\n",
              "      <th></th>\n",
              "      <th>Store</th>\n",
              "      <th>Dept</th>\n",
              "      <th>Date</th>\n",
              "      <th>Weekly_Sales</th>\n",
              "      <th>IsHoliday</th>\n",
              "    </tr>\n",
              "  </thead>\n",
              "  <tbody>\n",
              "    <tr>\n",
              "      <th>0</th>\n",
              "      <td>1</td>\n",
              "      <td>1</td>\n",
              "      <td>05/02/2010</td>\n",
              "      <td>24924.50</td>\n",
              "      <td>False</td>\n",
              "    </tr>\n",
              "    <tr>\n",
              "      <th>1</th>\n",
              "      <td>1</td>\n",
              "      <td>1</td>\n",
              "      <td>12/02/2010</td>\n",
              "      <td>46039.49</td>\n",
              "      <td>True</td>\n",
              "    </tr>\n",
              "    <tr>\n",
              "      <th>2</th>\n",
              "      <td>1</td>\n",
              "      <td>1</td>\n",
              "      <td>19/02/2010</td>\n",
              "      <td>41595.55</td>\n",
              "      <td>False</td>\n",
              "    </tr>\n",
              "    <tr>\n",
              "      <th>3</th>\n",
              "      <td>1</td>\n",
              "      <td>1</td>\n",
              "      <td>26/02/2010</td>\n",
              "      <td>19403.54</td>\n",
              "      <td>False</td>\n",
              "    </tr>\n",
              "    <tr>\n",
              "      <th>4</th>\n",
              "      <td>1</td>\n",
              "      <td>1</td>\n",
              "      <td>05/03/2010</td>\n",
              "      <td>21827.90</td>\n",
              "      <td>False</td>\n",
              "    </tr>\n",
              "  </tbody>\n",
              "</table>\n",
              "</div>"
            ],
            "text/plain": [
              "   Store  Dept        Date  Weekly_Sales  IsHoliday\n",
              "0      1     1  05/02/2010      24924.50      False\n",
              "1      1     1  12/02/2010      46039.49       True\n",
              "2      1     1  19/02/2010      41595.55      False\n",
              "3      1     1  26/02/2010      19403.54      False\n",
              "4      1     1  05/03/2010      21827.90      False"
            ]
          },
          "metadata": {},
          "execution_count": 29
        }
      ]
    },
    {
      "cell_type": "markdown",
      "metadata": {
        "id": "FnypOuW6ewvA"
      },
      "source": [
        "Observamos que el formato de Date difiere del formato de los demás datasets, por lo que lo editamos para que corresponda. "
      ]
    },
    {
      "cell_type": "code",
      "metadata": {
        "id": "f6_qKMqudqHo"
      },
      "source": [
        "sales['Date'] = pd.to_datetime(sales.Date, errors='coerce')"
      ],
      "execution_count": 30,
      "outputs": []
    },
    {
      "cell_type": "code",
      "metadata": {
        "id": "qCi84SheeG9q"
      },
      "source": [
        "sales.index = sales.Date"
      ],
      "execution_count": 31,
      "outputs": []
    },
    {
      "cell_type": "code",
      "metadata": {
        "id": "qG3d_vmJeQQz"
      },
      "source": [
        "sales = sales[['Store', 'Dept', 'Weekly_Sales', 'IsHoliday']]"
      ],
      "execution_count": 32,
      "outputs": []
    },
    {
      "cell_type": "code",
      "metadata": {
        "colab": {
          "base_uri": "https://localhost:8080/",
          "height": 238
        },
        "id": "mu5owyMtejIr",
        "outputId": "06fb19d3-d8a0-40d2-a477-f567501aee8f"
      },
      "source": [
        "sales.head()"
      ],
      "execution_count": 33,
      "outputs": [
        {
          "output_type": "execute_result",
          "data": {
            "text/html": [
              "<div>\n",
              "<style scoped>\n",
              "    .dataframe tbody tr th:only-of-type {\n",
              "        vertical-align: middle;\n",
              "    }\n",
              "\n",
              "    .dataframe tbody tr th {\n",
              "        vertical-align: top;\n",
              "    }\n",
              "\n",
              "    .dataframe thead th {\n",
              "        text-align: right;\n",
              "    }\n",
              "</style>\n",
              "<table border=\"1\" class=\"dataframe\">\n",
              "  <thead>\n",
              "    <tr style=\"text-align: right;\">\n",
              "      <th></th>\n",
              "      <th>Store</th>\n",
              "      <th>Dept</th>\n",
              "      <th>Weekly_Sales</th>\n",
              "      <th>IsHoliday</th>\n",
              "    </tr>\n",
              "    <tr>\n",
              "      <th>Date</th>\n",
              "      <th></th>\n",
              "      <th></th>\n",
              "      <th></th>\n",
              "      <th></th>\n",
              "    </tr>\n",
              "  </thead>\n",
              "  <tbody>\n",
              "    <tr>\n",
              "      <th>2010-05-02</th>\n",
              "      <td>1</td>\n",
              "      <td>1</td>\n",
              "      <td>24924.50</td>\n",
              "      <td>False</td>\n",
              "    </tr>\n",
              "    <tr>\n",
              "      <th>2010-12-02</th>\n",
              "      <td>1</td>\n",
              "      <td>1</td>\n",
              "      <td>46039.49</td>\n",
              "      <td>True</td>\n",
              "    </tr>\n",
              "    <tr>\n",
              "      <th>2010-02-19</th>\n",
              "      <td>1</td>\n",
              "      <td>1</td>\n",
              "      <td>41595.55</td>\n",
              "      <td>False</td>\n",
              "    </tr>\n",
              "    <tr>\n",
              "      <th>2010-02-26</th>\n",
              "      <td>1</td>\n",
              "      <td>1</td>\n",
              "      <td>19403.54</td>\n",
              "      <td>False</td>\n",
              "    </tr>\n",
              "    <tr>\n",
              "      <th>2010-05-03</th>\n",
              "      <td>1</td>\n",
              "      <td>1</td>\n",
              "      <td>21827.90</td>\n",
              "      <td>False</td>\n",
              "    </tr>\n",
              "  </tbody>\n",
              "</table>\n",
              "</div>"
            ],
            "text/plain": [
              "            Store  Dept  Weekly_Sales  IsHoliday\n",
              "Date                                            \n",
              "2010-05-02      1     1      24924.50      False\n",
              "2010-12-02      1     1      46039.49       True\n",
              "2010-02-19      1     1      41595.55      False\n",
              "2010-02-26      1     1      19403.54      False\n",
              "2010-05-03      1     1      21827.90      False"
            ]
          },
          "metadata": {},
          "execution_count": 33
        }
      ]
    },
    {
      "cell_type": "code",
      "metadata": {
        "colab": {
          "base_uri": "https://localhost:8080/",
          "height": 238
        },
        "id": "OZ94fSonh0ep",
        "outputId": "03946899-9954-4eff-96d6-b21ab7477339"
      },
      "source": [
        "features.head()"
      ],
      "execution_count": 34,
      "outputs": [
        {
          "output_type": "execute_result",
          "data": {
            "text/html": [
              "<div>\n",
              "<style scoped>\n",
              "    .dataframe tbody tr th:only-of-type {\n",
              "        vertical-align: middle;\n",
              "    }\n",
              "\n",
              "    .dataframe tbody tr th {\n",
              "        vertical-align: top;\n",
              "    }\n",
              "\n",
              "    .dataframe thead th {\n",
              "        text-align: right;\n",
              "    }\n",
              "</style>\n",
              "<table border=\"1\" class=\"dataframe\">\n",
              "  <thead>\n",
              "    <tr style=\"text-align: right;\">\n",
              "      <th></th>\n",
              "      <th>Store</th>\n",
              "      <th>Temperature</th>\n",
              "      <th>Fuel_Price</th>\n",
              "      <th>MarkDown1</th>\n",
              "      <th>MarkDown2</th>\n",
              "      <th>MarkDown3</th>\n",
              "      <th>MarkDown4</th>\n",
              "      <th>MarkDown5</th>\n",
              "      <th>CPI</th>\n",
              "      <th>Unemployment</th>\n",
              "      <th>IsHoliday</th>\n",
              "    </tr>\n",
              "    <tr>\n",
              "      <th>Date</th>\n",
              "      <th></th>\n",
              "      <th></th>\n",
              "      <th></th>\n",
              "      <th></th>\n",
              "      <th></th>\n",
              "      <th></th>\n",
              "      <th></th>\n",
              "      <th></th>\n",
              "      <th></th>\n",
              "      <th></th>\n",
              "      <th></th>\n",
              "    </tr>\n",
              "  </thead>\n",
              "  <tbody>\n",
              "    <tr>\n",
              "      <th>2010-05-02</th>\n",
              "      <td>1</td>\n",
              "      <td>42.31</td>\n",
              "      <td>2.572</td>\n",
              "      <td>NaN</td>\n",
              "      <td>NaN</td>\n",
              "      <td>NaN</td>\n",
              "      <td>NaN</td>\n",
              "      <td>NaN</td>\n",
              "      <td>211.096358</td>\n",
              "      <td>8.106</td>\n",
              "      <td>False</td>\n",
              "    </tr>\n",
              "    <tr>\n",
              "      <th>2010-12-02</th>\n",
              "      <td>1</td>\n",
              "      <td>38.51</td>\n",
              "      <td>2.548</td>\n",
              "      <td>NaN</td>\n",
              "      <td>NaN</td>\n",
              "      <td>NaN</td>\n",
              "      <td>NaN</td>\n",
              "      <td>NaN</td>\n",
              "      <td>211.242170</td>\n",
              "      <td>8.106</td>\n",
              "      <td>True</td>\n",
              "    </tr>\n",
              "    <tr>\n",
              "      <th>2010-02-19</th>\n",
              "      <td>1</td>\n",
              "      <td>39.93</td>\n",
              "      <td>2.514</td>\n",
              "      <td>NaN</td>\n",
              "      <td>NaN</td>\n",
              "      <td>NaN</td>\n",
              "      <td>NaN</td>\n",
              "      <td>NaN</td>\n",
              "      <td>211.289143</td>\n",
              "      <td>8.106</td>\n",
              "      <td>False</td>\n",
              "    </tr>\n",
              "    <tr>\n",
              "      <th>2010-02-26</th>\n",
              "      <td>1</td>\n",
              "      <td>46.63</td>\n",
              "      <td>2.561</td>\n",
              "      <td>NaN</td>\n",
              "      <td>NaN</td>\n",
              "      <td>NaN</td>\n",
              "      <td>NaN</td>\n",
              "      <td>NaN</td>\n",
              "      <td>211.319643</td>\n",
              "      <td>8.106</td>\n",
              "      <td>False</td>\n",
              "    </tr>\n",
              "    <tr>\n",
              "      <th>2010-05-03</th>\n",
              "      <td>1</td>\n",
              "      <td>46.50</td>\n",
              "      <td>2.625</td>\n",
              "      <td>NaN</td>\n",
              "      <td>NaN</td>\n",
              "      <td>NaN</td>\n",
              "      <td>NaN</td>\n",
              "      <td>NaN</td>\n",
              "      <td>211.350143</td>\n",
              "      <td>8.106</td>\n",
              "      <td>False</td>\n",
              "    </tr>\n",
              "  </tbody>\n",
              "</table>\n",
              "</div>"
            ],
            "text/plain": [
              "            Store  Temperature  Fuel_Price  MarkDown1  MarkDown2  MarkDown3  \\\n",
              "Date                                                                          \n",
              "2010-05-02      1        42.31       2.572        NaN        NaN        NaN   \n",
              "2010-12-02      1        38.51       2.548        NaN        NaN        NaN   \n",
              "2010-02-19      1        39.93       2.514        NaN        NaN        NaN   \n",
              "2010-02-26      1        46.63       2.561        NaN        NaN        NaN   \n",
              "2010-05-03      1        46.50       2.625        NaN        NaN        NaN   \n",
              "\n",
              "            MarkDown4  MarkDown5         CPI  Unemployment  IsHoliday  \n",
              "Date                                                                   \n",
              "2010-05-02        NaN        NaN  211.096358         8.106      False  \n",
              "2010-12-02        NaN        NaN  211.242170         8.106       True  \n",
              "2010-02-19        NaN        NaN  211.289143         8.106      False  \n",
              "2010-02-26        NaN        NaN  211.319643         8.106      False  \n",
              "2010-05-03        NaN        NaN  211.350143         8.106      False  "
            ]
          },
          "metadata": {},
          "execution_count": 34
        }
      ]
    },
    {
      "cell_type": "markdown",
      "metadata": {
        "id": "lagionSwjPv0"
      },
      "source": [
        "# **Selección y eliminación de atributos**\n",
        "---\n",
        "\n",
        "Antes de aplicar CNN y RNN vamos a explorar los datos con los que vamos a trabajar"
      ]
    },
    {
      "cell_type": "markdown",
      "metadata": {
        "id": "e19HeK-_kDmC"
      },
      "source": [
        "## **Stores**\n",
        "---\n",
        "\"Anonymized information about the 45 stores, indicating the type and size of store\"\n",
        "\n",
        "> Contains additional data related to the store, department, and regional activity for the given dates.\n"
      ]
    },
    {
      "cell_type": "code",
      "metadata": {
        "colab": {
          "base_uri": "https://localhost:8080/",
          "height": 112
        },
        "id": "toX19_UwkILd",
        "outputId": "0dc457e8-2659-4578-c429-cabb5fba008d"
      },
      "source": [
        "stores.head(2)"
      ],
      "execution_count": 35,
      "outputs": [
        {
          "output_type": "execute_result",
          "data": {
            "text/html": [
              "<div>\n",
              "<style scoped>\n",
              "    .dataframe tbody tr th:only-of-type {\n",
              "        vertical-align: middle;\n",
              "    }\n",
              "\n",
              "    .dataframe tbody tr th {\n",
              "        vertical-align: top;\n",
              "    }\n",
              "\n",
              "    .dataframe thead th {\n",
              "        text-align: right;\n",
              "    }\n",
              "</style>\n",
              "<table border=\"1\" class=\"dataframe\">\n",
              "  <thead>\n",
              "    <tr style=\"text-align: right;\">\n",
              "      <th></th>\n",
              "      <th>Store</th>\n",
              "      <th>Type</th>\n",
              "      <th>Size</th>\n",
              "    </tr>\n",
              "  </thead>\n",
              "  <tbody>\n",
              "    <tr>\n",
              "      <th>0</th>\n",
              "      <td>1</td>\n",
              "      <td>A</td>\n",
              "      <td>151315</td>\n",
              "    </tr>\n",
              "    <tr>\n",
              "      <th>1</th>\n",
              "      <td>2</td>\n",
              "      <td>A</td>\n",
              "      <td>202307</td>\n",
              "    </tr>\n",
              "  </tbody>\n",
              "</table>\n",
              "</div>"
            ],
            "text/plain": [
              "   Store Type    Size\n",
              "0      1    A  151315\n",
              "1      2    A  202307"
            ]
          },
          "metadata": {},
          "execution_count": 35
        }
      ]
    },
    {
      "cell_type": "code",
      "metadata": {
        "colab": {
          "base_uri": "https://localhost:8080/",
          "height": 284
        },
        "id": "rLbSKSA2h5ZD",
        "outputId": "9e9c2d4a-7400-4611-eeef-c0f72dabaef9"
      },
      "source": [
        "# ESTADO DE LOS DATOS\n",
        "sns.heatmap(stores.isnull(), cbar=False)"
      ],
      "execution_count": 36,
      "outputs": [
        {
          "output_type": "execute_result",
          "data": {
            "text/plain": [
              "<matplotlib.axes._subplots.AxesSubplot at 0x7f9773744410>"
            ]
          },
          "metadata": {},
          "execution_count": 36
        },
        {
          "output_type": "display_data",
          "data": {
            "image/png": "[encoded data removed]",
            "text/plain": [
              "<Figure size 432x288 with 1 Axes>"
            ]
          },
          "metadata": {
            "needs_background": "light"
          }
        }
      ]
    },
    {
      "cell_type": "markdown",
      "metadata": {
        "id": "Z4amlMxrl6VZ"
      },
      "source": [
        "No contiene valores faltantes y la explicación sobre este dataset que ofrece la página de Kaggle de donde fue descargada no es muy amplia. Lo usaremos para combinarlo con uno de los otros datasets"
      ]
    },
    {
      "cell_type": "markdown",
      "metadata": {
        "id": "maJO12MNmG8a"
      },
      "source": [
        "## **Sales**\n",
        "---\n",
        "Historical sales data, which covers to 2010-02-05 to 2012-11-01. Within this tab you will find the following fields:\n",
        "\n",
        "- Store - the store number\n",
        "- Dept - the department number\n",
        "- Date - the week\n",
        "- Weekly_Sales -  sales for the given department in the given store\n",
        "- IsHoliday - whether the week is a special holiday week"
      ]
    },
    {
      "cell_type": "code",
      "metadata": {
        "colab": {
          "base_uri": "https://localhost:8080/",
          "height": 143
        },
        "id": "jhaFfB4VkAlo",
        "outputId": "07d70401-93cf-4584-b311-1dfa0d0ac408"
      },
      "source": [
        "sales.head(2)"
      ],
      "execution_count": 37,
      "outputs": [
        {
          "output_type": "execute_result",
          "data": {
            "text/html": [
              "<div>\n",
              "<style scoped>\n",
              "    .dataframe tbody tr th:only-of-type {\n",
              "        vertical-align: middle;\n",
              "    }\n",
              "\n",
              "    .dataframe tbody tr th {\n",
              "        vertical-align: top;\n",
              "    }\n",
              "\n",
              "    .dataframe thead th {\n",
              "        text-align: right;\n",
              "    }\n",
              "</style>\n",
              "<table border=\"1\" class=\"dataframe\">\n",
              "  <thead>\n",
              "    <tr style=\"text-align: right;\">\n",
              "      <th></th>\n",
              "      <th>Store</th>\n",
              "      <th>Dept</th>\n",
              "      <th>Weekly_Sales</th>\n",
              "      <th>IsHoliday</th>\n",
              "    </tr>\n",
              "    <tr>\n",
              "      <th>Date</th>\n",
              "      <th></th>\n",
              "      <th></th>\n",
              "      <th></th>\n",
              "      <th></th>\n",
              "    </tr>\n",
              "  </thead>\n",
              "  <tbody>\n",
              "    <tr>\n",
              "      <th>2010-05-02</th>\n",
              "      <td>1</td>\n",
              "      <td>1</td>\n",
              "      <td>24924.50</td>\n",
              "      <td>False</td>\n",
              "    </tr>\n",
              "    <tr>\n",
              "      <th>2010-12-02</th>\n",
              "      <td>1</td>\n",
              "      <td>1</td>\n",
              "      <td>46039.49</td>\n",
              "      <td>True</td>\n",
              "    </tr>\n",
              "  </tbody>\n",
              "</table>\n",
              "</div>"
            ],
            "text/plain": [
              "            Store  Dept  Weekly_Sales  IsHoliday\n",
              "Date                                            \n",
              "2010-05-02      1     1      24924.50      False\n",
              "2010-12-02      1     1      46039.49       True"
            ]
          },
          "metadata": {},
          "execution_count": 37
        }
      ]
    },
    {
      "cell_type": "code",
      "metadata": {
        "colab": {
          "base_uri": "https://localhost:8080/",
          "height": 287
        },
        "id": "8arD8VHxmYPS",
        "outputId": "4c22cb98-3905-4874-c2a6-37422bd728b0"
      },
      "source": [
        "# ESTADO DE LOS DATOS\n",
        "sns.heatmap(sales.isnull(), cbar=False)"
      ],
      "execution_count": 38,
      "outputs": [
        {
          "output_type": "execute_result",
          "data": {
            "text/plain": [
              "<matplotlib.axes._subplots.AxesSubplot at 0x7f97736bf890>"
            ]
          },
          "metadata": {},
          "execution_count": 38
        },
        {
          "output_type": "display_data",
          "data": {
            "image/png": "[encoded data removed]",
            "text/plain": [
              "<Figure size 432x288 with 1 Axes>"
            ]
          },
          "metadata": {
            "needs_background": "light"
          }
        }
      ]
    },
    {
      "cell_type": "markdown",
      "metadata": {
        "id": "FSZDPaAAmw46"
      },
      "source": [
        "No tenemos valores faltantes, podemos usar sus columnas para combinarlo mediante \"Store\" con los demás datasets y construir uno a partir de dicha combinación "
      ]
    },
    {
      "cell_type": "code",
      "metadata": {
        "id": "wh_8eQHjiw5-"
      },
      "source": [
        "sales['Year'] = sales.index.year\n",
        "sales['Month'] = sales.index.month\n",
        "sales['Day'] = sales.index.day"
      ],
      "execution_count": 39,
      "outputs": []
    },
    {
      "cell_type": "code",
      "metadata": {
        "colab": {
          "base_uri": "https://localhost:8080/",
          "height": 238
        },
        "id": "16lc-_jkjJMv",
        "outputId": "4debf489-7ad7-4d12-8117-bcf1aa605d39"
      },
      "source": [
        "sales.head(5)"
      ],
      "execution_count": 40,
      "outputs": [
        {
          "output_type": "execute_result",
          "data": {
            "text/html": [
              "<div>\n",
              "<style scoped>\n",
              "    .dataframe tbody tr th:only-of-type {\n",
              "        vertical-align: middle;\n",
              "    }\n",
              "\n",
              "    .dataframe tbody tr th {\n",
              "        vertical-align: top;\n",
              "    }\n",
              "\n",
              "    .dataframe thead th {\n",
              "        text-align: right;\n",
              "    }\n",
              "</style>\n",
              "<table border=\"1\" class=\"dataframe\">\n",
              "  <thead>\n",
              "    <tr style=\"text-align: right;\">\n",
              "      <th></th>\n",
              "      <th>Store</th>\n",
              "      <th>Dept</th>\n",
              "      <th>Weekly_Sales</th>\n",
              "      <th>IsHoliday</th>\n",
              "      <th>Year</th>\n",
              "      <th>Month</th>\n",
              "      <th>Day</th>\n",
              "    </tr>\n",
              "    <tr>\n",
              "      <th>Date</th>\n",
              "      <th></th>\n",
              "      <th></th>\n",
              "      <th></th>\n",
              "      <th></th>\n",
              "      <th></th>\n",
              "      <th></th>\n",
              "      <th></th>\n",
              "    </tr>\n",
              "  </thead>\n",
              "  <tbody>\n",
              "    <tr>\n",
              "      <th>2010-05-02</th>\n",
              "      <td>1</td>\n",
              "      <td>1</td>\n",
              "      <td>24924.50</td>\n",
              "      <td>False</td>\n",
              "      <td>2010</td>\n",
              "      <td>5</td>\n",
              "      <td>2</td>\n",
              "    </tr>\n",
              "    <tr>\n",
              "      <th>2010-12-02</th>\n",
              "      <td>1</td>\n",
              "      <td>1</td>\n",
              "      <td>46039.49</td>\n",
              "      <td>True</td>\n",
              "      <td>2010</td>\n",
              "      <td>12</td>\n",
              "      <td>2</td>\n",
              "    </tr>\n",
              "    <tr>\n",
              "      <th>2010-02-19</th>\n",
              "      <td>1</td>\n",
              "      <td>1</td>\n",
              "      <td>41595.55</td>\n",
              "      <td>False</td>\n",
              "      <td>2010</td>\n",
              "      <td>2</td>\n",
              "      <td>19</td>\n",
              "    </tr>\n",
              "    <tr>\n",
              "      <th>2010-02-26</th>\n",
              "      <td>1</td>\n",
              "      <td>1</td>\n",
              "      <td>19403.54</td>\n",
              "      <td>False</td>\n",
              "      <td>2010</td>\n",
              "      <td>2</td>\n",
              "      <td>26</td>\n",
              "    </tr>\n",
              "    <tr>\n",
              "      <th>2010-05-03</th>\n",
              "      <td>1</td>\n",
              "      <td>1</td>\n",
              "      <td>21827.90</td>\n",
              "      <td>False</td>\n",
              "      <td>2010</td>\n",
              "      <td>5</td>\n",
              "      <td>3</td>\n",
              "    </tr>\n",
              "  </tbody>\n",
              "</table>\n",
              "</div>"
            ],
            "text/plain": [
              "            Store  Dept  Weekly_Sales  IsHoliday  Year  Month  Day\n",
              "Date                                                              \n",
              "2010-05-02      1     1      24924.50      False  2010      5    2\n",
              "2010-12-02      1     1      46039.49       True  2010     12    2\n",
              "2010-02-19      1     1      41595.55      False  2010      2   19\n",
              "2010-02-26      1     1      19403.54      False  2010      2   26\n",
              "2010-05-03      1     1      21827.90      False  2010      5    3"
            ]
          },
          "metadata": {},
          "execution_count": 40
        }
      ]
    },
    {
      "cell_type": "markdown",
      "metadata": {
        "id": "5e-HWdupnC0L"
      },
      "source": [
        "## **Features**\n",
        "---\n",
        "Contains additional data related to the store, department, and regional activity for the given dates.\n",
        "\n",
        "- Store - the store number\n",
        "- Date - the week\n",
        "- Temperature - average temperature in the region\n",
        "- Fuel_Price - cost of fuel in the region\n",
        "- MarkDown1-5 - anonymized data related to promotional markdowns. MarkDown data is only available after Nov 2011, and is not available for all stores all the time. Any missing value is marked with an NA\n",
        "- CPI - the consumer price index\n",
        "- Unemployment - the unemployment rate\n",
        "- IsHoliday - whether the week is a special holiday week\n"
      ]
    },
    {
      "cell_type": "code",
      "metadata": {
        "colab": {
          "base_uri": "https://localhost:8080/",
          "height": 143
        },
        "id": "utt4pSc1mdiZ",
        "outputId": "bcbb82e0-95ed-472d-b651-cf6d18b856b7"
      },
      "source": [
        "features.head(2)"
      ],
      "execution_count": 41,
      "outputs": [
        {
          "output_type": "execute_result",
          "data": {
            "text/html": [
              "<div>\n",
              "<style scoped>\n",
              "    .dataframe tbody tr th:only-of-type {\n",
              "        vertical-align: middle;\n",
              "    }\n",
              "\n",
              "    .dataframe tbody tr th {\n",
              "        vertical-align: top;\n",
              "    }\n",
              "\n",
              "    .dataframe thead th {\n",
              "        text-align: right;\n",
              "    }\n",
              "</style>\n",
              "<table border=\"1\" class=\"dataframe\">\n",
              "  <thead>\n",
              "    <tr style=\"text-align: right;\">\n",
              "      <th></th>\n",
              "      <th>Store</th>\n",
              "      <th>Temperature</th>\n",
              "      <th>Fuel_Price</th>\n",
              "      <th>MarkDown1</th>\n",
              "      <th>MarkDown2</th>\n",
              "      <th>MarkDown3</th>\n",
              "      <th>MarkDown4</th>\n",
              "      <th>MarkDown5</th>\n",
              "      <th>CPI</th>\n",
              "      <th>Unemployment</th>\n",
              "      <th>IsHoliday</th>\n",
              "    </tr>\n",
              "    <tr>\n",
              "      <th>Date</th>\n",
              "      <th></th>\n",
              "      <th></th>\n",
              "      <th></th>\n",
              "      <th></th>\n",
              "      <th></th>\n",
              "      <th></th>\n",
              "      <th></th>\n",
              "      <th></th>\n",
              "      <th></th>\n",
              "      <th></th>\n",
              "      <th></th>\n",
              "    </tr>\n",
              "  </thead>\n",
              "  <tbody>\n",
              "    <tr>\n",
              "      <th>2010-05-02</th>\n",
              "      <td>1</td>\n",
              "      <td>42.31</td>\n",
              "      <td>2.572</td>\n",
              "      <td>NaN</td>\n",
              "      <td>NaN</td>\n",
              "      <td>NaN</td>\n",
              "      <td>NaN</td>\n",
              "      <td>NaN</td>\n",
              "      <td>211.096358</td>\n",
              "      <td>8.106</td>\n",
              "      <td>False</td>\n",
              "    </tr>\n",
              "    <tr>\n",
              "      <th>2010-12-02</th>\n",
              "      <td>1</td>\n",
              "      <td>38.51</td>\n",
              "      <td>2.548</td>\n",
              "      <td>NaN</td>\n",
              "      <td>NaN</td>\n",
              "      <td>NaN</td>\n",
              "      <td>NaN</td>\n",
              "      <td>NaN</td>\n",
              "      <td>211.242170</td>\n",
              "      <td>8.106</td>\n",
              "      <td>True</td>\n",
              "    </tr>\n",
              "  </tbody>\n",
              "</table>\n",
              "</div>"
            ],
            "text/plain": [
              "            Store  Temperature  Fuel_Price  MarkDown1  MarkDown2  MarkDown3  \\\n",
              "Date                                                                          \n",
              "2010-05-02      1        42.31       2.572        NaN        NaN        NaN   \n",
              "2010-12-02      1        38.51       2.548        NaN        NaN        NaN   \n",
              "\n",
              "            MarkDown4  MarkDown5         CPI  Unemployment  IsHoliday  \n",
              "Date                                                                   \n",
              "2010-05-02        NaN        NaN  211.096358         8.106      False  \n",
              "2010-12-02        NaN        NaN  211.242170         8.106       True  "
            ]
          },
          "metadata": {},
          "execution_count": 41
        }
      ]
    },
    {
      "cell_type": "code",
      "metadata": {
        "colab": {
          "base_uri": "https://localhost:8080/",
          "height": 353
        },
        "id": "qi8cX958nsnD",
        "outputId": "cdd07b83-c18d-4c84-828e-eefabfc23e3e"
      },
      "source": [
        "# Estado de los datos\n",
        "sns.heatmap(features.isnull(), cbar=False)"
      ],
      "execution_count": 42,
      "outputs": [
        {
          "output_type": "execute_result",
          "data": {
            "text/plain": [
              "<matplotlib.axes._subplots.AxesSubplot at 0x7f976a925c50>"
            ]
          },
          "metadata": {},
          "execution_count": 42
        },
        {
          "output_type": "display_data",
          "data": {
            "image/png": "[encoded data removed]",
            "text/plain": [
              "<Figure size 432x288 with 1 Axes>"
            ]
          },
          "metadata": {
            "needs_background": "light"
          }
        }
      ]
    },
    {
      "cell_type": "markdown",
      "metadata": {
        "id": "NJSh_3waod7x"
      },
      "source": [
        "Dado que los datos relacionados a rebajas **Markdowns**\n",
        "solo estan disponibles a partir de Nov 2011 y sólo están disponibles para algunas tiendas. Vamos a suprimirlos para esta primer predicción. \n",
        "\n",
        "> Tal vez los usemos más adelante únicamente para ver si rellenando con el anterior registro o algo así, nos aportan información y mejoran nuestra predicción. "
      ]
    },
    {
      "cell_type": "code",
      "metadata": {
        "colab": {
          "base_uri": "https://localhost:8080/"
        },
        "id": "PyilDbQEYt9Z",
        "outputId": "be800844-5ae9-4465-ac3d-1e0ee55c7e6a"
      },
      "source": [
        "features.columns"
      ],
      "execution_count": 43,
      "outputs": [
        {
          "output_type": "execute_result",
          "data": {
            "text/plain": [
              "Index(['Store', 'Temperature', 'Fuel_Price', 'MarkDown1', 'MarkDown2',\n",
              "       'MarkDown3', 'MarkDown4', 'MarkDown5', 'CPI', 'Unemployment',\n",
              "       'IsHoliday'],\n",
              "      dtype='object')"
            ]
          },
          "metadata": {},
          "execution_count": 43
        }
      ]
    },
    {
      "cell_type": "code",
      "metadata": {
        "id": "hFq4-k5ZoP15",
        "colab": {
          "base_uri": "https://localhost:8080/",
          "height": 238
        },
        "outputId": "34db20f4-1e54-4efa-a695-22eef9e54d83"
      },
      "source": [
        "features = features[['Store', 'Temperature', 'Fuel_Price', 'CPI', 'Unemployment', 'IsHoliday']]\n",
        "features.head()"
      ],
      "execution_count": 44,
      "outputs": [
        {
          "output_type": "execute_result",
          "data": {
            "text/html": [
              "<div>\n",
              "<style scoped>\n",
              "    .dataframe tbody tr th:only-of-type {\n",
              "        vertical-align: middle;\n",
              "    }\n",
              "\n",
              "    .dataframe tbody tr th {\n",
              "        vertical-align: top;\n",
              "    }\n",
              "\n",
              "    .dataframe thead th {\n",
              "        text-align: right;\n",
              "    }\n",
              "</style>\n",
              "<table border=\"1\" class=\"dataframe\">\n",
              "  <thead>\n",
              "    <tr style=\"text-align: right;\">\n",
              "      <th></th>\n",
              "      <th>Store</th>\n",
              "      <th>Temperature</th>\n",
              "      <th>Fuel_Price</th>\n",
              "      <th>CPI</th>\n",
              "      <th>Unemployment</th>\n",
              "      <th>IsHoliday</th>\n",
              "    </tr>\n",
              "    <tr>\n",
              "      <th>Date</th>\n",
              "      <th></th>\n",
              "      <th></th>\n",
              "      <th></th>\n",
              "      <th></th>\n",
              "      <th></th>\n",
              "      <th></th>\n",
              "    </tr>\n",
              "  </thead>\n",
              "  <tbody>\n",
              "    <tr>\n",
              "      <th>2010-05-02</th>\n",
              "      <td>1</td>\n",
              "      <td>42.31</td>\n",
              "      <td>2.572</td>\n",
              "      <td>211.096358</td>\n",
              "      <td>8.106</td>\n",
              "      <td>False</td>\n",
              "    </tr>\n",
              "    <tr>\n",
              "      <th>2010-12-02</th>\n",
              "      <td>1</td>\n",
              "      <td>38.51</td>\n",
              "      <td>2.548</td>\n",
              "      <td>211.242170</td>\n",
              "      <td>8.106</td>\n",
              "      <td>True</td>\n",
              "    </tr>\n",
              "    <tr>\n",
              "      <th>2010-02-19</th>\n",
              "      <td>1</td>\n",
              "      <td>39.93</td>\n",
              "      <td>2.514</td>\n",
              "      <td>211.289143</td>\n",
              "      <td>8.106</td>\n",
              "      <td>False</td>\n",
              "    </tr>\n",
              "    <tr>\n",
              "      <th>2010-02-26</th>\n",
              "      <td>1</td>\n",
              "      <td>46.63</td>\n",
              "      <td>2.561</td>\n",
              "      <td>211.319643</td>\n",
              "      <td>8.106</td>\n",
              "      <td>False</td>\n",
              "    </tr>\n",
              "    <tr>\n",
              "      <th>2010-05-03</th>\n",
              "      <td>1</td>\n",
              "      <td>46.50</td>\n",
              "      <td>2.625</td>\n",
              "      <td>211.350143</td>\n",
              "      <td>8.106</td>\n",
              "      <td>False</td>\n",
              "    </tr>\n",
              "  </tbody>\n",
              "</table>\n",
              "</div>"
            ],
            "text/plain": [
              "            Store  Temperature  Fuel_Price         CPI  Unemployment  \\\n",
              "Date                                                                   \n",
              "2010-05-02      1        42.31       2.572  211.096358         8.106   \n",
              "2010-12-02      1        38.51       2.548  211.242170         8.106   \n",
              "2010-02-19      1        39.93       2.514  211.289143         8.106   \n",
              "2010-02-26      1        46.63       2.561  211.319643         8.106   \n",
              "2010-05-03      1        46.50       2.625  211.350143         8.106   \n",
              "\n",
              "            IsHoliday  \n",
              "Date                   \n",
              "2010-05-02      False  \n",
              "2010-12-02       True  \n",
              "2010-02-19      False  \n",
              "2010-02-26      False  \n",
              "2010-05-03      False  "
            ]
          },
          "metadata": {},
          "execution_count": 44
        }
      ]
    },
    {
      "cell_type": "code",
      "metadata": {
        "colab": {
          "base_uri": "https://localhost:8080/",
          "height": 353
        },
        "id": "MZIBYzEPh0GR",
        "outputId": "89999389-76db-4ea2-fe9d-d181c7ce8f90"
      },
      "source": [
        "sns.heatmap(features.isnull(), cbar=False)"
      ],
      "execution_count": 45,
      "outputs": [
        {
          "output_type": "execute_result",
          "data": {
            "text/plain": [
              "<matplotlib.axes._subplots.AxesSubplot at 0x7f976a81cb50>"
            ]
          },
          "metadata": {},
          "execution_count": 45
        },
        {
          "output_type": "display_data",
          "data": {
            "image/png": "[encoded data removed]",
            "text/plain": [
              "<Figure size 432x288 with 1 Axes>"
            ]
          },
          "metadata": {
            "needs_background": "light"
          }
        }
      ]
    },
    {
      "cell_type": "code",
      "metadata": {
        "id": "SivM9ujVjQvd"
      },
      "source": [
        "features['Year'] = features.index.year\n",
        "features['Month'] = features.index.month\n",
        "features['Day'] = features.index.day"
      ],
      "execution_count": 46,
      "outputs": []
    },
    {
      "cell_type": "code",
      "metadata": {
        "colab": {
          "base_uri": "https://localhost:8080/",
          "height": 175
        },
        "id": "YfhAE7I8jjmp",
        "outputId": "2895d9f8-2c55-4d0e-f5ac-541107ee5c66"
      },
      "source": [
        "features.head(3)"
      ],
      "execution_count": 47,
      "outputs": [
        {
          "output_type": "execute_result",
          "data": {
            "text/html": [
              "<div>\n",
              "<style scoped>\n",
              "    .dataframe tbody tr th:only-of-type {\n",
              "        vertical-align: middle;\n",
              "    }\n",
              "\n",
              "    .dataframe tbody tr th {\n",
              "        vertical-align: top;\n",
              "    }\n",
              "\n",
              "    .dataframe thead th {\n",
              "        text-align: right;\n",
              "    }\n",
              "</style>\n",
              "<table border=\"1\" class=\"dataframe\">\n",
              "  <thead>\n",
              "    <tr style=\"text-align: right;\">\n",
              "      <th></th>\n",
              "      <th>Store</th>\n",
              "      <th>Temperature</th>\n",
              "      <th>Fuel_Price</th>\n",
              "      <th>CPI</th>\n",
              "      <th>Unemployment</th>\n",
              "      <th>IsHoliday</th>\n",
              "      <th>Year</th>\n",
              "      <th>Month</th>\n",
              "      <th>Day</th>\n",
              "    </tr>\n",
              "    <tr>\n",
              "      <th>Date</th>\n",
              "      <th></th>\n",
              "      <th></th>\n",
              "      <th></th>\n",
              "      <th></th>\n",
              "      <th></th>\n",
              "      <th></th>\n",
              "      <th></th>\n",
              "      <th></th>\n",
              "      <th></th>\n",
              "    </tr>\n",
              "  </thead>\n",
              "  <tbody>\n",
              "    <tr>\n",
              "      <th>2010-05-02</th>\n",
              "      <td>1</td>\n",
              "      <td>42.31</td>\n",
              "      <td>2.572</td>\n",
              "      <td>211.096358</td>\n",
              "      <td>8.106</td>\n",
              "      <td>False</td>\n",
              "      <td>2010</td>\n",
              "      <td>5</td>\n",
              "      <td>2</td>\n",
              "    </tr>\n",
              "    <tr>\n",
              "      <th>2010-12-02</th>\n",
              "      <td>1</td>\n",
              "      <td>38.51</td>\n",
              "      <td>2.548</td>\n",
              "      <td>211.242170</td>\n",
              "      <td>8.106</td>\n",
              "      <td>True</td>\n",
              "      <td>2010</td>\n",
              "      <td>12</td>\n",
              "      <td>2</td>\n",
              "    </tr>\n",
              "    <tr>\n",
              "      <th>2010-02-19</th>\n",
              "      <td>1</td>\n",
              "      <td>39.93</td>\n",
              "      <td>2.514</td>\n",
              "      <td>211.289143</td>\n",
              "      <td>8.106</td>\n",
              "      <td>False</td>\n",
              "      <td>2010</td>\n",
              "      <td>2</td>\n",
              "      <td>19</td>\n",
              "    </tr>\n",
              "  </tbody>\n",
              "</table>\n",
              "</div>"
            ],
            "text/plain": [
              "            Store  Temperature  Fuel_Price         CPI  Unemployment  \\\n",
              "Date                                                                   \n",
              "2010-05-02      1        42.31       2.572  211.096358         8.106   \n",
              "2010-12-02      1        38.51       2.548  211.242170         8.106   \n",
              "2010-02-19      1        39.93       2.514  211.289143         8.106   \n",
              "\n",
              "            IsHoliday  Year  Month  Day  \n",
              "Date                                     \n",
              "2010-05-02      False  2010      5    2  \n",
              "2010-12-02       True  2010     12    2  \n",
              "2010-02-19      False  2010      2   19  "
            ]
          },
          "metadata": {},
          "execution_count": 47
        }
      ]
    },
    {
      "cell_type": "markdown",
      "metadata": {
        "id": "BuYshX_pbDsS"
      },
      "source": [
        "Unimos los dataframes para generar uno y trabajar con el."
      ]
    },
    {
      "cell_type": "code",
      "metadata": {
        "colab": {
          "base_uri": "https://localhost:8080/"
        },
        "id": "SYj92tslY2Xy",
        "outputId": "82cac2a7-39e3-468c-e0c0-1c2e94f21e7f"
      },
      "source": [
        "features.columns, len(features)"
      ],
      "execution_count": 48,
      "outputs": [
        {
          "output_type": "execute_result",
          "data": {
            "text/plain": [
              "(Index(['Store', 'Temperature', 'Fuel_Price', 'CPI', 'Unemployment',\n",
              "        'IsHoliday', 'Year', 'Month', 'Day'],\n",
              "       dtype='object'), 8190)"
            ]
          },
          "metadata": {},
          "execution_count": 48
        }
      ]
    },
    {
      "cell_type": "code",
      "metadata": {
        "colab": {
          "base_uri": "https://localhost:8080/"
        },
        "id": "J41F-O02Tdnn",
        "outputId": "c737d131-af76-430a-ece7-f7ffd1d12ef2"
      },
      "source": [
        "len(set(features.Store))"
      ],
      "execution_count": 49,
      "outputs": [
        {
          "output_type": "execute_result",
          "data": {
            "text/plain": [
              "45"
            ]
          },
          "metadata": {},
          "execution_count": 49
        }
      ]
    },
    {
      "cell_type": "code",
      "metadata": {
        "colab": {
          "base_uri": "https://localhost:8080/"
        },
        "id": "TT4a-EBCbMbH",
        "outputId": "eb459a32-ebd7-495b-cb6e-cccb091fc9ec"
      },
      "source": [
        "sales.columns, len(sales)"
      ],
      "execution_count": 50,
      "outputs": [
        {
          "output_type": "execute_result",
          "data": {
            "text/plain": [
              "(Index(['Store', 'Dept', 'Weekly_Sales', 'IsHoliday', 'Year', 'Month', 'Day'], dtype='object'),\n",
              " 421570)"
            ]
          },
          "metadata": {},
          "execution_count": 50
        }
      ]
    },
    {
      "cell_type": "code",
      "metadata": {
        "colab": {
          "base_uri": "https://localhost:8080/"
        },
        "id": "dz28Q-HWTeFW",
        "outputId": "69469248-5ecc-4c95-f5fa-0acdc8596009"
      },
      "source": [
        "sales.Store.unique()"
      ],
      "execution_count": 51,
      "outputs": [
        {
          "output_type": "execute_result",
          "data": {
            "text/plain": [
              "array([ 1,  2,  3,  4,  5,  6,  7,  8,  9, 10, 11, 12, 13, 14, 15, 16, 17, 18, 19, 20, 21, 22, 23, 24, 25, 26, 27, 28, 29, 30, 31, 32, 33, 34, 35, 36, 37, 38, 39, 40, 41, 42, 43, 44, 45])"
            ]
          },
          "metadata": {},
          "execution_count": 51
        }
      ]
    },
    {
      "cell_type": "code",
      "metadata": {
        "colab": {
          "base_uri": "https://localhost:8080/"
        },
        "id": "4VM0K9fpbNlB",
        "outputId": "a6f7aa84-4eff-43ce-c900-f720f2a9adba"
      },
      "source": [
        "stores.columns, len(stores)"
      ],
      "execution_count": 52,
      "outputs": [
        {
          "output_type": "execute_result",
          "data": {
            "text/plain": [
              "(Index(['Store', 'Type', 'Size'], dtype='object'), 45)"
            ]
          },
          "metadata": {},
          "execution_count": 52
        }
      ]
    },
    {
      "cell_type": "code",
      "metadata": {
        "colab": {
          "base_uri": "https://localhost:8080/"
        },
        "id": "vO1fLiUpTc51",
        "outputId": "06083848-ca90-456b-8b57-3c3042c6b7b9"
      },
      "source": [
        "len(set(stores.Store))"
      ],
      "execution_count": 53,
      "outputs": [
        {
          "output_type": "execute_result",
          "data": {
            "text/plain": [
              "45"
            ]
          },
          "metadata": {},
          "execution_count": 53
        }
      ]
    },
    {
      "cell_type": "markdown",
      "metadata": {
        "id": "PrjxYB_TZMYd"
      },
      "source": [
        "Dado que _sales_ únicamente tiene 4 tiendas y es donde se encuentra la columna que vamos a predecir, voy a reducir los otros dos dataframes de tal forma que me quede únicamente con esas cuatro tiendas en todos. Esto para facilitar la unión entre ellos. Ya que he estado batallando bastante con ellos"
      ]
    },
    {
      "cell_type": "code",
      "metadata": {
        "id": "247vZxghZThQ"
      },
      "source": [
        "# TODO: Filtrado a 1,2,3,4 de features\n",
        "filter_features = features.loc[(features.Store == 1) | (features.Store == 2) | (features.Store == 3) | (features.Store == 4)]"
      ],
      "execution_count": 54,
      "outputs": []
    },
    {
      "cell_type": "code",
      "metadata": {
        "colab": {
          "base_uri": "https://localhost:8080/"
        },
        "id": "Pdd6sScsZKXo",
        "outputId": "eb1ab4de-1bfc-486e-9c81-fb4fae582687"
      },
      "source": [
        "len(set(filter_features.Store)), len(filter_features)"
      ],
      "execution_count": 55,
      "outputs": [
        {
          "output_type": "execute_result",
          "data": {
            "text/plain": [
              "(4, 728)"
            ]
          },
          "metadata": {},
          "execution_count": 55
        }
      ]
    },
    {
      "cell_type": "code",
      "metadata": {
        "id": "9sGUF65SbNac"
      },
      "source": [
        "# TODO: Filtrado a 1,2,3,4 de stores\n",
        "filter_stores = stores.loc[(stores.Store == 1) | (stores.Store == 2) | (stores.Store == 3) | (stores.Store == 4)]"
      ],
      "execution_count": 56,
      "outputs": []
    },
    {
      "cell_type": "code",
      "metadata": {
        "colab": {
          "base_uri": "https://localhost:8080/"
        },
        "id": "cu_VoTAZbtdG",
        "outputId": "fd341305-0cc1-4fbf-8406-25e2ce2c0588"
      },
      "source": [
        "len(set(filter_stores.Store)), len(filter_stores)"
      ],
      "execution_count": 57,
      "outputs": [
        {
          "output_type": "execute_result",
          "data": {
            "text/plain": [
              "(4, 4)"
            ]
          },
          "metadata": {},
          "execution_count": 57
        }
      ]
    },
    {
      "cell_type": "code",
      "metadata": {
        "colab": {
          "base_uri": "https://localhost:8080/"
        },
        "id": "8YIdg96icTco",
        "outputId": "c52c0b36-aa43-4a07-f42c-b98663f9bee1"
      },
      "source": [
        "# TODO: sales\n",
        "len(set(sales.Store)), len(sales)"
      ],
      "execution_count": 58,
      "outputs": [
        {
          "output_type": "execute_result",
          "data": {
            "text/plain": [
              "(45, 421570)"
            ]
          },
          "metadata": {},
          "execution_count": 58
        }
      ]
    },
    {
      "cell_type": "code",
      "metadata": {
        "id": "21yMuMzieWRO"
      },
      "source": [
        "# para no perder generalidad\n",
        "filter_sales = sales"
      ],
      "execution_count": 59,
      "outputs": []
    },
    {
      "cell_type": "markdown",
      "metadata": {
        "id": "mSJXIZNpgvON"
      },
      "source": [
        "Una vez tenemos las cuatro tiendas con registros en cada dataset, vamos a unirlas en un sólo dataset. Recordemos que previamente ya habíamos asignado *Date* como el index, sin embargo, ahora lo cambiamos y asignamos *Store* como el index, esto con la finalidad de facilitar la únión entre los diferentes datasets."
      ]
    },
    {
      "cell_type": "code",
      "metadata": {
        "colab": {
          "base_uri": "https://localhost:8080/",
          "height": 400
        },
        "id": "3GXX7vVBWLlR",
        "outputId": "243a34c0-187b-45e6-9019-3d9f1fa62962"
      },
      "source": [
        "# TODO: cambio de indice en Features\n",
        "filter_features['Date'] = filter_features.index"
      ],
      "execution_count": 60,
      "outputs": [
        {
          "output_type": "error",
          "ename": "SettingWithCopyError",
          "evalue": "ignored",
          "traceback": [
            "\u001b[0;31m---------------------------------------------------------------------------\u001b[0m",
            "\u001b[0;31mSettingWithCopyError\u001b[0m                      Traceback (most recent call last)",
            "\u001b[0;32m<ipython-input-60-27c432b0869e>\u001b[0m in \u001b[0;36m<module>\u001b[0;34m()\u001b[0m\n\u001b[1;32m      1\u001b[0m \u001b[0;31m# TODO: cambio de indice en Features\u001b[0m\u001b[0;34m\u001b[0m\u001b[0;34m\u001b[0m\u001b[0;34m\u001b[0m\u001b[0m\n\u001b[0;32m----> 2\u001b[0;31m \u001b[0mfilter_features\u001b[0m\u001b[0;34m[\u001b[0m\u001b[0;34m'Date'\u001b[0m\u001b[0;34m]\u001b[0m \u001b[0;34m=\u001b[0m \u001b[0mfilter_features\u001b[0m\u001b[0;34m.\u001b[0m\u001b[0mindex\u001b[0m\u001b[0;34m\u001b[0m\u001b[0;34m\u001b[0m\u001b[0m\n\u001b[0m",
            "\u001b[0;32m/usr/local/lib/python3.7/dist-packages/pandas/core/frame.py\u001b[0m in \u001b[0;36m__setitem__\u001b[0;34m(self, key, value)\u001b[0m\n\u001b[1;32m   3042\u001b[0m         \u001b[0;32melse\u001b[0m\u001b[0;34m:\u001b[0m\u001b[0;34m\u001b[0m\u001b[0;34m\u001b[0m\u001b[0m\n\u001b[1;32m   3043\u001b[0m             \u001b[0;31m# set column\u001b[0m\u001b[0;34m\u001b[0m\u001b[0;34m\u001b[0m\u001b[0;34m\u001b[0m\u001b[0m\n\u001b[0;32m-> 3044\u001b[0;31m             \u001b[0mself\u001b[0m\u001b[0;34m.\u001b[0m\u001b[0m_set_item\u001b[0m\u001b[0;34m(\u001b[0m\u001b[0mkey\u001b[0m\u001b[0;34m,\u001b[0m \u001b[0mvalue\u001b[0m\u001b[0;34m)\u001b[0m\u001b[0;34m\u001b[0m\u001b[0;34m\u001b[0m\u001b[0m\n\u001b[0m\u001b[1;32m   3045\u001b[0m \u001b[0;34m\u001b[0m\u001b[0m\n\u001b[1;32m   3046\u001b[0m     \u001b[0;32mdef\u001b[0m \u001b[0m_setitem_slice\u001b[0m\u001b[0;34m(\u001b[0m\u001b[0mself\u001b[0m\u001b[0;34m,\u001b[0m \u001b[0mkey\u001b[0m\u001b[0;34m:\u001b[0m \u001b[0mslice\u001b[0m\u001b[0;34m,\u001b[0m \u001b[0mvalue\u001b[0m\u001b[0;34m)\u001b[0m\u001b[0;34m:\u001b[0m\u001b[0;34m\u001b[0m\u001b[0;34m\u001b[0m\u001b[0m\n",
            "\u001b[0;32m/usr/local/lib/python3.7/dist-packages/pandas/core/frame.py\u001b[0m in \u001b[0;36m_set_item\u001b[0;34m(self, key, value)\u001b[0m\n\u001b[1;32m   3125\u001b[0m         \u001b[0;31m# value exception to occur first\u001b[0m\u001b[0;34m\u001b[0m\u001b[0;34m\u001b[0m\u001b[0;34m\u001b[0m\u001b[0m\n\u001b[1;32m   3126\u001b[0m         \u001b[0;32mif\u001b[0m \u001b[0mlen\u001b[0m\u001b[0;34m(\u001b[0m\u001b[0mself\u001b[0m\u001b[0;34m)\u001b[0m\u001b[0;34m:\u001b[0m\u001b[0;34m\u001b[0m\u001b[0;34m\u001b[0m\u001b[0m\n\u001b[0;32m-> 3127\u001b[0;31m             \u001b[0mself\u001b[0m\u001b[0;34m.\u001b[0m\u001b[0m_check_setitem_copy\u001b[0m\u001b[0;34m(\u001b[0m\u001b[0;34m)\u001b[0m\u001b[0;34m\u001b[0m\u001b[0;34m\u001b[0m\u001b[0m\n\u001b[0m\u001b[1;32m   3128\u001b[0m \u001b[0;34m\u001b[0m\u001b[0m\n\u001b[1;32m   3129\u001b[0m     \u001b[0;32mdef\u001b[0m \u001b[0m_set_value\u001b[0m\u001b[0;34m(\u001b[0m\u001b[0mself\u001b[0m\u001b[0;34m,\u001b[0m \u001b[0mindex\u001b[0m\u001b[0;34m,\u001b[0m \u001b[0mcol\u001b[0m\u001b[0;34m,\u001b[0m \u001b[0mvalue\u001b[0m\u001b[0;34m,\u001b[0m \u001b[0mtakeable\u001b[0m\u001b[0;34m:\u001b[0m \u001b[0mbool\u001b[0m \u001b[0;34m=\u001b[0m \u001b[0;32mFalse\u001b[0m\u001b[0;34m)\u001b[0m\u001b[0;34m:\u001b[0m\u001b[0;34m\u001b[0m\u001b[0;34m\u001b[0m\u001b[0m\n",
            "\u001b[0;32m/usr/local/lib/python3.7/dist-packages/pandas/core/generic.py\u001b[0m in \u001b[0;36m_check_setitem_copy\u001b[0;34m(self, stacklevel, t, force)\u001b[0m\n\u001b[1;32m   3681\u001b[0m \u001b[0;34m\u001b[0m\u001b[0m\n\u001b[1;32m   3682\u001b[0m         \u001b[0;32mif\u001b[0m \u001b[0mvalue\u001b[0m \u001b[0;34m==\u001b[0m \u001b[0;34m\"raise\"\u001b[0m\u001b[0;34m:\u001b[0m\u001b[0;34m\u001b[0m\u001b[0;34m\u001b[0m\u001b[0m\n\u001b[0;32m-> 3683\u001b[0;31m             \u001b[0;32mraise\u001b[0m \u001b[0mcom\u001b[0m\u001b[0;34m.\u001b[0m\u001b[0mSettingWithCopyError\u001b[0m\u001b[0;34m(\u001b[0m\u001b[0mt\u001b[0m\u001b[0;34m)\u001b[0m\u001b[0;34m\u001b[0m\u001b[0;34m\u001b[0m\u001b[0m\n\u001b[0m\u001b[1;32m   3684\u001b[0m         \u001b[0;32melif\u001b[0m \u001b[0mvalue\u001b[0m \u001b[0;34m==\u001b[0m \u001b[0;34m\"warn\"\u001b[0m\u001b[0;34m:\u001b[0m\u001b[0;34m\u001b[0m\u001b[0;34m\u001b[0m\u001b[0m\n\u001b[1;32m   3685\u001b[0m             \u001b[0mwarnings\u001b[0m\u001b[0;34m.\u001b[0m\u001b[0mwarn\u001b[0m\u001b[0;34m(\u001b[0m\u001b[0mt\u001b[0m\u001b[0;34m,\u001b[0m \u001b[0mcom\u001b[0m\u001b[0;34m.\u001b[0m\u001b[0mSettingWithCopyWarning\u001b[0m\u001b[0;34m,\u001b[0m \u001b[0mstacklevel\u001b[0m\u001b[0;34m=\u001b[0m\u001b[0mstacklevel\u001b[0m\u001b[0;34m)\u001b[0m\u001b[0;34m\u001b[0m\u001b[0;34m\u001b[0m\u001b[0m\n",
            "\u001b[0;31mSettingWithCopyError\u001b[0m: \nA value is trying to be set on a copy of a slice from a DataFrame.\nTry using .loc[row_indexer,col_indexer] = value instead\n\nSee the caveats in the documentation: https://pandas.pydata.org/pandas-docs/stable/user_guide/indexing.html#returning-a-view-versus-a-copy"
          ]
        }
      ]
    },
    {
      "cell_type": "code",
      "metadata": {
        "colab": {
          "base_uri": "https://localhost:8080/",
          "height": 112
        },
        "id": "P1gF4tjWgZu6",
        "outputId": "45c0570f-c7ab-4763-82bd-3a0f5f523b4e"
      },
      "source": [
        "filter_features.head(1)"
      ],
      "execution_count": 61,
      "outputs": [
        {
          "output_type": "execute_result",
          "data": {
            "text/html": [
              "<div>\n",
              "<style scoped>\n",
              "    .dataframe tbody tr th:only-of-type {\n",
              "        vertical-align: middle;\n",
              "    }\n",
              "\n",
              "    .dataframe tbody tr th {\n",
              "        vertical-align: top;\n",
              "    }\n",
              "\n",
              "    .dataframe thead th {\n",
              "        text-align: right;\n",
              "    }\n",
              "</style>\n",
              "<table border=\"1\" class=\"dataframe\">\n",
              "  <thead>\n",
              "    <tr style=\"text-align: right;\">\n",
              "      <th></th>\n",
              "      <th>Store</th>\n",
              "      <th>Temperature</th>\n",
              "      <th>Fuel_Price</th>\n",
              "      <th>CPI</th>\n",
              "      <th>Unemployment</th>\n",
              "      <th>IsHoliday</th>\n",
              "      <th>Year</th>\n",
              "      <th>Month</th>\n",
              "      <th>Day</th>\n",
              "      <th>Date</th>\n",
              "    </tr>\n",
              "    <tr>\n",
              "      <th>Date</th>\n",
              "      <th></th>\n",
              "      <th></th>\n",
              "      <th></th>\n",
              "      <th></th>\n",
              "      <th></th>\n",
              "      <th></th>\n",
              "      <th></th>\n",
              "      <th></th>\n",
              "      <th></th>\n",
              "      <th></th>\n",
              "    </tr>\n",
              "  </thead>\n",
              "  <tbody>\n",
              "    <tr>\n",
              "      <th>2010-05-02</th>\n",
              "      <td>1</td>\n",
              "      <td>42.31</td>\n",
              "      <td>2.572</td>\n",
              "      <td>211.096358</td>\n",
              "      <td>8.106</td>\n",
              "      <td>False</td>\n",
              "      <td>2010</td>\n",
              "      <td>5</td>\n",
              "      <td>2</td>\n",
              "      <td>2010-05-02</td>\n",
              "    </tr>\n",
              "  </tbody>\n",
              "</table>\n",
              "</div>"
            ],
            "text/plain": [
              "            Store  Temperature  Fuel_Price         CPI  Unemployment  \\\n",
              "Date                                                                   \n",
              "2010-05-02      1        42.31       2.572  211.096358         8.106   \n",
              "\n",
              "            IsHoliday  Year  Month  Day       Date  \n",
              "Date                                                \n",
              "2010-05-02      False  2010      5    2 2010-05-02  "
            ]
          },
          "metadata": {},
          "execution_count": 61
        }
      ]
    },
    {
      "cell_type": "markdown",
      "metadata": {
        "id": "4IgPPmSZhAqu"
      },
      "source": [
        "Es raro, pero la instrucción anterior a pesar de que marco error si fue ejecutada"
      ]
    },
    {
      "cell_type": "code",
      "metadata": {
        "id": "nuvqAHRfg_SW"
      },
      "source": [
        "#filter_features.index = filter_features[\"Store\"]"
      ],
      "execution_count": 62,
      "outputs": []
    },
    {
      "cell_type": "code",
      "metadata": {
        "colab": {
          "base_uri": "https://localhost:8080/",
          "height": 143
        },
        "id": "-4-AGJ2bhFq0",
        "outputId": "6a91a07d-27ef-44dc-d91c-38de7e99f082"
      },
      "source": [
        "filter_features.head(2)"
      ],
      "execution_count": 63,
      "outputs": [
        {
          "output_type": "execute_result",
          "data": {
            "text/html": [
              "<div>\n",
              "<style scoped>\n",
              "    .dataframe tbody tr th:only-of-type {\n",
              "        vertical-align: middle;\n",
              "    }\n",
              "\n",
              "    .dataframe tbody tr th {\n",
              "        vertical-align: top;\n",
              "    }\n",
              "\n",
              "    .dataframe thead th {\n",
              "        text-align: right;\n",
              "    }\n",
              "</style>\n",
              "<table border=\"1\" class=\"dataframe\">\n",
              "  <thead>\n",
              "    <tr style=\"text-align: right;\">\n",
              "      <th></th>\n",
              "      <th>Store</th>\n",
              "      <th>Temperature</th>\n",
              "      <th>Fuel_Price</th>\n",
              "      <th>CPI</th>\n",
              "      <th>Unemployment</th>\n",
              "      <th>IsHoliday</th>\n",
              "      <th>Year</th>\n",
              "      <th>Month</th>\n",
              "      <th>Day</th>\n",
              "      <th>Date</th>\n",
              "    </tr>\n",
              "    <tr>\n",
              "      <th>Date</th>\n",
              "      <th></th>\n",
              "      <th></th>\n",
              "      <th></th>\n",
              "      <th></th>\n",
              "      <th></th>\n",
              "      <th></th>\n",
              "      <th></th>\n",
              "      <th></th>\n",
              "      <th></th>\n",
              "      <th></th>\n",
              "    </tr>\n",
              "  </thead>\n",
              "  <tbody>\n",
              "    <tr>\n",
              "      <th>2010-05-02</th>\n",
              "      <td>1</td>\n",
              "      <td>42.31</td>\n",
              "      <td>2.572</td>\n",
              "      <td>211.096358</td>\n",
              "      <td>8.106</td>\n",
              "      <td>False</td>\n",
              "      <td>2010</td>\n",
              "      <td>5</td>\n",
              "      <td>2</td>\n",
              "      <td>2010-05-02</td>\n",
              "    </tr>\n",
              "    <tr>\n",
              "      <th>2010-12-02</th>\n",
              "      <td>1</td>\n",
              "      <td>38.51</td>\n",
              "      <td>2.548</td>\n",
              "      <td>211.242170</td>\n",
              "      <td>8.106</td>\n",
              "      <td>True</td>\n",
              "      <td>2010</td>\n",
              "      <td>12</td>\n",
              "      <td>2</td>\n",
              "      <td>2010-12-02</td>\n",
              "    </tr>\n",
              "  </tbody>\n",
              "</table>\n",
              "</div>"
            ],
            "text/plain": [
              "            Store  Temperature  Fuel_Price         CPI  Unemployment  \\\n",
              "Date                                                                   \n",
              "2010-05-02      1        42.31       2.572  211.096358         8.106   \n",
              "2010-12-02      1        38.51       2.548  211.242170         8.106   \n",
              "\n",
              "            IsHoliday  Year  Month  Day       Date  \n",
              "Date                                                \n",
              "2010-05-02      False  2010      5    2 2010-05-02  \n",
              "2010-12-02       True  2010     12    2 2010-12-02  "
            ]
          },
          "metadata": {},
          "execution_count": 63
        }
      ]
    },
    {
      "cell_type": "code",
      "metadata": {
        "colab": {
          "base_uri": "https://localhost:8080/"
        },
        "id": "tPxPwWeahq4u",
        "outputId": "6415db52-a113-4e7f-eb72-b0f41cefe5a5"
      },
      "source": [
        "filter_features.columns, len(filter_features)"
      ],
      "execution_count": 64,
      "outputs": [
        {
          "output_type": "execute_result",
          "data": {
            "text/plain": [
              "(Index(['Store', 'Temperature', 'Fuel_Price', 'CPI', 'Unemployment',\n",
              "        'IsHoliday', 'Year', 'Month', 'Day', 'Date'],\n",
              "       dtype='object'), 728)"
            ]
          },
          "metadata": {},
          "execution_count": 64
        }
      ]
    },
    {
      "cell_type": "code",
      "metadata": {
        "id": "R23PVevlWLex"
      },
      "source": [
        "# TODO: Cambio de indice en Sales\n",
        "filter_sales['Date'] = filter_sales.index\n",
        "#filter_sales.index = filter_sales.Store"
      ],
      "execution_count": 65,
      "outputs": []
    },
    {
      "cell_type": "code",
      "metadata": {
        "colab": {
          "base_uri": "https://localhost:8080/",
          "height": 143
        },
        "id": "iYmCvmk9hNaF",
        "outputId": "ff45ebdd-8a82-4056-e786-ae0f638bd053"
      },
      "source": [
        "filter_sales.head(2)"
      ],
      "execution_count": 66,
      "outputs": [
        {
          "output_type": "execute_result",
          "data": {
            "text/html": [
              "<div>\n",
              "<style scoped>\n",
              "    .dataframe tbody tr th:only-of-type {\n",
              "        vertical-align: middle;\n",
              "    }\n",
              "\n",
              "    .dataframe tbody tr th {\n",
              "        vertical-align: top;\n",
              "    }\n",
              "\n",
              "    .dataframe thead th {\n",
              "        text-align: right;\n",
              "    }\n",
              "</style>\n",
              "<table border=\"1\" class=\"dataframe\">\n",
              "  <thead>\n",
              "    <tr style=\"text-align: right;\">\n",
              "      <th></th>\n",
              "      <th>Store</th>\n",
              "      <th>Dept</th>\n",
              "      <th>Weekly_Sales</th>\n",
              "      <th>IsHoliday</th>\n",
              "      <th>Year</th>\n",
              "      <th>Month</th>\n",
              "      <th>Day</th>\n",
              "      <th>Date</th>\n",
              "    </tr>\n",
              "    <tr>\n",
              "      <th>Date</th>\n",
              "      <th></th>\n",
              "      <th></th>\n",
              "      <th></th>\n",
              "      <th></th>\n",
              "      <th></th>\n",
              "      <th></th>\n",
              "      <th></th>\n",
              "      <th></th>\n",
              "    </tr>\n",
              "  </thead>\n",
              "  <tbody>\n",
              "    <tr>\n",
              "      <th>2010-05-02</th>\n",
              "      <td>1</td>\n",
              "      <td>1</td>\n",
              "      <td>24924.50</td>\n",
              "      <td>False</td>\n",
              "      <td>2010</td>\n",
              "      <td>5</td>\n",
              "      <td>2</td>\n",
              "      <td>2010-05-02</td>\n",
              "    </tr>\n",
              "    <tr>\n",
              "      <th>2010-12-02</th>\n",
              "      <td>1</td>\n",
              "      <td>1</td>\n",
              "      <td>46039.49</td>\n",
              "      <td>True</td>\n",
              "      <td>2010</td>\n",
              "      <td>12</td>\n",
              "      <td>2</td>\n",
              "      <td>2010-12-02</td>\n",
              "    </tr>\n",
              "  </tbody>\n",
              "</table>\n",
              "</div>"
            ],
            "text/plain": [
              "            Store  Dept  Weekly_Sales  IsHoliday  Year  Month  Day       Date\n",
              "Date                                                                         \n",
              "2010-05-02      1     1      24924.50      False  2010      5    2 2010-05-02\n",
              "2010-12-02      1     1      46039.49       True  2010     12    2 2010-12-02"
            ]
          },
          "metadata": {},
          "execution_count": 66
        }
      ]
    },
    {
      "cell_type": "code",
      "metadata": {
        "colab": {
          "base_uri": "https://localhost:8080/"
        },
        "id": "Meug7UcNWLbe",
        "outputId": "45586fea-bbce-4782-b8fe-c468e4dc267a"
      },
      "source": [
        "filter_sales.columns, len(filter_sales)"
      ],
      "execution_count": 67,
      "outputs": [
        {
          "output_type": "execute_result",
          "data": {
            "text/plain": [
              "(Index(['Store', 'Dept', 'Weekly_Sales', 'IsHoliday', 'Year', 'Month', 'Day',\n",
              "        'Date'],\n",
              "       dtype='object'), 421570)"
            ]
          },
          "metadata": {},
          "execution_count": 67
        }
      ]
    },
    {
      "cell_type": "code",
      "metadata": {
        "colab": {
          "base_uri": "https://localhost:8080/",
          "height": 112
        },
        "id": "rUP0KdhdZTrl",
        "outputId": "faa7bc4e-c925-4326-839b-e36b72c3d5e4"
      },
      "source": [
        "# TODO: Cambio de indice en stores\n",
        "#filter_stores.index = filter_stores.Store\n",
        "filter_stores.head(2)"
      ],
      "execution_count": 68,
      "outputs": [
        {
          "output_type": "execute_result",
          "data": {
            "text/html": [
              "<div>\n",
              "<style scoped>\n",
              "    .dataframe tbody tr th:only-of-type {\n",
              "        vertical-align: middle;\n",
              "    }\n",
              "\n",
              "    .dataframe tbody tr th {\n",
              "        vertical-align: top;\n",
              "    }\n",
              "\n",
              "    .dataframe thead th {\n",
              "        text-align: right;\n",
              "    }\n",
              "</style>\n",
              "<table border=\"1\" class=\"dataframe\">\n",
              "  <thead>\n",
              "    <tr style=\"text-align: right;\">\n",
              "      <th></th>\n",
              "      <th>Store</th>\n",
              "      <th>Type</th>\n",
              "      <th>Size</th>\n",
              "    </tr>\n",
              "  </thead>\n",
              "  <tbody>\n",
              "    <tr>\n",
              "      <th>0</th>\n",
              "      <td>1</td>\n",
              "      <td>A</td>\n",
              "      <td>151315</td>\n",
              "    </tr>\n",
              "    <tr>\n",
              "      <th>1</th>\n",
              "      <td>2</td>\n",
              "      <td>A</td>\n",
              "      <td>202307</td>\n",
              "    </tr>\n",
              "  </tbody>\n",
              "</table>\n",
              "</div>"
            ],
            "text/plain": [
              "   Store Type    Size\n",
              "0      1    A  151315\n",
              "1      2    A  202307"
            ]
          },
          "metadata": {},
          "execution_count": 68
        }
      ]
    },
    {
      "cell_type": "code",
      "metadata": {
        "colab": {
          "base_uri": "https://localhost:8080/"
        },
        "id": "Ng0b-4sYZcPP",
        "outputId": "2457060e-bff7-4e52-a6b7-4bb6096fa0dd"
      },
      "source": [
        "filter_stores.columns, len(filter_stores)"
      ],
      "execution_count": 69,
      "outputs": [
        {
          "output_type": "execute_result",
          "data": {
            "text/plain": [
              "(Index(['Store', 'Type', 'Size'], dtype='object'), 4)"
            ]
          },
          "metadata": {},
          "execution_count": 69
        }
      ]
    },
    {
      "cell_type": "markdown",
      "metadata": {
        "id": "y4TUFo47iR9g"
      },
      "source": [
        "Una vez hecho el filtro en todos los datasets. Procedemos a unirlos al data set con más registros, de tal forma que se repitan los atributos de los más pequeños en el más grande."
      ]
    },
    {
      "cell_type": "code",
      "metadata": {
        "colab": {
          "base_uri": "https://localhost:8080/"
        },
        "id": "SxoeaGYki1ly",
        "outputId": "d3baed10-ab79-465f-d0de-83763f398f30"
      },
      "source": [
        "len(filter_sales), len(filter_features), len(filter_stores)"
      ],
      "execution_count": 70,
      "outputs": [
        {
          "output_type": "execute_result",
          "data": {
            "text/plain": [
              "(421570, 728, 4)"
            ]
          },
          "metadata": {},
          "execution_count": 70
        }
      ]
    },
    {
      "cell_type": "code",
      "metadata": {
        "colab": {
          "base_uri": "https://localhost:8080/",
          "height": 344
        },
        "id": "V9J1ctiBmTsR",
        "outputId": "15eb5dcc-4529-4ff7-b4d2-28fa77fd2a61"
      },
      "source": [
        "sns.heatmap(filter_sales.isnull(), cbar=False)"
      ],
      "execution_count": 71,
      "outputs": [
        {
          "output_type": "execute_result",
          "data": {
            "text/plain": [
              "<matplotlib.axes._subplots.AxesSubplot at 0x7f976a5e6f10>"
            ]
          },
          "metadata": {},
          "execution_count": 71
        },
        {
          "output_type": "display_data",
          "data": {
            "image/png": "[encoded data removed]",
            "text/plain": [
              "<Figure size 432x288 with 1 Axes>"
            ]
          },
          "metadata": {
            "needs_background": "light"
          }
        }
      ]
    },
    {
      "cell_type": "code",
      "metadata": {
        "colab": {
          "base_uri": "https://localhost:8080/",
          "height": 353
        },
        "id": "hJ7-sKUdmYYx",
        "outputId": "01958a56-618c-4e48-cb40-2b2bd37ca135"
      },
      "source": [
        "sns.heatmap(filter_features.isnull(), cbar=False)"
      ],
      "execution_count": 72,
      "outputs": [
        {
          "output_type": "execute_result",
          "data": {
            "text/plain": [
              "<matplotlib.axes._subplots.AxesSubplot at 0x7f976a567e10>"
            ]
          },
          "metadata": {},
          "execution_count": 72
        },
        {
          "output_type": "display_data",
          "data": {
            "image/png": "[encoded data removed]",
            "text/plain": [
              "<Figure size 432x288 with 1 Axes>"
            ]
          },
          "metadata": {
            "needs_background": "light"
          }
        }
      ]
    },
    {
      "cell_type": "code",
      "metadata": {
        "id": "pyF_Q2CVmf6G"
      },
      "source": [
        "# TODO: Eliminamos los registros que tienen valores nulos\n",
        "filter_features = filter_features.dropna()"
      ],
      "execution_count": 73,
      "outputs": []
    },
    {
      "cell_type": "code",
      "metadata": {
        "colab": {
          "base_uri": "https://localhost:8080/",
          "height": 353
        },
        "id": "OAep5vN8oa2k",
        "outputId": "16da5bfb-1e74-4006-da65-bca2d9e2093b"
      },
      "source": [
        "sns.heatmap(filter_features.isnull(), cbar=False)"
      ],
      "execution_count": 74,
      "outputs": [
        {
          "output_type": "execute_result",
          "data": {
            "text/plain": [
              "<matplotlib.axes._subplots.AxesSubplot at 0x7f976a4b8810>"
            ]
          },
          "metadata": {},
          "execution_count": 74
        },
        {
          "output_type": "display_data",
          "data": {
            "image/png": "[encoded data removed]",
            "text/plain": [
              "<Figure size 432x288 with 1 Axes>"
            ]
          },
          "metadata": {
            "needs_background": "light"
          }
        }
      ]
    },
    {
      "cell_type": "code",
      "metadata": {
        "colab": {
          "base_uri": "https://localhost:8080/",
          "height": 282
        },
        "id": "AeZ0EviKmbjW",
        "outputId": "43227400-fff4-494f-cee3-f2059f7024d2"
      },
      "source": [
        "sns.heatmap(filter_stores.isnull(), cbar=False)"
      ],
      "execution_count": 75,
      "outputs": [
        {
          "output_type": "execute_result",
          "data": {
            "text/plain": [
              "<matplotlib.axes._subplots.AxesSubplot at 0x7f976a3c0bd0>"
            ]
          },
          "metadata": {},
          "execution_count": 75
        },
        {
          "output_type": "display_data",
          "data": {
            "image/png": "[encoded data removed]",
            "text/plain": [
              "<Figure size 432x288 with 1 Axes>"
            ]
          },
          "metadata": {
            "needs_background": "light"
          }
        }
      ]
    },
    {
      "cell_type": "code",
      "metadata": {
        "colab": {
          "base_uri": "https://localhost:8080/"
        },
        "id": "rryAsjmsoj1a",
        "outputId": "bccdb8ec-eb34-4f09-f3f7-9d5bb516e885"
      },
      "source": [
        "len(filter_sales), len(filter_features), len(filter_stores)"
      ],
      "execution_count": 76,
      "outputs": [
        {
          "output_type": "execute_result",
          "data": {
            "text/plain": [
              "(421570, 676, 4)"
            ]
          },
          "metadata": {},
          "execution_count": 76
        }
      ]
    },
    {
      "cell_type": "code",
      "metadata": {
        "colab": {
          "base_uri": "https://localhost:8080/"
        },
        "id": "XYBjdKHDuW1Z",
        "outputId": "8b4d8ef0-6d91-4c6e-9a7e-bf095a54cec4"
      },
      "source": [
        "filter_sales.columns, filter_features.columns, filter_stores.columns"
      ],
      "execution_count": 77,
      "outputs": [
        {
          "output_type": "execute_result",
          "data": {
            "text/plain": [
              "(Index(['Store', 'Dept', 'Weekly_Sales', 'IsHoliday', 'Year', 'Month', 'Day',\n",
              "        'Date'],\n",
              "       dtype='object'),\n",
              " Index(['Store', 'Temperature', 'Fuel_Price', 'CPI', 'Unemployment',\n",
              "        'IsHoliday', 'Year', 'Month', 'Day', 'Date'],\n",
              "       dtype='object'),\n",
              " Index(['Store', 'Type', 'Size'], dtype='object'))"
            ]
          },
          "metadata": {},
          "execution_count": 77
        }
      ]
    },
    {
      "cell_type": "code",
      "metadata": {
        "id": "VCcG5ZIBWLYd"
      },
      "source": [
        "# TODO: Unimos los dos primeros dataframes\n",
        "result_tmp = pd.merge(filter_sales, filter_features, on='Store', how=\"inner\", suffixes=('_sales', '_features'))"
      ],
      "execution_count": 78,
      "outputs": []
    },
    {
      "cell_type": "code",
      "metadata": {
        "colab": {
          "base_uri": "https://localhost:8080/"
        },
        "id": "B9662x8Ii1ca",
        "outputId": "f40319a6-c68e-46b6-cbc4-72aa0a4d4620"
      },
      "source": [
        "len(result_tmp)"
      ],
      "execution_count": 79,
      "outputs": [
        {
          "output_type": "execute_result",
          "data": {
            "text/plain": [
              "6724510"
            ]
          },
          "metadata": {},
          "execution_count": 79
        }
      ]
    },
    {
      "cell_type": "code",
      "metadata": {
        "colab": {
          "base_uri": "https://localhost:8080/"
        },
        "id": "SXnbRNwPya1q",
        "outputId": "07bbf239-1d9f-4a10-9bbb-622fbef96356"
      },
      "source": [
        "filter_stores.columns, result_tmp.columns"
      ],
      "execution_count": 80,
      "outputs": [
        {
          "output_type": "execute_result",
          "data": {
            "text/plain": [
              "(Index(['Store', 'Type', 'Size'], dtype='object'),\n",
              " Index(['Store', 'Dept', 'Weekly_Sales', 'IsHoliday_sales', 'Year_sales',\n",
              "        'Month_sales', 'Day_sales', 'Date_sales', 'Temperature', 'Fuel_Price',\n",
              "        'CPI', 'Unemployment', 'IsHoliday_features', 'Year_features',\n",
              "        'Month_features', 'Day_features', 'Date_features'],\n",
              "       dtype='object'))"
            ]
          },
          "metadata": {},
          "execution_count": 80
        }
      ]
    },
    {
      "cell_type": "code",
      "metadata": {
        "id": "hOc8TiEXi1Rv"
      },
      "source": [
        "# Ahora le pasamos el tipo de tienda y el tamaño\n",
        "df = pd.merge(result_tmp, filter_stores, on='Store', suffixes=('_merge_sales_features', '_stores'))"
      ],
      "execution_count": 81,
      "outputs": []
    },
    {
      "cell_type": "code",
      "metadata": {
        "colab": {
          "base_uri": "https://localhost:8080/"
        },
        "id": "PjHvqW7jWLVj",
        "outputId": "806a7cdb-4c42-4d7d-e211-4d6a9b8de5ac"
      },
      "source": [
        "len(df)"
      ],
      "execution_count": 82,
      "outputs": [
        {
          "output_type": "execute_result",
          "data": {
            "text/plain": [
              "6724510"
            ]
          },
          "metadata": {},
          "execution_count": 82
        }
      ]
    },
    {
      "cell_type": "code",
      "metadata": {
        "id": "XiMY5LizWLSX"
      },
      "source": [
        "#sns.heatmap(df.isnull(), cbar=False)"
      ],
      "execution_count": 83,
      "outputs": []
    },
    {
      "cell_type": "code",
      "metadata": {
        "colab": {
          "base_uri": "https://localhost:8080/",
          "height": 226
        },
        "id": "OCvP3LR6tl51",
        "outputId": "7d2cedf3-d9e5-490f-e224-b5b4be8d6be5"
      },
      "source": [
        "df.head()"
      ],
      "execution_count": 84,
      "outputs": [
        {
          "output_type": "execute_result",
          "data": {
            "text/html": [
              "<div>\n",
              "<style scoped>\n",
              "    .dataframe tbody tr th:only-of-type {\n",
              "        vertical-align: middle;\n",
              "    }\n",
              "\n",
              "    .dataframe tbody tr th {\n",
              "        vertical-align: top;\n",
              "    }\n",
              "\n",
              "    .dataframe thead th {\n",
              "        text-align: right;\n",
              "    }\n",
              "</style>\n",
              "<table border=\"1\" class=\"dataframe\">\n",
              "  <thead>\n",
              "    <tr style=\"text-align: right;\">\n",
              "      <th></th>\n",
              "      <th>Store</th>\n",
              "      <th>Dept</th>\n",
              "      <th>Weekly_Sales</th>\n",
              "      <th>IsHoliday_sales</th>\n",
              "      <th>Year_sales</th>\n",
              "      <th>Month_sales</th>\n",
              "      <th>Day_sales</th>\n",
              "      <th>Date_sales</th>\n",
              "      <th>Temperature</th>\n",
              "      <th>Fuel_Price</th>\n",
              "      <th>CPI</th>\n",
              "      <th>Unemployment</th>\n",
              "      <th>IsHoliday_features</th>\n",
              "      <th>Year_features</th>\n",
              "      <th>Month_features</th>\n",
              "      <th>Day_features</th>\n",
              "      <th>Date_features</th>\n",
              "      <th>Type</th>\n",
              "      <th>Size</th>\n",
              "    </tr>\n",
              "  </thead>\n",
              "  <tbody>\n",
              "    <tr>\n",
              "      <th>0</th>\n",
              "      <td>1</td>\n",
              "      <td>1</td>\n",
              "      <td>24924.5</td>\n",
              "      <td>False</td>\n",
              "      <td>2010</td>\n",
              "      <td>5</td>\n",
              "      <td>2</td>\n",
              "      <td>2010-05-02</td>\n",
              "      <td>42.31</td>\n",
              "      <td>2.572</td>\n",
              "      <td>211.096358</td>\n",
              "      <td>8.106</td>\n",
              "      <td>False</td>\n",
              "      <td>2010</td>\n",
              "      <td>5</td>\n",
              "      <td>2</td>\n",
              "      <td>2010-05-02</td>\n",
              "      <td>A</td>\n",
              "      <td>151315</td>\n",
              "    </tr>\n",
              "    <tr>\n",
              "      <th>1</th>\n",
              "      <td>1</td>\n",
              "      <td>1</td>\n",
              "      <td>24924.5</td>\n",
              "      <td>False</td>\n",
              "      <td>2010</td>\n",
              "      <td>5</td>\n",
              "      <td>2</td>\n",
              "      <td>2010-05-02</td>\n",
              "      <td>38.51</td>\n",
              "      <td>2.548</td>\n",
              "      <td>211.242170</td>\n",
              "      <td>8.106</td>\n",
              "      <td>True</td>\n",
              "      <td>2010</td>\n",
              "      <td>12</td>\n",
              "      <td>2</td>\n",
              "      <td>2010-12-02</td>\n",
              "      <td>A</td>\n",
              "      <td>151315</td>\n",
              "    </tr>\n",
              "    <tr>\n",
              "      <th>2</th>\n",
              "      <td>1</td>\n",
              "      <td>1</td>\n",
              "      <td>24924.5</td>\n",
              "      <td>False</td>\n",
              "      <td>2010</td>\n",
              "      <td>5</td>\n",
              "      <td>2</td>\n",
              "      <td>2010-05-02</td>\n",
              "      <td>39.93</td>\n",
              "      <td>2.514</td>\n",
              "      <td>211.289143</td>\n",
              "      <td>8.106</td>\n",
              "      <td>False</td>\n",
              "      <td>2010</td>\n",
              "      <td>2</td>\n",
              "      <td>19</td>\n",
              "      <td>2010-02-19</td>\n",
              "      <td>A</td>\n",
              "      <td>151315</td>\n",
              "    </tr>\n",
              "    <tr>\n",
              "      <th>3</th>\n",
              "      <td>1</td>\n",
              "      <td>1</td>\n",
              "      <td>24924.5</td>\n",
              "      <td>False</td>\n",
              "      <td>2010</td>\n",
              "      <td>5</td>\n",
              "      <td>2</td>\n",
              "      <td>2010-05-02</td>\n",
              "      <td>46.63</td>\n",
              "      <td>2.561</td>\n",
              "      <td>211.319643</td>\n",
              "      <td>8.106</td>\n",
              "      <td>False</td>\n",
              "      <td>2010</td>\n",
              "      <td>2</td>\n",
              "      <td>26</td>\n",
              "      <td>2010-02-26</td>\n",
              "      <td>A</td>\n",
              "      <td>151315</td>\n",
              "    </tr>\n",
              "    <tr>\n",
              "      <th>4</th>\n",
              "      <td>1</td>\n",
              "      <td>1</td>\n",
              "      <td>24924.5</td>\n",
              "      <td>False</td>\n",
              "      <td>2010</td>\n",
              "      <td>5</td>\n",
              "      <td>2</td>\n",
              "      <td>2010-05-02</td>\n",
              "      <td>46.50</td>\n",
              "      <td>2.625</td>\n",
              "      <td>211.350143</td>\n",
              "      <td>8.106</td>\n",
              "      <td>False</td>\n",
              "      <td>2010</td>\n",
              "      <td>5</td>\n",
              "      <td>3</td>\n",
              "      <td>2010-05-03</td>\n",
              "      <td>A</td>\n",
              "      <td>151315</td>\n",
              "    </tr>\n",
              "  </tbody>\n",
              "</table>\n",
              "</div>"
            ],
            "text/plain": [
              "   Store  Dept  Weekly_Sales  IsHoliday_sales  Year_sales  Month_sales  \\\n",
              "0      1     1       24924.5            False        2010            5   \n",
              "1      1     1       24924.5            False        2010            5   \n",
              "2      1     1       24924.5            False        2010            5   \n",
              "3      1     1       24924.5            False        2010            5   \n",
              "4      1     1       24924.5            False        2010            5   \n",
              "\n",
              "   Day_sales Date_sales  Temperature  Fuel_Price         CPI  Unemployment  \\\n",
              "0          2 2010-05-02        42.31       2.572  211.096358         8.106   \n",
              "1          2 2010-05-02        38.51       2.548  211.242170         8.106   \n",
              "2          2 2010-05-02        39.93       2.514  211.289143         8.106   \n",
              "3          2 2010-05-02        46.63       2.561  211.319643         8.106   \n",
              "4          2 2010-05-02        46.50       2.625  211.350143         8.106   \n",
              "\n",
              "   IsHoliday_features  Year_features  Month_features  Day_features  \\\n",
              "0               False           2010               5             2   \n",
              "1                True           2010              12             2   \n",
              "2               False           2010               2            19   \n",
              "3               False           2010               2            26   \n",
              "4               False           2010               5             3   \n",
              "\n",
              "  Date_features Type    Size  \n",
              "0    2010-05-02    A  151315  \n",
              "1    2010-12-02    A  151315  \n",
              "2    2010-02-19    A  151315  \n",
              "3    2010-02-26    A  151315  \n",
              "4    2010-05-03    A  151315  "
            ]
          },
          "metadata": {},
          "execution_count": 84
        }
      ]
    },
    {
      "cell_type": "code",
      "metadata": {
        "colab": {
          "base_uri": "https://localhost:8080/",
          "height": 258
        },
        "id": "SjrMXj67uErV",
        "outputId": "41c533ea-2656-4637-bf89-fed1300a5e74"
      },
      "source": [
        "df['Date'] = pd.to_datetime(df['Date_sales'], errors='coerce')\n",
        "df.index = df['Date']\n",
        "df.head()"
      ],
      "execution_count": 85,
      "outputs": [
        {
          "output_type": "execute_result",
          "data": {
            "text/html": [
              "<div>\n",
              "<style scoped>\n",
              "    .dataframe tbody tr th:only-of-type {\n",
              "        vertical-align: middle;\n",
              "    }\n",
              "\n",
              "    .dataframe tbody tr th {\n",
              "        vertical-align: top;\n",
              "    }\n",
              "\n",
              "    .dataframe thead th {\n",
              "        text-align: right;\n",
              "    }\n",
              "</style>\n",
              "<table border=\"1\" class=\"dataframe\">\n",
              "  <thead>\n",
              "    <tr style=\"text-align: right;\">\n",
              "      <th></th>\n",
              "      <th>Store</th>\n",
              "      <th>Dept</th>\n",
              "      <th>Weekly_Sales</th>\n",
              "      <th>IsHoliday_sales</th>\n",
              "      <th>Year_sales</th>\n",
              "      <th>Month_sales</th>\n",
              "      <th>Day_sales</th>\n",
              "      <th>Date_sales</th>\n",
              "      <th>Temperature</th>\n",
              "      <th>Fuel_Price</th>\n",
              "      <th>CPI</th>\n",
              "      <th>Unemployment</th>\n",
              "      <th>IsHoliday_features</th>\n",
              "      <th>Year_features</th>\n",
              "      <th>Month_features</th>\n",
              "      <th>Day_features</th>\n",
              "      <th>Date_features</th>\n",
              "      <th>Type</th>\n",
              "      <th>Size</th>\n",
              "      <th>Date</th>\n",
              "    </tr>\n",
              "    <tr>\n",
              "      <th>Date</th>\n",
              "      <th></th>\n",
              "      <th></th>\n",
              "      <th></th>\n",
              "      <th></th>\n",
              "      <th></th>\n",
              "      <th></th>\n",
              "      <th></th>\n",
              "      <th></th>\n",
              "      <th></th>\n",
              "      <th></th>\n",
              "      <th></th>\n",
              "      <th></th>\n",
              "      <th></th>\n",
              "      <th></th>\n",
              "      <th></th>\n",
              "      <th></th>\n",
              "      <th></th>\n",
              "      <th></th>\n",
              "      <th></th>\n",
              "      <th></th>\n",
              "    </tr>\n",
              "  </thead>\n",
              "  <tbody>\n",
              "    <tr>\n",
              "      <th>2010-05-02</th>\n",
              "      <td>1</td>\n",
              "      <td>1</td>\n",
              "      <td>24924.5</td>\n",
              "      <td>False</td>\n",
              "      <td>2010</td>\n",
              "      <td>5</td>\n",
              "      <td>2</td>\n",
              "      <td>2010-05-02</td>\n",
              "      <td>42.31</td>\n",
              "      <td>2.572</td>\n",
              "      <td>211.096358</td>\n",
              "      <td>8.106</td>\n",
              "      <td>False</td>\n",
              "      <td>2010</td>\n",
              "      <td>5</td>\n",
              "      <td>2</td>\n",
              "      <td>2010-05-02</td>\n",
              "      <td>A</td>\n",
              "      <td>151315</td>\n",
              "      <td>2010-05-02</td>\n",
              "    </tr>\n",
              "    <tr>\n",
              "      <th>2010-05-02</th>\n",
              "      <td>1</td>\n",
              "      <td>1</td>\n",
              "      <td>24924.5</td>\n",
              "      <td>False</td>\n",
              "      <td>2010</td>\n",
              "      <td>5</td>\n",
              "      <td>2</td>\n",
              "      <td>2010-05-02</td>\n",
              "      <td>38.51</td>\n",
              "      <td>2.548</td>\n",
              "      <td>211.242170</td>\n",
              "      <td>8.106</td>\n",
              "      <td>True</td>\n",
              "      <td>2010</td>\n",
              "      <td>12</td>\n",
              "      <td>2</td>\n",
              "      <td>2010-12-02</td>\n",
              "      <td>A</td>\n",
              "      <td>151315</td>\n",
              "      <td>2010-05-02</td>\n",
              "    </tr>\n",
              "    <tr>\n",
              "      <th>2010-05-02</th>\n",
              "      <td>1</td>\n",
              "      <td>1</td>\n",
              "      <td>24924.5</td>\n",
              "      <td>False</td>\n",
              "      <td>2010</td>\n",
              "      <td>5</td>\n",
              "      <td>2</td>\n",
              "      <td>2010-05-02</td>\n",
              "      <td>39.93</td>\n",
              "      <td>2.514</td>\n",
              "      <td>211.289143</td>\n",
              "      <td>8.106</td>\n",
              "      <td>False</td>\n",
              "      <td>2010</td>\n",
              "      <td>2</td>\n",
              "      <td>19</td>\n",
              "      <td>2010-02-19</td>\n",
              "      <td>A</td>\n",
              "      <td>151315</td>\n",
              "      <td>2010-05-02</td>\n",
              "    </tr>\n",
              "    <tr>\n",
              "      <th>2010-05-02</th>\n",
              "      <td>1</td>\n",
              "      <td>1</td>\n",
              "      <td>24924.5</td>\n",
              "      <td>False</td>\n",
              "      <td>2010</td>\n",
              "      <td>5</td>\n",
              "      <td>2</td>\n",
              "      <td>2010-05-02</td>\n",
              "      <td>46.63</td>\n",
              "      <td>2.561</td>\n",
              "      <td>211.319643</td>\n",
              "      <td>8.106</td>\n",
              "      <td>False</td>\n",
              "      <td>2010</td>\n",
              "      <td>2</td>\n",
              "      <td>26</td>\n",
              "      <td>2010-02-26</td>\n",
              "      <td>A</td>\n",
              "      <td>151315</td>\n",
              "      <td>2010-05-02</td>\n",
              "    </tr>\n",
              "    <tr>\n",
              "      <th>2010-05-02</th>\n",
              "      <td>1</td>\n",
              "      <td>1</td>\n",
              "      <td>24924.5</td>\n",
              "      <td>False</td>\n",
              "      <td>2010</td>\n",
              "      <td>5</td>\n",
              "      <td>2</td>\n",
              "      <td>2010-05-02</td>\n",
              "      <td>46.50</td>\n",
              "      <td>2.625</td>\n",
              "      <td>211.350143</td>\n",
              "      <td>8.106</td>\n",
              "      <td>False</td>\n",
              "      <td>2010</td>\n",
              "      <td>5</td>\n",
              "      <td>3</td>\n",
              "      <td>2010-05-03</td>\n",
              "      <td>A</td>\n",
              "      <td>151315</td>\n",
              "      <td>2010-05-02</td>\n",
              "    </tr>\n",
              "  </tbody>\n",
              "</table>\n",
              "</div>"
            ],
            "text/plain": [
              "            Store  Dept  Weekly_Sales  IsHoliday_sales  Year_sales  \\\n",
              "Date                                                                 \n",
              "2010-05-02      1     1       24924.5            False        2010   \n",
              "2010-05-02      1     1       24924.5            False        2010   \n",
              "2010-05-02      1     1       24924.5            False        2010   \n",
              "2010-05-02      1     1       24924.5            False        2010   \n",
              "2010-05-02      1     1       24924.5            False        2010   \n",
              "\n",
              "            Month_sales  Day_sales Date_sales  Temperature  Fuel_Price  \\\n",
              "Date                                                                     \n",
              "2010-05-02            5          2 2010-05-02        42.31       2.572   \n",
              "2010-05-02            5          2 2010-05-02        38.51       2.548   \n",
              "2010-05-02            5          2 2010-05-02        39.93       2.514   \n",
              "2010-05-02            5          2 2010-05-02        46.63       2.561   \n",
              "2010-05-02            5          2 2010-05-02        46.50       2.625   \n",
              "\n",
              "                   CPI  Unemployment  IsHoliday_features  Year_features  \\\n",
              "Date                                                                      \n",
              "2010-05-02  211.096358         8.106               False           2010   \n",
              "2010-05-02  211.242170         8.106                True           2010   \n",
              "2010-05-02  211.289143         8.106               False           2010   \n",
              "2010-05-02  211.319643         8.106               False           2010   \n",
              "2010-05-02  211.350143         8.106               False           2010   \n",
              "\n",
              "            Month_features  Day_features Date_features Type    Size       Date  \n",
              "Date                                                                            \n",
              "2010-05-02               5             2    2010-05-02    A  151315 2010-05-02  \n",
              "2010-05-02              12             2    2010-12-02    A  151315 2010-05-02  \n",
              "2010-05-02               2            19    2010-02-19    A  151315 2010-05-02  \n",
              "2010-05-02               2            26    2010-02-26    A  151315 2010-05-02  \n",
              "2010-05-02               5             3    2010-05-03    A  151315 2010-05-02  "
            ]
          },
          "metadata": {},
          "execution_count": 85
        }
      ]
    },
    {
      "cell_type": "code",
      "metadata": {
        "colab": {
          "base_uri": "https://localhost:8080/",
          "height": 294
        },
        "id": "qVllyVcWuolF",
        "outputId": "ef0ace80-3346-4095-cc52-42bd8662fde9"
      },
      "source": [
        "df[['Weekly_Sales']][10:4000].plot()"
      ],
      "execution_count": 86,
      "outputs": [
        {
          "output_type": "execute_result",
          "data": {
            "text/plain": [
              "<matplotlib.axes._subplots.AxesSubplot at 0x7f976a35afd0>"
            ]
          },
          "metadata": {},
          "execution_count": 86
        },
        {
          "output_type": "display_data",
          "data": {
            "image/png": "[encoded data removed]",
            "text/plain": [
              "<Figure size 432x288 with 1 Axes>"
            ]
          },
          "metadata": {
            "needs_background": "light"
          }
        }
      ]
    },
    {
      "cell_type": "markdown",
      "metadata": {
        "id": "Y9p_n_ymoWGq"
      },
      "source": [
        "# Implementación CNN"
      ]
    },
    {
      "cell_type": "code",
      "metadata": {
        "colab": {
          "base_uri": "https://localhost:8080/"
        },
        "id": "lyaAkyXBg5YG",
        "outputId": "33a9afa7-9be4-4d2e-f3c3-04f12151e568"
      },
      "source": [
        "len(df)"
      ],
      "execution_count": 87,
      "outputs": [
        {
          "output_type": "execute_result",
          "data": {
            "text/plain": [
              "6724510"
            ]
          },
          "metadata": {},
          "execution_count": 87
        }
      ]
    },
    {
      "cell_type": "code",
      "metadata": {
        "id": "9V4GfTYKr_cS"
      },
      "source": [
        "def error_l1(df, colA, colB): \n",
        "  df = df.iloc[-(int(len(df)*0.1)):] # Es lo equivalente a lo que se hizo con daily-min-temperatures.csv\n",
        "  return np.mean(np.abs(df[colA]-df[colB]))\n",
        "\n",
        "def error_rmse(df, colA, colB):\n",
        "  df = df.iloc[-(int(len(df)*0.1)):] \n",
        "  return np.sqrt(np.mean(np.square(df[colA]-df[colB])))"
      ],
      "execution_count": 88,
      "outputs": []
    },
    {
      "cell_type": "code",
      "metadata": {
        "colab": {
          "base_uri": "https://localhost:8080/"
        },
        "id": "6SyAlUMph-lZ",
        "outputId": "47b94c95-094f-43f5-cbaa-8d2fc93db873"
      },
      "source": [
        "df.columns"
      ],
      "execution_count": 89,
      "outputs": [
        {
          "output_type": "execute_result",
          "data": {
            "text/plain": [
              "Index(['Store', 'Dept', 'Weekly_Sales', 'IsHoliday_sales', 'Year_sales',\n",
              "       'Month_sales', 'Day_sales', 'Date_sales', 'Temperature', 'Fuel_Price',\n",
              "       'CPI', 'Unemployment', 'IsHoliday_features', 'Year_features',\n",
              "       'Month_features', 'Day_features', 'Date_features', 'Type', 'Size',\n",
              "       'Date'],\n",
              "      dtype='object')"
            ]
          },
          "metadata": {},
          "execution_count": 89
        }
      ]
    },
    {
      "cell_type": "code",
      "metadata": {
        "colab": {
          "base_uri": "https://localhost:8080/",
          "height": 258
        },
        "id": "q378kb8rhS_i",
        "outputId": "f8097f44-0e52-49f4-90ff-5daa8249c1a5"
      },
      "source": [
        "df['ultima_weekly_sales'] = df['Weekly_Sales'].shift(1)\n",
        "df.head()"
      ],
      "execution_count": 90,
      "outputs": [
        {
          "output_type": "execute_result",
          "data": {
            "text/html": [
              "<div>\n",
              "<style scoped>\n",
              "    .dataframe tbody tr th:only-of-type {\n",
              "        vertical-align: middle;\n",
              "    }\n",
              "\n",
              "    .dataframe tbody tr th {\n",
              "        vertical-align: top;\n",
              "    }\n",
              "\n",
              "    .dataframe thead th {\n",
              "        text-align: right;\n",
              "    }\n",
              "</style>\n",
              "<table border=\"1\" class=\"dataframe\">\n",
              "  <thead>\n",
              "    <tr style=\"text-align: right;\">\n",
              "      <th></th>\n",
              "      <th>Store</th>\n",
              "      <th>Dept</th>\n",
              "      <th>Weekly_Sales</th>\n",
              "      <th>IsHoliday_sales</th>\n",
              "      <th>Year_sales</th>\n",
              "      <th>Month_sales</th>\n",
              "      <th>Day_sales</th>\n",
              "      <th>Date_sales</th>\n",
              "      <th>Temperature</th>\n",
              "      <th>Fuel_Price</th>\n",
              "      <th>CPI</th>\n",
              "      <th>Unemployment</th>\n",
              "      <th>IsHoliday_features</th>\n",
              "      <th>Year_features</th>\n",
              "      <th>Month_features</th>\n",
              "      <th>Day_features</th>\n",
              "      <th>Date_features</th>\n",
              "      <th>Type</th>\n",
              "      <th>Size</th>\n",
              "      <th>Date</th>\n",
              "      <th>ultima_weekly_sales</th>\n",
              "    </tr>\n",
              "    <tr>\n",
              "      <th>Date</th>\n",
              "      <th></th>\n",
              "      <th></th>\n",
              "      <th></th>\n",
              "      <th></th>\n",
              "      <th></th>\n",
              "      <th></th>\n",
              "      <th></th>\n",
              "      <th></th>\n",
              "      <th></th>\n",
              "      <th></th>\n",
              "      <th></th>\n",
              "      <th></th>\n",
              "      <th></th>\n",
              "      <th></th>\n",
              "      <th></th>\n",
              "      <th></th>\n",
              "      <th></th>\n",
              "      <th></th>\n",
              "      <th></th>\n",
              "      <th></th>\n",
              "      <th></th>\n",
              "    </tr>\n",
              "  </thead>\n",
              "  <tbody>\n",
              "    <tr>\n",
              "      <th>2010-05-02</th>\n",
              "      <td>1</td>\n",
              "      <td>1</td>\n",
              "      <td>24924.5</td>\n",
              "      <td>False</td>\n",
              "      <td>2010</td>\n",
              "      <td>5</td>\n",
              "      <td>2</td>\n",
              "      <td>2010-05-02</td>\n",
              "      <td>42.31</td>\n",
              "      <td>2.572</td>\n",
              "      <td>211.096358</td>\n",
              "      <td>8.106</td>\n",
              "      <td>False</td>\n",
              "      <td>2010</td>\n",
              "      <td>5</td>\n",
              "      <td>2</td>\n",
              "      <td>2010-05-02</td>\n",
              "      <td>A</td>\n",
              "      <td>151315</td>\n",
              "      <td>2010-05-02</td>\n",
              "      <td>NaN</td>\n",
              "    </tr>\n",
              "    <tr>\n",
              "      <th>2010-05-02</th>\n",
              "      <td>1</td>\n",
              "      <td>1</td>\n",
              "      <td>24924.5</td>\n",
              "      <td>False</td>\n",
              "      <td>2010</td>\n",
              "      <td>5</td>\n",
              "      <td>2</td>\n",
              "      <td>2010-05-02</td>\n",
              "      <td>38.51</td>\n",
              "      <td>2.548</td>\n",
              "      <td>211.242170</td>\n",
              "      <td>8.106</td>\n",
              "      <td>True</td>\n",
              "      <td>2010</td>\n",
              "      <td>12</td>\n",
              "      <td>2</td>\n",
              "      <td>2010-12-02</td>\n",
              "      <td>A</td>\n",
              "      <td>151315</td>\n",
              "      <td>2010-05-02</td>\n",
              "      <td>24924.5</td>\n",
              "    </tr>\n",
              "    <tr>\n",
              "      <th>2010-05-02</th>\n",
              "      <td>1</td>\n",
              "      <td>1</td>\n",
              "      <td>24924.5</td>\n",
              "      <td>False</td>\n",
              "      <td>2010</td>\n",
              "      <td>5</td>\n",
              "      <td>2</td>\n",
              "      <td>2010-05-02</td>\n",
              "      <td>39.93</td>\n",
              "      <td>2.514</td>\n",
              "      <td>211.289143</td>\n",
              "      <td>8.106</td>\n",
              "      <td>False</td>\n",
              "      <td>2010</td>\n",
              "      <td>2</td>\n",
              "      <td>19</td>\n",
              "      <td>2010-02-19</td>\n",
              "      <td>A</td>\n",
              "      <td>151315</td>\n",
              "      <td>2010-05-02</td>\n",
              "      <td>24924.5</td>\n",
              "    </tr>\n",
              "    <tr>\n",
              "      <th>2010-05-02</th>\n",
              "      <td>1</td>\n",
              "      <td>1</td>\n",
              "      <td>24924.5</td>\n",
              "      <td>False</td>\n",
              "      <td>2010</td>\n",
              "      <td>5</td>\n",
              "      <td>2</td>\n",
              "      <td>2010-05-02</td>\n",
              "      <td>46.63</td>\n",
              "      <td>2.561</td>\n",
              "      <td>211.319643</td>\n",
              "      <td>8.106</td>\n",
              "      <td>False</td>\n",
              "      <td>2010</td>\n",
              "      <td>2</td>\n",
              "      <td>26</td>\n",
              "      <td>2010-02-26</td>\n",
              "      <td>A</td>\n",
              "      <td>151315</td>\n",
              "      <td>2010-05-02</td>\n",
              "      <td>24924.5</td>\n",
              "    </tr>\n",
              "    <tr>\n",
              "      <th>2010-05-02</th>\n",
              "      <td>1</td>\n",
              "      <td>1</td>\n",
              "      <td>24924.5</td>\n",
              "      <td>False</td>\n",
              "      <td>2010</td>\n",
              "      <td>5</td>\n",
              "      <td>2</td>\n",
              "      <td>2010-05-02</td>\n",
              "      <td>46.50</td>\n",
              "      <td>2.625</td>\n",
              "      <td>211.350143</td>\n",
              "      <td>8.106</td>\n",
              "      <td>False</td>\n",
              "      <td>2010</td>\n",
              "      <td>5</td>\n",
              "      <td>3</td>\n",
              "      <td>2010-05-03</td>\n",
              "      <td>A</td>\n",
              "      <td>151315</td>\n",
              "      <td>2010-05-02</td>\n",
              "      <td>24924.5</td>\n",
              "    </tr>\n",
              "  </tbody>\n",
              "</table>\n",
              "</div>"
            ],
            "text/plain": [
              "            Store  Dept  Weekly_Sales  IsHoliday_sales  Year_sales  \\\n",
              "Date                                                                 \n",
              "2010-05-02      1     1       24924.5            False        2010   \n",
              "2010-05-02      1     1       24924.5            False        2010   \n",
              "2010-05-02      1     1       24924.5            False        2010   \n",
              "2010-05-02      1     1       24924.5            False        2010   \n",
              "2010-05-02      1     1       24924.5            False        2010   \n",
              "\n",
              "            Month_sales  Day_sales Date_sales  Temperature  Fuel_Price  \\\n",
              "Date                                                                     \n",
              "2010-05-02            5          2 2010-05-02        42.31       2.572   \n",
              "2010-05-02            5          2 2010-05-02        38.51       2.548   \n",
              "2010-05-02            5          2 2010-05-02        39.93       2.514   \n",
              "2010-05-02            5          2 2010-05-02        46.63       2.561   \n",
              "2010-05-02            5          2 2010-05-02        46.50       2.625   \n",
              "\n",
              "                   CPI  Unemployment  IsHoliday_features  Year_features  \\\n",
              "Date                                                                      \n",
              "2010-05-02  211.096358         8.106               False           2010   \n",
              "2010-05-02  211.242170         8.106                True           2010   \n",
              "2010-05-02  211.289143         8.106               False           2010   \n",
              "2010-05-02  211.319643         8.106               False           2010   \n",
              "2010-05-02  211.350143         8.106               False           2010   \n",
              "\n",
              "            Month_features  Day_features Date_features Type    Size  \\\n",
              "Date                                                                  \n",
              "2010-05-02               5             2    2010-05-02    A  151315   \n",
              "2010-05-02              12             2    2010-12-02    A  151315   \n",
              "2010-05-02               2            19    2010-02-19    A  151315   \n",
              "2010-05-02               2            26    2010-02-26    A  151315   \n",
              "2010-05-02               5             3    2010-05-03    A  151315   \n",
              "\n",
              "                 Date  ultima_weekly_sales  \n",
              "Date                                        \n",
              "2010-05-02 2010-05-02                  NaN  \n",
              "2010-05-02 2010-05-02              24924.5  \n",
              "2010-05-02 2010-05-02              24924.5  \n",
              "2010-05-02 2010-05-02              24924.5  \n",
              "2010-05-02 2010-05-02              24924.5  "
            ]
          },
          "metadata": {},
          "execution_count": 90
        }
      ]
    },
    {
      "cell_type": "code",
      "metadata": {
        "colab": {
          "base_uri": "https://localhost:8080/"
        },
        "id": "TGhh0WyNiIR9",
        "outputId": "a790253e-849a-4fbe-cbb1-cb89e7a5d971"
      },
      "source": [
        "error_rmse(df, 'Weekly_Sales', 'ultima_weekly_sales')\n",
        "# Tenemos un error bastante grande"
      ],
      "execution_count": 91,
      "outputs": [
        {
          "output_type": "execute_result",
          "data": {
            "text/plain": [
              "948.3297416536519"
            ]
          },
          "metadata": {},
          "execution_count": 91
        }
      ]
    },
    {
      "cell_type": "code",
      "metadata": {
        "id": "ZT5Vd3TZiVl5"
      },
      "source": [
        "df.dropna(inplace=True)"
      ],
      "execution_count": 92,
      "outputs": []
    },
    {
      "cell_type": "code",
      "metadata": {
        "colab": {
          "base_uri": "https://localhost:8080/"
        },
        "id": "X97ruVHmrtTe",
        "outputId": "8f7f7dfc-efa0-429d-eb0e-f4caf915b78f"
      },
      "source": [
        "df.columns"
      ],
      "execution_count": null,
      "outputs": [
        {
          "output_type": "execute_result",
          "data": {
            "text/plain": [
              "Index(['Store', 'Dept', 'Weekly_Sales', 'IsHoliday_sales', 'Year_sales',\n",
              "       'Month_sales', 'Day_sales', 'Date_sales', 'Temperature', 'Fuel_Price',\n",
              "       'CPI', 'Unemployment', 'IsHoliday_features', 'Year_features',\n",
              "       'Month_features', 'Day_features', 'Date_features', 'Type', 'Size',\n",
              "       'Date', 'ultima_weekly_sales'],\n",
              "      dtype='object')"
            ]
          },
          "metadata": {},
          "execution_count": 71
        }
      ]
    },
    {
      "cell_type": "code",
      "metadata": {
        "id": "VwuoquqTjJAS"
      },
      "source": [
        "def cargar_datos(df): \n",
        "  X = ft.range_of(df)\n",
        "  valid_cut = len(df) - int(len(df)*0.1)\n",
        "  # TODO: Por alguna razón, me marcaba error ssi tenia dos campos \"iguales\" de dataframes diferentes\n",
        "  # como IsHoliday_sales y IsHoliday_features\n",
        "  src = ft.TabularPandas(df,\n",
        "                         cont_names=list(['Store', 'Dept','Temperature', 'Fuel_Price',\n",
        "       'CPI', 'Unemployment', 'Size', 'ultima_weekly_sales']), # Tomate estas columnas\n",
        "                         y_names=['Weekly_Sales'], # Para predecir esta\n",
        "                        splits = (X[:valid_cut], X[valid_cut:])) # primeros para entrerar, últimos para validar\n",
        "  \n",
        "  return src.dataloaders(bs=1024)"
      ],
      "execution_count": null,
      "outputs": []
    },
    {
      "cell_type": "code",
      "metadata": {
        "id": "PkbMaD8ekdPC"
      },
      "source": [
        "dls = cargar_datos(df)"
      ],
      "execution_count": null,
      "outputs": []
    },
    {
      "cell_type": "code",
      "metadata": {
        "colab": {
          "base_uri": "https://localhost:8080/"
        },
        "id": "KwtR-cCukgIm",
        "outputId": "012c2ac9-fcb1-405e-fe80-1b1cf3578da1"
      },
      "source": [
        "dls.one_batch()"
      ],
      "execution_count": null,
      "outputs": [
        {
          "output_type": "execute_result",
          "data": {
            "text/plain": [
              "(tensor([], size=(1024, 0), dtype=torch.int64),\n",
              " tensor([[2.0000e+00, 1.3000e+01, 4.5990e+01,  ..., 7.0570e+00, 2.0231e+05, 4.7397e+04],\n",
              "         [3.0000e+00, 5.4000e+01, 8.1750e+01,  ..., 7.3460e+00, 3.7392e+04, 8.1000e+01],\n",
              "         [4.0000e+00, 3.3000e+01, 3.5920e+01,  ..., 5.1430e+00, 2.0586e+05, 2.2936e+04],\n",
              "         ...,\n",
              "         [2.0000e+00, 4.2000e+01, 8.2640e+01,  ..., 6.5650e+00, 2.0231e+05, 7.7802e+03],\n",
              "         [1.0000e+00, 9.0000e+00, 5.2920e+01,  ..., 6.5730e+00, 1.5132e+05, 2.1063e+04],\n",
              "         [4.0000e+00, 2.6000e+01, 7.8110e+01,  ..., 4.3080e+00, 2.0586e+05, 1.7181e+04]]),\n",
              " tensor([[47396.9297],\n",
              "         [   81.0000],\n",
              "         [22936.4199],\n",
              "         ...,\n",
              "         [ 7780.2300],\n",
              "         [21062.6797],\n",
              "         [17180.6699]]))"
            ]
          },
          "metadata": {},
          "execution_count": 74
        }
      ]
    },
    {
      "cell_type": "code",
      "metadata": {
        "id": "NfBd2k8gnSVw"
      },
      "source": [
        "def rmse_loss(pred, targ): \n",
        "  return torch.sqrt(F.mse_loss(pred, targ))"
      ],
      "execution_count": null,
      "outputs": []
    },
    {
      "cell_type": "code",
      "metadata": {
        "id": "G15rb_GztUzJ"
      },
      "source": [
        "learn = ft.tabular_learner(dls, layers=[128, 128], metrics=[F.l1_loss, rmse_loss])"
      ],
      "execution_count": null,
      "outputs": []
    },
    {
      "cell_type": "code",
      "metadata": {
        "colab": {
          "base_uri": "https://localhost:8080/",
          "height": 319
        },
        "id": "4r9QW6irZKC5",
        "outputId": "3c36dd20-9126-4c39-e9a3-a47a17918fb3"
      },
      "source": [
        "learn.lr_find()"
      ],
      "execution_count": null,
      "outputs": [
        {
          "output_type": "display_data",
          "data": {
            "text/html": [
              ""
            ],
            "text/plain": [
              "<IPython.core.display.HTML object>"
            ]
          },
          "metadata": {}
        },
        {
          "output_type": "execute_result",
          "data": {
            "text/plain": [
              "SuggestedLRs(valley=0.10000000149011612)"
            ]
          },
          "metadata": {},
          "execution_count": 77
        },
        {
          "output_type": "display_data",
          "data": {
            "image/png": "[encoded data removed]",
            "text/plain": [
              "<Figure size 432x288 with 1 Axes>"
            ]
          },
          "metadata": {
            "needs_background": "light"
          }
        }
      ]
    },
    {
      "cell_type": "code",
      "metadata": {
        "colab": {
          "base_uri": "https://localhost:8080/",
          "height": 206
        },
        "id": "9GfAGJaytdRP",
        "outputId": "e47009db-a3d6-458a-a3e3-28e966cbfa78"
      },
      "source": [
        "learn.fit_one_cycle(5, 1e-1)"
      ],
      "execution_count": null,
      "outputs": [
        {
          "output_type": "display_data",
          "data": {
            "text/html": [
              "<table border=\"1\" class=\"dataframe\">\n",
              "  <thead>\n",
              "    <tr style=\"text-align: left;\">\n",
              "      <th>epoch</th>\n",
              "      <th>train_loss</th>\n",
              "      <th>valid_loss</th>\n",
              "      <th>l1_loss</th>\n",
              "      <th>rmse_loss</th>\n",
              "      <th>time</th>\n",
              "    </tr>\n",
              "  </thead>\n",
              "  <tbody>\n",
              "    <tr>\n",
              "      <td>0</td>\n",
              "      <td>3125687.000000</td>\n",
              "      <td>1937128.625000</td>\n",
              "      <td>854.076294</td>\n",
              "      <td>1022.612427</td>\n",
              "      <td>02:53</td>\n",
              "    </tr>\n",
              "    <tr>\n",
              "      <td>1</td>\n",
              "      <td>3154831.500000</td>\n",
              "      <td>7908289.500000</td>\n",
              "      <td>2433.619629</td>\n",
              "      <td>2506.568848</td>\n",
              "      <td>02:51</td>\n",
              "    </tr>\n",
              "    <tr>\n",
              "      <td>2</td>\n",
              "      <td>3718662.250000</td>\n",
              "      <td>2568804.750000</td>\n",
              "      <td>1055.213135</td>\n",
              "      <td>1231.993774</td>\n",
              "      <td>02:36</td>\n",
              "    </tr>\n",
              "    <tr>\n",
              "      <td>3</td>\n",
              "      <td>3162434.750000</td>\n",
              "      <td>958083.000000</td>\n",
              "      <td>153.045380</td>\n",
              "      <td>434.693237</td>\n",
              "      <td>02:42</td>\n",
              "    </tr>\n",
              "    <tr>\n",
              "      <td>4</td>\n",
              "      <td>2741462.000000</td>\n",
              "      <td>1087581.875000</td>\n",
              "      <td>201.593903</td>\n",
              "      <td>460.271637</td>\n",
              "      <td>02:37</td>\n",
              "    </tr>\n",
              "  </tbody>\n",
              "</table>"
            ],
            "text/plain": [
              "<IPython.core.display.HTML object>"
            ]
          },
          "metadata": {}
        }
      ]
    },
    {
      "cell_type": "markdown",
      "metadata": {
        "id": "rkn0UjPl05Yv"
      },
      "source": [
        "Podemos observar que el train_loss a superado en valor al valid_loss por lo que estamos frente a un overfitting.\n",
        "\n",
        "\n",
        "Vamos a añadir algunos campos y a volver a entrenar"
      ]
    },
    {
      "cell_type": "code",
      "metadata": {
        "colab": {
          "base_uri": "https://localhost:8080/"
        },
        "id": "0xRnrV6FtdsJ",
        "outputId": "3b70f35b-17ad-43ab-c984-01254c447bcb"
      },
      "source": [
        "import statsmodels as sm\n",
        "from statsmodels.tsa.filters.hp_filter import hpfilter"
      ],
      "execution_count": null,
      "outputs": [
        {
          "output_type": "stream",
          "text": [
            "/usr/local/lib/python3.7/dist-packages/statsmodels/tools/_testing.py:19: FutureWarning: pandas.util.testing is deprecated. Use the functions in the public API at pandas.testing instead.\n",
            "  import pandas.util.testing as tm\n"
          ],
          "name": "stderr"
        }
      ]
    },
    {
      "cell_type": "code",
      "metadata": {
        "id": "pCM2wueO2Q0F"
      },
      "source": [
        "# hpfilter me regresa dos cosas: el trend y el cycle\n",
        "week_trend, week_cycle = hpfilter(df['Weekly_Sales'], lamb=6.25)"
      ],
      "execution_count": null,
      "outputs": []
    },
    {
      "cell_type": "code",
      "metadata": {
        "id": "ISgoa8F92YYK"
      },
      "source": [
        "df['weekly_cycle'] = week_cycle\n",
        "df['weekly_trend'] = week_trend"
      ],
      "execution_count": null,
      "outputs": []
    },
    {
      "cell_type": "code",
      "metadata": {
        "id": "RRavKSKP2fRx"
      },
      "source": [
        "df['EWMA'] = df['Weekly_Sales'].ewm(alpha=0.5).mean()\n",
        "# alpha debe ser un número entre 0 y 1"
      ],
      "execution_count": null,
      "outputs": []
    },
    {
      "cell_type": "code",
      "metadata": {
        "colab": {
          "base_uri": "https://localhost:8080/"
        },
        "id": "tcR6YEAM29Sh",
        "outputId": "3d007d73-81fb-40fd-ff12-d8bec1547bd4"
      },
      "source": [
        "df.columns"
      ],
      "execution_count": null,
      "outputs": [
        {
          "output_type": "execute_result",
          "data": {
            "text/plain": [
              "Index(['Store', 'Dept', 'Weekly_Sales', 'IsHoliday_sales', 'Year_sales',\n",
              "       'Month_sales', 'Day_sales', 'Date_sales', 'Temperature', 'Fuel_Price',\n",
              "       'CPI', 'Unemployment', 'IsHoliday_features', 'Year_features',\n",
              "       'Month_features', 'Day_features', 'Date_features', 'Type', 'Size',\n",
              "       'Date', 'ultima_weekly_sales', 'weekly_cycle', 'weekly_trend', 'EWMA'],\n",
              "      dtype='object')"
            ]
          },
          "metadata": {},
          "execution_count": 83
        }
      ]
    },
    {
      "cell_type": "code",
      "metadata": {
        "id": "9sU72aXr3B27"
      },
      "source": [
        "def cargar_datos_plus(df): \n",
        "  X = ft.range_of(df)\n",
        "  valid_cut = len(df) - int(len(df)*0.1)\n",
        "  # TODO: Por alguna razón, me marcaba error ssi tenia dos campos \"iguales\" de dataframes diferentes\n",
        "  # como IsHoliday_sales y IsHoliday_features\n",
        "  src = ft.TabularPandas(df,\n",
        "                         cont_names=list(['Store', 'Dept','Temperature', 'Fuel_Price',\n",
        "       'CPI', 'Unemployment', 'Size', 'ultima_weekly_sales', 'ultima_weekly_sales',\n",
        "        'weekly_cycle', 'weekly_trend', 'EWMA']), # Tomate estas columnas\n",
        "                         y_names=['Weekly_Sales'], # Para predecir esta\n",
        "                        splits = (X[:valid_cut], X[valid_cut:])) # primeros para entrerar, últimos para validar\n",
        "  \n",
        "  return src.dataloaders(bs=1024)"
      ],
      "execution_count": null,
      "outputs": []
    },
    {
      "cell_type": "code",
      "metadata": {
        "id": "KlNL3GSF3PJR"
      },
      "source": [
        "dls_plus = cargar_datos_plus(df)"
      ],
      "execution_count": null,
      "outputs": []
    },
    {
      "cell_type": "code",
      "metadata": {
        "id": "cddBKmGx3aOR"
      },
      "source": [
        "learn_plus = ft.tabular_learner(dls_plus, layers=[128, 128], metrics=[F.l1_loss, rmse_loss])"
      ],
      "execution_count": null,
      "outputs": []
    },
    {
      "cell_type": "code",
      "metadata": {
        "colab": {
          "base_uri": "https://localhost:8080/",
          "height": 319
        },
        "id": "-GiSDrRg3dmz",
        "outputId": "eb3b79f9-b3b6-454b-eb08-74103b9599cd"
      },
      "source": [
        "learn_plus.lr_find()"
      ],
      "execution_count": null,
      "outputs": [
        {
          "output_type": "display_data",
          "data": {
            "text/html": [
              ""
            ],
            "text/plain": [
              "<IPython.core.display.HTML object>"
            ]
          },
          "metadata": {}
        },
        {
          "output_type": "execute_result",
          "data": {
            "text/plain": [
              "SuggestedLRs(valley=0.2089296132326126)"
            ]
          },
          "metadata": {},
          "execution_count": 87
        },
        {
          "output_type": "display_data",
          "data": {
            "image/png": "[encoded data removed]",
            "text/plain": [
              "<Figure size 432x288 with 1 Axes>"
            ]
          },
          "metadata": {
            "needs_background": "light"
          }
        }
      ]
    },
    {
      "cell_type": "code",
      "metadata": {
        "colab": {
          "base_uri": "https://localhost:8080/",
          "height": 206
        },
        "id": "a4UCucw33fXR",
        "outputId": "babae87f-c4ec-4998-b6b0-47e6ce12bfc2"
      },
      "source": [
        "learn_plus.fit_one_cycle(5, 1e-1)"
      ],
      "execution_count": null,
      "outputs": [
        {
          "output_type": "display_data",
          "data": {
            "text/html": [
              "<table border=\"1\" class=\"dataframe\">\n",
              "  <thead>\n",
              "    <tr style=\"text-align: left;\">\n",
              "      <th>epoch</th>\n",
              "      <th>train_loss</th>\n",
              "      <th>valid_loss</th>\n",
              "      <th>l1_loss</th>\n",
              "      <th>rmse_loss</th>\n",
              "      <th>time</th>\n",
              "    </tr>\n",
              "  </thead>\n",
              "  <tbody>\n",
              "    <tr>\n",
              "      <td>0</td>\n",
              "      <td>2722318.250000</td>\n",
              "      <td>4411980.000000</td>\n",
              "      <td>1280.898438</td>\n",
              "      <td>1320.276245</td>\n",
              "      <td>02:40</td>\n",
              "    </tr>\n",
              "    <tr>\n",
              "      <td>1</td>\n",
              "      <td>3130500.000000</td>\n",
              "      <td>95742072.000000</td>\n",
              "      <td>8772.512695</td>\n",
              "      <td>8872.188477</td>\n",
              "      <td>02:38</td>\n",
              "    </tr>\n",
              "    <tr>\n",
              "      <td>2</td>\n",
              "      <td>2824715.500000</td>\n",
              "      <td>4499293.500000</td>\n",
              "      <td>2058.944824</td>\n",
              "      <td>2070.059326</td>\n",
              "      <td>02:39</td>\n",
              "    </tr>\n",
              "    <tr>\n",
              "      <td>3</td>\n",
              "      <td>2260657.750000</td>\n",
              "      <td>5826837.000000</td>\n",
              "      <td>1729.467773</td>\n",
              "      <td>1763.007935</td>\n",
              "      <td>02:46</td>\n",
              "    </tr>\n",
              "    <tr>\n",
              "      <td>4</td>\n",
              "      <td>2693506.500000</td>\n",
              "      <td>23254.123047</td>\n",
              "      <td>13.194725</td>\n",
              "      <td>61.268734</td>\n",
              "      <td>02:49</td>\n",
              "    </tr>\n",
              "  </tbody>\n",
              "</table>"
            ],
            "text/plain": [
              "<IPython.core.display.HTML object>"
            ]
          },
          "metadata": {}
        }
      ]
    },
    {
      "cell_type": "markdown",
      "metadata": {
        "id": "VXRjdK2K040a"
      },
      "source": [
        "Si bien, podemos observar que nuevamente tenemos un overfitting en nuestro modelo. Observamos que ahora con las nuevas columnas que hemos añadido hemos logrado reducir casi a la mitad el rmse respecto al entrenamiento anterior. \n",
        "\n",
        "**NOTA:** He elegido únicamente 5 epocas debido a que google colab es sumamente lenta para entrenar, incluso con la gpu que me proporcionan tarda demasiado. "
      ]
    },
    {
      "cell_type": "markdown",
      "metadata": {
        "id": "GBn0G0upfXhS"
      },
      "source": [
        "# Implementación de RNN"
      ]
    },
    {
      "cell_type": "code",
      "metadata": {
        "colab": {
          "base_uri": "https://localhost:8080/"
        },
        "id": "CBkQ4hfMwkRN",
        "outputId": "45b75542-db04-4a35-855a-ad337541b0d4"
      },
      "source": [
        "df.columns"
      ],
      "execution_count": null,
      "outputs": [
        {
          "output_type": "execute_result",
          "data": {
            "text/plain": [
              "Index(['Store', 'Dept', 'Weekly_Sales', 'IsHoliday_sales', 'Year_sales',\n",
              "       'Month_sales', 'Day_sales', 'Date_sales', 'Temperature', 'Fuel_Price',\n",
              "       'CPI', 'Unemployment', 'IsHoliday_features', 'Year_features',\n",
              "       'Month_features', 'Day_features', 'Date_features', 'Type', 'Size',\n",
              "       'Date', 'ultima_weekly_sales', 'weekly_cycle', 'weekly_trend', 'EWMA'],\n",
              "      dtype='object')"
            ]
          },
          "metadata": {},
          "execution_count": 89
        }
      ]
    },
    {
      "cell_type": "code",
      "metadata": {
        "id": "NQXAxWrIwGe3"
      },
      "source": [
        "T = torch.tensor(df['Weekly_Sales'], dtype=torch.float32)"
      ],
      "execution_count": 93,
      "outputs": []
    },
    {
      "cell_type": "code",
      "metadata": {
        "id": "nmBneH5d30Jf"
      },
      "source": [
        "# para escribir un dataset de pytorch, tenemos que sobreescribir dos cosas\n",
        "# la longitud (__len__) y otro, el corchete (__getitem__)\n",
        "\n",
        "class KaggleDataset(Dataset):\n",
        "  def __init__(self, T, max_window = 60):\n",
        "    self.T = T # Es el tensor\n",
        "    self.max_window = max_window # máxima cantidad de temperaturas que va a haber antes de predecir\n",
        "    # Por cuestiones prácticas le ponemmos 60 (a mayor número, más lenta)\n",
        "\n",
        "  def __len__(self):\n",
        "    return len(self.T) # longitud del dataset = longitud del tensor\n",
        "\n",
        "  def __getitem__(self, i): \n",
        "    d = i-self.max_window # toma los primeros registros desde i-max_window\n",
        "    first = max(0,d)\n",
        "\n",
        "    # En caso de que eligas el segundo y no haya 60 registros anteriores\n",
        "    # se concatena un tensor de menos unos para que no haya problemas\n",
        "    padding = -torch.ones((max(0, -d),))\n",
        "\n",
        "    # y lo concatemaos al tensor que le vamos a pasar en la dimension 0\n",
        "    x = torch.cat((padding, self.T[first:i]), dim=0)\n",
        "    y = self.T[i] # y va a ser el que se trata de predecir\n",
        "\n",
        "    return x, y"
      ],
      "execution_count": 94,
      "outputs": []
    },
    {
      "cell_type": "markdown",
      "metadata": {
        "id": "_GXCOEgjqo4M"
      },
      "source": [
        "# Modelo"
      ]
    },
    {
      "cell_type": "code",
      "metadata": {
        "id": "9rsnNEUPqiaA"
      },
      "source": [
        "class SimpleRNN(nn.Module):\n",
        "  def __init__(self, hidden_size, num_layers):\n",
        "    super().__init__()\n",
        "\n",
        "    # Modelo recurrente \n",
        "    self.rnn = nn.RNN(input_size=1, hidden_size=hidden_size, num_layers=num_layers, batch_first=True)\n",
        "\n",
        "    # predicciones\n",
        "    self.linear = nn.Linear(hidden_size, 1)\n",
        "\n",
        "  def forward(self, x): \n",
        "    # agregamos una capa de unos, esto ([:, :, None]) es por cuestiones de funcionamiento, entre otras cosas\n",
        "    y, h_n = self.rnn(x[:, :, None]) # y = la predicción; h_n = la hidden, la última capa escondida\n",
        "\n",
        "    y = y[:, -1, :] # Cambiamos las dimensiones de y\n",
        "    return self.linear(y).squeeze()"
      ],
      "execution_count": 95,
      "outputs": []
    },
    {
      "cell_type": "code",
      "metadata": {
        "id": "uzakXMi_qtDI"
      },
      "source": [
        "model = SimpleRNN(64, 2) # modelo con dos capaz y que hidden_size sea 64"
      ],
      "execution_count": null,
      "outputs": []
    },
    {
      "cell_type": "markdown",
      "metadata": {
        "id": "b4tpOgrgq1GV"
      },
      "source": [
        "# Manual (con pytorch)"
      ]
    },
    {
      "cell_type": "code",
      "metadata": {
        "id": "KY9QtdnKqxPa"
      },
      "source": [
        "def rmse_error(yp, y):\n",
        "  w = (yp-y)\n",
        "  return torch.sqrt((w*w).mean())"
      ],
      "execution_count": 97,
      "outputs": []
    },
    {
      "cell_type": "code",
      "metadata": {
        "id": "PksY7JmXssKZ"
      },
      "source": [
        "train_ds = KaggleDataset(T[:len(df)-5000], max_window=40)\n",
        "valid_ds = KaggleDataset(T[len(df)-5000:], max_window=40)"
      ],
      "execution_count": 98,
      "outputs": []
    },
    {
      "cell_type": "code",
      "metadata": {
        "id": "YZlvgeboxcKN"
      },
      "source": [
        "train_dl = DataLoader(train_ds, batch_size=256, shuffle=True)\n",
        "valid_dl = DataLoader(valid_ds, batch_size=256)"
      ],
      "execution_count": 99,
      "outputs": []
    },
    {
      "cell_type": "code",
      "metadata": {
        "id": "nim52G2UxCpI"
      },
      "source": [
        "from torch import optim \n",
        "from fastprogress.fastprogress import progress_bar\n",
        "\n",
        "optimizer = optim.Adam(model.parameters(), lr=1e-3)\n",
        "epochs = 5"
      ],
      "execution_count": null,
      "outputs": []
    },
    {
      "cell_type": "code",
      "metadata": {
        "colab": {
          "base_uri": "https://localhost:8080/",
          "height": 37
        },
        "id": "JWQ4p5FYxJ0G",
        "outputId": "f91418d7-2ea1-42e3-cedf-f3622b28693e"
      },
      "source": [
        "pb = progress_bar(range(epochs))\n",
        "for epoch in pb: \n",
        "  for x, y in train_dl: \n",
        "    optimizer.zero_grad()\n",
        "    yp = model(x)\n",
        "    loss = F.mse_loss(yp, y)\n",
        "    loss.backward()\n",
        "    optimizer.step()\n",
        "    pb.comment = f'loss: {loss.item():.3f}'"
      ],
      "execution_count": null,
      "outputs": [
        {
          "output_type": "display_data",
          "data": {
            "text/html": [
              "\n",
              "    <div>\n",
              "        <style>\n",
              "            /* Turns off some styling */\n",
              "            progress {\n",
              "                /* gets rid of default border in Firefox and Opera. */\n",
              "                border: none;\n",
              "                /* Needs to be in here for Safari polyfill so background images work as expected. */\n",
              "                background-size: auto;\n",
              "            }\n",
              "            .progress-bar-interrupted, .progress-bar-interrupted::-webkit-progress-bar {\n",
              "                background: #F44336;\n",
              "            }\n",
              "        </style>\n",
              "      <progress value='5' class='' max='5' style='width:300px; height:20px; vertical-align: middle;'></progress>\n",
              "      100.00% [5/5 1:39:46<00:00 loss: 1436910720.000]\n",
              "    </div>\n",
              "    "
            ],
            "text/plain": [
              "<IPython.core.display.HTML object>"
            ]
          },
          "metadata": {}
        }
      ]
    },
    {
      "cell_type": "markdown",
      "metadata": {
        "id": "0SKM182Jxgw1"
      },
      "source": [
        "**Ahora debemos validar**"
      ]
    },
    {
      "cell_type": "code",
      "metadata": {
        "id": "lrTG7EV5xeQk"
      },
      "source": [
        "model.eval() # Ponemos el modelo en modo evaluación \n",
        "rmse_total = 0\n",
        "for x, y in valid_dl:\n",
        "  yp = model(x)\n",
        "  rmse_total += rmse_error(yp, y)"
      ],
      "execution_count": null,
      "outputs": []
    },
    {
      "cell_type": "code",
      "metadata": {
        "colab": {
          "base_uri": "https://localhost:8080/"
        },
        "id": "2n6lkqTt5PV-",
        "outputId": "b2b29b76-2694-4b9a-fb2c-e90370112f0d"
      },
      "source": [
        "print(f'RMSE: {rmse_total/len(valid_dl)}')"
      ],
      "execution_count": null,
      "outputs": [
        {
          "output_type": "stream",
          "text": [
            "RMSE: 1669.711669921875\n"
          ],
          "name": "stdout"
        }
      ]
    },
    {
      "cell_type": "markdown",
      "metadata": {
        "id": "YX1mu7GV5RBo"
      },
      "source": [
        "# Con Fastai"
      ]
    },
    {
      "cell_type": "code",
      "metadata": {
        "id": "Cp4dzusK5Srp"
      },
      "source": [
        "model = SimpleRNN(64, 2)"
      ],
      "execution_count": 96,
      "outputs": []
    },
    {
      "cell_type": "code",
      "metadata": {
        "id": "rUM23PVZXjYT"
      },
      "source": [
        "dls = ft.DataLoaders.from_dsets(train_ds, valid_ds, bs=256)"
      ],
      "execution_count": 100,
      "outputs": []
    },
    {
      "cell_type": "code",
      "metadata": {
        "id": "7opJkMe0Xj9n"
      },
      "source": [
        "learn = ft.Learner(dls, model, opt_func=ft.ranger, loss_func=F.smooth_l1_loss, metrics=[F.l1_loss, rmse_error])"
      ],
      "execution_count": 101,
      "outputs": []
    },
    {
      "cell_type": "code",
      "metadata": {
        "colab": {
          "base_uri": "https://localhost:8080/",
          "height": 189
        },
        "id": "nLZmQkcAXnOl",
        "outputId": "865bccc1-7497-4d84-a5a0-617b5f11c70a"
      },
      "source": [
        "learn.fit_one_cycle(5)"
      ],
      "execution_count": null,
      "outputs": [
        {
          "output_type": "display_data",
          "data": {
            "text/html": [
              "\n",
              "    <div>\n",
              "        <style>\n",
              "            /* Turns off some styling */\n",
              "            progress {\n",
              "                /* gets rid of default border in Firefox and Opera. */\n",
              "                border: none;\n",
              "                /* Needs to be in here for Safari polyfill so background images work as expected. */\n",
              "                background-size: auto;\n",
              "            }\n",
              "            .progress-bar-interrupted, .progress-bar-interrupted::-webkit-progress-bar {\n",
              "                background: #F44336;\n",
              "            }\n",
              "        </style>\n",
              "      <progress value='3' class='' max='5' style='width:300px; height:20px; vertical-align: middle;'></progress>\n",
              "      60.00% [3/5 2:15:19<1:30:13]\n",
              "    </div>\n",
              "    \n",
              "<table border=\"1\" class=\"dataframe\">\n",
              "  <thead>\n",
              "    <tr style=\"text-align: left;\">\n",
              "      <th>epoch</th>\n",
              "      <th>train_loss</th>\n",
              "      <th>valid_loss</th>\n",
              "      <th>l1_loss</th>\n",
              "      <th>rmse_error</th>\n",
              "      <th>time</th>\n",
              "    </tr>\n",
              "  </thead>\n",
              "  <tbody>\n",
              "    <tr>\n",
              "      <td>0</td>\n",
              "      <td>21083.365234</td>\n",
              "      <td>646.145142</td>\n",
              "      <td>646.588806</td>\n",
              "      <td>778.999573</td>\n",
              "      <td>48:22</td>\n",
              "    </tr>\n",
              "    <tr>\n",
              "      <td>1</td>\n",
              "      <td>20474.480469</td>\n",
              "      <td>479.632050</td>\n",
              "      <td>480.007812</td>\n",
              "      <td>595.423828</td>\n",
              "      <td>44:22</td>\n",
              "    </tr>\n",
              "    <tr>\n",
              "      <td>2</td>\n",
              "      <td>20064.146484</td>\n",
              "      <td>401.538055</td>\n",
              "      <td>401.770752</td>\n",
              "      <td>502.380402</td>\n",
              "      <td>42:34</td>\n",
              "    </tr>\n",
              "  </tbody>\n",
              "</table><p>\n",
              "\n",
              "    <div>\n",
              "        <style>\n",
              "            /* Turns off some styling */\n",
              "            progress {\n",
              "                /* gets rid of default border in Firefox and Opera. */\n",
              "                border: none;\n",
              "                /* Needs to be in here for Safari polyfill so background images work as expected. */\n",
              "                background-size: auto;\n",
              "            }\n",
              "            .progress-bar-interrupted, .progress-bar-interrupted::-webkit-progress-bar {\n",
              "                background: #F44336;\n",
              "            }\n",
              "        </style>\n",
              "      <progress value='1025' class='' max='26248' style='width:300px; height:20px; vertical-align: middle;'></progress>\n",
              "      3.91% [1025/26248 01:55<47:17 20021.6738]\n",
              "    </div>\n",
              "    "
            ],
            "text/plain": [
              "<IPython.core.display.HTML object>"
            ]
          },
          "metadata": {}
        }
      ]
    },
    {
      "cell_type": "markdown",
      "metadata": {
        "id": "TYwmBQQnQfYe"
      },
      "source": [
        "He cortado la ejecución del entrenamiento debido al tiempo que tarda cada epoca. La razón de ello se debe a que quiero seguir avanzando con las tareas restantes. \n",
        "\n"
      ]
    },
    {
      "cell_type": "markdown",
      "metadata": {
        "id": "tqlZK7AwTXqc"
      },
      "source": [
        "# Observaciones\n",
        "---\n",
        "Hemos visto que al inicio tuvimos una rmse sumamente grande (1320) y que se ha logrado reducir a uno considerablemente pequeño (61) con el añadimiento de algunas columnas y usando CNN, sin embargo obtuvimos un sobreentrenamiento. \n",
        "\n",
        "Haciendo uso de RNN y con las columnas previamente añadidas, así como las dos epocas de entrenamiento que se realizaron observamos que el rmse parece tener una tendencía a la baja sin embargo como podemos observar. Train loss es mayor a valid loss desde un inicio y no parece que eso vaya a cambiar.\n",
        "\n",
        "\n",
        "Personalmente pienso que el sobreentrenamiento se produce a raíz del preprocesamiento que hice, tengo el presentimiento de que cuando el merge fue empleado no fue de la manera correcta.\n",
        "\n",
        "\n",
        "Quisiera corregirlo pero no cuenta con una computadora cuyo entrenamiento sea rápido sino al contrario, tendría que esperar un par de horas para ver si las modificaciones que haga surten efecto y ahora mismo no cuento con dicho tiempo ya que hay entregas pendientes tanto en el trabajo como en la Universidad. Lo lamento"
      ]
    },
    {
      "cell_type": "code",
      "metadata": {
        "id": "68yrUUJNYxQh"
      },
      "source": [
        ""
      ],
      "execution_count": null,
      "outputs": []
    }
  ]
}