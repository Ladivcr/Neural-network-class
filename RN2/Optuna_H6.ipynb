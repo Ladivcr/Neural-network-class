{
  "nbformat": 4,
  "nbformat_minor": 0,
  "metadata": {
    "colab": {
      "name": "Optuna_H6.ipynb",
      "provenance": [],
      "collapsed_sections": []
    },
    "kernelspec": {
      "name": "python3",
      "display_name": "Python 3"
    },
    "language_info": {
      "name": "python"
    }
  },
  "cells": [
    {
      "cell_type": "code",
      "metadata": {
        "id": "vMQnvX68d7lg",
        "colab": {
          "base_uri": "https://localhost:8080/"
        },
        "outputId": "b2acbced-050d-44bb-a574-dce62a5e417b"
      },
      "source": [
        "!pip install -Uqq fastbook\n",
        "import fastbook\n",
        "fastbook.setup_book()"
      ],
      "execution_count": null,
      "outputs": [
        {
          "output_type": "stream",
          "name": "stdout",
          "text": [
            "\u001b[K     |████████████████████████████████| 720 kB 4.0 MB/s \n",
            "\u001b[K     |████████████████████████████████| 46 kB 4.0 MB/s \n",
            "\u001b[K     |████████████████████████████████| 186 kB 50.7 MB/s \n",
            "\u001b[K     |████████████████████████████████| 1.2 MB 42.7 MB/s \n",
            "\u001b[K     |████████████████████████████████| 56 kB 2.9 MB/s \n",
            "\u001b[K     |████████████████████████████████| 51 kB 328 kB/s \n",
            "\u001b[?25hMounted at /content/gdrive\n"
          ]
        }
      ]
    },
    {
      "cell_type": "code",
      "metadata": {
        "id": "5mqu7_8gd_6I"
      },
      "source": [
        "from fastbook import *"
      ],
      "execution_count": 99,
      "outputs": []
    },
    {
      "cell_type": "code",
      "metadata": {
        "id": "oyqublFickjJ"
      },
      "source": [
        "import fastai.vision.all as fv\n",
        "import torch\n",
        "import torch.nn as nn\n",
        "from pathlib import Path"
      ],
      "execution_count": 100,
      "outputs": []
    },
    {
      "cell_type": "code",
      "metadata": {
        "id": "heoUnvOedJjZ"
      },
      "source": [
        "#flowers = Path(\"/content/drive/MyDrive/dataset/flowers\")"
      ],
      "execution_count": 43,
      "outputs": []
    },
    {
      "cell_type": "markdown",
      "metadata": {
        "id": "Pw6sYdZxJceZ"
      },
      "source": [
        "Para esta tarea, me apoye un poco de este tutorial: https://www.kaggle.com/kurianbenoy/image-classification-from-scratch-fastaiv2++}"
      ]
    },
    {
      "cell_type": "code",
      "metadata": {
        "id": "0KDDLZOuG4Lg"
      },
      "source": [
        "# Download our data\n",
        "path = untar_data(URLs.MNIST)"
      ],
      "execution_count": 101,
      "outputs": []
    },
    {
      "cell_type": "code",
      "metadata": {
        "id": "uv3VY31mHU5m"
      },
      "source": [
        "items= get_image_files(path)"
      ],
      "execution_count": 102,
      "outputs": []
    },
    {
      "cell_type": "code",
      "metadata": {
        "id": "-X3V0EbkHR4N"
      },
      "source": [
        "splits = GrandparentSplitter(train_name='training', valid_name='testing')\n",
        "splits = splits(items)"
      ],
      "execution_count": 103,
      "outputs": []
    },
    {
      "cell_type": "code",
      "metadata": {
        "colab": {
          "base_uri": "https://localhost:8080/",
          "height": 102
        },
        "id": "T2JuzEIAHYtt",
        "outputId": "5589225d-9f74-4df0-a266-5688fa9b15fa"
      },
      "source": [
        "img = PILImageBW.create(items[0])\n",
        "img.show()"
      ],
      "execution_count": 104,
      "outputs": [
        {
          "output_type": "execute_result",
          "data": {
            "text/plain": [
              "<matplotlib.axes._subplots.AxesSubplot at 0x7f22c8b04f10>"
            ]
          },
          "metadata": {},
          "execution_count": 104
        },
        {
          "output_type": "display_data",
          "data": {
            "image/png": "[encoded data removed]",
            "text/plain": [
              "<Figure size 72x72 with 1 Axes>"
            ]
          },
          "metadata": {
            "needs_background": "light"
          }
        }
      ]
    },
    {
      "cell_type": "code",
      "metadata": {
        "id": "fHV4TxPBHgfS"
      },
      "source": [
        "dsrc = Datasets(items, tfms=[[PILImageBW.create],[parent_label, Categorize]],\n",
        "                   splits=splits)"
      ],
      "execution_count": 105,
      "outputs": []
    },
    {
      "cell_type": "code",
      "metadata": {
        "colab": {
          "base_uri": "https://localhost:8080/"
        },
        "id": "XCc3XFrq7JPe",
        "outputId": "6da406f0-3622-4421-88cb-936f125fb230"
      },
      "source": [
        "len(items)"
      ],
      "execution_count": 175,
      "outputs": [
        {
          "output_type": "execute_result",
          "data": {
            "text/plain": [
              "70000"
            ]
          },
          "metadata": {},
          "execution_count": 175
        }
      ]
    },
    {
      "cell_type": "code",
      "metadata": {
        "colab": {
          "base_uri": "https://localhost:8080/",
          "height": 118
        },
        "id": "CPNpvehZHin-",
        "outputId": "686be855-216f-469f-cb7c-d003ecdb212d"
      },
      "source": [
        "show_at(dsrc.train, 3)"
      ],
      "execution_count": 106,
      "outputs": [
        {
          "output_type": "execute_result",
          "data": {
            "text/plain": [
              "<matplotlib.axes._subplots.AxesSubplot at 0x7f22c84b94d0>"
            ]
          },
          "metadata": {},
          "execution_count": 106
        },
        {
          "output_type": "display_data",
          "data": {
            "image/png": "[encoded data removed]",
            "text/plain": [
              "<Figure size 72x72 with 1 Axes>"
            ]
          },
          "metadata": {
            "needs_background": "light"
          }
        }
      ]
    },
    {
      "cell_type": "code",
      "metadata": {
        "id": "euodbQpdHmk9"
      },
      "source": [
        "tfms = [ToTensor(), CropPad(size=34, pad_mode=PadMode.Zeros), RandomCrop(size=28)]\n",
        "gpu_tfms = [IntToFloatTensor(), Normalize()]"
      ],
      "execution_count": 107,
      "outputs": []
    },
    {
      "cell_type": "code",
      "metadata": {
        "id": "q-DkerhkHmiK"
      },
      "source": [
        "dls = dsrc.dataloaders(bs=128, after_item=tfms, after_batch=gpu_tfms)"
      ],
      "execution_count": 108,
      "outputs": []
    },
    {
      "cell_type": "code",
      "metadata": {
        "colab": {
          "base_uri": "https://localhost:8080/",
          "height": 536
        },
        "id": "S4tU4vyCHmb4",
        "outputId": "e0b47906-8641-454e-e5f6-df2795d31af6"
      },
      "source": [
        "dls.show_batch()"
      ],
      "execution_count": 109,
      "outputs": [
        {
          "output_type": "display_data",
          "data": {
            "image/png": "[encoded data removed]",
            "text/plain": [
              "<Figure size 648x648 with 9 Axes>"
            ]
          },
          "metadata": {
            "needs_background": "light"
          }
        }
      ]
    },
    {
      "cell_type": "code",
      "metadata": {
        "colab": {
          "base_uri": "https://localhost:8080/"
        },
        "id": "WirdjZDbHx2f",
        "outputId": "61ecb7f6-2b52-4fc4-dd2e-e2e378ea9dda"
      },
      "source": [
        "# passing as a batch\n",
        "xb, yb = dls.one_batch()\n",
        "xb.shape, yb.shape"
      ],
      "execution_count": 110,
      "outputs": [
        {
          "output_type": "execute_result",
          "data": {
            "text/plain": [
              "(torch.Size([128, 1, 28, 28]), torch.Size([128]))"
            ]
          },
          "metadata": {},
          "execution_count": 110
        }
      ]
    },
    {
      "cell_type": "code",
      "metadata": {
        "id": "A-8-bDFzUKpK"
      },
      "source": [
        "class Flatten(nn.Module):\n",
        "    def __init__(self):\n",
        "        super().__init__()\n",
        "        \n",
        "    def forward(self, x):\n",
        "        #return x.squeeze()\n",
        "        return x.reshape(x.shape[0],-1)\n",
        "\n",
        "def num_params(model):\n",
        "    return sum([prod(p.shape) for p in model.parameters()])"
      ],
      "execution_count": 111,
      "outputs": []
    },
    {
      "cell_type": "code",
      "metadata": {
        "id": "ig7VH6rZuRDf"
      },
      "source": [
        "def get_model_1(trial=None):\n",
        "  return nn.Sequential(\n",
        "            nn.Conv2d(1, 8, kernel_size=5, stride=1, padding=1),\n",
        "            nn.Conv2d(8,16, kernel_size=4, stride=2, padding=1),\n",
        "            nn.Conv2d(16, 32, kernel_size=4, stride=2, padding=1),\n",
        "            nn.Conv2d(32,16, kernel_size=3, stride=2, padding=1),\n",
        "            nn.Conv2d(16,10, kernel_size=3, stride=2, padding=1),\n",
        "            Flatten() # and flatten it into a single dimention of predictions\n",
        "            \n",
        ")\n",
        "  "
      ],
      "execution_count": 214,
      "outputs": []
    },
    {
      "cell_type": "code",
      "metadata": {
        "id": "Snegp3nHIDCq"
      },
      "source": [
        "learn = Learner(dls, get_model_1(), metrics=accuracy, opt_func=ranger)"
      ],
      "execution_count": 215,
      "outputs": []
    },
    {
      "cell_type": "code",
      "metadata": {
        "colab": {
          "base_uri": "https://localhost:8080/",
          "height": 300
        },
        "id": "ks-ZrkPNIT91",
        "outputId": "a34dbbed-cbe5-41a8-cca0-63aafdb6c1c2"
      },
      "source": [
        "learn.lr_find()"
      ],
      "execution_count": 216,
      "outputs": [
        {
          "output_type": "display_data",
          "data": {
            "text/html": [
              ""
            ],
            "text/plain": [
              "<IPython.core.display.HTML object>"
            ]
          },
          "metadata": {}
        },
        {
          "output_type": "execute_result",
          "data": {
            "text/plain": [
              "SuggestedLRs(valley=0.0014454397605732083)"
            ]
          },
          "metadata": {},
          "execution_count": 216
        },
        {
          "output_type": "display_data",
          "data": {
            "image/png": "[encoded data removed]",
            "text/plain": [
              "<Figure size 432x288 with 1 Axes>"
            ]
          },
          "metadata": {
            "needs_background": "light"
          }
        }
      ]
    },
    {
      "cell_type": "code",
      "metadata": {
        "colab": {
          "base_uri": "https://localhost:8080/",
          "height": 206
        },
        "id": "Ru2ILY1he9zk",
        "outputId": "6f6d326b-0678-4ea4-a4ec-8dae88ab6ed0"
      },
      "source": [
        "learn.fit_one_cycle(5, lr_max=0.0014)"
      ],
      "execution_count": 217,
      "outputs": [
        {
          "output_type": "display_data",
          "data": {
            "text/html": [
              "<table border=\"1\" class=\"dataframe\">\n",
              "  <thead>\n",
              "    <tr style=\"text-align: left;\">\n",
              "      <th>epoch</th>\n",
              "      <th>train_loss</th>\n",
              "      <th>valid_loss</th>\n",
              "      <th>accuracy</th>\n",
              "      <th>time</th>\n",
              "    </tr>\n",
              "  </thead>\n",
              "  <tbody>\n",
              "    <tr>\n",
              "      <td>0</td>\n",
              "      <td>1.552283</td>\n",
              "      <td>0.877127</td>\n",
              "      <td>0.760600</td>\n",
              "      <td>02:08</td>\n",
              "    </tr>\n",
              "    <tr>\n",
              "      <td>1</td>\n",
              "      <td>1.380375</td>\n",
              "      <td>0.877026</td>\n",
              "      <td>0.756300</td>\n",
              "      <td>02:09</td>\n",
              "    </tr>\n",
              "    <tr>\n",
              "      <td>2</td>\n",
              "      <td>1.297928</td>\n",
              "      <td>0.823430</td>\n",
              "      <td>0.758000</td>\n",
              "      <td>02:08</td>\n",
              "    </tr>\n",
              "    <tr>\n",
              "      <td>3</td>\n",
              "      <td>1.270603</td>\n",
              "      <td>0.815450</td>\n",
              "      <td>0.771600</td>\n",
              "      <td>02:07</td>\n",
              "    </tr>\n",
              "    <tr>\n",
              "      <td>4</td>\n",
              "      <td>1.274571</td>\n",
              "      <td>0.818507</td>\n",
              "      <td>0.770200</td>\n",
              "      <td>02:08</td>\n",
              "    </tr>\n",
              "  </tbody>\n",
              "</table>"
            ],
            "text/plain": [
              "<IPython.core.display.HTML object>"
            ]
          },
          "metadata": {}
        }
      ]
    },
    {
      "cell_type": "markdown",
      "metadata": {
        "id": "h4gZhfkjeYGp"
      },
      "source": [
        "# Usando optuna para encontrar mejores hiperparámetros\n",
        "\n",
        "Optuna es un programa para optimizar hiperparámetros. Se puede instalar con _pip install optuna_"
      ]
    },
    {
      "cell_type": "code",
      "metadata": {
        "id": "EfQGl-Fj3llb"
      },
      "source": [
        "#!pip install optuna"
      ],
      "execution_count": 157,
      "outputs": []
    },
    {
      "cell_type": "code",
      "metadata": {
        "id": "-3p8kQsLej7F"
      },
      "source": [
        "import optuna"
      ],
      "execution_count": 218,
      "outputs": []
    },
    {
      "cell_type": "markdown",
      "metadata": {
        "id": "UeaNeu_QenC0"
      },
      "source": [
        "Debemos crear un \"estudio\" y después correrlo con una función objetivo "
      ]
    },
    {
      "cell_type": "code",
      "metadata": {
        "id": "gkLEf_pEell0",
        "colab": {
          "base_uri": "https://localhost:8080/"
        },
        "outputId": "4f21d48f-e5b4-4b10-ad54-d7f887d03d9e"
      },
      "source": [
        "study = optuna.create_study(direction='maximize')"
      ],
      "execution_count": 219,
      "outputs": [
        {
          "output_type": "stream",
          "name": "stderr",
          "text": [
            "\u001b[32m[I 2021-09-07 22:24:10,191]\u001b[0m A new study created in memory with name: no-name-ff978bf1-db18-4327-b528-2be24fe9fd5f\u001b[0m\n"
          ]
        }
      ]
    },
    {
      "cell_type": "code",
      "metadata": {
        "id": "vRo402Imeli1",
        "colab": {
          "base_uri": "https://localhost:8080/"
        },
        "outputId": "da5fe841-3c5c-418c-8e32-8b7e1ca1751d"
      },
      "source": [
        "accuracy_index = learn.recorder.metric_names.index('accuracy')\n",
        "learn.recorder.log[accuracy_index]"
      ],
      "execution_count": 220,
      "outputs": [
        {
          "output_type": "execute_result",
          "data": {
            "text/plain": [
              "0.7702000141143799"
            ]
          },
          "metadata": {},
          "execution_count": 220
        }
      ]
    },
    {
      "cell_type": "code",
      "metadata": {
        "id": "lJcggAfYelgR"
      },
      "source": [
        "def objective(trial):\n",
        "    optimizer = trial.suggest_categorical('optimizer',[\"Ranger\", \"Adam\"])\n",
        "    opt_func = fv.ranger if optimizer == \"Ranger\" else fv.Adam\n",
        "    learn = fv.Learner(dls, get_model_1(), metrics=fv.accuracy, opt_func=opt_func)\n",
        "    learn.fit_one_cycle(trial.suggest_int('epochs',1,10), \n",
        "                        trial.suggest_float('lr',1e-6, 1e-1, log=True),\n",
        "                       )\n",
        "    \n",
        "    accuracy_index = learn.recorder.metric_names.index('accuracy')\n",
        "    return learn.recorder.log[accuracy_index]"
      ],
      "execution_count": 221,
      "outputs": []
    },
    {
      "cell_type": "code",
      "metadata": {
        "id": "CUPXi-8zeldk",
        "colab": {
          "base_uri": "https://localhost:8080/",
          "height": 1000
        },
        "outputId": "c863ffda-0258-4603-ee04-b687e70119f0"
      },
      "source": [
        "study.optimize(objective, n_trials=5)"
      ],
      "execution_count": 222,
      "outputs": [
        {
          "output_type": "display_data",
          "data": {
            "text/html": [
              "<table border=\"1\" class=\"dataframe\">\n",
              "  <thead>\n",
              "    <tr style=\"text-align: left;\">\n",
              "      <th>epoch</th>\n",
              "      <th>train_loss</th>\n",
              "      <th>valid_loss</th>\n",
              "      <th>accuracy</th>\n",
              "      <th>time</th>\n",
              "    </tr>\n",
              "  </thead>\n",
              "  <tbody>\n",
              "    <tr>\n",
              "      <td>0</td>\n",
              "      <td>44.227840</td>\n",
              "      <td>1.438207</td>\n",
              "      <td>0.555700</td>\n",
              "      <td>02:12</td>\n",
              "    </tr>\n",
              "    <tr>\n",
              "      <td>1</td>\n",
              "      <td>1.545305</td>\n",
              "      <td>0.961008</td>\n",
              "      <td>0.688100</td>\n",
              "      <td>02:08</td>\n",
              "    </tr>\n",
              "    <tr>\n",
              "      <td>2</td>\n",
              "      <td>1.433917</td>\n",
              "      <td>0.999449</td>\n",
              "      <td>0.709100</td>\n",
              "      <td>02:07</td>\n",
              "    </tr>\n",
              "    <tr>\n",
              "      <td>3</td>\n",
              "      <td>1.265811</td>\n",
              "      <td>0.800093</td>\n",
              "      <td>0.773400</td>\n",
              "      <td>02:09</td>\n",
              "    </tr>\n",
              "  </tbody>\n",
              "</table>"
            ],
            "text/plain": [
              "<IPython.core.display.HTML object>"
            ]
          },
          "metadata": {}
        },
        {
          "output_type": "stream",
          "name": "stderr",
          "text": [
            "\u001b[32m[I 2021-09-07 22:32:48,261]\u001b[0m Trial 0 finished with value: 0.7734000086784363 and parameters: {'optimizer': 'Adam', 'epochs': 4, 'lr': 0.06756817088719072}. Best is trial 0 with value: 0.7734000086784363.\u001b[0m\n"
          ]
        },
        {
          "output_type": "display_data",
          "data": {
            "text/html": [
              "<table border=\"1\" class=\"dataframe\">\n",
              "  <thead>\n",
              "    <tr style=\"text-align: left;\">\n",
              "      <th>epoch</th>\n",
              "      <th>train_loss</th>\n",
              "      <th>valid_loss</th>\n",
              "      <th>accuracy</th>\n",
              "      <th>time</th>\n",
              "    </tr>\n",
              "  </thead>\n",
              "  <tbody>\n",
              "    <tr>\n",
              "      <td>0</td>\n",
              "      <td>2.081888</td>\n",
              "      <td>1.458363</td>\n",
              "      <td>0.592000</td>\n",
              "      <td>02:08</td>\n",
              "    </tr>\n",
              "    <tr>\n",
              "      <td>1</td>\n",
              "      <td>1.490873</td>\n",
              "      <td>0.881141</td>\n",
              "      <td>0.760100</td>\n",
              "      <td>02:11</td>\n",
              "    </tr>\n",
              "    <tr>\n",
              "      <td>2</td>\n",
              "      <td>1.391099</td>\n",
              "      <td>0.857469</td>\n",
              "      <td>0.747200</td>\n",
              "      <td>02:10</td>\n",
              "    </tr>\n",
              "    <tr>\n",
              "      <td>3</td>\n",
              "      <td>1.355255</td>\n",
              "      <td>0.870211</td>\n",
              "      <td>0.748400</td>\n",
              "      <td>02:08</td>\n",
              "    </tr>\n",
              "    <tr>\n",
              "      <td>4</td>\n",
              "      <td>1.339403</td>\n",
              "      <td>0.850092</td>\n",
              "      <td>0.756600</td>\n",
              "      <td>02:09</td>\n",
              "    </tr>\n",
              "    <tr>\n",
              "      <td>5</td>\n",
              "      <td>1.316284</td>\n",
              "      <td>0.828880</td>\n",
              "      <td>0.766500</td>\n",
              "      <td>02:10</td>\n",
              "    </tr>\n",
              "    <tr>\n",
              "      <td>6</td>\n",
              "      <td>1.305288</td>\n",
              "      <td>0.831316</td>\n",
              "      <td>0.764600</td>\n",
              "      <td>02:13</td>\n",
              "    </tr>\n",
              "    <tr>\n",
              "      <td>7</td>\n",
              "      <td>1.303700</td>\n",
              "      <td>0.827582</td>\n",
              "      <td>0.768100</td>\n",
              "      <td>02:10</td>\n",
              "    </tr>\n",
              "    <tr>\n",
              "      <td>8</td>\n",
              "      <td>1.283095</td>\n",
              "      <td>0.817852</td>\n",
              "      <td>0.769800</td>\n",
              "      <td>02:09</td>\n",
              "    </tr>\n",
              "  </tbody>\n",
              "</table>"
            ],
            "text/plain": [
              "<IPython.core.display.HTML object>"
            ]
          },
          "metadata": {}
        },
        {
          "output_type": "stream",
          "name": "stderr",
          "text": [
            "\u001b[32m[I 2021-09-07 22:52:21,168]\u001b[0m Trial 1 finished with value: 0.7698000073432922 and parameters: {'optimizer': 'Adam', 'epochs': 9, 'lr': 0.0002951776634028145}. Best is trial 0 with value: 0.7734000086784363.\u001b[0m\n"
          ]
        },
        {
          "output_type": "display_data",
          "data": {
            "text/html": [
              "<table border=\"1\" class=\"dataframe\">\n",
              "  <thead>\n",
              "    <tr style=\"text-align: left;\">\n",
              "      <th>epoch</th>\n",
              "      <th>train_loss</th>\n",
              "      <th>valid_loss</th>\n",
              "      <th>accuracy</th>\n",
              "      <th>time</th>\n",
              "    </tr>\n",
              "  </thead>\n",
              "  <tbody>\n",
              "    <tr>\n",
              "      <td>0</td>\n",
              "      <td>3.548852</td>\n",
              "      <td>1.033903</td>\n",
              "      <td>0.656700</td>\n",
              "      <td>02:09</td>\n",
              "    </tr>\n",
              "    <tr>\n",
              "      <td>1</td>\n",
              "      <td>1.341865</td>\n",
              "      <td>0.856858</td>\n",
              "      <td>0.754100</td>\n",
              "      <td>02:08</td>\n",
              "    </tr>\n",
              "  </tbody>\n",
              "</table>"
            ],
            "text/plain": [
              "<IPython.core.display.HTML object>"
            ]
          },
          "metadata": {}
        },
        {
          "output_type": "stream",
          "name": "stderr",
          "text": [
            "\u001b[32m[I 2021-09-07 22:56:40,071]\u001b[0m Trial 2 finished with value: 0.7541000247001648 and parameters: {'optimizer': 'Adam', 'epochs': 2, 'lr': 0.03999753312210693}. Best is trial 0 with value: 0.7734000086784363.\u001b[0m\n"
          ]
        },
        {
          "output_type": "display_data",
          "data": {
            "text/html": [
              "<table border=\"1\" class=\"dataframe\">\n",
              "  <thead>\n",
              "    <tr style=\"text-align: left;\">\n",
              "      <th>epoch</th>\n",
              "      <th>train_loss</th>\n",
              "      <th>valid_loss</th>\n",
              "      <th>accuracy</th>\n",
              "      <th>time</th>\n",
              "    </tr>\n",
              "  </thead>\n",
              "  <tbody>\n",
              "    <tr>\n",
              "      <td>0</td>\n",
              "      <td>3.687283</td>\n",
              "      <td>3.683065</td>\n",
              "      <td>0.026800</td>\n",
              "      <td>02:12</td>\n",
              "    </tr>\n",
              "    <tr>\n",
              "      <td>1</td>\n",
              "      <td>3.550984</td>\n",
              "      <td>3.491432</td>\n",
              "      <td>0.121900</td>\n",
              "      <td>02:16</td>\n",
              "    </tr>\n",
              "    <tr>\n",
              "      <td>2</td>\n",
              "      <td>2.803929</td>\n",
              "      <td>2.678132</td>\n",
              "      <td>0.155300</td>\n",
              "      <td>02:16</td>\n",
              "    </tr>\n",
              "    <tr>\n",
              "      <td>3</td>\n",
              "      <td>2.409512</td>\n",
              "      <td>2.291137</td>\n",
              "      <td>0.288000</td>\n",
              "      <td>02:11</td>\n",
              "    </tr>\n",
              "    <tr>\n",
              "      <td>4</td>\n",
              "      <td>2.235638</td>\n",
              "      <td>2.093823</td>\n",
              "      <td>0.421400</td>\n",
              "      <td>02:13</td>\n",
              "    </tr>\n",
              "    <tr>\n",
              "      <td>5</td>\n",
              "      <td>2.152154</td>\n",
              "      <td>1.953831</td>\n",
              "      <td>0.501900</td>\n",
              "      <td>02:12</td>\n",
              "    </tr>\n",
              "    <tr>\n",
              "      <td>6</td>\n",
              "      <td>2.084766</td>\n",
              "      <td>1.849181</td>\n",
              "      <td>0.545200</td>\n",
              "      <td>02:18</td>\n",
              "    </tr>\n",
              "    <tr>\n",
              "      <td>7</td>\n",
              "      <td>2.065277</td>\n",
              "      <td>1.788520</td>\n",
              "      <td>0.556500</td>\n",
              "      <td>02:11</td>\n",
              "    </tr>\n",
              "    <tr>\n",
              "      <td>8</td>\n",
              "      <td>2.047894</td>\n",
              "      <td>1.764415</td>\n",
              "      <td>0.563000</td>\n",
              "      <td>02:13</td>\n",
              "    </tr>\n",
              "    <tr>\n",
              "      <td>9</td>\n",
              "      <td>2.038215</td>\n",
              "      <td>1.760854</td>\n",
              "      <td>0.563900</td>\n",
              "      <td>02:08</td>\n",
              "    </tr>\n",
              "  </tbody>\n",
              "</table>"
            ],
            "text/plain": [
              "<IPython.core.display.HTML object>"
            ]
          },
          "metadata": {}
        },
        {
          "output_type": "stream",
          "name": "stderr",
          "text": [
            "\u001b[32m[I 2021-09-07 23:18:55,641]\u001b[0m Trial 3 finished with value: 0.5638999938964844 and parameters: {'optimizer': 'Ranger', 'epochs': 10, 'lr': 2.2401939108795236e-05}. Best is trial 0 with value: 0.7734000086784363.\u001b[0m\n"
          ]
        },
        {
          "output_type": "display_data",
          "data": {
            "text/html": [
              "<table border=\"1\" class=\"dataframe\">\n",
              "  <thead>\n",
              "    <tr style=\"text-align: left;\">\n",
              "      <th>epoch</th>\n",
              "      <th>train_loss</th>\n",
              "      <th>valid_loss</th>\n",
              "      <th>accuracy</th>\n",
              "      <th>time</th>\n",
              "    </tr>\n",
              "  </thead>\n",
              "  <tbody>\n",
              "    <tr>\n",
              "      <td>0</td>\n",
              "      <td>2.817675</td>\n",
              "      <td>2.383493</td>\n",
              "      <td>0.355200</td>\n",
              "      <td>02:07</td>\n",
              "    </tr>\n",
              "    <tr>\n",
              "      <td>1</td>\n",
              "      <td>1.618136</td>\n",
              "      <td>0.982827</td>\n",
              "      <td>0.722300</td>\n",
              "      <td>02:10</td>\n",
              "    </tr>\n",
              "    <tr>\n",
              "      <td>2</td>\n",
              "      <td>1.501743</td>\n",
              "      <td>0.890675</td>\n",
              "      <td>0.758600</td>\n",
              "      <td>02:11</td>\n",
              "    </tr>\n",
              "    <tr>\n",
              "      <td>3</td>\n",
              "      <td>1.476833</td>\n",
              "      <td>0.876249</td>\n",
              "      <td>0.765800</td>\n",
              "      <td>02:14</td>\n",
              "    </tr>\n",
              "    <tr>\n",
              "      <td>4</td>\n",
              "      <td>1.432682</td>\n",
              "      <td>0.835332</td>\n",
              "      <td>0.776700</td>\n",
              "      <td>02:15</td>\n",
              "    </tr>\n",
              "    <tr>\n",
              "      <td>5</td>\n",
              "      <td>1.426293</td>\n",
              "      <td>0.824264</td>\n",
              "      <td>0.782000</td>\n",
              "      <td>02:13</td>\n",
              "    </tr>\n",
              "    <tr>\n",
              "      <td>6</td>\n",
              "      <td>1.423878</td>\n",
              "      <td>0.823923</td>\n",
              "      <td>0.779600</td>\n",
              "      <td>02:10</td>\n",
              "    </tr>\n",
              "    <tr>\n",
              "      <td>7</td>\n",
              "      <td>1.408253</td>\n",
              "      <td>0.824735</td>\n",
              "      <td>0.779200</td>\n",
              "      <td>02:08</td>\n",
              "    </tr>\n",
              "    <tr>\n",
              "      <td>8</td>\n",
              "      <td>1.397292</td>\n",
              "      <td>0.822013</td>\n",
              "      <td>0.781100</td>\n",
              "      <td>02:10</td>\n",
              "    </tr>\n",
              "  </tbody>\n",
              "</table>"
            ],
            "text/plain": [
              "<IPython.core.display.HTML object>"
            ]
          },
          "metadata": {}
        },
        {
          "output_type": "stream",
          "name": "stderr",
          "text": [
            "\u001b[32m[I 2021-09-07 23:38:38,643]\u001b[0m Trial 4 finished with value: 0.7810999751091003 and parameters: {'optimizer': 'Adam', 'epochs': 9, 'lr': 0.00011068284405051291}. Best is trial 4 with value: 0.7810999751091003.\u001b[0m\n"
          ]
        }
      ]
    },
    {
      "cell_type": "code",
      "metadata": {
        "id": "IdJ0I7yVelX_",
        "colab": {
          "base_uri": "https://localhost:8080/"
        },
        "outputId": "9b627a5f-05c0-45d7-afd1-13f2443f6769"
      },
      "source": [
        "print(f\"Los mejores parámetros son: {study.best_params}\")"
      ],
      "execution_count": 223,
      "outputs": [
        {
          "output_type": "stream",
          "name": "stdout",
          "text": [
            "Los mejores parámetros son: {'optimizer': 'Adam', 'epochs': 9, 'lr': 0.00011068284405051291}\n"
          ]
        }
      ]
    },
    {
      "cell_type": "markdown",
      "metadata": {
        "id": "rByt5TGVLxbq"
      },
      "source": [
        "Probamos los parámetros obtenidos con Optuna"
      ]
    },
    {
      "cell_type": "code",
      "metadata": {
        "id": "7oJjcV_ZHFVA"
      },
      "source": [
        "learn_optuna = Learner(dls, get_model_1(), metrics=accuracy, opt_func=ranger)"
      ],
      "execution_count": 231,
      "outputs": []
    },
    {
      "cell_type": "code",
      "metadata": {
        "colab": {
          "base_uri": "https://localhost:8080/"
        },
        "id": "tMr0eo-2MOR5",
        "outputId": "2778e901-fd7d-41c8-9ddd-a1f0298cddb3"
      },
      "source": [
        "study.best_params"
      ],
      "execution_count": 232,
      "outputs": [
        {
          "output_type": "execute_result",
          "data": {
            "text/plain": [
              "{'epochs': 9, 'lr': 0.00011068284405051291, 'optimizer': 'Adam'}"
            ]
          },
          "metadata": {},
          "execution_count": 232
        }
      ]
    },
    {
      "cell_type": "code",
      "metadata": {
        "colab": {
          "base_uri": "https://localhost:8080/",
          "height": 332
        },
        "id": "Cr1EDGpVMio0",
        "outputId": "19bdb080-50a7-494c-990f-ce7337fe92c9"
      },
      "source": [
        "learn_optuna.fit_one_cycle(study.best_params[\"epochs\"], lr_max=study.best_params[\"lr\"])"
      ],
      "execution_count": 233,
      "outputs": [
        {
          "output_type": "display_data",
          "data": {
            "text/html": [
              "<table border=\"1\" class=\"dataframe\">\n",
              "  <thead>\n",
              "    <tr style=\"text-align: left;\">\n",
              "      <th>epoch</th>\n",
              "      <th>train_loss</th>\n",
              "      <th>valid_loss</th>\n",
              "      <th>accuracy</th>\n",
              "      <th>time</th>\n",
              "    </tr>\n",
              "  </thead>\n",
              "  <tbody>\n",
              "    <tr>\n",
              "      <td>0</td>\n",
              "      <td>3.500673</td>\n",
              "      <td>3.295348</td>\n",
              "      <td>0.175200</td>\n",
              "      <td>02:11</td>\n",
              "    </tr>\n",
              "    <tr>\n",
              "      <td>1</td>\n",
              "      <td>1.910697</td>\n",
              "      <td>1.315127</td>\n",
              "      <td>0.633300</td>\n",
              "      <td>02:13</td>\n",
              "    </tr>\n",
              "    <tr>\n",
              "      <td>2</td>\n",
              "      <td>1.602038</td>\n",
              "      <td>0.967356</td>\n",
              "      <td>0.733500</td>\n",
              "      <td>02:16</td>\n",
              "    </tr>\n",
              "    <tr>\n",
              "      <td>3</td>\n",
              "      <td>1.542683</td>\n",
              "      <td>0.907282</td>\n",
              "      <td>0.757000</td>\n",
              "      <td>02:15</td>\n",
              "    </tr>\n",
              "    <tr>\n",
              "      <td>4</td>\n",
              "      <td>1.503028</td>\n",
              "      <td>0.886831</td>\n",
              "      <td>0.755700</td>\n",
              "      <td>02:17</td>\n",
              "    </tr>\n",
              "    <tr>\n",
              "      <td>5</td>\n",
              "      <td>1.472456</td>\n",
              "      <td>0.867018</td>\n",
              "      <td>0.761600</td>\n",
              "      <td>02:17</td>\n",
              "    </tr>\n",
              "    <tr>\n",
              "      <td>6</td>\n",
              "      <td>1.458656</td>\n",
              "      <td>0.863178</td>\n",
              "      <td>0.762600</td>\n",
              "      <td>02:16</td>\n",
              "    </tr>\n",
              "    <tr>\n",
              "      <td>7</td>\n",
              "      <td>1.479999</td>\n",
              "      <td>0.859965</td>\n",
              "      <td>0.767800</td>\n",
              "      <td>02:16</td>\n",
              "    </tr>\n",
              "    <tr>\n",
              "      <td>8</td>\n",
              "      <td>1.469783</td>\n",
              "      <td>0.860438</td>\n",
              "      <td>0.765200</td>\n",
              "      <td>02:19</td>\n",
              "    </tr>\n",
              "  </tbody>\n",
              "</table>"
            ],
            "text/plain": [
              "<IPython.core.display.HTML object>"
            ]
          },
          "metadata": {}
        }
      ]
    }
  ]
}