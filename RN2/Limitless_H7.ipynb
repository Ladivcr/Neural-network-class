{
  "nbformat": 4,
  "nbformat_minor": 0,
  "metadata": {
    "colab": {
      "name": "Limitless_H7.ipynb",
      "provenance": [],
      "collapsed_sections": []
    },
    "kernelspec": {
      "name": "python3",
      "display_name": "Python 3"
    },
    "language_info": {
      "name": "python"
    }
  },
  "cells": [
    {
      "cell_type": "code",
      "metadata": {
        "id": "-C6pplLm75YB",
        "colab": {
          "base_uri": "https://localhost:8080/"
        },
        "outputId": "c2ed6c4d-d882-4b95-fe6c-e755ddf3f96b"
      },
      "source": [
        "!pip install -Uqq fastbook\n",
        "import fastbook\n",
        "fastbook.setup_book()"
      ],
      "execution_count": null,
      "outputs": [
        {
          "output_type": "stream",
          "name": "stdout",
          "text": [
            "\u001b[K     |████████████████████████████████| 720 kB 3.9 MB/s \n",
            "\u001b[K     |████████████████████████████████| 186 kB 52.4 MB/s \n",
            "\u001b[K     |████████████████████████████████| 1.2 MB 37.6 MB/s \n",
            "\u001b[K     |████████████████████████████████| 46 kB 3.5 MB/s \n",
            "\u001b[K     |████████████████████████████████| 56 kB 3.8 MB/s \n",
            "\u001b[K     |████████████████████████████████| 51 kB 269 kB/s \n",
            "\u001b[?25hMounted at /content/gdrive\n"
          ]
        }
      ]
    },
    {
      "cell_type": "code",
      "metadata": {
        "id": "OY592x368D8x"
      },
      "source": [
        "from fastbook import *"
      ],
      "execution_count": null,
      "outputs": []
    },
    {
      "cell_type": "code",
      "metadata": {
        "id": "Me4jD2Bl8Fna"
      },
      "source": [
        "import torch\n",
        "import torch.nn as nn\n",
        "import torch.nn.functional as F\n",
        "from torch.utils.data import DataLoader, Dataset\n",
        "import matplotlib.pyplot as plt\n",
        "import numpy as np\n",
        "import fastai.tabular.all as ft\n",
        "import random\n",
        "from math import sin,cos,tan,log,exp"
      ],
      "execution_count": null,
      "outputs": []
    },
    {
      "cell_type": "markdown",
      "metadata": {
        "id": "qNb4lrjAM6QZ"
      },
      "source": [
        "comparte una imagen de una red neuronal que lo haga super bien en DOS intervalos disjuntos pero mal en el medio :) (tendrás que modificar un poco el RealFuncDataset)."
      ]
    },
    {
      "cell_type": "code",
      "metadata": {
        "id": "izxCzw658K9q"
      },
      "source": [
        "class RealFuncDataset:\n",
        "    def __init__(self, a, b, c, d, f, n=1024*16):\n",
        "        #self.a,self.b = a,b\n",
        "        self.a, self.b, self.c, self.d = a, b, c, d\n",
        "        self.f = f\n",
        "        self.n = n\n",
        "        \n",
        "    def __len__(self):\n",
        "        return self.n\n",
        "    \n",
        "    def __getitem__(self, i):\n",
        "        #a,b,f = self.a, self.b, self.f\n",
        "        a,b,c,d,f = self.a, self.b, self.c,self.d,self.f\n",
        "        x = random.uniform(a,b)\n",
        "        xx = random.uniform(c,d)\n",
        "        X = random.choice([x,xx])\n",
        "        return torch.tensor([X],dtype=torch.float32),torch.tensor([f(X)],dtype=torch.float32)"
      ],
      "execution_count": null,
      "outputs": []
    },
    {
      "cell_type": "code",
      "metadata": {
        "id": "1cAWwWRQ8K6r"
      },
      "source": [
        "a,b = -5,5\n",
        "f = np.sin\n",
        "f2 = np.cos\n",
        "c, d, = 10, 20"
      ],
      "execution_count": null,
      "outputs": []
    },
    {
      "cell_type": "code",
      "metadata": {
        "id": "YkvAWIUr8K3Z"
      },
      "source": [
        "dls = ft.DataLoaders.from_dsets(RealFuncDataset(a,b,c,d,f), RealFuncDataset(a,b,c,d,f))"
      ],
      "execution_count": null,
      "outputs": []
    },
    {
      "cell_type": "code",
      "metadata": {
        "id": "RtvtFccL8K0L"
      },
      "source": [
        "class Shaper(nn.Module):\n",
        "    def __init__(self, c):\n",
        "        super().__init__()\n",
        "        self.c = c\n",
        "    def forward(self, x):\n",
        "        return x.view(-1,self.c).float()"
      ],
      "execution_count": null,
      "outputs": []
    },
    {
      "cell_type": "code",
      "metadata": {
        "id": "f6WvtuSS8Kwx"
      },
      "source": [
        "model = nn.Sequential(\n",
        "    Shaper(1),\n",
        "    nn.Linear(1,256),\n",
        "    nn.BatchNorm1d(256),\n",
        "    nn.ReLU(),\n",
        "    nn.Linear(256,256),\n",
        "    nn.BatchNorm1d(256),\n",
        "    nn.ReLU(),\n",
        "    nn.Linear(256,256),\n",
        "    nn.BatchNorm1d(256),\n",
        "    nn.ReLU(),\n",
        "    nn.Linear(256,256),\n",
        "    nn.BatchNorm1d(256),\n",
        "    nn.Linear(256,256),\n",
        "    nn.BatchNorm1d(256),\n",
        "    nn.ReLU(),\n",
        "    nn.Linear(256,1)\n",
        ")"
      ],
      "execution_count": null,
      "outputs": []
    },
    {
      "cell_type": "code",
      "metadata": {
        "id": "c59UA2gb8Ktg"
      },
      "source": [
        "learn = ft.Learner(dls, model, loss_func=ft.MSELossFlat(),  opt_func=ft.ranger)"
      ],
      "execution_count": null,
      "outputs": []
    },
    {
      "cell_type": "code",
      "metadata": {
        "id": "vIKxwnbj8KqS",
        "colab": {
          "base_uri": "https://localhost:8080/",
          "height": 206
        },
        "outputId": "93873c6e-c4be-4225-e7ef-4c0fca24edb4"
      },
      "source": [
        "learn.fit_one_cycle(5, div=2, pct_start=0.5)"
      ],
      "execution_count": null,
      "outputs": [
        {
          "output_type": "display_data",
          "data": {
            "text/html": [
              "<table border=\"1\" class=\"dataframe\">\n",
              "  <thead>\n",
              "    <tr style=\"text-align: left;\">\n",
              "      <th>epoch</th>\n",
              "      <th>train_loss</th>\n",
              "      <th>valid_loss</th>\n",
              "      <th>time</th>\n",
              "    </tr>\n",
              "  </thead>\n",
              "  <tbody>\n",
              "    <tr>\n",
              "      <td>0</td>\n",
              "      <td>0.161109</td>\n",
              "      <td>0.081942</td>\n",
              "      <td>00:06</td>\n",
              "    </tr>\n",
              "    <tr>\n",
              "      <td>1</td>\n",
              "      <td>0.149641</td>\n",
              "      <td>0.049803</td>\n",
              "      <td>00:06</td>\n",
              "    </tr>\n",
              "    <tr>\n",
              "      <td>2</td>\n",
              "      <td>0.137821</td>\n",
              "      <td>0.025357</td>\n",
              "      <td>00:06</td>\n",
              "    </tr>\n",
              "    <tr>\n",
              "      <td>3</td>\n",
              "      <td>0.096747</td>\n",
              "      <td>0.033307</td>\n",
              "      <td>00:06</td>\n",
              "    </tr>\n",
              "    <tr>\n",
              "      <td>4</td>\n",
              "      <td>0.087718</td>\n",
              "      <td>0.025101</td>\n",
              "      <td>00:06</td>\n",
              "    </tr>\n",
              "  </tbody>\n",
              "</table>"
            ],
            "text/plain": [
              "<IPython.core.display.HTML object>"
            ]
          },
          "metadata": {}
        }
      ]
    },
    {
      "cell_type": "code",
      "metadata": {
        "id": "SNWxeLld8Vxa",
        "colab": {
          "base_uri": "https://localhost:8080/",
          "height": 265
        },
        "outputId": "b7c262a6-452f-4a94-f209-4cce1507da61"
      },
      "source": [
        "# Puntos\n",
        "x = torch.linspace(a, b, 100)\n",
        "x1 = torch.linspace(c, d, 100)\n",
        "X = torch.linspace(a, d, 100)\n",
        "YP = learn.model(X) \n",
        "X, YP = X.detach().numpy(), YP.detach().numpy()\n",
        "\n",
        "# Predicciones\n",
        "yp = learn.model(x)\n",
        "yp1 = learn.model(x)\n",
        "\n",
        "x, yp = x.detach().numpy(), yp.detach().numpy()\n",
        "y = f(x) # Sen\n",
        "y1 = f2(x) #Cos\n",
        "\n",
        "#plt.plot(x, yp, label=\"Predicción Cos\") # Predict Sin\n",
        "#plt.plot(x1, yp1, label=\"Predicción Sin\") # Predict Sin\n",
        "plt.plot(X, YP, label=\"Completo\")\n",
        "plt.plot(x, y, linestyle = 'dashed', label=\"Sin\") #Sin\n",
        "plt.plot(x1, y1, linestyle = 'dotted', label=\"Cos\") #Cos\n",
        "plt.legend(loc = 'upper right')\n",
        "plt.show()"
      ],
      "execution_count": null,
      "outputs": [
        {
          "output_type": "display_data",
          "data": {
            "image/png": "[encoded data removed]",
            "text/plain": [
              "<Figure size 432x288 with 1 Axes>"
            ]
          },
          "metadata": {
            "needs_background": "light"
          }
        }
      ]
    },
    {
      "cell_type": "markdown",
      "metadata": {
        "id": "taTqtPQmNrJD"
      },
      "source": [
        "Recordemos que los intervalos elegidos han sido de [-5, 5] y de [10, 20].\n",
        "Podemos observar que donde el intervalo no fue elegido para entrenamiento la predicción es pesima pero en el intervalo [10, 20] Se trata de ajustar aunque de una manera desfazada a la función. \n"
      ]
    }
  ]
}