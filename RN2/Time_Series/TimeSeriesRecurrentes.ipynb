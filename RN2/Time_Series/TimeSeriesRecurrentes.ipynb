{
  "nbformat": 4,
  "nbformat_minor": 0,
  "metadata": {
    "colab": {
      "name": "TimeSeriesRecurrentes.ipynb",
      "provenance": [],
      "collapsed_sections": []
    },
    "kernelspec": {
      "name": "python3",
      "display_name": "Python 3"
    },
    "language_info": {
      "name": "python"
    },
    "accelerator": "GPU"
  },
  "cells": [
    {
      "cell_type": "code",
      "metadata": {
        "colab": {
          "base_uri": "https://localhost:8080/"
        },
        "id": "5Cz15GwFiqCC",
        "outputId": "08e3c899-5b65-44b6-f383-5c9edb36c20f"
      },
      "source": [
        "!pip install -Uqq fastbook\n",
        "import fastbook\n",
        "fastbook.setup_book()"
      ],
      "execution_count": null,
      "outputs": [
        {
          "output_type": "stream",
          "text": [
            "\u001b[K     |████████████████████████████████| 720 kB 5.0 MB/s \n",
            "\u001b[K     |████████████████████████████████| 188 kB 30.1 MB/s \n",
            "\u001b[K     |████████████████████████████████| 46 kB 2.1 MB/s \n",
            "\u001b[K     |████████████████████████████████| 1.2 MB 22.6 MB/s \n",
            "\u001b[K     |████████████████████████████████| 56 kB 2.0 MB/s \n",
            "\u001b[K     |████████████████████████████████| 51 kB 166 kB/s \n",
            "\u001b[?25hMounted at /content/gdrive\n"
          ],
          "name": "stdout"
        }
      ]
    },
    {
      "cell_type": "code",
      "metadata": {
        "id": "jipoP5ygip3M"
      },
      "source": [
        "from fastbook import *"
      ],
      "execution_count": null,
      "outputs": []
    },
    {
      "cell_type": "markdown",
      "metadata": {
        "id": "AfgumAWXqmEh"
      },
      "source": [
        "# Redes Neuronales Recurrentes para series de tiempo\n",
        "\n",
        "Vimos que si vamos agregando más y más información del dataset a nuestras redes neuronales convolucionales, lo hacen mejor. \n",
        "Es decir, podemos pensar en agregar: \n",
        "\n",
        "- Las últimas $k$ mediciones\n",
        "- El promedio, la mediana, mínimo y máximo\n",
        "- EWMA con diferentes alfas\n",
        "- Desviación estándar\n",
        "- Algunos percentiles (25%, 75%, etc)\n",
        "- etc\n",
        "\n",
        "Y si, en principio no sabemos qué será la importante para ayudar a la red\n",
        "neuronal a hacer la predicción \n",
        "\n",
        "Entonces viene la idea increíble: ¿NO sería mejor entrenar una red neuronal para que decidiera qué métricas son las importantes? \n",
        "¿O incluso que creara sus propias métricas? \n",
        "\n",
        "**Esa es exactamente la idea de las redes neuronales recurrentes**\n"
      ]
    },
    {
      "cell_type": "code",
      "metadata": {
        "id": "YZU6as6hqO3w"
      },
      "source": [
        "import pandas as pd\n",
        "import torch \n",
        "import torch.nn as nn\n",
        "import torch.nn.functional as F\n",
        "import fastai.tabular.all as ft\n",
        "from torch.utils.data import Dataset, DataLoader"
      ],
      "execution_count": null,
      "outputs": []
    },
    {
      "cell_type": "code",
      "metadata": {
        "colab": {
          "base_uri": "https://localhost:8080/",
          "height": 455
        },
        "id": "xeQ_nxrIX-8f",
        "outputId": "7fb74f19-f227-4f2d-a765-8f2de7455e47"
      },
      "source": [
        "df = pd.read_csv(\"/content/daily-min-temperatures.csv\", index_col='Date', parse_dates=True)\n",
        "df"
      ],
      "execution_count": null,
      "outputs": [
        {
          "output_type": "execute_result",
          "data": {
            "text/html": [
              "<div>\n",
              "<style scoped>\n",
              "    .dataframe tbody tr th:only-of-type {\n",
              "        vertical-align: middle;\n",
              "    }\n",
              "\n",
              "    .dataframe tbody tr th {\n",
              "        vertical-align: top;\n",
              "    }\n",
              "\n",
              "    .dataframe thead th {\n",
              "        text-align: right;\n",
              "    }\n",
              "</style>\n",
              "<table border=\"1\" class=\"dataframe\">\n",
              "  <thead>\n",
              "    <tr style=\"text-align: right;\">\n",
              "      <th></th>\n",
              "      <th>Temp</th>\n",
              "    </tr>\n",
              "    <tr>\n",
              "      <th>Date</th>\n",
              "      <th></th>\n",
              "    </tr>\n",
              "  </thead>\n",
              "  <tbody>\n",
              "    <tr>\n",
              "      <th>1981-01-01</th>\n",
              "      <td>20.7</td>\n",
              "    </tr>\n",
              "    <tr>\n",
              "      <th>1981-01-02</th>\n",
              "      <td>17.9</td>\n",
              "    </tr>\n",
              "    <tr>\n",
              "      <th>1981-01-03</th>\n",
              "      <td>18.8</td>\n",
              "    </tr>\n",
              "    <tr>\n",
              "      <th>1981-01-04</th>\n",
              "      <td>14.6</td>\n",
              "    </tr>\n",
              "    <tr>\n",
              "      <th>1981-01-05</th>\n",
              "      <td>15.8</td>\n",
              "    </tr>\n",
              "    <tr>\n",
              "      <th>...</th>\n",
              "      <td>...</td>\n",
              "    </tr>\n",
              "    <tr>\n",
              "      <th>1990-12-27</th>\n",
              "      <td>14.0</td>\n",
              "    </tr>\n",
              "    <tr>\n",
              "      <th>1990-12-28</th>\n",
              "      <td>13.6</td>\n",
              "    </tr>\n",
              "    <tr>\n",
              "      <th>1990-12-29</th>\n",
              "      <td>13.5</td>\n",
              "    </tr>\n",
              "    <tr>\n",
              "      <th>1990-12-30</th>\n",
              "      <td>15.7</td>\n",
              "    </tr>\n",
              "    <tr>\n",
              "      <th>1990-12-31</th>\n",
              "      <td>13.0</td>\n",
              "    </tr>\n",
              "  </tbody>\n",
              "</table>\n",
              "<p>3650 rows × 1 columns</p>\n",
              "</div>"
            ],
            "text/plain": [
              "            Temp\n",
              "Date            \n",
              "1981-01-01  20.7\n",
              "1981-01-02  17.9\n",
              "1981-01-03  18.8\n",
              "1981-01-04  14.6\n",
              "1981-01-05  15.8\n",
              "...          ...\n",
              "1990-12-27  14.0\n",
              "1990-12-28  13.6\n",
              "1990-12-29  13.5\n",
              "1990-12-30  15.7\n",
              "1990-12-31  13.0\n",
              "\n",
              "[3650 rows x 1 columns]"
            ]
          },
          "metadata": {},
          "execution_count": 8
        }
      ]
    },
    {
      "cell_type": "code",
      "metadata": {
        "id": "YEkf_hAAYOBA"
      },
      "source": [
        "T = torch.tensor(df['Temp'], dtype=torch.float32)"
      ],
      "execution_count": null,
      "outputs": []
    },
    {
      "cell_type": "code",
      "metadata": {
        "id": "Z6uZgqDvYREv",
        "colab": {
          "base_uri": "https://localhost:8080/"
        },
        "outputId": "13aea302-161e-4c1c-d6f0-ed33f0dc6d44"
      },
      "source": [
        "T[:10]"
      ],
      "execution_count": null,
      "outputs": [
        {
          "output_type": "execute_result",
          "data": {
            "text/plain": [
              "tensor([20.7000, 17.9000, 18.8000, 14.6000, 15.8000, 15.8000, 15.8000, 17.4000, 21.8000, 20.0000])"
            ]
          },
          "metadata": {},
          "execution_count": 10
        }
      ]
    },
    {
      "cell_type": "code",
      "metadata": {
        "id": "6xEWnCb5YRCZ",
        "colab": {
          "base_uri": "https://localhost:8080/"
        },
        "outputId": "dc7158a6-9022-4096-f002-066525afa107"
      },
      "source": [
        "T.shape"
      ],
      "execution_count": null,
      "outputs": [
        {
          "output_type": "execute_result",
          "data": {
            "text/plain": [
              "torch.Size([3650])"
            ]
          },
          "metadata": {},
          "execution_count": 11
        }
      ]
    },
    {
      "cell_type": "code",
      "metadata": {
        "id": "FQfzh5bWYQ_5"
      },
      "source": [
        "# para escribir un dataset de pytorch, tenemos que sobreescribir dos cosas\n",
        "# la longitud (__len__) y otro, el corchete (__getitem__)\n",
        "\n",
        "class TemperaturaDataset(Dataset):\n",
        "  def __init__(self, T, max_window = 60):\n",
        "    self.T = T # Es el tensor\n",
        "    self.max_window = max_window # máxima cantidad de temperaturas que va a haber antes de predecir\n",
        "    # Por cuestiones prácticas le ponemmos 60 (a mayor número, más lenta)\n",
        "\n",
        "  def __len__(self):\n",
        "    return len(self.T) # longitud del dataset = longitud del tensor\n",
        "\n",
        "  def __getitem__(self, i): \n",
        "    d = i-self.max_window # toma los primeros registros desde i-max_window\n",
        "    first = max(0,d)\n",
        "\n",
        "    # En caso de que eligas el segundo y no haya 60 registros anteriores\n",
        "    # se concatena un tensor de menos unos para que no haya problemas\n",
        "    padding = -torch.ones((max(0, -d),))\n",
        "\n",
        "    # y lo concatemaos al tensor que le vamos a pasar en la dimension 0\n",
        "    x = torch.cat((padding, self.T[first:i]), dim=0)\n",
        "    y = self.T[i] # y va a ser el que se trata de predecir\n",
        "\n",
        "    return x, y"
      ],
      "execution_count": null,
      "outputs": []
    },
    {
      "cell_type": "code",
      "metadata": {
        "id": "-6pWgvluYQ9C"
      },
      "source": [
        "# T es mi tensor y max_window la cantidad de temperaturas máximas de las que me voy a apoyar para\n",
        "# predecir\n",
        "data_train = TemperaturaDataset(T, max_window=8)"
      ],
      "execution_count": null,
      "outputs": []
    },
    {
      "cell_type": "code",
      "metadata": {
        "id": "senkMwRyYQ6h",
        "colab": {
          "base_uri": "https://localhost:8080/"
        },
        "outputId": "0a971ed5-e237-4fd1-fb6e-eb1de212d4c6"
      },
      "source": [
        "# Estoy trantando de predecir el primer elemento del tensor, por lo que no tengo información \n",
        "# anterior, por eso son puros -1\n",
        "data_train[0]"
      ],
      "execution_count": null,
      "outputs": [
        {
          "output_type": "execute_result",
          "data": {
            "text/plain": [
              "(tensor([-1., -1., -1., -1., -1., -1., -1., -1.]), tensor(20.7000))"
            ]
          },
          "metadata": {},
          "execution_count": 14
        }
      ]
    },
    {
      "cell_type": "code",
      "metadata": {
        "id": "7MZsAihhYQ3i",
        "colab": {
          "base_uri": "https://localhost:8080/"
        },
        "outputId": "171d40aa-ac3e-4781-a06f-72d1c66f2591"
      },
      "source": [
        "# si pongo \n",
        "data_train[1]\n",
        "# Ahora tengo puros -1 excepto uno, y con esa información debo de tratar de predecir el segundo "
      ],
      "execution_count": null,
      "outputs": [
        {
          "output_type": "execute_result",
          "data": {
            "text/plain": [
              "(tensor([-1.0000, -1.0000, -1.0000, -1.0000, -1.0000, -1.0000, -1.0000, 20.7000]),\n",
              " tensor(17.9000))"
            ]
          },
          "metadata": {},
          "execution_count": 15
        }
      ]
    },
    {
      "cell_type": "markdown",
      "metadata": {
        "id": "oCvHHrhmbwf4"
      },
      "source": [
        "# Modelo"
      ]
    },
    {
      "cell_type": "code",
      "metadata": {
        "id": "u0gTue2WYP8y"
      },
      "source": [
        "class MySimpleRNN(nn.Module):\n",
        "  def __init__(self, hidden_size, num_layers):\n",
        "    super().__init__()\n",
        "\n",
        "    # Modelo recurrente \n",
        "    self.rnn = nn.RNN(input_size=1, hidden_size=hidden_size, num_layers=num_layers, batch_first=True)\n",
        "\n",
        "    # predicciones\n",
        "    self.linear = nn.Linear(hidden_size, 1)\n",
        "\n",
        "  def forward(self, x): \n",
        "    # agregamos una capa de unos, esto ([:, :, None]) es por cuestiones de funcionamiento, entre otras cosas\n",
        "    y, h_n = self.rnn(x[:, :, None]) # y = la predicción; h_n = la hidden, la última capa escondida\n",
        "\n",
        "    y = y[:, -1, :] # Cambiamos las dimensiones de y\n",
        "    return self.linear(y).squeeze()"
      ],
      "execution_count": null,
      "outputs": []
    },
    {
      "cell_type": "code",
      "metadata": {
        "id": "-0oi0tahbjVX"
      },
      "source": [
        "model = MySimpleRNN(64, 2) # modelo con dos capaz y que hidden_size sea 64"
      ],
      "execution_count": null,
      "outputs": []
    },
    {
      "cell_type": "code",
      "metadata": {
        "id": "Jrtpsl4lf38N"
      },
      "source": [
        "# Creamos un vector, con batch size de 3\n",
        "x = torch.randn((3, 10)) # me regresa algo de tamaño tres, porque la batchsize es de tamaño 3\n",
        "# 10 es el tamaño de la max_window"
      ],
      "execution_count": null,
      "outputs": []
    },
    {
      "cell_type": "code",
      "metadata": {
        "id": "QWaQPbiPgdL1",
        "colab": {
          "base_uri": "https://localhost:8080/"
        },
        "outputId": "e980e2e4-8665-4da9-b2fa-d8dbce1d5520"
      },
      "source": [
        "model(x)"
      ],
      "execution_count": null,
      "outputs": [
        {
          "output_type": "execute_result",
          "data": {
            "text/plain": [
              "tensor([-0.1393, -0.1348, -0.1378], grad_fn=<SqueezeBackward0>)"
            ]
          },
          "metadata": {},
          "execution_count": 19
        }
      ]
    },
    {
      "cell_type": "markdown",
      "metadata": {
        "id": "KnmpbGprd-Sd"
      },
      "source": [
        "# Manual (con pytorch)"
      ]
    },
    {
      "cell_type": "code",
      "metadata": {
        "id": "zD4SNeZGd9Zc"
      },
      "source": [
        "def rmse_error(yp, y):\n",
        "  w = (yp-y)\n",
        "  return torch.sqrt((w*w).mean())"
      ],
      "execution_count": null,
      "outputs": []
    },
    {
      "cell_type": "code",
      "metadata": {
        "id": "39H4RFnid9yK"
      },
      "source": [
        "train_ds = TemperaturaDataset(T[:3200], max_window=40)\n",
        "valid_ds = TemperaturaDataset(T[3200:], max_window=40)"
      ],
      "execution_count": null,
      "outputs": []
    },
    {
      "cell_type": "code",
      "metadata": {
        "id": "Oyu2RafMbjRu"
      },
      "source": [
        "train_dl = DataLoader(train_ds, batch_size=256, shuffle=True)\n",
        "valid_dl = DataLoader(valid_ds, batch_size=256)"
      ],
      "execution_count": null,
      "outputs": []
    },
    {
      "cell_type": "code",
      "metadata": {
        "id": "729prDo8bjOW"
      },
      "source": [
        "from torch import optim \n",
        "from fastprogress.fastprogress import progress_bar"
      ],
      "execution_count": null,
      "outputs": []
    },
    {
      "cell_type": "code",
      "metadata": {
        "id": "-ri3PbOqbjLf"
      },
      "source": [
        "optimizer = optim.Adam(model.parameters(), lr=1e-3)"
      ],
      "execution_count": null,
      "outputs": []
    },
    {
      "cell_type": "code",
      "metadata": {
        "id": "YKhEH3W5bjIv"
      },
      "source": [
        "epochs = 20"
      ],
      "execution_count": null,
      "outputs": []
    },
    {
      "cell_type": "code",
      "metadata": {
        "colab": {
          "base_uri": "https://localhost:8080/",
          "height": 37
        },
        "id": "sbkwP2qEmhFN",
        "outputId": "89d43b10-cfcd-4543-e2a1-cd84a1c99bab"
      },
      "source": [
        "pb = progress_bar(range(epochs))\n",
        "for epoch in pb: \n",
        "  for x, y in train_dl: \n",
        "    optimizer.zero_grad()\n",
        "    yp = model(x)\n",
        "    loss = F.mse_loss(yp, y)\n",
        "    loss.backward()\n",
        "    optimizer.step()\n",
        "    pb.comment = f'loss: {loss.item():.3f}'"
      ],
      "execution_count": null,
      "outputs": [
        {
          "output_type": "display_data",
          "data": {
            "text/html": [
              "\n",
              "    <div>\n",
              "        <style>\n",
              "            /* Turns off some styling */\n",
              "            progress {\n",
              "                /* gets rid of default border in Firefox and Opera. */\n",
              "                border: none;\n",
              "                /* Needs to be in here for Safari polyfill so background images work as expected. */\n",
              "                background-size: auto;\n",
              "            }\n",
              "            .progress-bar-interrupted, .progress-bar-interrupted::-webkit-progress-bar {\n",
              "                background: #F44336;\n",
              "            }\n",
              "        </style>\n",
              "      <progress value='20' class='' max='20' style='width:300px; height:20px; vertical-align: middle;'></progress>\n",
              "      100.00% [20/20 00:39<00:00 loss: 18.358]\n",
              "    </div>\n",
              "    "
            ],
            "text/plain": [
              "<IPython.core.display.HTML object>"
            ]
          },
          "metadata": {}
        }
      ]
    },
    {
      "cell_type": "markdown",
      "metadata": {
        "id": "xBD6b_Utm7-7"
      },
      "source": [
        "Ahora hay que validar..."
      ]
    },
    {
      "cell_type": "code",
      "metadata": {
        "id": "VQX8iqwTm6Ml"
      },
      "source": [
        "model.eval() # Ponemos el modelo en modo evaluación \n",
        "rmse_total = 0\n",
        "for x, y in valid_dl:\n",
        "  yp = model(x)\n",
        "  rmse_total += rmse_error(yp, y)"
      ],
      "execution_count": null,
      "outputs": []
    },
    {
      "cell_type": "code",
      "metadata": {
        "colab": {
          "base_uri": "https://localhost:8080/"
        },
        "id": "EKeih5y4ncv-",
        "outputId": "312d2616-cb4c-4c95-d013-4b39370a7c3b"
      },
      "source": [
        "print(f'RMSE: {rmse_total/len(valid_dl)}')"
      ],
      "execution_count": null,
      "outputs": [
        {
          "output_type": "stream",
          "text": [
            "RMSE: 3.7286369800567627\n"
          ],
          "name": "stdout"
        }
      ]
    },
    {
      "cell_type": "markdown",
      "metadata": {
        "id": "LsP9nipNn1Gp"
      },
      "source": [
        "# Con fastai"
      ]
    },
    {
      "cell_type": "code",
      "metadata": {
        "id": "g6H4Xe67niYQ"
      },
      "source": [
        "model = MySimpleRNN(64, 2)"
      ],
      "execution_count": null,
      "outputs": []
    },
    {
      "cell_type": "code",
      "metadata": {
        "id": "zQesndTqn5Y5"
      },
      "source": [
        "dls = ft.DataLoaders.from_dsets(train_ds, valid_ds, bs=256)"
      ],
      "execution_count": null,
      "outputs": []
    },
    {
      "cell_type": "code",
      "metadata": {
        "id": "Uzriykd-oDox"
      },
      "source": [
        "learn = ft.Learner(dls, model, opt_func=ft.ranger, loss_func=F.smooth_l1_loss, metrics=[F.l1_loss, rmse_error])"
      ],
      "execution_count": null,
      "outputs": []
    },
    {
      "cell_type": "code",
      "metadata": {
        "colab": {
          "base_uri": "https://localhost:8080/",
          "height": 1000
        },
        "id": "drh98-euoTsf",
        "outputId": "e78fac70-16a4-47a2-e230-ef6db283cf88"
      },
      "source": [
        "learn.fit_one_cycle(50)"
      ],
      "execution_count": null,
      "outputs": [
        {
          "output_type": "display_data",
          "data": {
            "text/html": [
              "<table border=\"1\" class=\"dataframe\">\n",
              "  <thead>\n",
              "    <tr style=\"text-align: left;\">\n",
              "      <th>epoch</th>\n",
              "      <th>train_loss</th>\n",
              "      <th>valid_loss</th>\n",
              "      <th>l1_loss</th>\n",
              "      <th>rmse_error</th>\n",
              "      <th>time</th>\n",
              "    </tr>\n",
              "  </thead>\n",
              "  <tbody>\n",
              "    <tr>\n",
              "      <td>0</td>\n",
              "      <td>10.493287</td>\n",
              "      <td>11.217636</td>\n",
              "      <td>11.717636</td>\n",
              "      <td>12.240503</td>\n",
              "      <td>00:00</td>\n",
              "    </tr>\n",
              "    <tr>\n",
              "      <td>1</td>\n",
              "      <td>10.443800</td>\n",
              "      <td>11.183337</td>\n",
              "      <td>11.683337</td>\n",
              "      <td>12.207227</td>\n",
              "      <td>00:00</td>\n",
              "    </tr>\n",
              "    <tr>\n",
              "      <td>2</td>\n",
              "      <td>10.429450</td>\n",
              "      <td>11.101688</td>\n",
              "      <td>11.601689</td>\n",
              "      <td>12.128018</td>\n",
              "      <td>00:00</td>\n",
              "    </tr>\n",
              "    <tr>\n",
              "      <td>3</td>\n",
              "      <td>10.381669</td>\n",
              "      <td>10.942435</td>\n",
              "      <td>11.442435</td>\n",
              "      <td>11.973573</td>\n",
              "      <td>00:00</td>\n",
              "    </tr>\n",
              "    <tr>\n",
              "      <td>4</td>\n",
              "      <td>10.267569</td>\n",
              "      <td>10.669504</td>\n",
              "      <td>11.169504</td>\n",
              "      <td>11.709286</td>\n",
              "      <td>00:00</td>\n",
              "    </tr>\n",
              "    <tr>\n",
              "      <td>5</td>\n",
              "      <td>10.101878</td>\n",
              "      <td>10.234605</td>\n",
              "      <td>10.734605</td>\n",
              "      <td>11.290054</td>\n",
              "      <td>00:00</td>\n",
              "    </tr>\n",
              "    <tr>\n",
              "      <td>6</td>\n",
              "      <td>9.831438</td>\n",
              "      <td>9.566455</td>\n",
              "      <td>10.066076</td>\n",
              "      <td>10.651177</td>\n",
              "      <td>00:00</td>\n",
              "    </tr>\n",
              "    <tr>\n",
              "      <td>7</td>\n",
              "      <td>9.426492</td>\n",
              "      <td>8.610843</td>\n",
              "      <td>9.110029</td>\n",
              "      <td>9.748459</td>\n",
              "      <td>00:00</td>\n",
              "    </tr>\n",
              "    <tr>\n",
              "      <td>8</td>\n",
              "      <td>8.889101</td>\n",
              "      <td>7.553630</td>\n",
              "      <td>8.051196</td>\n",
              "      <td>8.765111</td>\n",
              "      <td>00:00</td>\n",
              "    </tr>\n",
              "    <tr>\n",
              "      <td>9</td>\n",
              "      <td>8.284281</td>\n",
              "      <td>6.723698</td>\n",
              "      <td>7.217591</td>\n",
              "      <td>8.000101</td>\n",
              "      <td>00:01</td>\n",
              "    </tr>\n",
              "    <tr>\n",
              "      <td>10</td>\n",
              "      <td>7.688097</td>\n",
              "      <td>6.152907</td>\n",
              "      <td>6.644401</td>\n",
              "      <td>7.473550</td>\n",
              "      <td>00:02</td>\n",
              "    </tr>\n",
              "    <tr>\n",
              "      <td>11</td>\n",
              "      <td>7.139792</td>\n",
              "      <td>5.722272</td>\n",
              "      <td>6.210347</td>\n",
              "      <td>7.072560</td>\n",
              "      <td>00:03</td>\n",
              "    </tr>\n",
              "    <tr>\n",
              "      <td>12</td>\n",
              "      <td>6.639047</td>\n",
              "      <td>5.361997</td>\n",
              "      <td>5.848890</td>\n",
              "      <td>6.733429</td>\n",
              "      <td>00:03</td>\n",
              "    </tr>\n",
              "    <tr>\n",
              "      <td>13</td>\n",
              "      <td>6.191050</td>\n",
              "      <td>5.047206</td>\n",
              "      <td>5.533809</td>\n",
              "      <td>6.434188</td>\n",
              "      <td>00:03</td>\n",
              "    </tr>\n",
              "    <tr>\n",
              "      <td>14</td>\n",
              "      <td>5.787273</td>\n",
              "      <td>4.764793</td>\n",
              "      <td>5.249467</td>\n",
              "      <td>6.162157</td>\n",
              "      <td>00:02</td>\n",
              "    </tr>\n",
              "    <tr>\n",
              "      <td>15</td>\n",
              "      <td>5.424081</td>\n",
              "      <td>4.512304</td>\n",
              "      <td>4.991686</td>\n",
              "      <td>5.914629</td>\n",
              "      <td>00:02</td>\n",
              "    </tr>\n",
              "    <tr>\n",
              "      <td>16</td>\n",
              "      <td>5.099702</td>\n",
              "      <td>4.287258</td>\n",
              "      <td>4.761326</td>\n",
              "      <td>5.689229</td>\n",
              "      <td>00:02</td>\n",
              "    </tr>\n",
              "    <tr>\n",
              "      <td>17</td>\n",
              "      <td>4.808081</td>\n",
              "      <td>4.083263</td>\n",
              "      <td>4.555396</td>\n",
              "      <td>5.480870</td>\n",
              "      <td>00:02</td>\n",
              "    </tr>\n",
              "    <tr>\n",
              "      <td>18</td>\n",
              "      <td>4.549475</td>\n",
              "      <td>3.901411</td>\n",
              "      <td>4.375527</td>\n",
              "      <td>5.290776</td>\n",
              "      <td>00:02</td>\n",
              "    </tr>\n",
              "    <tr>\n",
              "      <td>19</td>\n",
              "      <td>4.320235</td>\n",
              "      <td>3.741824</td>\n",
              "      <td>4.218134</td>\n",
              "      <td>5.119293</td>\n",
              "      <td>00:02</td>\n",
              "    </tr>\n",
              "    <tr>\n",
              "      <td>20</td>\n",
              "      <td>4.118153</td>\n",
              "      <td>3.596469</td>\n",
              "      <td>4.073387</td>\n",
              "      <td>4.958026</td>\n",
              "      <td>00:02</td>\n",
              "    </tr>\n",
              "    <tr>\n",
              "      <td>21</td>\n",
              "      <td>3.933393</td>\n",
              "      <td>3.471943</td>\n",
              "      <td>3.949756</td>\n",
              "      <td>4.818434</td>\n",
              "      <td>00:02</td>\n",
              "    </tr>\n",
              "    <tr>\n",
              "      <td>22</td>\n",
              "      <td>3.780349</td>\n",
              "      <td>3.364175</td>\n",
              "      <td>3.840621</td>\n",
              "      <td>4.695851</td>\n",
              "      <td>00:02</td>\n",
              "    </tr>\n",
              "    <tr>\n",
              "      <td>23</td>\n",
              "      <td>3.640086</td>\n",
              "      <td>3.270997</td>\n",
              "      <td>3.744595</td>\n",
              "      <td>4.588927</td>\n",
              "      <td>00:02</td>\n",
              "    </tr>\n",
              "    <tr>\n",
              "      <td>24</td>\n",
              "      <td>3.522792</td>\n",
              "      <td>3.188813</td>\n",
              "      <td>3.660475</td>\n",
              "      <td>4.493448</td>\n",
              "      <td>00:02</td>\n",
              "    </tr>\n",
              "    <tr>\n",
              "      <td>25</td>\n",
              "      <td>3.418023</td>\n",
              "      <td>3.052182</td>\n",
              "      <td>3.521608</td>\n",
              "      <td>4.315931</td>\n",
              "      <td>00:02</td>\n",
              "    </tr>\n",
              "    <tr>\n",
              "      <td>26</td>\n",
              "      <td>3.323915</td>\n",
              "      <td>2.993650</td>\n",
              "      <td>3.461531</td>\n",
              "      <td>4.246553</td>\n",
              "      <td>00:02</td>\n",
              "    </tr>\n",
              "    <tr>\n",
              "      <td>27</td>\n",
              "      <td>3.248614</td>\n",
              "      <td>2.945667</td>\n",
              "      <td>3.412202</td>\n",
              "      <td>4.189049</td>\n",
              "      <td>00:02</td>\n",
              "    </tr>\n",
              "    <tr>\n",
              "      <td>28</td>\n",
              "      <td>3.183413</td>\n",
              "      <td>2.902680</td>\n",
              "      <td>3.369037</td>\n",
              "      <td>4.137135</td>\n",
              "      <td>00:02</td>\n",
              "    </tr>\n",
              "    <tr>\n",
              "      <td>29</td>\n",
              "      <td>3.128375</td>\n",
              "      <td>2.865499</td>\n",
              "      <td>3.332153</td>\n",
              "      <td>4.091932</td>\n",
              "      <td>00:02</td>\n",
              "    </tr>\n",
              "    <tr>\n",
              "      <td>30</td>\n",
              "      <td>3.079817</td>\n",
              "      <td>2.834644</td>\n",
              "      <td>3.301508</td>\n",
              "      <td>4.054288</td>\n",
              "      <td>00:02</td>\n",
              "    </tr>\n",
              "    <tr>\n",
              "      <td>31</td>\n",
              "      <td>3.034779</td>\n",
              "      <td>2.807648</td>\n",
              "      <td>3.273995</td>\n",
              "      <td>4.021667</td>\n",
              "      <td>00:02</td>\n",
              "    </tr>\n",
              "    <tr>\n",
              "      <td>32</td>\n",
              "      <td>2.992507</td>\n",
              "      <td>2.779529</td>\n",
              "      <td>3.244783</td>\n",
              "      <td>3.988577</td>\n",
              "      <td>00:03</td>\n",
              "    </tr>\n",
              "    <tr>\n",
              "      <td>33</td>\n",
              "      <td>2.951100</td>\n",
              "      <td>2.815105</td>\n",
              "      <td>3.280814</td>\n",
              "      <td>4.060297</td>\n",
              "      <td>00:03</td>\n",
              "    </tr>\n",
              "    <tr>\n",
              "      <td>34</td>\n",
              "      <td>2.908205</td>\n",
              "      <td>2.728544</td>\n",
              "      <td>3.196013</td>\n",
              "      <td>3.934299</td>\n",
              "      <td>00:03</td>\n",
              "    </tr>\n",
              "    <tr>\n",
              "      <td>35</td>\n",
              "      <td>2.855286</td>\n",
              "      <td>2.710510</td>\n",
              "      <td>3.180246</td>\n",
              "      <td>3.915818</td>\n",
              "      <td>00:02</td>\n",
              "    </tr>\n",
              "    <tr>\n",
              "      <td>36</td>\n",
              "      <td>2.802915</td>\n",
              "      <td>2.684998</td>\n",
              "      <td>3.154456</td>\n",
              "      <td>3.888854</td>\n",
              "      <td>00:02</td>\n",
              "    </tr>\n",
              "    <tr>\n",
              "      <td>37</td>\n",
              "      <td>2.751076</td>\n",
              "      <td>2.635965</td>\n",
              "      <td>3.103160</td>\n",
              "      <td>3.835205</td>\n",
              "      <td>00:02</td>\n",
              "    </tr>\n",
              "    <tr>\n",
              "      <td>38</td>\n",
              "      <td>2.700389</td>\n",
              "      <td>2.595666</td>\n",
              "      <td>3.061220</td>\n",
              "      <td>3.792825</td>\n",
              "      <td>00:02</td>\n",
              "    </tr>\n",
              "    <tr>\n",
              "      <td>39</td>\n",
              "      <td>2.655034</td>\n",
              "      <td>2.560085</td>\n",
              "      <td>3.024738</td>\n",
              "      <td>3.755614</td>\n",
              "      <td>00:02</td>\n",
              "    </tr>\n",
              "    <tr>\n",
              "      <td>40</td>\n",
              "      <td>2.613623</td>\n",
              "      <td>2.530600</td>\n",
              "      <td>2.995367</td>\n",
              "      <td>3.725254</td>\n",
              "      <td>00:02</td>\n",
              "    </tr>\n",
              "    <tr>\n",
              "      <td>41</td>\n",
              "      <td>2.577713</td>\n",
              "      <td>2.506041</td>\n",
              "      <td>2.970901</td>\n",
              "      <td>3.699518</td>\n",
              "      <td>00:02</td>\n",
              "    </tr>\n",
              "    <tr>\n",
              "      <td>42</td>\n",
              "      <td>2.543883</td>\n",
              "      <td>2.485873</td>\n",
              "      <td>2.950923</td>\n",
              "      <td>3.677782</td>\n",
              "      <td>00:02</td>\n",
              "    </tr>\n",
              "    <tr>\n",
              "      <td>43</td>\n",
              "      <td>2.515489</td>\n",
              "      <td>2.470384</td>\n",
              "      <td>2.935546</td>\n",
              "      <td>3.661255</td>\n",
              "      <td>00:02</td>\n",
              "    </tr>\n",
              "    <tr>\n",
              "      <td>44</td>\n",
              "      <td>2.488773</td>\n",
              "      <td>2.459022</td>\n",
              "      <td>2.924318</td>\n",
              "      <td>3.648868</td>\n",
              "      <td>00:02</td>\n",
              "    </tr>\n",
              "    <tr>\n",
              "      <td>45</td>\n",
              "      <td>2.467081</td>\n",
              "      <td>2.451747</td>\n",
              "      <td>2.917203</td>\n",
              "      <td>3.641582</td>\n",
              "      <td>00:02</td>\n",
              "    </tr>\n",
              "    <tr>\n",
              "      <td>46</td>\n",
              "      <td>2.450669</td>\n",
              "      <td>2.447172</td>\n",
              "      <td>2.912692</td>\n",
              "      <td>3.636914</td>\n",
              "      <td>00:02</td>\n",
              "    </tr>\n",
              "    <tr>\n",
              "      <td>47</td>\n",
              "      <td>2.436248</td>\n",
              "      <td>2.444841</td>\n",
              "      <td>2.910405</td>\n",
              "      <td>3.634610</td>\n",
              "      <td>00:02</td>\n",
              "    </tr>\n",
              "    <tr>\n",
              "      <td>48</td>\n",
              "      <td>2.423910</td>\n",
              "      <td>2.443916</td>\n",
              "      <td>2.909485</td>\n",
              "      <td>3.633637</td>\n",
              "      <td>00:01</td>\n",
              "    </tr>\n",
              "    <tr>\n",
              "      <td>49</td>\n",
              "      <td>2.413309</td>\n",
              "      <td>2.443774</td>\n",
              "      <td>2.909343</td>\n",
              "      <td>3.633488</td>\n",
              "      <td>00:02</td>\n",
              "    </tr>\n",
              "  </tbody>\n",
              "</table>"
            ],
            "text/plain": [
              "<IPython.core.display.HTML object>"
            ]
          },
          "metadata": {}
        }
      ]
    },
    {
      "cell_type": "code",
      "metadata": {
        "id": "Jnx-HcxcoWHA"
      },
      "source": [
        ""
      ],
      "execution_count": null,
      "outputs": []
    }
  ]
}