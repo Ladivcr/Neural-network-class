{
 "cells": [
  {
   "cell_type": "markdown",
   "metadata": {},
   "source": [
    "# Librerias"
   ]
  },
  {
   "cell_type": "code",
   "execution_count": 1,
   "metadata": {},
   "outputs": [],
   "source": [
    "import fastai.tabular.all as ft\n",
    "import pandas as pd \n",
    "import torch\n",
    "import torch.nn as nn\n",
    "import torch.nn.functional as F\n",
    "import numpy as np\n",
    "import seaborn as sns\n",
    "import matplotlib.pyplot as plt"
   ]
  },
  {
   "cell_type": "markdown",
   "metadata": {},
   "source": [
    "# Indice \n",
    "\n",
    "- [Procesamiento de datos](#procesing)\n",
    "- [Modelo](#model)\n",
    "- [Predicción](#predict)"
   ]
  },
  {
   "cell_type": "code",
   "execution_count": 74,
   "metadata": {},
   "outputs": [
    {
     "name": "stdout",
     "output_type": "stream",
     "text": [
      "COVID_predict.ipynb\t\t    diabetes.csv    models\r\n",
      "Practica_BeforePredict_Covid.ipynb  faces\t    mydata\r\n",
      "archive\t\t\t\t    images\t    rossmann-store-sales.zip\r\n",
      "data\t\t\t\t    latestdata.csv\r\n"
     ]
    }
   ],
   "source": [
    "!ls"
   ]
  },
  {
   "cell_type": "code",
   "execution_count": 2,
   "metadata": {
    "scrolled": true
   },
   "outputs": [
    {
     "name": "stderr",
     "output_type": "stream",
     "text": [
      "/opt/conda/envs/fastai/lib/python3.8/site-packages/IPython/core/interactiveshell.py:3146: DtypeWarning: Columns (1,2,12,13,15,16,17,19,20,21,22,24,25,26,27,31,32) have mixed types.Specify dtype option on import or set low_memory=False.\n",
      "  has_raised = await self.run_ast_nodes(code_ast.body, cell_name,\n"
     ]
    }
   ],
   "source": [
    "data_covid =pd.read_csv('latestdata.csv', low_memory=True, parse_dates=['date_death_or_discharge','date_onset_symptoms','date_admission_hospital','date_confirmation','travel_history_dates'])\n",
    "#data_covid"
   ]
  },
  {
   "cell_type": "code",
   "execution_count": 4,
   "metadata": {},
   "outputs": [],
   "source": [
    "tmp =  data_covid[data_covid['date_onset_symptoms'].notnull()]"
   ]
  },
  {
   "cell_type": "code",
   "execution_count": 5,
   "metadata": {},
   "outputs": [
    {
     "data": {
      "text/plain": [
       "53         08.02.2020\n",
       "55         01.02.2020\n",
       "335        30.01.2020\n",
       "365        14.02.2020\n",
       "446        11.02.2020\n",
       "              ...    \n",
       "2500872    16.04.2020\n",
       "2500873    17.04.2020\n",
       "2500875    16.04.2020\n",
       "2500876    19.04.2020\n",
       "2500877    18.04.2020\n",
       "Name: date_onset_symptoms, Length: 261599, dtype: object"
      ]
     },
     "execution_count": 5,
     "metadata": {},
     "output_type": "execute_result"
    }
   ],
   "source": [
    "tmp['date_onset_symptoms']"
   ]
  },
  {
   "cell_type": "markdown",
   "metadata": {},
   "source": [
    "Claramente no esta haciendo la conversión por lo que eliminaremos esta columna"
   ]
  },
  {
   "cell_type": "markdown",
   "metadata": {},
   "source": [
    "<a id=\"procesing\"><strong><h1>Procesamiento de datos</h1></strong></a>\n"
   ]
  },
  {
   "cell_type": "code",
   "execution_count": 78,
   "metadata": {},
   "outputs": [
    {
     "data": {
      "text/html": [
       "<div>\n",
       "<style scoped>\n",
       "    .dataframe tbody tr th:only-of-type {\n",
       "        vertical-align: middle;\n",
       "    }\n",
       "\n",
       "    .dataframe tbody tr th {\n",
       "        vertical-align: top;\n",
       "    }\n",
       "\n",
       "    .dataframe thead th {\n",
       "        text-align: right;\n",
       "    }\n",
       "</style>\n",
       "<table border=\"1\" class=\"dataframe\">\n",
       "  <thead>\n",
       "    <tr style=\"text-align: right;\">\n",
       "      <th></th>\n",
       "      <th>0</th>\n",
       "      <th>1</th>\n",
       "      <th>2</th>\n",
       "      <th>3</th>\n",
       "      <th>4</th>\n",
       "    </tr>\n",
       "  </thead>\n",
       "  <tbody>\n",
       "    <tr>\n",
       "      <th>ID</th>\n",
       "      <td>000-1-1</td>\n",
       "      <td>000-1-10</td>\n",
       "      <td>000-1-100</td>\n",
       "      <td>000-1-1000</td>\n",
       "      <td>000-1-10000</td>\n",
       "    </tr>\n",
       "    <tr>\n",
       "      <th>age</th>\n",
       "      <td>NaN</td>\n",
       "      <td>78</td>\n",
       "      <td>61</td>\n",
       "      <td>NaN</td>\n",
       "      <td>NaN</td>\n",
       "    </tr>\n",
       "    <tr>\n",
       "      <th>sex</th>\n",
       "      <td>male</td>\n",
       "      <td>male</td>\n",
       "      <td>female</td>\n",
       "      <td>NaN</td>\n",
       "      <td>NaN</td>\n",
       "    </tr>\n",
       "    <tr>\n",
       "      <th>city</th>\n",
       "      <td>Shek Lei</td>\n",
       "      <td>Vo Euganeo</td>\n",
       "      <td>NaN</td>\n",
       "      <td>Zhengzhou City</td>\n",
       "      <td>Pingxiang City</td>\n",
       "    </tr>\n",
       "    <tr>\n",
       "      <th>province</th>\n",
       "      <td>Hong Kong</td>\n",
       "      <td>Veneto</td>\n",
       "      <td>NaN</td>\n",
       "      <td>Henan</td>\n",
       "      <td>Jiangxi</td>\n",
       "    </tr>\n",
       "    <tr>\n",
       "      <th>country</th>\n",
       "      <td>China</td>\n",
       "      <td>Italy</td>\n",
       "      <td>Singapore</td>\n",
       "      <td>China</td>\n",
       "      <td>China</td>\n",
       "    </tr>\n",
       "    <tr>\n",
       "      <th>latitude</th>\n",
       "      <td>22.365</td>\n",
       "      <td>45.2977</td>\n",
       "      <td>1.35346</td>\n",
       "      <td>34.6293</td>\n",
       "      <td>27.5136</td>\n",
       "    </tr>\n",
       "    <tr>\n",
       "      <th>longitude</th>\n",
       "      <td>114.134</td>\n",
       "      <td>11.6584</td>\n",
       "      <td>103.815</td>\n",
       "      <td>113.468</td>\n",
       "      <td>113.903</td>\n",
       "    </tr>\n",
       "    <tr>\n",
       "      <th>geo_resolution</th>\n",
       "      <td>point</td>\n",
       "      <td>point</td>\n",
       "      <td>admin0</td>\n",
       "      <td>admin2</td>\n",
       "      <td>admin2</td>\n",
       "    </tr>\n",
       "    <tr>\n",
       "      <th>date_onset_symptoms</th>\n",
       "      <td>NaN</td>\n",
       "      <td>NaN</td>\n",
       "      <td>NaN</td>\n",
       "      <td>NaN</td>\n",
       "      <td>NaN</td>\n",
       "    </tr>\n",
       "    <tr>\n",
       "      <th>date_admission_hospital</th>\n",
       "      <td>NaN</td>\n",
       "      <td>NaN</td>\n",
       "      <td>NaN</td>\n",
       "      <td>NaN</td>\n",
       "      <td>NaN</td>\n",
       "    </tr>\n",
       "    <tr>\n",
       "      <th>date_confirmation</th>\n",
       "      <td>14.02.2020</td>\n",
       "      <td>21.02.2020</td>\n",
       "      <td>14.02.2020</td>\n",
       "      <td>26.01.2020</td>\n",
       "      <td>14.02.2020</td>\n",
       "    </tr>\n",
       "    <tr>\n",
       "      <th>symptoms</th>\n",
       "      <td>NaN</td>\n",
       "      <td>NaN</td>\n",
       "      <td>NaN</td>\n",
       "      <td>NaN</td>\n",
       "      <td>NaN</td>\n",
       "    </tr>\n",
       "    <tr>\n",
       "      <th>lives_in_Wuhan</th>\n",
       "      <td>NaN</td>\n",
       "      <td>NaN</td>\n",
       "      <td>NaN</td>\n",
       "      <td>NaN</td>\n",
       "      <td>NaN</td>\n",
       "    </tr>\n",
       "    <tr>\n",
       "      <th>travel_history_dates</th>\n",
       "      <td>22.01.2020</td>\n",
       "      <td>NaN</td>\n",
       "      <td>NaN</td>\n",
       "      <td>NaN</td>\n",
       "      <td>NaN</td>\n",
       "    </tr>\n",
       "    <tr>\n",
       "      <th>travel_history_location</th>\n",
       "      <td>China</td>\n",
       "      <td>NaN</td>\n",
       "      <td>NaN</td>\n",
       "      <td>NaN</td>\n",
       "      <td>NaN</td>\n",
       "    </tr>\n",
       "    <tr>\n",
       "      <th>reported_market_exposure</th>\n",
       "      <td>NaN</td>\n",
       "      <td>NaN</td>\n",
       "      <td>NaN</td>\n",
       "      <td>NaN</td>\n",
       "      <td>NaN</td>\n",
       "    </tr>\n",
       "    <tr>\n",
       "      <th>additional_information</th>\n",
       "      <td>Case 55; mainland China travel via the Lok Ma Chau border crossing</td>\n",
       "      <td>Hospitalized on 12.02.2020 for other reasons</td>\n",
       "      <td>Case 65; family member of Case 50, a DBS employee, as is Case 55</td>\n",
       "      <td>NaN</td>\n",
       "      <td>NaN</td>\n",
       "    </tr>\n",
       "    <tr>\n",
       "      <th>chronic_disease_binary</th>\n",
       "      <td>False</td>\n",
       "      <td>False</td>\n",
       "      <td>False</td>\n",
       "      <td>False</td>\n",
       "      <td>False</td>\n",
       "    </tr>\n",
       "    <tr>\n",
       "      <th>chronic_disease</th>\n",
       "      <td>NaN</td>\n",
       "      <td>NaN</td>\n",
       "      <td>NaN</td>\n",
       "      <td>NaN</td>\n",
       "      <td>NaN</td>\n",
       "    </tr>\n",
       "    <tr>\n",
       "      <th>source</th>\n",
       "      <td>https://www.scmp.com/news/hong-kong/health-environment/article/3050681/coronavirus-hong-kong-confirms-three-news-cases</td>\n",
       "      <td>https://www.corriere.it/cronache/20_febbraio_21/coronavirus-italia-cosa-sappiamo-casi-codogno-lombardia-27fa736c-548b-11ea-9196-da7d305401b7.shtml</td>\n",
       "      <td>https://www.channelnewsasia.com/news/singapore/coronavirus-covid-19-singapore-cases-grace-assembly-of-god--12434646\\nhttps://bnonews.com/wp-content/uploads/2020/02/2172020Cases.pdf</td>\n",
       "      <td>https://news.163.com/special/epidemic/?spssid=7283291fcdba1d8c2d13ee3da2cfb760&amp;spsw=7&amp;spss=other</td>\n",
       "      <td>http://hc.jiangxi.gov.cn/doc/2020/02/15/138898.shtml</td>\n",
       "    </tr>\n",
       "    <tr>\n",
       "      <th>sequence_available</th>\n",
       "      <td>NaN</td>\n",
       "      <td>NaN</td>\n",
       "      <td>NaN</td>\n",
       "      <td>NaN</td>\n",
       "      <td>NaN</td>\n",
       "    </tr>\n",
       "    <tr>\n",
       "      <th>outcome</th>\n",
       "      <td>critical condition, intubated as of 14.02.2020</td>\n",
       "      <td>death</td>\n",
       "      <td>discharge</td>\n",
       "      <td>NaN</td>\n",
       "      <td>NaN</td>\n",
       "    </tr>\n",
       "    <tr>\n",
       "      <th>date_death_or_discharge</th>\n",
       "      <td>NaT</td>\n",
       "      <td>2020-02-22 00:00:00</td>\n",
       "      <td>2020-02-17 00:00:00</td>\n",
       "      <td>NaT</td>\n",
       "      <td>NaT</td>\n",
       "    </tr>\n",
       "    <tr>\n",
       "      <th>notes_for_discussion</th>\n",
       "      <td>NaN</td>\n",
       "      <td>NaN</td>\n",
       "      <td>NaN</td>\n",
       "      <td>NaN</td>\n",
       "      <td>NaN</td>\n",
       "    </tr>\n",
       "    <tr>\n",
       "      <th>location</th>\n",
       "      <td>Shek Lei</td>\n",
       "      <td>Vo' Euganeo</td>\n",
       "      <td>NaN</td>\n",
       "      <td>NaN</td>\n",
       "      <td>NaN</td>\n",
       "    </tr>\n",
       "    <tr>\n",
       "      <th>admin3</th>\n",
       "      <td>NaN</td>\n",
       "      <td>NaN</td>\n",
       "      <td>NaN</td>\n",
       "      <td>NaN</td>\n",
       "      <td>NaN</td>\n",
       "    </tr>\n",
       "    <tr>\n",
       "      <th>admin2</th>\n",
       "      <td>NaN</td>\n",
       "      <td>NaN</td>\n",
       "      <td>NaN</td>\n",
       "      <td>Zhengzhou City</td>\n",
       "      <td>Pingxiang City</td>\n",
       "    </tr>\n",
       "    <tr>\n",
       "      <th>admin1</th>\n",
       "      <td>Hong Kong</td>\n",
       "      <td>Veneto</td>\n",
       "      <td>NaN</td>\n",
       "      <td>Henan</td>\n",
       "      <td>Jiangxi</td>\n",
       "    </tr>\n",
       "    <tr>\n",
       "      <th>country_new</th>\n",
       "      <td>China</td>\n",
       "      <td>Italy</td>\n",
       "      <td>Singapore</td>\n",
       "      <td>China</td>\n",
       "      <td>China</td>\n",
       "    </tr>\n",
       "    <tr>\n",
       "      <th>admin_id</th>\n",
       "      <td>8029</td>\n",
       "      <td>8954</td>\n",
       "      <td>200</td>\n",
       "      <td>10091</td>\n",
       "      <td>7060</td>\n",
       "    </tr>\n",
       "    <tr>\n",
       "      <th>data_moderator_initials</th>\n",
       "      <td>NaN</td>\n",
       "      <td>NaN</td>\n",
       "      <td>NaN</td>\n",
       "      <td>NaN</td>\n",
       "      <td>NaN</td>\n",
       "    </tr>\n",
       "    <tr>\n",
       "      <th>travel_history_binary</th>\n",
       "      <td>NaN</td>\n",
       "      <td>NaN</td>\n",
       "      <td>NaN</td>\n",
       "      <td>NaN</td>\n",
       "      <td>NaN</td>\n",
       "    </tr>\n",
       "  </tbody>\n",
       "</table>\n",
       "</div>"
      ],
      "text/plain": [
       "                                                                                                                                               0  \\\n",
       "ID                                                                                                                                       000-1-1   \n",
       "age                                                                                                                                          NaN   \n",
       "sex                                                                                                                                         male   \n",
       "city                                                                                                                                    Shek Lei   \n",
       "province                                                                                                                               Hong Kong   \n",
       "country                                                                                                                                    China   \n",
       "latitude                                                                                                                                  22.365   \n",
       "longitude                                                                                                                                114.134   \n",
       "geo_resolution                                                                                                                             point   \n",
       "date_onset_symptoms                                                                                                                          NaN   \n",
       "date_admission_hospital                                                                                                                      NaN   \n",
       "date_confirmation                                                                                                                     14.02.2020   \n",
       "symptoms                                                                                                                                     NaN   \n",
       "lives_in_Wuhan                                                                                                                               NaN   \n",
       "travel_history_dates                                                                                                                  22.01.2020   \n",
       "travel_history_location                                                                                                                    China   \n",
       "reported_market_exposure                                                                                                                     NaN   \n",
       "additional_information                                                        Case 55; mainland China travel via the Lok Ma Chau border crossing   \n",
       "chronic_disease_binary                                                                                                                     False   \n",
       "chronic_disease                                                                                                                              NaN   \n",
       "source                    https://www.scmp.com/news/hong-kong/health-environment/article/3050681/coronavirus-hong-kong-confirms-three-news-cases   \n",
       "sequence_available                                                                                                                           NaN   \n",
       "outcome                                                                                           critical condition, intubated as of 14.02.2020   \n",
       "date_death_or_discharge                                                                                                                      NaT   \n",
       "notes_for_discussion                                                                                                                         NaN   \n",
       "location                                                                                                                                Shek Lei   \n",
       "admin3                                                                                                                                       NaN   \n",
       "admin2                                                                                                                                       NaN   \n",
       "admin1                                                                                                                                 Hong Kong   \n",
       "country_new                                                                                                                                China   \n",
       "admin_id                                                                                                                                    8029   \n",
       "data_moderator_initials                                                                                                                      NaN   \n",
       "travel_history_binary                                                                                                                        NaN   \n",
       "\n",
       "                                                                                                                                                                           1  \\\n",
       "ID                                                                                                                                                                  000-1-10   \n",
       "age                                                                                                                                                                       78   \n",
       "sex                                                                                                                                                                     male   \n",
       "city                                                                                                                                                              Vo Euganeo   \n",
       "province                                                                                                                                                              Veneto   \n",
       "country                                                                                                                                                                Italy   \n",
       "latitude                                                                                                                                                             45.2977   \n",
       "longitude                                                                                                                                                            11.6584   \n",
       "geo_resolution                                                                                                                                                         point   \n",
       "date_onset_symptoms                                                                                                                                                      NaN   \n",
       "date_admission_hospital                                                                                                                                                  NaN   \n",
       "date_confirmation                                                                                                                                                 21.02.2020   \n",
       "symptoms                                                                                                                                                                 NaN   \n",
       "lives_in_Wuhan                                                                                                                                                           NaN   \n",
       "travel_history_dates                                                                                                                                                     NaN   \n",
       "travel_history_location                                                                                                                                                  NaN   \n",
       "reported_market_exposure                                                                                                                                                 NaN   \n",
       "additional_information                                                                                                          Hospitalized on 12.02.2020 for other reasons   \n",
       "chronic_disease_binary                                                                                                                                                 False   \n",
       "chronic_disease                                                                                                                                                          NaN   \n",
       "source                    https://www.corriere.it/cronache/20_febbraio_21/coronavirus-italia-cosa-sappiamo-casi-codogno-lombardia-27fa736c-548b-11ea-9196-da7d305401b7.shtml   \n",
       "sequence_available                                                                                                                                                       NaN   \n",
       "outcome                                                                                                                                                                death   \n",
       "date_death_or_discharge                                                                                                                                  2020-02-22 00:00:00   \n",
       "notes_for_discussion                                                                                                                                                     NaN   \n",
       "location                                                                                                                                                         Vo' Euganeo   \n",
       "admin3                                                                                                                                                                   NaN   \n",
       "admin2                                                                                                                                                                   NaN   \n",
       "admin1                                                                                                                                                                Veneto   \n",
       "country_new                                                                                                                                                            Italy   \n",
       "admin_id                                                                                                                                                                8954   \n",
       "data_moderator_initials                                                                                                                                                  NaN   \n",
       "travel_history_binary                                                                                                                                                    NaN   \n",
       "\n",
       "                                                                                                                                                                                                             2  \\\n",
       "ID                                                                                                                                                                                                   000-1-100   \n",
       "age                                                                                                                                                                                                         61   \n",
       "sex                                                                                                                                                                                                     female   \n",
       "city                                                                                                                                                                                                       NaN   \n",
       "province                                                                                                                                                                                                   NaN   \n",
       "country                                                                                                                                                                                              Singapore   \n",
       "latitude                                                                                                                                                                                               1.35346   \n",
       "longitude                                                                                                                                                                                              103.815   \n",
       "geo_resolution                                                                                                                                                                                          admin0   \n",
       "date_onset_symptoms                                                                                                                                                                                        NaN   \n",
       "date_admission_hospital                                                                                                                                                                                    NaN   \n",
       "date_confirmation                                                                                                                                                                                   14.02.2020   \n",
       "symptoms                                                                                                                                                                                                   NaN   \n",
       "lives_in_Wuhan                                                                                                                                                                                             NaN   \n",
       "travel_history_dates                                                                                                                                                                                       NaN   \n",
       "travel_history_location                                                                                                                                                                                    NaN   \n",
       "reported_market_exposure                                                                                                                                                                                   NaN   \n",
       "additional_information                                                                                                                        Case 65; family member of Case 50, a DBS employee, as is Case 55   \n",
       "chronic_disease_binary                                                                                                                                                                                   False   \n",
       "chronic_disease                                                                                                                                                                                            NaN   \n",
       "source                    https://www.channelnewsasia.com/news/singapore/coronavirus-covid-19-singapore-cases-grace-assembly-of-god--12434646\\nhttps://bnonews.com/wp-content/uploads/2020/02/2172020Cases.pdf   \n",
       "sequence_available                                                                                                                                                                                         NaN   \n",
       "outcome                                                                                                                                                                                              discharge   \n",
       "date_death_or_discharge                                                                                                                                                                    2020-02-17 00:00:00   \n",
       "notes_for_discussion                                                                                                                                                                                       NaN   \n",
       "location                                                                                                                                                                                                   NaN   \n",
       "admin3                                                                                                                                                                                                     NaN   \n",
       "admin2                                                                                                                                                                                                     NaN   \n",
       "admin1                                                                                                                                                                                                     NaN   \n",
       "country_new                                                                                                                                                                                          Singapore   \n",
       "admin_id                                                                                                                                                                                                   200   \n",
       "data_moderator_initials                                                                                                                                                                                    NaN   \n",
       "travel_history_binary                                                                                                                                                                                      NaN   \n",
       "\n",
       "                                                                                                                         3  \\\n",
       "ID                                                                                                              000-1-1000   \n",
       "age                                                                                                                    NaN   \n",
       "sex                                                                                                                    NaN   \n",
       "city                                                                                                        Zhengzhou City   \n",
       "province                                                                                                             Henan   \n",
       "country                                                                                                              China   \n",
       "latitude                                                                                                           34.6293   \n",
       "longitude                                                                                                          113.468   \n",
       "geo_resolution                                                                                                      admin2   \n",
       "date_onset_symptoms                                                                                                    NaN   \n",
       "date_admission_hospital                                                                                                NaN   \n",
       "date_confirmation                                                                                               26.01.2020   \n",
       "symptoms                                                                                                               NaN   \n",
       "lives_in_Wuhan                                                                                                         NaN   \n",
       "travel_history_dates                                                                                                   NaN   \n",
       "travel_history_location                                                                                                NaN   \n",
       "reported_market_exposure                                                                                               NaN   \n",
       "additional_information                                                                                                 NaN   \n",
       "chronic_disease_binary                                                                                               False   \n",
       "chronic_disease                                                                                                        NaN   \n",
       "source                    https://news.163.com/special/epidemic/?spssid=7283291fcdba1d8c2d13ee3da2cfb760&spsw=7&spss=other   \n",
       "sequence_available                                                                                                     NaN   \n",
       "outcome                                                                                                                NaN   \n",
       "date_death_or_discharge                                                                                                NaT   \n",
       "notes_for_discussion                                                                                                   NaN   \n",
       "location                                                                                                               NaN   \n",
       "admin3                                                                                                                 NaN   \n",
       "admin2                                                                                                      Zhengzhou City   \n",
       "admin1                                                                                                               Henan   \n",
       "country_new                                                                                                          China   \n",
       "admin_id                                                                                                             10091   \n",
       "data_moderator_initials                                                                                                NaN   \n",
       "travel_history_binary                                                                                                  NaN   \n",
       "\n",
       "                                                                             4  \n",
       "ID                                                                 000-1-10000  \n",
       "age                                                                        NaN  \n",
       "sex                                                                        NaN  \n",
       "city                                                            Pingxiang City  \n",
       "province                                                               Jiangxi  \n",
       "country                                                                  China  \n",
       "latitude                                                               27.5136  \n",
       "longitude                                                              113.903  \n",
       "geo_resolution                                                          admin2  \n",
       "date_onset_symptoms                                                        NaN  \n",
       "date_admission_hospital                                                    NaN  \n",
       "date_confirmation                                                   14.02.2020  \n",
       "symptoms                                                                   NaN  \n",
       "lives_in_Wuhan                                                             NaN  \n",
       "travel_history_dates                                                       NaN  \n",
       "travel_history_location                                                    NaN  \n",
       "reported_market_exposure                                                   NaN  \n",
       "additional_information                                                     NaN  \n",
       "chronic_disease_binary                                                   False  \n",
       "chronic_disease                                                            NaN  \n",
       "source                    http://hc.jiangxi.gov.cn/doc/2020/02/15/138898.shtml  \n",
       "sequence_available                                                         NaN  \n",
       "outcome                                                                    NaN  \n",
       "date_death_or_discharge                                                    NaT  \n",
       "notes_for_discussion                                                       NaN  \n",
       "location                                                                   NaN  \n",
       "admin3                                                                     NaN  \n",
       "admin2                                                          Pingxiang City  \n",
       "admin1                                                                 Jiangxi  \n",
       "country_new                                                              China  \n",
       "admin_id                                                                  7060  \n",
       "data_moderator_initials                                                    NaN  \n",
       "travel_history_binary                                                      NaN  "
      ]
     },
     "execution_count": 78,
     "metadata": {},
     "output_type": "execute_result"
    }
   ],
   "source": [
    "data_covid.head().T"
   ]
  },
  {
   "cell_type": "markdown",
   "metadata": {},
   "source": [
    "A partir del despliegue de los datos anterior, podemos hacer una primer preselección de columnas de trabajo para descartar algunas que serán intrascendentes. \n",
    "Podemos descartar:\n",
    "- **_source_**: El origen de los datos es irrelevante para el modelo\n",
    "- **_ID_**: El ID asociado al paciente no parce relevante\n",
    "- **_admin_id_**: El id asociado al admin es irrelevante para el modelo\n",
    "- **_additional_information_**: Si se tratara de analisis de lenguaje, esto nos serviria pero para este caso. Es irrelevante.\n",
    "- **_notes_for_discussion_**: Únicamente contamos con 640 registros, a juzgar por el almacenado de \"additional_information\" pienso que también se ocupa de procesamiento de lenguaje para tratar con esta columna, por lo tanto la eliminamos. "
   ]
  },
  {
   "cell_type": "code",
   "execution_count": 79,
   "metadata": {
    "scrolled": true
   },
   "outputs": [
    {
     "data": {
      "text/plain": [
       "ID                                0\n",
       "age                         2098293\n",
       "sex                         2096154\n",
       "city                         977681\n",
       "province                     452664\n",
       "country                         115\n",
       "latitude                         61\n",
       "longitude                        61\n",
       "geo_resolution                   61\n",
       "date_onset_symptoms         2414712\n",
       "date_admission_hospital     2560100\n",
       "date_confirmation            108489\n",
       "symptoms                    2674259\n",
       "lives_in_Wuhan              2671973\n",
       "travel_history_dates        2673700\n",
       "travel_history_location     2667089\n",
       "reported_market_exposure    2675242\n",
       "additional_information      2630456\n",
       "chronic_disease_binary            0\n",
       "chronic_disease             2676096\n",
       "source                       566964\n",
       "sequence_available          2676299\n",
       "outcome                     2368929\n",
       "date_death_or_discharge     2673163\n",
       "notes_for_discussion        2675671\n",
       "location                    2662935\n",
       "admin3                      2595877\n",
       "admin2                      1850257\n",
       "admin1                      1418753\n",
       "country_new                   30553\n",
       "admin_id                         61\n",
       "data_moderator_initials      933328\n",
       "travel_history_binary         65579\n",
       "dtype: int64"
      ]
     },
     "execution_count": 79,
     "metadata": {},
     "output_type": "execute_result"
    }
   ],
   "source": [
    "#Revisar el total de registros faltantes \n",
    "data_covid.isna().sum()      "
   ]
  },
  {
   "cell_type": "code",
   "execution_count": 3,
   "metadata": {},
   "outputs": [
    {
     "name": "stdout",
     "output_type": "stream",
     "text": [
      "<class 'pandas.core.frame.DataFrame'>\n",
      "RangeIndex: 2676311 entries, 0 to 2676310\n",
      "Data columns (total 33 columns):\n",
      " #   Column                    Dtype         \n",
      "---  ------                    -----         \n",
      " 0   ID                        object        \n",
      " 1   age                       object        \n",
      " 2   sex                       object        \n",
      " 3   city                      object        \n",
      " 4   province                  object        \n",
      " 5   country                   object        \n",
      " 6   latitude                  float64       \n",
      " 7   longitude                 float64       \n",
      " 8   geo_resolution            object        \n",
      " 9   date_onset_symptoms       object        \n",
      " 10  date_admission_hospital   object        \n",
      " 11  date_confirmation         object        \n",
      " 12  symptoms                  object        \n",
      " 13  lives_in_Wuhan            object        \n",
      " 14  travel_history_dates      object        \n",
      " 15  travel_history_location   object        \n",
      " 16  reported_market_exposure  object        \n",
      " 17  additional_information    object        \n",
      " 18  chronic_disease_binary    bool          \n",
      " 19  chronic_disease           object        \n",
      " 20  source                    object        \n",
      " 21  sequence_available        object        \n",
      " 22  outcome                   object        \n",
      " 23  date_death_or_discharge   datetime64[ns]\n",
      " 24  notes_for_discussion      object        \n",
      " 25  location                  object        \n",
      " 26  admin3                    object        \n",
      " 27  admin2                    object        \n",
      " 28  admin1                    object        \n",
      " 29  country_new               object        \n",
      " 30  admin_id                  float64       \n",
      " 31  data_moderator_initials   object        \n",
      " 32  travel_history_binary     object        \n",
      "dtypes: bool(1), datetime64[ns](1), float64(3), object(28)\n",
      "memory usage: 655.9+ MB\n"
     ]
    }
   ],
   "source": [
    "data_covid.info()"
   ]
  },
  {
   "cell_type": "code",
   "execution_count": 83,
   "metadata": {},
   "outputs": [
    {
     "data": {
      "text/plain": [
       "<AxesSubplot:>"
      ]
     },
     "execution_count": 83,
     "metadata": {},
     "output_type": "execute_result"
    },
    {
     "data": {
      "image/png": "[encoded data removed]",
      "text/plain": [
       "<Figure size 432x288 with 1 Axes>"
      ]
     },
     "metadata": {
      "needs_background": "light"
     },
     "output_type": "display_data"
    }
   ],
   "source": [
    "# ESTADO DE LOS DATOS\n",
    "sns.heatmap(data_covid.isnull(), cbar=False)"
   ]
  },
  {
   "cell_type": "markdown",
   "metadata": {},
   "source": [
    "Tenemos demasiados datos faltantes así como un tipo de dato con el que el modelo no puede trabajar\n",
    "\n",
    "Antes de cambiar el tipo de dato, onehotencodear si es necesario y cualquier otro preprocesamiento, haremos uso de una matriz de correlación para ver que variables son importantes. "
   ]
  },
  {
   "cell_type": "code",
   "execution_count": 84,
   "metadata": {},
   "outputs": [
    {
     "data": {
      "image/png": "[encoded data removed]",
      "text/plain": [
       "<Figure size 432x288 with 2 Axes>"
      ]
     },
     "metadata": {
      "needs_background": "light"
     },
     "output_type": "display_data"
    },
    {
     "data": {
      "text/plain": [
       "<Figure size 2160x1872 with 0 Axes>"
      ]
     },
     "metadata": {},
     "output_type": "display_data"
    }
   ],
   "source": [
    "#correlation_mat = heart_failure.corr().unstack()\n",
    "R=data_covid.corr()\n",
    "#print(correlation_mat)\n",
    "sns.heatmap(R, annot = True)\n",
    "plt.figure(figsize=(30,26))\n",
    "plt.show()"
   ]
  },
  {
   "cell_type": "markdown",
   "metadata": {},
   "source": [
    "¿Qué paso? Recordemos que tenemos varias variables que no son numericas por lo que primero debemos hacer una conversión. "
   ]
  },
  {
   "cell_type": "markdown",
   "metadata": {},
   "source": [
    "Ahora vamos a revisar columna a columna para determinar el tipo de dato y si se trata de una variable continua o categoríca"
   ]
  },
  {
   "cell_type": "code",
   "execution_count": 3,
   "metadata": {},
   "outputs": [],
   "source": [
    "# Primero, seleccionamos todos los registros que tienen outcome, para trabajar\n",
    "data_covid = data_covid[data_covid['outcome'].notnull()]"
   ]
  },
  {
   "cell_type": "code",
   "execution_count": 4,
   "metadata": {},
   "outputs": [
    {
     "data": {
      "text/plain": [
       "array([nan, '78', '61', '28', '56', '79', '26', '25', '40', '43', '29',\n",
       "       '71', '68', '1', '35', '36', '32', '30', '41', '58', '38', '88',\n",
       "       '22', '55', '12', '54', '57', '24', '44', '95', '39', '46', '27',\n",
       "       '66', '51', '50-59', '80-89', '42', '7', '33', '4', '60', '20',\n",
       "       '94', '38-68', '63', '0.5', '53', '52', '9', '31', '60-69',\n",
       "       '20-29', '40-49', '70-79', '47', '50', '37', '76', '62', '70',\n",
       "       '65', '21', '64', '23', '45', '87', '2', '67', '22-80', '19-77',\n",
       "       '21-72', '82', '90-99', '73', '92', '49', '48', '8', '16', '0.25',\n",
       "       '77', '34', '72', '85', '69', '81', '15-88', '89', '75', '80',\n",
       "       '86', '84', '74', '59', '18', '15', '17', '19', '14', '20-57',\n",
       "       '0.75', '13', '10', '11', '91', '90', '0', '83', '6', '3', '99',\n",
       "       '96', '28-35', 39.0, 44.0, 54.0, 45.0, 30.0, 33.0, 50.0, 20.0,\n",
       "       53.0, 46.0, 31.0, 35.0, 80.0, 72.0, 24.0, 37.0, 27.0, 65.0, 28.0,\n",
       "       40.0, 34.0, 36.0, 41.0, 38.0, 57.0, 32.0, 52.0, 47.0, 21.0, 55.0,\n",
       "       51.0, 43.0, 26.0, 60.0, 63.0, 56.0, 66.0, 48.0, 71.0, 68.0, 22.0,\n",
       "       42.0, 58.0, 25.0, 18.0, 11.0, 15.0, 17.0, 61.0, 78.0, 49.0, 16.0,\n",
       "       10.0, 73.0, 23.0, 59.0, 70.0, 7.0, 1.0, 14.0, 75.0, 69.0, 67.0,\n",
       "       79.0, 62.0, 19.0, 29.0, 81.0, 77.0, 90.0, 76.0, 12.0, 13.0, 64.0,\n",
       "       4.0, 9.0, 74.0, 8.0, 5.0, 3.0, 6.0, '1.5', '0.4', '0.3', '5', '98',\n",
       "       '2.5', '0.2', '0.7', '29.6', '0.1', '3.5', '93', '0.9', '54.9',\n",
       "       '97', '0.6', '101', '80-'], dtype=object)"
      ]
     },
     "execution_count": 4,
     "metadata": {},
     "output_type": "execute_result"
    }
   ],
   "source": [
    "data_covid.age.unique()\n",
    "# age = continua"
   ]
  },
  {
   "cell_type": "code",
   "execution_count": 5,
   "metadata": {},
   "outputs": [],
   "source": [
    "# Remplazamos todos los valores \"extraños\" por algo con lo que podamos trabajar\n",
    "data_covid.age.replace({\"0.1\": '0', \"0.2\": '0', \"0.25\": '0', \"0.3\": '0', \"0.4\": '0', \"0.5\": '1',\n",
    "                   \"0.6\": '1', \"0.7\": '1', \"0.75\": '1', \"0.9\": '1', \"1.5\": '2', \"15-88\": '52',\n",
    "                   \"19-77\": '48', \"2.5\": '3', \"20-29\": '15', \"20-57\": '39', \"21-72\": '47',\n",
    "                   \"22-80\": '51', \"28-35\": '32', \"29.6\": '30', \"3.5\": '4', \"38-68\": '53',\n",
    "                    \"40-49\": '45', \"50-59\": '55', \"54.9\": '55', \"60-69\": '65', \"70-79\": '75', \n",
    "                   \"80-\": '80', \"80-89\": '85', \"90-99\": '95'}, inplace=True)"
   ]
  },
  {
   "cell_type": "code",
   "execution_count": 6,
   "metadata": {},
   "outputs": [],
   "source": [
    "data_covid.age = data_covid.age.astype(float)"
   ]
  },
  {
   "cell_type": "code",
   "execution_count": 7,
   "metadata": {},
   "outputs": [
    {
     "name": "stdout",
     "output_type": "stream",
     "text": [
      "<class 'pandas.core.frame.DataFrame'>\n",
      "Int64Index: 307382 entries, 0 to 673607\n",
      "Data columns (total 33 columns):\n",
      " #   Column                    Non-Null Count   Dtype         \n",
      "---  ------                    --------------   -----         \n",
      " 0   ID                        307382 non-null  object        \n",
      " 1   age                       34435 non-null   float64       \n",
      " 2   sex                       38115 non-null   object        \n",
      " 3   city                      263094 non-null  object        \n",
      " 4   province                  306481 non-null  object        \n",
      " 5   country                   307380 non-null  object        \n",
      " 6   latitude                  307382 non-null  float64       \n",
      " 7   longitude                 307382 non-null  float64       \n",
      " 8   geo_resolution            307382 non-null  object        \n",
      " 9   date_onset_symptoms       3543 non-null    object        \n",
      " 10  date_admission_hospital   301 non-null     object        \n",
      " 11  date_confirmation         307308 non-null  object        \n",
      " 12  symptoms                  476 non-null     object        \n",
      " 13  lives_in_Wuhan            174 non-null     object        \n",
      " 14  travel_history_dates      315 non-null     object        \n",
      " 15  travel_history_location   968 non-null     object        \n",
      " 16  reported_market_exposure  16 non-null      object        \n",
      " 17  additional_information    18597 non-null   object        \n",
      " 18  chronic_disease_binary    307382 non-null  bool          \n",
      " 19  chronic_disease           125 non-null     object        \n",
      " 20  source                    279695 non-null  object        \n",
      " 21  sequence_available        4 non-null       object        \n",
      " 22  outcome                   307382 non-null  object        \n",
      " 23  date_death_or_discharge   1194 non-null    datetime64[ns]\n",
      " 24  notes_for_discussion      151 non-null     object        \n",
      " 25  location                  6570 non-null    object        \n",
      " 26  admin3                    23 non-null      object        \n",
      " 27  admin2                    509 non-null     object        \n",
      " 28  admin1                    37823 non-null   object        \n",
      " 29  country_new               303856 non-null  object        \n",
      " 30  admin_id                  307382 non-null  float64       \n",
      " 31  data_moderator_initials   301137 non-null  object        \n",
      " 32  travel_history_binary     307057 non-null  object        \n",
      "dtypes: bool(1), datetime64[ns](1), float64(4), object(27)\n",
      "memory usage: 77.7+ MB\n"
     ]
    }
   ],
   "source": [
    "data_covid.info()"
   ]
  },
  {
   "cell_type": "code",
   "execution_count": 15,
   "metadata": {},
   "outputs": [],
   "source": [
    "#my_age = list(data_covid.loc[:, 'age'])\n",
    "#my_ages =  list(map(float, my_age))\n",
    "#data_covid.loc[:, 'age'] = my_ages"
   ]
  },
  {
   "cell_type": "code",
   "execution_count": 8,
   "metadata": {},
   "outputs": [
    {
     "data": {
      "text/plain": [
       "array(['male', 'female', nan], dtype=object)"
      ]
     },
     "execution_count": 8,
     "metadata": {},
     "output_type": "execute_result"
    }
   ],
   "source": [
    "data_covid.sex.unique()\n",
    "#sexo # categorica"
   ]
  },
  {
   "cell_type": "code",
   "execution_count": 9,
   "metadata": {},
   "outputs": [
    {
     "data": {
      "text/plain": [
       "array(['Shek Lei', 'Vo Euganeo', nan, ..., 'Habana Vieja', 'Eddy County',\n",
       "       'Chittenden County'], dtype=object)"
      ]
     },
     "execution_count": 9,
     "metadata": {},
     "output_type": "execute_result"
    }
   ],
   "source": [
    "data_covid.city.unique()\n",
    "#ciudad #categorica"
   ]
  },
  {
   "cell_type": "code",
   "execution_count": 11,
   "metadata": {},
   "outputs": [],
   "source": [
    "data_covid.province.unique()\n",
    "#provincia # categorica"
   ]
  },
  {
   "cell_type": "code",
   "execution_count": 20,
   "metadata": {},
   "outputs": [],
   "source": [
    "data_covid.country.unique()\n",
    "#pais # categorica"
   ]
  },
  {
   "cell_type": "code",
   "execution_count": 93,
   "metadata": {},
   "outputs": [],
   "source": [
    "data_covid.latitude.unique()\n",
    "#latitud # continua"
   ]
  },
  {
   "cell_type": "code",
   "execution_count": 94,
   "metadata": {},
   "outputs": [],
   "source": [
    "data_covid.longitude.unique()\n",
    "#longitud #continua"
   ]
  },
  {
   "cell_type": "code",
   "execution_count": 48,
   "metadata": {},
   "outputs": [],
   "source": [
    "data_covid['geo_resolution'].unique\n",
    "#geo #la quitamos dados los datos que almacena"
   ]
  },
  {
   "cell_type": "code",
   "execution_count": 14,
   "metadata": {},
   "outputs": [],
   "source": [
    "data_covid.symptoms.unique()\n",
    "#sintomas #categorica # la quitamos dada la manera de almacenamiento que usa\n",
    "# parece algo más para procesamiento de lenguaje .-. "
   ]
  },
  {
   "cell_type": "code",
   "execution_count": 15,
   "metadata": {},
   "outputs": [
    {
     "data": {
      "text/plain": [
       "array([nan, 'no', 'yes'], dtype=object)"
      ]
     },
     "execution_count": 15,
     "metadata": {},
     "output_type": "execute_result"
    }
   ],
   "source": [
    "data_covid['lives_in_Wuhan'].unique()\n",
    "#wuhan # categorica"
   ]
  },
  {
   "cell_type": "code",
   "execution_count": 50,
   "metadata": {},
   "outputs": [],
   "source": [
    "data_covid['lives_in_Wuhan'] = data_covid['lives_in_Wuhan'].astype(bool)"
   ]
  },
  {
   "cell_type": "code",
   "execution_count": 18,
   "metadata": {},
   "outputs": [],
   "source": [
    "data_covid['travel_history_location'].unique()\n",
    "#travel # categorica # la quitamos dado el tipo de almacenamiento"
   ]
  },
  {
   "cell_type": "code",
   "execution_count": 23,
   "metadata": {},
   "outputs": [
    {
     "data": {
      "text/plain": [
       "array([nan, 'no', 'na', 'yes, retailer in the seafood wholesale market'],\n",
       "      dtype=object)"
      ]
     },
     "execution_count": 23,
     "metadata": {},
     "output_type": "execute_result"
    }
   ],
   "source": [
    "data_covid['reported_market_exposure'].unique()\n",
    "#report # categorica\n",
    "#Tal vez podemos arreglarla"
   ]
  },
  {
   "cell_type": "code",
   "execution_count": 25,
   "metadata": {},
   "outputs": [],
   "source": [
    "# Remplazamos todos los valores \"extraños\" por algo con lo que podamos trabajar\n",
    "data_covid['reported_market_exposure'].replace({'na': np.nan, \n",
    "                                               'yes, retailer in the seafood wholesale market': 'yes'}, inplace=True)"
   ]
  },
  {
   "cell_type": "code",
   "execution_count": 26,
   "metadata": {},
   "outputs": [
    {
     "data": {
      "text/plain": [
       "array([nan, 'no', 'yes'], dtype=object)"
      ]
     },
     "execution_count": 26,
     "metadata": {},
     "output_type": "execute_result"
    }
   ],
   "source": [
    "data_covid['reported_market_exposure'].unique()"
   ]
  },
  {
   "cell_type": "code",
   "execution_count": 27,
   "metadata": {},
   "outputs": [],
   "source": [
    "data_covid['reported_market_exposure'] = data_covid['reported_market_exposure'].astype(bool)"
   ]
  },
  {
   "cell_type": "code",
   "execution_count": 28,
   "metadata": {},
   "outputs": [
    {
     "name": "stdout",
     "output_type": "stream",
     "text": [
      "<class 'pandas.core.frame.DataFrame'>\n",
      "Int64Index: 307382 entries, 0 to 673607\n",
      "Data columns (total 33 columns):\n",
      " #   Column                    Non-Null Count   Dtype         \n",
      "---  ------                    --------------   -----         \n",
      " 0   ID                        307382 non-null  object        \n",
      " 1   age                       34435 non-null   float64       \n",
      " 2   sex                       38115 non-null   object        \n",
      " 3   city                      263094 non-null  object        \n",
      " 4   province                  306481 non-null  object        \n",
      " 5   country                   307380 non-null  object        \n",
      " 6   latitude                  307382 non-null  float64       \n",
      " 7   longitude                 307382 non-null  float64       \n",
      " 8   geo_resolution            307382 non-null  object        \n",
      " 9   date_onset_symptoms       3543 non-null    object        \n",
      " 10  date_admission_hospital   301 non-null     object        \n",
      " 11  date_confirmation         307308 non-null  object        \n",
      " 12  symptoms                  476 non-null     object        \n",
      " 13  lives_in_Wuhan            174 non-null     object        \n",
      " 14  travel_history_dates      315 non-null     object        \n",
      " 15  travel_history_location   968 non-null     object        \n",
      " 16  reported_market_exposure  307382 non-null  bool          \n",
      " 17  additional_information    18597 non-null   object        \n",
      " 18  chronic_disease_binary    307382 non-null  bool          \n",
      " 19  chronic_disease           125 non-null     object        \n",
      " 20  source                    279695 non-null  object        \n",
      " 21  sequence_available        4 non-null       object        \n",
      " 22  outcome                   307382 non-null  object        \n",
      " 23  date_death_or_discharge   1194 non-null    datetime64[ns]\n",
      " 24  notes_for_discussion      151 non-null     object        \n",
      " 25  location                  6570 non-null    object        \n",
      " 26  admin3                    23 non-null      object        \n",
      " 27  admin2                    509 non-null     object        \n",
      " 28  admin1                    37823 non-null   object        \n",
      " 29  country_new               303856 non-null  object        \n",
      " 30  admin_id                  307382 non-null  float64       \n",
      " 31  data_moderator_initials   301137 non-null  object        \n",
      " 32  travel_history_binary     307057 non-null  object        \n",
      "dtypes: bool(2), datetime64[ns](1), float64(4), object(26)\n",
      "memory usage: 75.6+ MB\n"
     ]
    }
   ],
   "source": [
    "data_covid.info()"
   ]
  },
  {
   "cell_type": "code",
   "execution_count": 29,
   "metadata": {},
   "outputs": [
    {
     "data": {
      "text/plain": [
       "array([False,  True])"
      ]
     },
     "execution_count": 29,
     "metadata": {},
     "output_type": "execute_result"
    }
   ],
   "source": [
    "data_covid['chronic_disease_binary'].unique()\n",
    "#categorica "
   ]
  },
  {
   "cell_type": "code",
   "execution_count": 31,
   "metadata": {},
   "outputs": [],
   "source": [
    "data_covid['chronic_disease'].unique()\n",
    "#cronica # categorica # no necesaria dado la manera de almacenar"
   ]
  },
  {
   "cell_type": "code",
   "execution_count": 102,
   "metadata": {},
   "outputs": [],
   "source": [
    "data_covid['sequence_available'].unique()\n",
    "#secuencia\n",
    "# Eliminamos esta columna dado su manera extraña de almacenamiento de datos"
   ]
  },
  {
   "cell_type": "code",
   "execution_count": 32,
   "metadata": {},
   "outputs": [
    {
     "data": {
      "text/plain": [
       "array(['critical condition, intubated as of 14.02.2020', 'death',\n",
       "       'discharge', 'discharged', 'Discharged',\n",
       "       'Discharged from hospital', 'not hospitalized', 'recovered',\n",
       "       'recovering at home 03.03.2020', 'released from quarantine',\n",
       "       'severe', 'stable', 'died', 'Death', 'dead',\n",
       "       'Symptoms only improved with cough. Currently hospitalized for follow-up.',\n",
       "       'treated in an intensive care unit (14.02.2020)', 'Alive', 'Dead',\n",
       "       'Recovered', 'Stable', 'Died', 'Deceased', 'stable condition',\n",
       "       'Under treatment', 'Critical condition', 'Receiving Treatment',\n",
       "       'severe illness', 'unstable', 'critical condition', 'Hospitalized',\n",
       "       'Migrated', 'Migrated_Other',\n",
       "       'https://www.mspbs.gov.py/covid-19.php'], dtype=object)"
      ]
     },
     "execution_count": 32,
     "metadata": {},
     "output_type": "execute_result"
    }
   ],
   "source": [
    "data_covid['outcome'].unique()\n",
    "#y\n",
    "# podemos arreglarla para reducir las categorias a predecir"
   ]
  },
  {
   "cell_type": "code",
   "execution_count": 33,
   "metadata": {},
   "outputs": [],
   "source": [
    "data_covid.outcome.replace({'critical condition, intubated as of 14.02.2020': 'critical',\n",
    " 'death': 'dead',\n",
    " 'discharged': 'discharge',\n",
    " 'Discharged': 'discharge', \n",
    "'Discharged from hospital': 'discharge',\n",
    "'not hospitalized': 'discharge',\n",
    "'recovering at home 03.03.2020': 'recovered',\n",
    "'released from quarantine': 'recovered',\n",
    "'severe': 'critical',\n",
    "'stable': 'recovered',\n",
    "'died': 'dead',\n",
    "'Death': 'dead',\n",
    "'Symptoms only improved with cough. Currently hospitalized for follow-up.': 'hospitalized',\n",
    "'treated in an intensive care unit (14.02.2020)': 'critical',\n",
    "'Alive': 'recovered',\n",
    "'Dead': 'dead',\n",
    "'Recovered': 'recovered',\n",
    "'Stable': 'recovered',\n",
    "'Died': 'dead',\n",
    "'Deceased': 'dead',\n",
    "'stable condition': 'recovered',\n",
    "'Under treatment': 'discharge',\n",
    "'Critical condition': 'critical',\n",
    "'Receiving Treatment': 'discharge',\n",
    "'severe illness': 'critical',\n",
    "'unstable': 'critical',\n",
    "'critical condition': 'critical',\n",
    "'Hospitalized': 'hospitalized',\n",
    "'Migrated': 'hospitalized',\n",
    "'Migrated_Other': 'hospitalized',\n",
    "'https://www.mspbs.gov.py/covid-19.php': np.nan }, inplace=True)"
   ]
  },
  {
   "cell_type": "code",
   "execution_count": 36,
   "metadata": {},
   "outputs": [
    {
     "data": {
      "text/plain": [
       "array(['critical', 'dead', 'discharge', 'recovered', 'hospitalized', nan],\n",
       "      dtype=object)"
      ]
     },
     "execution_count": 36,
     "metadata": {},
     "output_type": "execute_result"
    }
   ],
   "source": [
    "data_covid['outcome'].unique()"
   ]
  },
  {
   "cell_type": "code",
   "execution_count": 38,
   "metadata": {},
   "outputs": [],
   "source": [
    "data_covid['date_death_or_discharge'].unique()\n",
    "#continua\n",
    "# Las fechas me han causado problemas, por lo tanto las eliminamos"
   ]
  },
  {
   "cell_type": "code",
   "execution_count": 40,
   "metadata": {},
   "outputs": [],
   "source": [
    "data_covid.location.unique() \n",
    "#categorica # Mucho texto, por lo tanto la eliminamos"
   ]
  },
  {
   "cell_type": "code",
   "execution_count": 42,
   "metadata": {},
   "outputs": [],
   "source": [
    "data_covid.admin3.unique()\n",
    "#categorica #no necesaria dada la falta de datos"
   ]
  },
  {
   "cell_type": "code",
   "execution_count": 108,
   "metadata": {},
   "outputs": [],
   "source": [
    "data_covid.admin2.unique()\n",
    "#admin2 #categorica #no necesaria dada la falta de datos"
   ]
  },
  {
   "cell_type": "code",
   "execution_count": 44,
   "metadata": {},
   "outputs": [],
   "source": [
    "data_covid.admin1.unique()\n",
    "#admin1 #categorica #entre admin1, 2 y 3 admin1 es la que cuenta con más datos, por lo tanto \n",
    "# la dejamos para el modelo, aunque tal vez la quitemos"
   ]
  },
  {
   "cell_type": "code",
   "execution_count": 45,
   "metadata": {},
   "outputs": [
    {
     "data": {
      "text/plain": [
       "array(['China', 'Italy', 'Singapore', 'South Korea', 'Switzerland',\n",
       "       'San Marino', 'Australia', 'Japan', 'Nepal', 'Malaysia',\n",
       "       'Thailand', 'Canada', 'Germany', 'Philippines', 'France',\n",
       "       'United States', nan, 'Egypt', 'Brazil', 'Vietnam',\n",
       "       'United Arab Emirates', 'Spain', 'Iran', 'Zimbabwe', 'Angola',\n",
       "       'Burkina Faso', 'Cabo Verde', 'Cameroon',\n",
       "       'Central African Republic', 'Djibouti', 'Eritrea', 'Eswatini',\n",
       "       'Ethiopia', 'Gabon', 'Guinea-Bissau', 'Guinea', 'Mozambique',\n",
       "       'Sudan', 'Tanzania', 'Togo', 'Zambia', 'Ghana', 'Gambia', 'Kenya',\n",
       "       'Nigeria', 'India', 'Romania', 'Bahamas', 'Paraguay', 'Cuba'],\n",
       "      dtype=object)"
      ]
     },
     "execution_count": 45,
     "metadata": {},
     "output_type": "execute_result"
    }
   ],
   "source": [
    "data_covid['country_new'].unique()\n",
    "#pais #categorica"
   ]
  },
  {
   "cell_type": "code",
   "execution_count": 46,
   "metadata": {},
   "outputs": [
    {
     "data": {
      "text/plain": [
       "array([nan, 'SL', 'TR', 'NRF, DSC'], dtype=object)"
      ]
     },
     "execution_count": 46,
     "metadata": {},
     "output_type": "execute_result"
    }
   ],
   "source": [
    "data_covid['data_moderator_initials'].unique()\n",
    "#moderador #categorica \n",
    "#Búsque en el github alguna explicación de las iniciales pero no tuve suerte\n",
    "#por lo tanto la quitamos"
   ]
  },
  {
   "cell_type": "code",
   "execution_count": 47,
   "metadata": {},
   "outputs": [
    {
     "data": {
      "text/plain": [
       "array([nan, False, True], dtype=object)"
      ]
     },
     "execution_count": 47,
     "metadata": {},
     "output_type": "execute_result"
    }
   ],
   "source": [
    "data_covid['travel_history_binary'].unique()\n",
    "#viajeh #categorica"
   ]
  },
  {
   "cell_type": "code",
   "execution_count": 51,
   "metadata": {},
   "outputs": [],
   "source": [
    "data_covid['travel_history_binary'] = data_covid['travel_history_binary'].astype(bool)"
   ]
  },
  {
   "cell_type": "markdown",
   "metadata": {},
   "source": [
    "Quitamos del dataset todas las columnas marcadas como inncesesarias"
   ]
  },
  {
   "cell_type": "code",
   "execution_count": 55,
   "metadata": {},
   "outputs": [],
   "source": [
    "data_covid = data_covid.loc[:, ['age', 'sex', 'city', 'province',\n",
    "                               'country', 'latitude', 'longitude',\n",
    "                               'reported_market_exposure', 'chronic_disease_binary', 'outcome',\n",
    "                               'admin1', 'country_new', 'travel_history_binary']]\n",
    "# Me marcaba que no soportaba 'lives_in_Wuhan' por lo tanto la quite"
   ]
  },
  {
   "cell_type": "markdown",
   "metadata": {},
   "source": [
    "A partir de lo anterior podemos hacer una clasificación de nuestras variables"
   ]
  },
  {
   "cell_type": "code",
   "execution_count": 57,
   "metadata": {},
   "outputs": [],
   "source": [
    "# Variables categoricas, nombres\n",
    "cat_names = ['age', 'sex', 'city',\n",
    "             'province', 'country',\n",
    "            'chronic_disease_binary',\n",
    "            'admin1', 'country_new', \n",
    "            'travel_history_binary']\n",
    "# Variables continuas, nombres\n",
    "cont_names = ['age', 'latitude', 'longitude'] \n",
    "# Variable a predecir\n",
    "y_names = ['outcome']"
   ]
  },
  {
   "cell_type": "code",
   "execution_count": 58,
   "metadata": {},
   "outputs": [],
   "source": [
    "# Recordemos que anteriormente hicimos unas modificaciones en outcome, una de ellas fue cambiar \n",
    "# los registros que tenian enlaces por na por lo tanto volvemos a seleccionar únicamente los que si\n",
    "# cuentan con registro\n",
    "data_covid = data_covid[data_covid['outcome'].notnull()]"
   ]
  },
  {
   "cell_type": "markdown",
   "metadata": {},
   "source": [
    "Volvemos a ver el estado de los datos con los que vamos a trabajar"
   ]
  },
  {
   "cell_type": "code",
   "execution_count": 77,
   "metadata": {},
   "outputs": [
    {
     "data": {
      "text/plain": [
       "<AxesSubplot:>"
      ]
     },
     "execution_count": 77,
     "metadata": {},
     "output_type": "execute_result"
    },
    {
     "data": {
      "image/png": "[encoded data removed]",
      "text/plain": [
       "<Figure size 432x288 with 1 Axes>"
      ]
     },
     "metadata": {
      "needs_background": "light"
     },
     "output_type": "display_data"
    }
   ],
   "source": [
    "# Estado de los datos\n",
    "sns.heatmap(data_covid.isnull(), cbar=False)"
   ]
  },
  {
   "cell_type": "markdown",
   "metadata": {},
   "source": [
    "Aunque siguen faltando datos, no hay mucho que ver con el primer mapa de calor"
   ]
  },
  {
   "cell_type": "markdown",
   "metadata": {},
   "source": [
    "<a id=\"model\"><strong><h1>Modelo</h1></strong></a>\n"
   ]
  },
  {
   "cell_type": "code",
   "execution_count": 59,
   "metadata": {},
   "outputs": [
    {
     "data": {
      "text/plain": [
       "307256"
      ]
     },
     "execution_count": 59,
     "metadata": {},
     "output_type": "execute_result"
    }
   ],
   "source": [
    "len(data_covid)"
   ]
  },
  {
   "cell_type": "code",
   "execution_count": 60,
   "metadata": {},
   "outputs": [],
   "source": [
    "X = list(range(len(data_covid)))"
   ]
  },
  {
   "cell_type": "code",
   "execution_count": 61,
   "metadata": {},
   "outputs": [],
   "source": [
    "valid_cut = len(data_covid) - 40000"
   ]
  },
  {
   "cell_type": "code",
   "execution_count": 62,
   "metadata": {},
   "outputs": [],
   "source": [
    "# df corresponde al dataframe\n",
    "# procs es como las transformaciones\n",
    "# cat_names son los nombres de mis variables categoricas\n",
    "# cont_names son los nombres de mis variables continuas\n",
    "# y_names es lo que voy a predecir\n",
    "# splits como dividir en entrenamiento y validación\n",
    "# FillMissing rellena mis datos faltantes \n",
    "src = ft.TabularPandas(data_covid,\n",
    "                      procs = [ft.Categorify, ft.FillMissing],\n",
    "                      cat_names = cat_names,\n",
    "                      cont_names = cont_names,\n",
    "                      y_names = y_names, \n",
    "                       y_block = ft.CategoryBlock,\n",
    "                      splits = (X[:valid_cut], X[valid_cut:])\n",
    "                      )"
   ]
  },
  {
   "cell_type": "code",
   "execution_count": 63,
   "metadata": {},
   "outputs": [],
   "source": [
    "dls = src.dataloaders(bs=1024)"
   ]
  },
  {
   "cell_type": "code",
   "execution_count": 64,
   "metadata": {},
   "outputs": [],
   "source": [
    "batch = dls.one_batch()"
   ]
  },
  {
   "cell_type": "code",
   "execution_count": 65,
   "metadata": {},
   "outputs": [],
   "source": [
    "# Variables categoricas, continuas y dependientes\n",
    "cat, cont, y = batch"
   ]
  },
  {
   "cell_type": "code",
   "execution_count": 66,
   "metadata": {},
   "outputs": [
    {
     "data": {
      "text/plain": [
       "torch.Size([1024, 10])"
      ]
     },
     "execution_count": 66,
     "metadata": {},
     "output_type": "execute_result"
    }
   ],
   "source": [
    "cat.shape"
   ]
  },
  {
   "cell_type": "code",
   "execution_count": 67,
   "metadata": {},
   "outputs": [
    {
     "data": {
      "text/plain": [
       "torch.Size([1024, 3])"
      ]
     },
     "execution_count": 67,
     "metadata": {},
     "output_type": "execute_result"
    }
   ],
   "source": [
    "cont.shape"
   ]
  },
  {
   "cell_type": "code",
   "execution_count": 68,
   "metadata": {},
   "outputs": [
    {
     "data": {
      "text/plain": [
       "torch.Size([1024, 1])"
      ]
     },
     "execution_count": 68,
     "metadata": {},
     "output_type": "execute_result"
    }
   ],
   "source": [
    "y.shape"
   ]
  },
  {
   "cell_type": "code",
   "execution_count": 69,
   "metadata": {},
   "outputs": [],
   "source": [
    "learn = ft.tabular_learner(dls, opt_func=ft.ranger, metrics=ft.accuracy)"
   ]
  },
  {
   "cell_type": "code",
   "execution_count": 70,
   "metadata": {},
   "outputs": [
    {
     "data": {
      "text/plain": [
       "TabularModel(\n",
       "  (embeds): ModuleList(\n",
       "    (0): Embedding(99, 21)\n",
       "    (1): Embedding(3, 3)\n",
       "    (2): Embedding(2351, 124)\n",
       "    (3): Embedding(214, 32)\n",
       "    (4): Embedding(52, 15)\n",
       "    (5): Embedding(3, 3)\n",
       "    (6): Embedding(98, 21)\n",
       "    (7): Embedding(49, 14)\n",
       "    (8): Embedding(3, 3)\n",
       "    (9): Embedding(3, 3)\n",
       "  )\n",
       "  (emb_drop): Dropout(p=0.0, inplace=False)\n",
       "  (bn_cont): BatchNorm1d(3, eps=1e-05, momentum=0.1, affine=True, track_running_stats=True)\n",
       "  (layers): Sequential(\n",
       "    (0): LinBnDrop(\n",
       "      (0): BatchNorm1d(242, eps=1e-05, momentum=0.1, affine=True, track_running_stats=True)\n",
       "      (1): Linear(in_features=242, out_features=200, bias=False)\n",
       "      (2): ReLU(inplace=True)\n",
       "    )\n",
       "    (1): LinBnDrop(\n",
       "      (0): BatchNorm1d(200, eps=1e-05, momentum=0.1, affine=True, track_running_stats=True)\n",
       "      (1): Linear(in_features=200, out_features=100, bias=False)\n",
       "      (2): ReLU(inplace=True)\n",
       "    )\n",
       "    (2): LinBnDrop(\n",
       "      (0): Linear(in_features=100, out_features=5, bias=True)\n",
       "    )\n",
       "  )\n",
       ")"
      ]
     },
     "execution_count": 70,
     "metadata": {},
     "output_type": "execute_result"
    }
   ],
   "source": [
    "learn.model"
   ]
  },
  {
   "cell_type": "code",
   "execution_count": 71,
   "metadata": {},
   "outputs": [
    {
     "data": {
      "text/html": [],
      "text/plain": [
       "<IPython.core.display.HTML object>"
      ]
     },
     "metadata": {},
     "output_type": "display_data"
    },
    {
     "data": {
      "text/plain": [
       "SuggestedLRs(lr_min=0.33113112449646, lr_steep=0.013182567432522774)"
      ]
     },
     "execution_count": 71,
     "metadata": {},
     "output_type": "execute_result"
    },
    {
     "data": {
      "image/png": "[encoded data removed]",
      "text/plain": [
       "<Figure size 432x288 with 1 Axes>"
      ]
     },
     "metadata": {
      "needs_background": "light"
     },
     "output_type": "display_data"
    }
   ],
   "source": [
    "learn.lr_find()"
   ]
  },
  {
   "cell_type": "code",
   "execution_count": 72,
   "metadata": {},
   "outputs": [
    {
     "data": {
      "text/html": [
       "<table border=\"1\" class=\"dataframe\">\n",
       "  <thead>\n",
       "    <tr style=\"text-align: left;\">\n",
       "      <th>epoch</th>\n",
       "      <th>train_loss</th>\n",
       "      <th>valid_loss</th>\n",
       "      <th>accuracy</th>\n",
       "      <th>time</th>\n",
       "    </tr>\n",
       "  </thead>\n",
       "  <tbody>\n",
       "    <tr>\n",
       "      <td>0</td>\n",
       "      <td>0.671124</td>\n",
       "      <td>0.402098</td>\n",
       "      <td>0.847425</td>\n",
       "      <td>00:05</td>\n",
       "    </tr>\n",
       "    <tr>\n",
       "      <td>1</td>\n",
       "      <td>0.631033</td>\n",
       "      <td>0.398118</td>\n",
       "      <td>0.844125</td>\n",
       "      <td>00:05</td>\n",
       "    </tr>\n",
       "    <tr>\n",
       "      <td>2</td>\n",
       "      <td>0.629552</td>\n",
       "      <td>0.394407</td>\n",
       "      <td>0.843325</td>\n",
       "      <td>00:05</td>\n",
       "    </tr>\n",
       "    <tr>\n",
       "      <td>3</td>\n",
       "      <td>0.626850</td>\n",
       "      <td>0.392497</td>\n",
       "      <td>0.844675</td>\n",
       "      <td>00:05</td>\n",
       "    </tr>\n",
       "    <tr>\n",
       "      <td>4</td>\n",
       "      <td>0.628147</td>\n",
       "      <td>0.390667</td>\n",
       "      <td>0.846550</td>\n",
       "      <td>00:05</td>\n",
       "    </tr>\n",
       "    <tr>\n",
       "      <td>5</td>\n",
       "      <td>0.626469</td>\n",
       "      <td>0.404031</td>\n",
       "      <td>0.841900</td>\n",
       "      <td>00:05</td>\n",
       "    </tr>\n",
       "    <tr>\n",
       "      <td>6</td>\n",
       "      <td>0.627420</td>\n",
       "      <td>0.404039</td>\n",
       "      <td>0.844125</td>\n",
       "      <td>00:05</td>\n",
       "    </tr>\n",
       "    <tr>\n",
       "      <td>7</td>\n",
       "      <td>0.625381</td>\n",
       "      <td>0.400823</td>\n",
       "      <td>0.847400</td>\n",
       "      <td>00:05</td>\n",
       "    </tr>\n",
       "    <tr>\n",
       "      <td>8</td>\n",
       "      <td>0.624465</td>\n",
       "      <td>0.393278</td>\n",
       "      <td>0.850300</td>\n",
       "      <td>00:04</td>\n",
       "    </tr>\n",
       "    <tr>\n",
       "      <td>9</td>\n",
       "      <td>0.624724</td>\n",
       "      <td>0.398802</td>\n",
       "      <td>0.849500</td>\n",
       "      <td>00:05</td>\n",
       "    </tr>\n",
       "    <tr>\n",
       "      <td>10</td>\n",
       "      <td>0.625629</td>\n",
       "      <td>0.418005</td>\n",
       "      <td>0.840200</td>\n",
       "      <td>00:05</td>\n",
       "    </tr>\n",
       "    <tr>\n",
       "      <td>11</td>\n",
       "      <td>0.623700</td>\n",
       "      <td>0.401539</td>\n",
       "      <td>0.849900</td>\n",
       "      <td>00:05</td>\n",
       "    </tr>\n",
       "    <tr>\n",
       "      <td>12</td>\n",
       "      <td>0.623395</td>\n",
       "      <td>0.421070</td>\n",
       "      <td>0.841175</td>\n",
       "      <td>00:05</td>\n",
       "    </tr>\n",
       "    <tr>\n",
       "      <td>13</td>\n",
       "      <td>0.620634</td>\n",
       "      <td>0.422073</td>\n",
       "      <td>0.845650</td>\n",
       "      <td>00:04</td>\n",
       "    </tr>\n",
       "    <tr>\n",
       "      <td>14</td>\n",
       "      <td>0.620538</td>\n",
       "      <td>0.431812</td>\n",
       "      <td>0.841550</td>\n",
       "      <td>00:05</td>\n",
       "    </tr>\n",
       "    <tr>\n",
       "      <td>15</td>\n",
       "      <td>0.621681</td>\n",
       "      <td>0.426212</td>\n",
       "      <td>0.846200</td>\n",
       "      <td>00:05</td>\n",
       "    </tr>\n",
       "    <tr>\n",
       "      <td>16</td>\n",
       "      <td>0.620730</td>\n",
       "      <td>0.427932</td>\n",
       "      <td>0.845175</td>\n",
       "      <td>00:05</td>\n",
       "    </tr>\n",
       "    <tr>\n",
       "      <td>17</td>\n",
       "      <td>0.619064</td>\n",
       "      <td>0.433427</td>\n",
       "      <td>0.843825</td>\n",
       "      <td>00:05</td>\n",
       "    </tr>\n",
       "    <tr>\n",
       "      <td>18</td>\n",
       "      <td>0.616457</td>\n",
       "      <td>0.434750</td>\n",
       "      <td>0.844650</td>\n",
       "      <td>00:04</td>\n",
       "    </tr>\n",
       "    <tr>\n",
       "      <td>19</td>\n",
       "      <td>0.619222</td>\n",
       "      <td>0.433931</td>\n",
       "      <td>0.844700</td>\n",
       "      <td>00:05</td>\n",
       "    </tr>\n",
       "  </tbody>\n",
       "</table>"
      ],
      "text/plain": [
       "<IPython.core.display.HTML object>"
      ]
     },
     "metadata": {},
     "output_type": "display_data"
    }
   ],
   "source": [
    "learn.fit_one_cycle(20, 1e-3, div=2, pct_start=0.5)"
   ]
  },
  {
   "cell_type": "code",
   "execution_count": 73,
   "metadata": {},
   "outputs": [],
   "source": [
    "learn = ft.tabular_learner(dls,\n",
    "                           emb_szs = {'age':16, 'sex':16, 'city':16, 'province':16, 'country':16, 'latitude':16,\n",
    "       'longitude':16, 'chronic_disease_binary':16,\n",
    "        'admin1':16, 'country_new':16, 'travel_history_binary':16},\n",
    "                           layers = [256, 128, 128], \n",
    "                           config = ft.tabular_config(act_cls=nn.LeakyReLU(inplace=True)),\n",
    "                          opt_func = ft.ranger, \n",
    "                          metrics = ft.accuracy)"
   ]
  },
  {
   "cell_type": "code",
   "execution_count": 75,
   "metadata": {},
   "outputs": [
    {
     "data": {
      "text/plain": [
       "TabularModel(\n",
       "  (embeds): ModuleList(\n",
       "    (0): Embedding(99, 16)\n",
       "    (1): Embedding(3, 16)\n",
       "    (2): Embedding(2351, 16)\n",
       "    (3): Embedding(214, 16)\n",
       "    (4): Embedding(52, 16)\n",
       "    (5): Embedding(3, 16)\n",
       "    (6): Embedding(98, 16)\n",
       "    (7): Embedding(49, 16)\n",
       "    (8): Embedding(3, 16)\n",
       "    (9): Embedding(3, 3)\n",
       "  )\n",
       "  (emb_drop): Dropout(p=0.0, inplace=False)\n",
       "  (bn_cont): BatchNorm1d(3, eps=1e-05, momentum=0.1, affine=True, track_running_stats=True)\n",
       "  (layers): Sequential(\n",
       "    (0): LinBnDrop(\n",
       "      (0): BatchNorm1d(150, eps=1e-05, momentum=0.1, affine=True, track_running_stats=True)\n",
       "      (1): Linear(in_features=150, out_features=256, bias=False)\n",
       "      (2): LeakyReLU(negative_slope=0.01, inplace=True)\n",
       "    )\n",
       "    (1): LinBnDrop(\n",
       "      (0): BatchNorm1d(256, eps=1e-05, momentum=0.1, affine=True, track_running_stats=True)\n",
       "      (1): Linear(in_features=256, out_features=128, bias=False)\n",
       "      (2): LeakyReLU(negative_slope=0.01, inplace=True)\n",
       "    )\n",
       "    (2): LinBnDrop(\n",
       "      (0): BatchNorm1d(128, eps=1e-05, momentum=0.1, affine=True, track_running_stats=True)\n",
       "      (1): Linear(in_features=128, out_features=128, bias=False)\n",
       "      (2): LeakyReLU(negative_slope=0.01, inplace=True)\n",
       "    )\n",
       "    (3): LinBnDrop(\n",
       "      (0): Linear(in_features=128, out_features=5, bias=True)\n",
       "    )\n",
       "  )\n",
       ")"
      ]
     },
     "execution_count": 75,
     "metadata": {},
     "output_type": "execute_result"
    }
   ],
   "source": [
    "learn.model"
   ]
  },
  {
   "cell_type": "code",
   "execution_count": 74,
   "metadata": {},
   "outputs": [
    {
     "data": {
      "text/html": [
       "<table border=\"1\" class=\"dataframe\">\n",
       "  <thead>\n",
       "    <tr style=\"text-align: left;\">\n",
       "      <th>epoch</th>\n",
       "      <th>train_loss</th>\n",
       "      <th>valid_loss</th>\n",
       "      <th>accuracy</th>\n",
       "      <th>time</th>\n",
       "    </tr>\n",
       "  </thead>\n",
       "  <tbody>\n",
       "    <tr>\n",
       "      <td>0</td>\n",
       "      <td>0.667149</td>\n",
       "      <td>0.399756</td>\n",
       "      <td>0.850625</td>\n",
       "      <td>00:05</td>\n",
       "    </tr>\n",
       "    <tr>\n",
       "      <td>1</td>\n",
       "      <td>0.631576</td>\n",
       "      <td>0.379830</td>\n",
       "      <td>0.857475</td>\n",
       "      <td>00:05</td>\n",
       "    </tr>\n",
       "    <tr>\n",
       "      <td>2</td>\n",
       "      <td>0.627017</td>\n",
       "      <td>0.384818</td>\n",
       "      <td>0.850200</td>\n",
       "      <td>00:05</td>\n",
       "    </tr>\n",
       "    <tr>\n",
       "      <td>3</td>\n",
       "      <td>0.626077</td>\n",
       "      <td>0.384280</td>\n",
       "      <td>0.850500</td>\n",
       "      <td>00:05</td>\n",
       "    </tr>\n",
       "    <tr>\n",
       "      <td>4</td>\n",
       "      <td>0.625773</td>\n",
       "      <td>0.413674</td>\n",
       "      <td>0.839025</td>\n",
       "      <td>00:05</td>\n",
       "    </tr>\n",
       "    <tr>\n",
       "      <td>5</td>\n",
       "      <td>0.630175</td>\n",
       "      <td>0.390041</td>\n",
       "      <td>0.843625</td>\n",
       "      <td>00:05</td>\n",
       "    </tr>\n",
       "    <tr>\n",
       "      <td>6</td>\n",
       "      <td>0.625898</td>\n",
       "      <td>0.386654</td>\n",
       "      <td>0.851700</td>\n",
       "      <td>00:05</td>\n",
       "    </tr>\n",
       "    <tr>\n",
       "      <td>7</td>\n",
       "      <td>0.624943</td>\n",
       "      <td>0.401495</td>\n",
       "      <td>0.839625</td>\n",
       "      <td>00:05</td>\n",
       "    </tr>\n",
       "    <tr>\n",
       "      <td>8</td>\n",
       "      <td>0.624482</td>\n",
       "      <td>0.419989</td>\n",
       "      <td>0.839450</td>\n",
       "      <td>00:05</td>\n",
       "    </tr>\n",
       "    <tr>\n",
       "      <td>9</td>\n",
       "      <td>0.625295</td>\n",
       "      <td>0.442385</td>\n",
       "      <td>0.830825</td>\n",
       "      <td>00:05</td>\n",
       "    </tr>\n",
       "    <tr>\n",
       "      <td>10</td>\n",
       "      <td>0.624083</td>\n",
       "      <td>0.447160</td>\n",
       "      <td>0.823325</td>\n",
       "      <td>00:05</td>\n",
       "    </tr>\n",
       "    <tr>\n",
       "      <td>11</td>\n",
       "      <td>0.625253</td>\n",
       "      <td>0.404999</td>\n",
       "      <td>0.848725</td>\n",
       "      <td>00:05</td>\n",
       "    </tr>\n",
       "    <tr>\n",
       "      <td>12</td>\n",
       "      <td>0.623368</td>\n",
       "      <td>0.453683</td>\n",
       "      <td>0.834175</td>\n",
       "      <td>00:05</td>\n",
       "    </tr>\n",
       "    <tr>\n",
       "      <td>13</td>\n",
       "      <td>0.621382</td>\n",
       "      <td>0.403084</td>\n",
       "      <td>0.854800</td>\n",
       "      <td>00:06</td>\n",
       "    </tr>\n",
       "    <tr>\n",
       "      <td>14</td>\n",
       "      <td>0.621863</td>\n",
       "      <td>0.412450</td>\n",
       "      <td>0.851300</td>\n",
       "      <td>00:05</td>\n",
       "    </tr>\n",
       "    <tr>\n",
       "      <td>15</td>\n",
       "      <td>0.621821</td>\n",
       "      <td>0.425063</td>\n",
       "      <td>0.845725</td>\n",
       "      <td>00:05</td>\n",
       "    </tr>\n",
       "    <tr>\n",
       "      <td>16</td>\n",
       "      <td>0.621108</td>\n",
       "      <td>0.425323</td>\n",
       "      <td>0.847825</td>\n",
       "      <td>00:05</td>\n",
       "    </tr>\n",
       "    <tr>\n",
       "      <td>17</td>\n",
       "      <td>0.620259</td>\n",
       "      <td>0.437126</td>\n",
       "      <td>0.845050</td>\n",
       "      <td>00:05</td>\n",
       "    </tr>\n",
       "    <tr>\n",
       "      <td>18</td>\n",
       "      <td>0.619814</td>\n",
       "      <td>0.445928</td>\n",
       "      <td>0.842100</td>\n",
       "      <td>00:05</td>\n",
       "    </tr>\n",
       "    <tr>\n",
       "      <td>19</td>\n",
       "      <td>0.618279</td>\n",
       "      <td>0.449778</td>\n",
       "      <td>0.842400</td>\n",
       "      <td>00:05</td>\n",
       "    </tr>\n",
       "  </tbody>\n",
       "</table>"
      ],
      "text/plain": [
       "<IPython.core.display.HTML object>"
      ]
     },
     "metadata": {},
     "output_type": "display_data"
    }
   ],
   "source": [
    "learn.fit_one_cycle(20, 1e-3, div=2, pct_start=0.5)"
   ]
  },
  {
   "cell_type": "markdown",
   "metadata": {},
   "source": [
    "<a id=\"predict\"><strong><h1>Predicción</h1></strong></a>\n"
   ]
  },
  {
   "cell_type": "code",
   "execution_count": 79,
   "metadata": {},
   "outputs": [
    {
     "data": {
      "text/plain": [
       "307256"
      ]
     },
     "execution_count": 79,
     "metadata": {},
     "output_type": "execute_result"
    }
   ],
   "source": [
    "len(data_covid)"
   ]
  },
  {
   "cell_type": "code",
   "execution_count": 80,
   "metadata": {},
   "outputs": [
    {
     "data": {
      "text/plain": [
       "109974"
      ]
     },
     "execution_count": 80,
     "metadata": {},
     "output_type": "execute_result"
    }
   ],
   "source": [
    "from random import randint\n",
    "query = randint(1, 307256)\n",
    "query"
   ]
  },
  {
   "cell_type": "code",
   "execution_count": 91,
   "metadata": {},
   "outputs": [
    {
     "data": {
      "text/html": [],
      "text/plain": [
       "<IPython.core.display.HTML object>"
      ]
     },
     "metadata": {},
     "output_type": "display_data"
    }
   ],
   "source": [
    "category, tensor, probability = learn.predict(data_covid.iloc[query])"
   ]
  },
  {
   "cell_type": "code",
   "execution_count": 92,
   "metadata": {},
   "outputs": [
    {
     "data": {
      "text/plain": [
       "    age  sex    city  province  country  chronic_disease_binary  admin1  \\\n",
       "0  38.0  0.0  1413.0     123.0     26.0                     1.0     0.0   \n",
       "\n",
       "   country_new  travel_history_binary  age_na   age  latitude  longitude  \\\n",
       "0         24.0                    1.0     2.0  38.0  18.94017  72.834831   \n",
       "\n",
       "   outcome  \n",
       "0      3.0  "
      ]
     },
     "execution_count": 92,
     "metadata": {},
     "output_type": "execute_result"
    }
   ],
   "source": [
    "category"
   ]
  },
  {
   "cell_type": "code",
   "execution_count": 93,
   "metadata": {},
   "outputs": [
    {
     "data": {
      "text/plain": [
       "tensor(3)"
      ]
     },
     "execution_count": 93,
     "metadata": {},
     "output_type": "execute_result"
    }
   ],
   "source": [
    "tensor"
   ]
  },
  {
   "cell_type": "code",
   "execution_count": 94,
   "metadata": {},
   "outputs": [
    {
     "data": {
      "text/plain": [
       "tensor([2.1361e-07, 2.0336e-02, 6.4591e-07, 6.8793e-01, 2.9173e-01])"
      ]
     },
     "execution_count": 94,
     "metadata": {},
     "output_type": "execute_result"
    }
   ],
   "source": [
    "probability"
   ]
  },
  {
   "cell_type": "code",
   "execution_count": 95,
   "metadata": {},
   "outputs": [],
   "source": [
    "# Creamos una arreglo de ceros\n",
    "tmp = np.array( [0 for i in range(len(probability))] )\n",
    "probabilidad = list(probability)\n",
    "# Hacemos uno aquel valor con la mayor probabilidad\n",
    "tmp[probabilidad.index(max(probability))] = 1"
   ]
  },
  {
   "cell_type": "code",
   "execution_count": 96,
   "metadata": {},
   "outputs": [
    {
     "data": {
      "text/plain": [
       "array([0, 0, 0, 1, 0])"
      ]
     },
     "execution_count": 96,
     "metadata": {},
     "output_type": "execute_result"
    }
   ],
   "source": [
    "tmp"
   ]
  },
  {
   "cell_type": "code",
   "execution_count": 98,
   "metadata": {},
   "outputs": [
    {
     "data": {
      "text/plain": [
       "'hospitalized'"
      ]
     },
     "execution_count": 98,
     "metadata": {},
     "output_type": "execute_result"
    }
   ],
   "source": [
    "data_covid.iloc[query]['outcome']"
   ]
  },
  {
   "cell_type": "markdown",
   "metadata": {},
   "source": [
    "Al parecer voy a estar hospitalizado, nice try "
   ]
  }
 ],
 "metadata": {
  "kernelspec": {
   "display_name": "Python 3",
   "language": "python",
   "name": "python3"
  },
  "language_info": {
   "codemirror_mode": {
    "name": "ipython",
    "version": 3
   },
   "file_extension": ".py",
   "mimetype": "text/x-python",
   "name": "python",
   "nbconvert_exporter": "python",
   "pygments_lexer": "ipython3",
   "version": "3.8.6"
  }
 },
 "nbformat": 4,
 "nbformat_minor": 4
}
