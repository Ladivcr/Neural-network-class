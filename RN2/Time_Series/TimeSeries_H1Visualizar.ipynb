{
 "cells": [
  {
   "cell_type": "markdown",
   "metadata": {},
   "source": [
    "# Indice\n",
    "\n",
    "\n",
    "Lo único que tienes que hacer es la visualización y exploración, pero ahora con el de 2015-2018-school attendance.\n",
    "\n",
    "- [Está separado por escuela. Si quieremos ver el promedio \"global\", ¿cómo lo juntamos? (hint: groupby)](#1)\n",
    "- [Crea columnas de porcentajes. Si faltaron 10 de 20 es muy diferente que si faltaron 10 de 10000](#2)\n",
    "- [Visualiza cada variable](#3)\n",
    "- [Visualiza las parejas de variables. Usa scatter para ver relaciones. hex plots?](#4)"
   ]
  },
  {
   "cell_type": "code",
   "execution_count": 1,
   "metadata": {},
   "outputs": [],
   "source": [
    "import numpy as np \n",
    "import pandas as pd\n",
    "from datetime import datetime\n",
    "import matplotlib\n",
    "import matplotlib.pyplot as plt\n",
    "import seaborn as sns"
   ]
  },
  {
   "cell_type": "code",
   "execution_count": 2,
   "metadata": {},
   "outputs": [
    {
     "name": "stdout",
     "output_type": "stream",
     "text": [
      "TimeSeries_1.ipynb\t       archive\tfaces\tmodels\r\n",
      "TimeSeries_H1Visualizar.ipynb  data\timages\tmydata\r\n"
     ]
    }
   ],
   "source": [
    "!ls"
   ]
  },
  {
   "cell_type": "code",
   "execution_count": 3,
   "metadata": {},
   "outputs": [],
   "source": [
    "datawork = pd.read_csv('/notebooks/storage/mydata/2015-2018-historical-daily-attendance-by-school-1.csv')"
   ]
  },
  {
   "cell_type": "code",
   "execution_count": 4,
   "metadata": {},
   "outputs": [
    {
     "data": {
      "text/html": [
       "<div>\n",
       "<style scoped>\n",
       "    .dataframe tbody tr th:only-of-type {\n",
       "        vertical-align: middle;\n",
       "    }\n",
       "\n",
       "    .dataframe tbody tr th {\n",
       "        vertical-align: top;\n",
       "    }\n",
       "\n",
       "    .dataframe thead th {\n",
       "        text-align: right;\n",
       "    }\n",
       "</style>\n",
       "<table border=\"1\" class=\"dataframe\">\n",
       "  <thead>\n",
       "    <tr style=\"text-align: right;\">\n",
       "      <th></th>\n",
       "      <th>School</th>\n",
       "      <th>Date</th>\n",
       "      <th>SchoolYear</th>\n",
       "      <th>Enrolled</th>\n",
       "      <th>Present</th>\n",
       "      <th>Absent</th>\n",
       "      <th>Released</th>\n",
       "    </tr>\n",
       "  </thead>\n",
       "  <tbody>\n",
       "    <tr>\n",
       "      <th>0</th>\n",
       "      <td>01M015</td>\n",
       "      <td>01/04/2016</td>\n",
       "      <td>20152016</td>\n",
       "      <td>168</td>\n",
       "      <td>157</td>\n",
       "      <td>11</td>\n",
       "      <td>0</td>\n",
       "    </tr>\n",
       "    <tr>\n",
       "      <th>1</th>\n",
       "      <td>01M015</td>\n",
       "      <td>01/05/2016</td>\n",
       "      <td>20152016</td>\n",
       "      <td>168</td>\n",
       "      <td>153</td>\n",
       "      <td>15</td>\n",
       "      <td>0</td>\n",
       "    </tr>\n",
       "    <tr>\n",
       "      <th>2</th>\n",
       "      <td>01M015</td>\n",
       "      <td>01/06/2016</td>\n",
       "      <td>20152016</td>\n",
       "      <td>168</td>\n",
       "      <td>163</td>\n",
       "      <td>5</td>\n",
       "      <td>0</td>\n",
       "    </tr>\n",
       "    <tr>\n",
       "      <th>3</th>\n",
       "      <td>01M015</td>\n",
       "      <td>01/07/2016</td>\n",
       "      <td>20152016</td>\n",
       "      <td>168</td>\n",
       "      <td>154</td>\n",
       "      <td>14</td>\n",
       "      <td>0</td>\n",
       "    </tr>\n",
       "    <tr>\n",
       "      <th>4</th>\n",
       "      <td>01M015</td>\n",
       "      <td>01/08/2016</td>\n",
       "      <td>20152016</td>\n",
       "      <td>168</td>\n",
       "      <td>158</td>\n",
       "      <td>10</td>\n",
       "      <td>0</td>\n",
       "    </tr>\n",
       "  </tbody>\n",
       "</table>\n",
       "</div>"
      ],
      "text/plain": [
       "   School        Date  SchoolYear  Enrolled  Present  Absent  Released\n",
       "0  01M015  01/04/2016    20152016       168      157      11         0\n",
       "1  01M015  01/05/2016    20152016       168      153      15         0\n",
       "2  01M015  01/06/2016    20152016       168      163       5         0\n",
       "3  01M015  01/07/2016    20152016       168      154      14         0\n",
       "4  01M015  01/08/2016    20152016       168      158      10         0"
      ]
     },
     "execution_count": 4,
     "metadata": {},
     "output_type": "execute_result"
    }
   ],
   "source": [
    "datawork.head()"
   ]
  },
  {
   "cell_type": "code",
   "execution_count": 5,
   "metadata": {},
   "outputs": [
    {
     "data": {
      "text/plain": [
       "0         01/04/2016\n",
       "1         01/05/2016\n",
       "2         01/06/2016\n",
       "3         01/07/2016\n",
       "4         01/08/2016\n",
       "             ...    \n",
       "843128    12/18/2017\n",
       "843129    12/19/2017\n",
       "843130    12/20/2017\n",
       "843131    12/21/2017\n",
       "843132    12/22/2017\n",
       "Name: Date, Length: 843133, dtype: object"
      ]
     },
     "execution_count": 5,
     "metadata": {},
     "output_type": "execute_result"
    }
   ],
   "source": [
    "datawork.Date"
   ]
  },
  {
   "cell_type": "code",
   "execution_count": 6,
   "metadata": {},
   "outputs": [],
   "source": [
    "# Vamos a establecer el tipo de dato para las fechas así como asignar las fechas como index\n",
    "# Esto con la finalidad de una mayor comodidad a la hora de trabajar\n",
    "datawork = pd.read_csv('/notebooks/storage/mydata/2015-2018-historical-daily-attendance-by-school-1.csv', index_col='Date', parse_dates=True)"
   ]
  },
  {
   "cell_type": "code",
   "execution_count": 7,
   "metadata": {},
   "outputs": [
    {
     "data": {
      "text/html": [
       "<div>\n",
       "<style scoped>\n",
       "    .dataframe tbody tr th:only-of-type {\n",
       "        vertical-align: middle;\n",
       "    }\n",
       "\n",
       "    .dataframe tbody tr th {\n",
       "        vertical-align: top;\n",
       "    }\n",
       "\n",
       "    .dataframe thead th {\n",
       "        text-align: right;\n",
       "    }\n",
       "</style>\n",
       "<table border=\"1\" class=\"dataframe\">\n",
       "  <thead>\n",
       "    <tr style=\"text-align: right;\">\n",
       "      <th></th>\n",
       "      <th>School</th>\n",
       "      <th>SchoolYear</th>\n",
       "      <th>Enrolled</th>\n",
       "      <th>Present</th>\n",
       "      <th>Absent</th>\n",
       "      <th>Released</th>\n",
       "    </tr>\n",
       "    <tr>\n",
       "      <th>Date</th>\n",
       "      <th></th>\n",
       "      <th></th>\n",
       "      <th></th>\n",
       "      <th></th>\n",
       "      <th></th>\n",
       "      <th></th>\n",
       "    </tr>\n",
       "  </thead>\n",
       "  <tbody>\n",
       "    <tr>\n",
       "      <th>2016-01-04</th>\n",
       "      <td>01M015</td>\n",
       "      <td>20152016</td>\n",
       "      <td>168</td>\n",
       "      <td>157</td>\n",
       "      <td>11</td>\n",
       "      <td>0</td>\n",
       "    </tr>\n",
       "    <tr>\n",
       "      <th>2016-01-05</th>\n",
       "      <td>01M015</td>\n",
       "      <td>20152016</td>\n",
       "      <td>168</td>\n",
       "      <td>153</td>\n",
       "      <td>15</td>\n",
       "      <td>0</td>\n",
       "    </tr>\n",
       "    <tr>\n",
       "      <th>2016-01-06</th>\n",
       "      <td>01M015</td>\n",
       "      <td>20152016</td>\n",
       "      <td>168</td>\n",
       "      <td>163</td>\n",
       "      <td>5</td>\n",
       "      <td>0</td>\n",
       "    </tr>\n",
       "    <tr>\n",
       "      <th>2016-01-07</th>\n",
       "      <td>01M015</td>\n",
       "      <td>20152016</td>\n",
       "      <td>168</td>\n",
       "      <td>154</td>\n",
       "      <td>14</td>\n",
       "      <td>0</td>\n",
       "    </tr>\n",
       "    <tr>\n",
       "      <th>2016-01-08</th>\n",
       "      <td>01M015</td>\n",
       "      <td>20152016</td>\n",
       "      <td>168</td>\n",
       "      <td>158</td>\n",
       "      <td>10</td>\n",
       "      <td>0</td>\n",
       "    </tr>\n",
       "  </tbody>\n",
       "</table>\n",
       "</div>"
      ],
      "text/plain": [
       "            School  SchoolYear  Enrolled  Present  Absent  Released\n",
       "Date                                                               \n",
       "2016-01-04  01M015    20152016       168      157      11         0\n",
       "2016-01-05  01M015    20152016       168      153      15         0\n",
       "2016-01-06  01M015    20152016       168      163       5         0\n",
       "2016-01-07  01M015    20152016       168      154      14         0\n",
       "2016-01-08  01M015    20152016       168      158      10         0"
      ]
     },
     "execution_count": 7,
     "metadata": {},
     "output_type": "execute_result"
    }
   ],
   "source": [
    "datawork.head()"
   ]
  },
  {
   "cell_type": "code",
   "execution_count": 8,
   "metadata": {},
   "outputs": [
    {
     "data": {
      "text/html": [
       "<div>\n",
       "<style scoped>\n",
       "    .dataframe tbody tr th:only-of-type {\n",
       "        vertical-align: middle;\n",
       "    }\n",
       "\n",
       "    .dataframe tbody tr th {\n",
       "        vertical-align: top;\n",
       "    }\n",
       "\n",
       "    .dataframe thead th {\n",
       "        text-align: right;\n",
       "    }\n",
       "</style>\n",
       "<table border=\"1\" class=\"dataframe\">\n",
       "  <thead>\n",
       "    <tr style=\"text-align: right;\">\n",
       "      <th></th>\n",
       "      <th>SchoolYear</th>\n",
       "      <th>Enrolled</th>\n",
       "      <th>Present</th>\n",
       "      <th>Absent</th>\n",
       "      <th>Released</th>\n",
       "    </tr>\n",
       "  </thead>\n",
       "  <tbody>\n",
       "    <tr>\n",
       "      <th>count</th>\n",
       "      <td>8.431330e+05</td>\n",
       "      <td>843133.000000</td>\n",
       "      <td>843133.000000</td>\n",
       "      <td>843133.000000</td>\n",
       "      <td>843133.000000</td>\n",
       "    </tr>\n",
       "    <tr>\n",
       "      <th>mean</th>\n",
       "      <td>2.016199e+07</td>\n",
       "      <td>600.041643</td>\n",
       "      <td>546.938544</td>\n",
       "      <td>50.561870</td>\n",
       "      <td>2.541230</td>\n",
       "    </tr>\n",
       "    <tr>\n",
       "      <th>std</th>\n",
       "      <td>8.188979e+03</td>\n",
       "      <td>485.341866</td>\n",
       "      <td>456.234497</td>\n",
       "      <td>60.284892</td>\n",
       "      <td>29.717674</td>\n",
       "    </tr>\n",
       "    <tr>\n",
       "      <th>min</th>\n",
       "      <td>2.015202e+07</td>\n",
       "      <td>1.000000</td>\n",
       "      <td>1.000000</td>\n",
       "      <td>0.000000</td>\n",
       "      <td>0.000000</td>\n",
       "    </tr>\n",
       "    <tr>\n",
       "      <th>25%</th>\n",
       "      <td>2.015202e+07</td>\n",
       "      <td>320.000000</td>\n",
       "      <td>282.000000</td>\n",
       "      <td>22.000000</td>\n",
       "      <td>0.000000</td>\n",
       "    </tr>\n",
       "    <tr>\n",
       "      <th>50%</th>\n",
       "      <td>2.016202e+07</td>\n",
       "      <td>483.000000</td>\n",
       "      <td>435.000000</td>\n",
       "      <td>37.000000</td>\n",
       "      <td>0.000000</td>\n",
       "    </tr>\n",
       "    <tr>\n",
       "      <th>75%</th>\n",
       "      <td>2.017202e+07</td>\n",
       "      <td>706.000000</td>\n",
       "      <td>658.000000</td>\n",
       "      <td>60.000000</td>\n",
       "      <td>0.000000</td>\n",
       "    </tr>\n",
       "    <tr>\n",
       "      <th>max</th>\n",
       "      <td>2.017202e+07</td>\n",
       "      <td>5850.000000</td>\n",
       "      <td>5752.000000</td>\n",
       "      <td>3332.000000</td>\n",
       "      <td>3777.000000</td>\n",
       "    </tr>\n",
       "  </tbody>\n",
       "</table>\n",
       "</div>"
      ],
      "text/plain": [
       "         SchoolYear       Enrolled        Present         Absent  \\\n",
       "count  8.431330e+05  843133.000000  843133.000000  843133.000000   \n",
       "mean   2.016199e+07     600.041643     546.938544      50.561870   \n",
       "std    8.188979e+03     485.341866     456.234497      60.284892   \n",
       "min    2.015202e+07       1.000000       1.000000       0.000000   \n",
       "25%    2.015202e+07     320.000000     282.000000      22.000000   \n",
       "50%    2.016202e+07     483.000000     435.000000      37.000000   \n",
       "75%    2.017202e+07     706.000000     658.000000      60.000000   \n",
       "max    2.017202e+07    5850.000000    5752.000000    3332.000000   \n",
       "\n",
       "            Released  \n",
       "count  843133.000000  \n",
       "mean        2.541230  \n",
       "std        29.717674  \n",
       "min         0.000000  \n",
       "25%         0.000000  \n",
       "50%         0.000000  \n",
       "75%         0.000000  \n",
       "max      3777.000000  "
      ]
     },
     "execution_count": 8,
     "metadata": {},
     "output_type": "execute_result"
    }
   ],
   "source": [
    "datawork.describe()"
   ]
  },
  {
   "cell_type": "code",
   "execution_count": 9,
   "metadata": {},
   "outputs": [
    {
     "data": {
      "text/plain": [
       "<AxesSubplot:ylabel='Date'>"
      ]
     },
     "execution_count": 9,
     "metadata": {},
     "output_type": "execute_result"
    },
    {
     "data": {
      "image/png": "[encoded data removed]",
      "text/plain": [
       "<Figure size 432x288 with 1 Axes>"
      ]
     },
     "metadata": {
      "needs_background": "light"
     },
     "output_type": "display_data"
    }
   ],
   "source": [
    "# En busca de valores nulos \n",
    "sns.heatmap(datawork.isnull(), cbar=False)"
   ]
  },
  {
   "cell_type": "code",
   "execution_count": 10,
   "metadata": {},
   "outputs": [
    {
     "data": {
      "text/plain": [
       "False"
      ]
     },
     "execution_count": 10,
     "metadata": {},
     "output_type": "execute_result"
    }
   ],
   "source": [
    "datawork.isnull().values.any() \n",
    "# No hay valores nulos en el dataset"
   ]
  },
  {
   "cell_type": "markdown",
   "metadata": {},
   "source": [
    "<a id=\"1\"><h3>\n",
    "- Está separado por escuela. Si quieremos ver el promedio \"global\", ¿cómo lo juntamos? (hint: groupby)\n",
    "    </h3></a>"
   ]
  },
  {
   "cell_type": "code",
   "execution_count": 11,
   "metadata": {},
   "outputs": [
    {
     "data": {
      "text/html": [
       "<div>\n",
       "<style scoped>\n",
       "    .dataframe tbody tr th:only-of-type {\n",
       "        vertical-align: middle;\n",
       "    }\n",
       "\n",
       "    .dataframe tbody tr th {\n",
       "        vertical-align: top;\n",
       "    }\n",
       "\n",
       "    .dataframe thead th {\n",
       "        text-align: right;\n",
       "    }\n",
       "</style>\n",
       "<table border=\"1\" class=\"dataframe\">\n",
       "  <thead>\n",
       "    <tr style=\"text-align: right;\">\n",
       "      <th></th>\n",
       "      <th>SchoolYear</th>\n",
       "      <th>Enrolled</th>\n",
       "      <th>Present</th>\n",
       "      <th>Absent</th>\n",
       "      <th>Released</th>\n",
       "    </tr>\n",
       "    <tr>\n",
       "      <th>School</th>\n",
       "      <th></th>\n",
       "      <th></th>\n",
       "      <th></th>\n",
       "      <th></th>\n",
       "      <th></th>\n",
       "    </tr>\n",
       "  </thead>\n",
       "  <tbody>\n",
       "    <tr>\n",
       "      <th>01M015</th>\n",
       "      <td>2.016202e+07</td>\n",
       "      <td>176.281955</td>\n",
       "      <td>164.590226</td>\n",
       "      <td>11.546992</td>\n",
       "      <td>0.144737</td>\n",
       "    </tr>\n",
       "    <tr>\n",
       "      <th>01M019</th>\n",
       "      <td>2.016202e+07</td>\n",
       "      <td>266.744361</td>\n",
       "      <td>242.631579</td>\n",
       "      <td>23.941729</td>\n",
       "      <td>0.171053</td>\n",
       "    </tr>\n",
       "    <tr>\n",
       "      <th>01M020</th>\n",
       "      <td>2.016202e+07</td>\n",
       "      <td>535.383459</td>\n",
       "      <td>497.968045</td>\n",
       "      <td>37.069549</td>\n",
       "      <td>0.345865</td>\n",
       "    </tr>\n",
       "    <tr>\n",
       "      <th>01M034</th>\n",
       "      <td>2.016202e+07</td>\n",
       "      <td>358.934211</td>\n",
       "      <td>325.776316</td>\n",
       "      <td>33.033835</td>\n",
       "      <td>0.124060</td>\n",
       "    </tr>\n",
       "    <tr>\n",
       "      <th>01M063</th>\n",
       "      <td>2.016202e+07</td>\n",
       "      <td>202.065789</td>\n",
       "      <td>187.291353</td>\n",
       "      <td>14.503759</td>\n",
       "      <td>0.270677</td>\n",
       "    </tr>\n",
       "    <tr>\n",
       "      <th>...</th>\n",
       "      <td>...</td>\n",
       "      <td>...</td>\n",
       "      <td>...</td>\n",
       "      <td>...</td>\n",
       "      <td>...</td>\n",
       "    </tr>\n",
       "    <tr>\n",
       "      <th>75X754</th>\n",
       "      <td>2.016200e+07</td>\n",
       "      <td>483.953184</td>\n",
       "      <td>278.960674</td>\n",
       "      <td>190.222846</td>\n",
       "      <td>14.769663</td>\n",
       "    </tr>\n",
       "    <tr>\n",
       "      <th>75X811</th>\n",
       "      <td>2.016202e+07</td>\n",
       "      <td>632.620561</td>\n",
       "      <td>524.000000</td>\n",
       "      <td>101.557009</td>\n",
       "      <td>7.063551</td>\n",
       "    </tr>\n",
       "    <tr>\n",
       "      <th>79M331</th>\n",
       "      <td>2.017202e+07</td>\n",
       "      <td>11.228395</td>\n",
       "      <td>6.006173</td>\n",
       "      <td>5.222222</td>\n",
       "      <td>0.000000</td>\n",
       "    </tr>\n",
       "    <tr>\n",
       "      <th>79Q344</th>\n",
       "      <td>2.016200e+07</td>\n",
       "      <td>423.338403</td>\n",
       "      <td>198.539924</td>\n",
       "      <td>202.024715</td>\n",
       "      <td>22.773764</td>\n",
       "    </tr>\n",
       "    <tr>\n",
       "      <th>79X695</th>\n",
       "      <td>2.016204e+07</td>\n",
       "      <td>244.290262</td>\n",
       "      <td>189.460674</td>\n",
       "      <td>43.709738</td>\n",
       "      <td>11.119850</td>\n",
       "    </tr>\n",
       "  </tbody>\n",
       "</table>\n",
       "<p>1649 rows × 5 columns</p>\n",
       "</div>"
      ],
      "text/plain": [
       "          SchoolYear    Enrolled     Present      Absent   Released\n",
       "School                                                             \n",
       "01M015  2.016202e+07  176.281955  164.590226   11.546992   0.144737\n",
       "01M019  2.016202e+07  266.744361  242.631579   23.941729   0.171053\n",
       "01M020  2.016202e+07  535.383459  497.968045   37.069549   0.345865\n",
       "01M034  2.016202e+07  358.934211  325.776316   33.033835   0.124060\n",
       "01M063  2.016202e+07  202.065789  187.291353   14.503759   0.270677\n",
       "...              ...         ...         ...         ...        ...\n",
       "75X754  2.016200e+07  483.953184  278.960674  190.222846  14.769663\n",
       "75X811  2.016202e+07  632.620561  524.000000  101.557009   7.063551\n",
       "79M331  2.017202e+07   11.228395    6.006173    5.222222   0.000000\n",
       "79Q344  2.016200e+07  423.338403  198.539924  202.024715  22.773764\n",
       "79X695  2.016204e+07  244.290262  189.460674   43.709738  11.119850\n",
       "\n",
       "[1649 rows x 5 columns]"
      ]
     },
     "execution_count": 11,
     "metadata": {},
     "output_type": "execute_result"
    }
   ],
   "source": [
    "# Para verlo por escuela, agrupamos por la escuela\n",
    "by_school = datawork.groupby(\"School\").mean()\n",
    "by_school"
   ]
  },
  {
   "cell_type": "code",
   "execution_count": 12,
   "metadata": {},
   "outputs": [],
   "source": [
    "# Añadimos la columna año\n",
    "datawork['Año'] = datawork.index.year"
   ]
  },
  {
   "cell_type": "code",
   "execution_count": 13,
   "metadata": {},
   "outputs": [],
   "source": [
    "# Agrupamos por año para verlo por año\n",
    "by_year = datawork.groupby('Año').mean()"
   ]
  },
  {
   "cell_type": "code",
   "execution_count": 14,
   "metadata": {},
   "outputs": [
    {
     "data": {
      "text/html": [
       "<div>\n",
       "<style scoped>\n",
       "    .dataframe tbody tr th:only-of-type {\n",
       "        vertical-align: middle;\n",
       "    }\n",
       "\n",
       "    .dataframe tbody tr th {\n",
       "        vertical-align: top;\n",
       "    }\n",
       "\n",
       "    .dataframe thead th {\n",
       "        text-align: right;\n",
       "    }\n",
       "</style>\n",
       "<table border=\"1\" class=\"dataframe\">\n",
       "  <thead>\n",
       "    <tr style=\"text-align: right;\">\n",
       "      <th></th>\n",
       "      <th>SchoolYear</th>\n",
       "      <th>Enrolled</th>\n",
       "      <th>Present</th>\n",
       "      <th>Absent</th>\n",
       "      <th>Released</th>\n",
       "    </tr>\n",
       "    <tr>\n",
       "      <th>Año</th>\n",
       "      <th></th>\n",
       "      <th></th>\n",
       "      <th></th>\n",
       "      <th></th>\n",
       "      <th></th>\n",
       "    </tr>\n",
       "  </thead>\n",
       "  <tbody>\n",
       "    <tr>\n",
       "      <th>2015</th>\n",
       "      <td>2.015202e+07</td>\n",
       "      <td>602.376979</td>\n",
       "      <td>559.505774</td>\n",
       "      <td>41.991897</td>\n",
       "      <td>0.879307</td>\n",
       "    </tr>\n",
       "    <tr>\n",
       "      <th>2016</th>\n",
       "      <td>2.015586e+07</td>\n",
       "      <td>601.123992</td>\n",
       "      <td>548.272982</td>\n",
       "      <td>50.308375</td>\n",
       "      <td>2.542635</td>\n",
       "    </tr>\n",
       "    <tr>\n",
       "      <th>2017</th>\n",
       "      <td>2.016607e+07</td>\n",
       "      <td>600.533466</td>\n",
       "      <td>548.391938</td>\n",
       "      <td>49.699210</td>\n",
       "      <td>2.442318</td>\n",
       "    </tr>\n",
       "    <tr>\n",
       "      <th>2018</th>\n",
       "      <td>2.017202e+07</td>\n",
       "      <td>595.838995</td>\n",
       "      <td>533.999706</td>\n",
       "      <td>58.048414</td>\n",
       "      <td>3.790875</td>\n",
       "    </tr>\n",
       "  </tbody>\n",
       "</table>\n",
       "</div>"
      ],
      "text/plain": [
       "        SchoolYear    Enrolled     Present     Absent  Released\n",
       "Año                                                            \n",
       "2015  2.015202e+07  602.376979  559.505774  41.991897  0.879307\n",
       "2016  2.015586e+07  601.123992  548.272982  50.308375  2.542635\n",
       "2017  2.016607e+07  600.533466  548.391938  49.699210  2.442318\n",
       "2018  2.017202e+07  595.838995  533.999706  58.048414  3.790875"
      ]
     },
     "execution_count": 14,
     "metadata": {},
     "output_type": "execute_result"
    }
   ],
   "source": [
    "by_year.sort_index()"
   ]
  },
  {
   "cell_type": "code",
   "execution_count": 15,
   "metadata": {},
   "outputs": [],
   "source": [
    "# Añadimos la columna mes\n",
    "datawork['Mes'] = datawork.index.month"
   ]
  },
  {
   "cell_type": "code",
   "execution_count": 16,
   "metadata": {},
   "outputs": [
    {
     "data": {
      "text/html": [
       "<div>\n",
       "<style scoped>\n",
       "    .dataframe tbody tr th:only-of-type {\n",
       "        vertical-align: middle;\n",
       "    }\n",
       "\n",
       "    .dataframe tbody tr th {\n",
       "        vertical-align: top;\n",
       "    }\n",
       "\n",
       "    .dataframe thead th {\n",
       "        text-align: right;\n",
       "    }\n",
       "</style>\n",
       "<table border=\"1\" class=\"dataframe\">\n",
       "  <thead>\n",
       "    <tr style=\"text-align: right;\">\n",
       "      <th></th>\n",
       "      <th>SchoolYear</th>\n",
       "      <th>Enrolled</th>\n",
       "      <th>Present</th>\n",
       "      <th>Absent</th>\n",
       "      <th>Released</th>\n",
       "      <th>Año</th>\n",
       "    </tr>\n",
       "    <tr>\n",
       "      <th>Mes</th>\n",
       "      <th></th>\n",
       "      <th></th>\n",
       "      <th></th>\n",
       "      <th></th>\n",
       "      <th></th>\n",
       "      <th></th>\n",
       "    </tr>\n",
       "  </thead>\n",
       "  <tbody>\n",
       "    <tr>\n",
       "      <th>1</th>\n",
       "      <td>2.016208e+07</td>\n",
       "      <td>599.452458</td>\n",
       "      <td>538.661099</td>\n",
       "      <td>54.441899</td>\n",
       "      <td>6.349461</td>\n",
       "      <td>2017.006748</td>\n",
       "    </tr>\n",
       "    <tr>\n",
       "      <th>2</th>\n",
       "      <td>2.016182e+07</td>\n",
       "      <td>599.847474</td>\n",
       "      <td>547.051721</td>\n",
       "      <td>51.424686</td>\n",
       "      <td>1.371068</td>\n",
       "      <td>2016.980462</td>\n",
       "    </tr>\n",
       "    <tr>\n",
       "      <th>3</th>\n",
       "      <td>2.016167e+07</td>\n",
       "      <td>600.107721</td>\n",
       "      <td>545.028961</td>\n",
       "      <td>54.224502</td>\n",
       "      <td>0.854258</td>\n",
       "      <td>2016.965416</td>\n",
       "    </tr>\n",
       "    <tr>\n",
       "      <th>4</th>\n",
       "      <td>2.016199e+07</td>\n",
       "      <td>599.457563</td>\n",
       "      <td>549.603671</td>\n",
       "      <td>49.147622</td>\n",
       "      <td>0.706269</td>\n",
       "      <td>2016.997399</td>\n",
       "    </tr>\n",
       "    <tr>\n",
       "      <th>5</th>\n",
       "      <td>2.016215e+07</td>\n",
       "      <td>599.555883</td>\n",
       "      <td>548.076528</td>\n",
       "      <td>50.790308</td>\n",
       "      <td>0.689046</td>\n",
       "      <td>2017.012867</td>\n",
       "    </tr>\n",
       "    <tr>\n",
       "      <th>6</th>\n",
       "      <td>2.016132e+07</td>\n",
       "      <td>596.598064</td>\n",
       "      <td>506.377459</td>\n",
       "      <td>75.699640</td>\n",
       "      <td>14.520964</td>\n",
       "      <td>2016.929842</td>\n",
       "    </tr>\n",
       "    <tr>\n",
       "      <th>9</th>\n",
       "      <td>2.016269e+07</td>\n",
       "      <td>600.258103</td>\n",
       "      <td>560.488200</td>\n",
       "      <td>39.210514</td>\n",
       "      <td>0.559389</td>\n",
       "      <td>2016.067704</td>\n",
       "    </tr>\n",
       "    <tr>\n",
       "      <th>10</th>\n",
       "      <td>2.016199e+07</td>\n",
       "      <td>601.574686</td>\n",
       "      <td>562.296132</td>\n",
       "      <td>38.696054</td>\n",
       "      <td>0.582500</td>\n",
       "      <td>2015.997766</td>\n",
       "    </tr>\n",
       "    <tr>\n",
       "      <th>11</th>\n",
       "      <td>2.016237e+07</td>\n",
       "      <td>601.496476</td>\n",
       "      <td>556.546996</td>\n",
       "      <td>44.320104</td>\n",
       "      <td>0.629377</td>\n",
       "      <td>2016.034979</td>\n",
       "    </tr>\n",
       "    <tr>\n",
       "      <th>12</th>\n",
       "      <td>2.016179e+07</td>\n",
       "      <td>601.397172</td>\n",
       "      <td>550.130302</td>\n",
       "      <td>50.190724</td>\n",
       "      <td>1.076146</td>\n",
       "      <td>2015.977540</td>\n",
       "    </tr>\n",
       "  </tbody>\n",
       "</table>\n",
       "</div>"
      ],
      "text/plain": [
       "       SchoolYear    Enrolled     Present     Absent   Released          Año\n",
       "Mes                                                                         \n",
       "1    2.016208e+07  599.452458  538.661099  54.441899   6.349461  2017.006748\n",
       "2    2.016182e+07  599.847474  547.051721  51.424686   1.371068  2016.980462\n",
       "3    2.016167e+07  600.107721  545.028961  54.224502   0.854258  2016.965416\n",
       "4    2.016199e+07  599.457563  549.603671  49.147622   0.706269  2016.997399\n",
       "5    2.016215e+07  599.555883  548.076528  50.790308   0.689046  2017.012867\n",
       "6    2.016132e+07  596.598064  506.377459  75.699640  14.520964  2016.929842\n",
       "9    2.016269e+07  600.258103  560.488200  39.210514   0.559389  2016.067704\n",
       "10   2.016199e+07  601.574686  562.296132  38.696054   0.582500  2015.997766\n",
       "11   2.016237e+07  601.496476  556.546996  44.320104   0.629377  2016.034979\n",
       "12   2.016179e+07  601.397172  550.130302  50.190724   1.076146  2015.977540"
      ]
     },
     "execution_count": 16,
     "metadata": {},
     "output_type": "execute_result"
    }
   ],
   "source": [
    "# Agrupamos por mes para verlo por mes\n",
    "by_month = datawork.groupby(\"Mes\").mean()\n",
    "by_month.sort_index()"
   ]
  },
  {
   "cell_type": "markdown",
   "metadata": {},
   "source": [
    "<a id=\"2\"><h3>\n",
    "- Crea columnas de porcentaje\n",
    "</h3></a>"
   ]
  },
  {
   "cell_type": "code",
   "execution_count": 17,
   "metadata": {},
   "outputs": [
    {
     "data": {
      "text/plain": [
       "1649"
      ]
     },
     "execution_count": 17,
     "metadata": {},
     "output_type": "execute_result"
    }
   ],
   "source": [
    "# Filtramos por escuela para formar los grupos y añadir columnas de porcentaje\n",
    "len(list(set(datawork.School)))"
   ]
  },
  {
   "cell_type": "code",
   "execution_count": 18,
   "metadata": {},
   "outputs": [],
   "source": [
    "# Dado que son demasiadas escuelas, construiremos una función \n",
    "schools = list(set(datawork.School))"
   ]
  },
  {
   "cell_type": "code",
   "execution_count": 19,
   "metadata": {},
   "outputs": [
    {
     "data": {
      "text/html": [
       "<div>\n",
       "<style scoped>\n",
       "    .dataframe tbody tr th:only-of-type {\n",
       "        vertical-align: middle;\n",
       "    }\n",
       "\n",
       "    .dataframe tbody tr th {\n",
       "        vertical-align: top;\n",
       "    }\n",
       "\n",
       "    .dataframe thead th {\n",
       "        text-align: right;\n",
       "    }\n",
       "</style>\n",
       "<table border=\"1\" class=\"dataframe\">\n",
       "  <thead>\n",
       "    <tr style=\"text-align: right;\">\n",
       "      <th></th>\n",
       "      <th>School</th>\n",
       "      <th>SchoolYear</th>\n",
       "      <th>Enrolled</th>\n",
       "      <th>Present</th>\n",
       "      <th>Absent</th>\n",
       "      <th>Released</th>\n",
       "      <th>Año</th>\n",
       "      <th>Mes</th>\n",
       "    </tr>\n",
       "    <tr>\n",
       "      <th>Date</th>\n",
       "      <th></th>\n",
       "      <th></th>\n",
       "      <th></th>\n",
       "      <th></th>\n",
       "      <th></th>\n",
       "      <th></th>\n",
       "      <th></th>\n",
       "      <th></th>\n",
       "    </tr>\n",
       "  </thead>\n",
       "  <tbody>\n",
       "    <tr>\n",
       "      <th>2016-01-04</th>\n",
       "      <td>01M015</td>\n",
       "      <td>20152016</td>\n",
       "      <td>168</td>\n",
       "      <td>157</td>\n",
       "      <td>11</td>\n",
       "      <td>0</td>\n",
       "      <td>2016</td>\n",
       "      <td>1</td>\n",
       "    </tr>\n",
       "    <tr>\n",
       "      <th>2016-01-05</th>\n",
       "      <td>01M015</td>\n",
       "      <td>20152016</td>\n",
       "      <td>168</td>\n",
       "      <td>153</td>\n",
       "      <td>15</td>\n",
       "      <td>0</td>\n",
       "      <td>2016</td>\n",
       "      <td>1</td>\n",
       "    </tr>\n",
       "    <tr>\n",
       "      <th>2016-01-06</th>\n",
       "      <td>01M015</td>\n",
       "      <td>20152016</td>\n",
       "      <td>168</td>\n",
       "      <td>163</td>\n",
       "      <td>5</td>\n",
       "      <td>0</td>\n",
       "      <td>2016</td>\n",
       "      <td>1</td>\n",
       "    </tr>\n",
       "    <tr>\n",
       "      <th>2016-01-07</th>\n",
       "      <td>01M015</td>\n",
       "      <td>20152016</td>\n",
       "      <td>168</td>\n",
       "      <td>154</td>\n",
       "      <td>14</td>\n",
       "      <td>0</td>\n",
       "      <td>2016</td>\n",
       "      <td>1</td>\n",
       "    </tr>\n",
       "    <tr>\n",
       "      <th>2016-01-08</th>\n",
       "      <td>01M015</td>\n",
       "      <td>20152016</td>\n",
       "      <td>168</td>\n",
       "      <td>158</td>\n",
       "      <td>10</td>\n",
       "      <td>0</td>\n",
       "      <td>2016</td>\n",
       "      <td>1</td>\n",
       "    </tr>\n",
       "  </tbody>\n",
       "</table>\n",
       "</div>"
      ],
      "text/plain": [
       "            School  SchoolYear  Enrolled  Present  Absent  Released   Año  Mes\n",
       "Date                                                                          \n",
       "2016-01-04  01M015    20152016       168      157      11         0  2016    1\n",
       "2016-01-05  01M015    20152016       168      153      15         0  2016    1\n",
       "2016-01-06  01M015    20152016       168      163       5         0  2016    1\n",
       "2016-01-07  01M015    20152016       168      154      14         0  2016    1\n",
       "2016-01-08  01M015    20152016       168      158      10         0  2016    1"
      ]
     },
     "execution_count": 19,
     "metadata": {},
     "output_type": "execute_result"
    }
   ],
   "source": [
    "datawork.head(5)"
   ]
  },
  {
   "cell_type": "code",
   "execution_count": 20,
   "metadata": {},
   "outputs": [],
   "source": [
    "# Me marcaba error a la hora de buscar por el indice así que para\n",
    "# resolver hice lo siguiente\n",
    "# obtenido de: https://stackoverflow.com/questions/64106628/why-assertionerror-having-numpy-ndarray\n",
    "datawork.index = pd.to_datetime(datawork.index)"
   ]
  },
  {
   "cell_type": "code",
   "execution_count": 21,
   "metadata": {},
   "outputs": [],
   "source": [
    "datawork = datawork.sort_index()"
   ]
  },
  {
   "cell_type": "code",
   "execution_count": 22,
   "metadata": {},
   "outputs": [
    {
     "data": {
      "text/html": [
       "<div>\n",
       "<style scoped>\n",
       "    .dataframe tbody tr th:only-of-type {\n",
       "        vertical-align: middle;\n",
       "    }\n",
       "\n",
       "    .dataframe tbody tr th {\n",
       "        vertical-align: top;\n",
       "    }\n",
       "\n",
       "    .dataframe thead th {\n",
       "        text-align: right;\n",
       "    }\n",
       "</style>\n",
       "<table border=\"1\" class=\"dataframe\">\n",
       "  <thead>\n",
       "    <tr style=\"text-align: right;\">\n",
       "      <th></th>\n",
       "      <th>School</th>\n",
       "      <th>SchoolYear</th>\n",
       "      <th>Enrolled</th>\n",
       "      <th>Present</th>\n",
       "      <th>Absent</th>\n",
       "      <th>Released</th>\n",
       "      <th>Año</th>\n",
       "      <th>Mes</th>\n",
       "    </tr>\n",
       "    <tr>\n",
       "      <th>Date</th>\n",
       "      <th></th>\n",
       "      <th></th>\n",
       "      <th></th>\n",
       "      <th></th>\n",
       "      <th></th>\n",
       "      <th></th>\n",
       "      <th></th>\n",
       "      <th></th>\n",
       "    </tr>\n",
       "  </thead>\n",
       "  <tbody>\n",
       "    <tr>\n",
       "      <th>2015-09-08</th>\n",
       "      <td>07X527</td>\n",
       "      <td>20152016</td>\n",
       "      <td>507</td>\n",
       "      <td>327</td>\n",
       "      <td>180</td>\n",
       "      <td>0</td>\n",
       "      <td>2015</td>\n",
       "      <td>9</td>\n",
       "    </tr>\n",
       "    <tr>\n",
       "      <th>2015-09-08</th>\n",
       "      <td>24Q744</td>\n",
       "      <td>20152016</td>\n",
       "      <td>198</td>\n",
       "      <td>147</td>\n",
       "      <td>51</td>\n",
       "      <td>0</td>\n",
       "      <td>2015</td>\n",
       "      <td>9</td>\n",
       "    </tr>\n",
       "    <tr>\n",
       "      <th>2015-09-08</th>\n",
       "      <td>27Q333</td>\n",
       "      <td>20152016</td>\n",
       "      <td>560</td>\n",
       "      <td>559</td>\n",
       "      <td>1</td>\n",
       "      <td>0</td>\n",
       "      <td>2015</td>\n",
       "      <td>9</td>\n",
       "    </tr>\n",
       "    <tr>\n",
       "      <th>2015-09-09</th>\n",
       "      <td>01M188</td>\n",
       "      <td>20152016</td>\n",
       "      <td>479</td>\n",
       "      <td>443</td>\n",
       "      <td>36</td>\n",
       "      <td>0</td>\n",
       "      <td>2015</td>\n",
       "      <td>9</td>\n",
       "    </tr>\n",
       "    <tr>\n",
       "      <th>2015-09-09</th>\n",
       "      <td>19K007</td>\n",
       "      <td>20152016</td>\n",
       "      <td>954</td>\n",
       "      <td>863</td>\n",
       "      <td>91</td>\n",
       "      <td>0</td>\n",
       "      <td>2015</td>\n",
       "      <td>9</td>\n",
       "    </tr>\n",
       "  </tbody>\n",
       "</table>\n",
       "</div>"
      ],
      "text/plain": [
       "            School  SchoolYear  Enrolled  Present  Absent  Released   Año  Mes\n",
       "Date                                                                          \n",
       "2015-09-08  07X527    20152016       507      327     180         0  2015    9\n",
       "2015-09-08  24Q744    20152016       198      147      51         0  2015    9\n",
       "2015-09-08  27Q333    20152016       560      559       1         0  2015    9\n",
       "2015-09-09  01M188    20152016       479      443      36         0  2015    9\n",
       "2015-09-09  19K007    20152016       954      863      91         0  2015    9"
      ]
     },
     "execution_count": 22,
     "metadata": {},
     "output_type": "execute_result"
    }
   ],
   "source": [
    "datawork.head()"
   ]
  },
  {
   "cell_type": "code",
   "execution_count": 44,
   "metadata": {},
   "outputs": [],
   "source": [
    "def add_percent(nombre_escuela, datos, intervalo, label, work_with = 'Enrolled', all_groups = False):\n",
    "    \"\"\"Función para añadir una columna con los porcentajes en el intervalo\n",
    "    establecido.\n",
    "    nombre_escuela: str nombre || list nombres\n",
    "    datos: dataframe\n",
    "    intervalo: str intervalo, solo año y mes -> '2015-10' (porque marca error si paso día, no sé la razón)\n",
    "    label: str nombre para la nueva columna\n",
    "    work_with = str nombres de columnas en el df (solo uno): Enrolled, Present, Absent, Released\n",
    "    all_groups = bool (True si nombre_escuela es lista: False si nombre_escuela es string)\n",
    "    return: pandas dataframe\n",
    "    \"\"\"\n",
    "    \n",
    "    columnName = f\"{label} {intervalo}\" # Creamos el nombre de la columna a añadir\n",
    "    tmp_data = datawork[intervalo].copy() # Creamos una copia del df original pero ya filtrado por fecha\n",
    "        \n",
    "    if all_groups == False:\n",
    "        \n",
    "        try:\n",
    "            maxim = max(tmp_data.loc[(tmp_data.School == nombre_escuela)][work_with]) # Obtenemos el mayor valor de Enrolled\n",
    "            grupo = pd.DataFrame(tmp_data.loc[(tmp_data.School == nombre_escuela)]) # filtramos\n",
    "            aux = [maxim for i in range(len(grupo))] # creamos un arreglo auxiliar\n",
    "            grupo[columnName] = round((grupo[work_with]/aux)*100, 4) # Añadimos la nueva columna\n",
    "        except:\n",
    "            pass\n",
    "    \n",
    "    elif all_groups == True and type(nombre_escuela) == list:\n",
    "        all_dataframes = [] # Creamos el arreglo que guardara los dataframes\n",
    "        \n",
    "        \n",
    "        for name_school in nombre_escuela: \n",
    "            try:\n",
    "                maxim = max(tmp_data.loc[(tmp_data.School == name_school)][work_with]) # Obtenemos el mayor valor de Enrolled\n",
    "                grupo = pd.DataFrame(tmp_data.loc[(tmp_data.School == name_school)]) # filtramos\n",
    "                aux = [maxim for i in range(len(grupo))] # creamos un arreglo auxiliar\n",
    "                grupo[columnName] = round((grupo[work_with]/aux)*100, 4) # Añadimos la nueva columna\n",
    "                all_dataframes.append(grupo) # añadimos el dataframe al arreglo\n",
    "            except:\n",
    "                pass # Algunas escuelas no es encuentran en el intervalo, por lo tanto las ignoramos\n",
    "        \n",
    "        grupo = pd.concat(all_dataframes, axis=0) # juntamos por columnas los dataframes guardados\n",
    "    else: \n",
    "        return None\n",
    "            \n",
    "        \n",
    "            \n",
    "    try:  \n",
    "        return grupo\n",
    "    except:\n",
    "        return None"
   ]
  },
  {
   "cell_type": "code",
   "execution_count": 45,
   "metadata": {},
   "outputs": [],
   "source": [
    "# Para añadir una nueva columna de porcentaje de inscritos de una solo una escuela\n",
    "filter_escuela = add_percent(nombre_escuela = \"06M325\", datos = datawork, intervalo = '2015-12', label = '% Inscritos')"
   ]
  },
  {
   "cell_type": "code",
   "execution_count": 35,
   "metadata": {},
   "outputs": [],
   "source": [
    "# Para añadir una nueva columna de porcentaje de inscritos para todas las escuelas\n",
    "filter_grupo_escuelas = add_percent(nombre_escuela = schools, datos = datawork, intervalo = '2015-12', label = '% Inscritos', all_groups = True)"
   ]
  },
  {
   "cell_type": "code",
   "execution_count": 47,
   "metadata": {},
   "outputs": [
    {
     "data": {
      "text/html": [
       "<div>\n",
       "<style scoped>\n",
       "    .dataframe tbody tr th:only-of-type {\n",
       "        vertical-align: middle;\n",
       "    }\n",
       "\n",
       "    .dataframe tbody tr th {\n",
       "        vertical-align: top;\n",
       "    }\n",
       "\n",
       "    .dataframe thead th {\n",
       "        text-align: right;\n",
       "    }\n",
       "</style>\n",
       "<table border=\"1\" class=\"dataframe\">\n",
       "  <thead>\n",
       "    <tr style=\"text-align: right;\">\n",
       "      <th></th>\n",
       "      <th>School</th>\n",
       "      <th>SchoolYear</th>\n",
       "      <th>Enrolled</th>\n",
       "      <th>Present</th>\n",
       "      <th>Absent</th>\n",
       "      <th>Released</th>\n",
       "      <th>Año</th>\n",
       "      <th>Mes</th>\n",
       "      <th>% Inscritos 2015-12</th>\n",
       "    </tr>\n",
       "    <tr>\n",
       "      <th>Date</th>\n",
       "      <th></th>\n",
       "      <th></th>\n",
       "      <th></th>\n",
       "      <th></th>\n",
       "      <th></th>\n",
       "      <th></th>\n",
       "      <th></th>\n",
       "      <th></th>\n",
       "      <th></th>\n",
       "    </tr>\n",
       "  </thead>\n",
       "  <tbody>\n",
       "    <tr>\n",
       "      <th>2015-12-01</th>\n",
       "      <td>06M325</td>\n",
       "      <td>20152016</td>\n",
       "      <td>240</td>\n",
       "      <td>221</td>\n",
       "      <td>19</td>\n",
       "      <td>0</td>\n",
       "      <td>2015</td>\n",
       "      <td>12</td>\n",
       "      <td>98.7654</td>\n",
       "    </tr>\n",
       "    <tr>\n",
       "      <th>2015-12-02</th>\n",
       "      <td>06M325</td>\n",
       "      <td>20152016</td>\n",
       "      <td>241</td>\n",
       "      <td>231</td>\n",
       "      <td>10</td>\n",
       "      <td>0</td>\n",
       "      <td>2015</td>\n",
       "      <td>12</td>\n",
       "      <td>99.1770</td>\n",
       "    </tr>\n",
       "    <tr>\n",
       "      <th>2015-12-03</th>\n",
       "      <td>06M325</td>\n",
       "      <td>20152016</td>\n",
       "      <td>242</td>\n",
       "      <td>211</td>\n",
       "      <td>13</td>\n",
       "      <td>18</td>\n",
       "      <td>2015</td>\n",
       "      <td>12</td>\n",
       "      <td>99.5885</td>\n",
       "    </tr>\n",
       "    <tr>\n",
       "      <th>2015-12-04</th>\n",
       "      <td>06M325</td>\n",
       "      <td>20152016</td>\n",
       "      <td>242</td>\n",
       "      <td>222</td>\n",
       "      <td>20</td>\n",
       "      <td>0</td>\n",
       "      <td>2015</td>\n",
       "      <td>12</td>\n",
       "      <td>99.5885</td>\n",
       "    </tr>\n",
       "    <tr>\n",
       "      <th>2015-12-07</th>\n",
       "      <td>06M325</td>\n",
       "      <td>20152016</td>\n",
       "      <td>242</td>\n",
       "      <td>220</td>\n",
       "      <td>22</td>\n",
       "      <td>0</td>\n",
       "      <td>2015</td>\n",
       "      <td>12</td>\n",
       "      <td>99.5885</td>\n",
       "    </tr>\n",
       "  </tbody>\n",
       "</table>\n",
       "</div>"
      ],
      "text/plain": [
       "            School  SchoolYear  Enrolled  Present  Absent  Released   Año  \\\n",
       "Date                                                                        \n",
       "2015-12-01  06M325    20152016       240      221      19         0  2015   \n",
       "2015-12-02  06M325    20152016       241      231      10         0  2015   \n",
       "2015-12-03  06M325    20152016       242      211      13        18  2015   \n",
       "2015-12-04  06M325    20152016       242      222      20         0  2015   \n",
       "2015-12-07  06M325    20152016       242      220      22         0  2015   \n",
       "\n",
       "            Mes  % Inscritos 2015-12  \n",
       "Date                                  \n",
       "2015-12-01   12              98.7654  \n",
       "2015-12-02   12              99.1770  \n",
       "2015-12-03   12              99.5885  \n",
       "2015-12-04   12              99.5885  \n",
       "2015-12-07   12              99.5885  "
      ]
     },
     "execution_count": 47,
     "metadata": {},
     "output_type": "execute_result"
    }
   ],
   "source": [
    "filter_escuela.head()"
   ]
  },
  {
   "cell_type": "code",
   "execution_count": 48,
   "metadata": {},
   "outputs": [
    {
     "data": {
      "text/html": [
       "<div>\n",
       "<style scoped>\n",
       "    .dataframe tbody tr th:only-of-type {\n",
       "        vertical-align: middle;\n",
       "    }\n",
       "\n",
       "    .dataframe tbody tr th {\n",
       "        vertical-align: top;\n",
       "    }\n",
       "\n",
       "    .dataframe thead th {\n",
       "        text-align: right;\n",
       "    }\n",
       "</style>\n",
       "<table border=\"1\" class=\"dataframe\">\n",
       "  <thead>\n",
       "    <tr style=\"text-align: right;\">\n",
       "      <th></th>\n",
       "      <th>School</th>\n",
       "      <th>SchoolYear</th>\n",
       "      <th>Enrolled</th>\n",
       "      <th>Present</th>\n",
       "      <th>Absent</th>\n",
       "      <th>Released</th>\n",
       "      <th>Año</th>\n",
       "      <th>Mes</th>\n",
       "      <th>% Inscritos 2015-12</th>\n",
       "    </tr>\n",
       "    <tr>\n",
       "      <th>Date</th>\n",
       "      <th></th>\n",
       "      <th></th>\n",
       "      <th></th>\n",
       "      <th></th>\n",
       "      <th></th>\n",
       "      <th></th>\n",
       "      <th></th>\n",
       "      <th></th>\n",
       "      <th></th>\n",
       "    </tr>\n",
       "  </thead>\n",
       "  <tbody>\n",
       "    <tr>\n",
       "      <th>2015-12-01</th>\n",
       "      <td>06M325</td>\n",
       "      <td>20152016</td>\n",
       "      <td>240</td>\n",
       "      <td>221</td>\n",
       "      <td>19</td>\n",
       "      <td>0</td>\n",
       "      <td>2015</td>\n",
       "      <td>12</td>\n",
       "      <td>98.7654</td>\n",
       "    </tr>\n",
       "    <tr>\n",
       "      <th>2015-12-02</th>\n",
       "      <td>06M325</td>\n",
       "      <td>20152016</td>\n",
       "      <td>241</td>\n",
       "      <td>231</td>\n",
       "      <td>10</td>\n",
       "      <td>0</td>\n",
       "      <td>2015</td>\n",
       "      <td>12</td>\n",
       "      <td>99.1770</td>\n",
       "    </tr>\n",
       "    <tr>\n",
       "      <th>2015-12-03</th>\n",
       "      <td>06M325</td>\n",
       "      <td>20152016</td>\n",
       "      <td>242</td>\n",
       "      <td>211</td>\n",
       "      <td>13</td>\n",
       "      <td>18</td>\n",
       "      <td>2015</td>\n",
       "      <td>12</td>\n",
       "      <td>99.5885</td>\n",
       "    </tr>\n",
       "    <tr>\n",
       "      <th>2015-12-04</th>\n",
       "      <td>06M325</td>\n",
       "      <td>20152016</td>\n",
       "      <td>242</td>\n",
       "      <td>222</td>\n",
       "      <td>20</td>\n",
       "      <td>0</td>\n",
       "      <td>2015</td>\n",
       "      <td>12</td>\n",
       "      <td>99.5885</td>\n",
       "    </tr>\n",
       "    <tr>\n",
       "      <th>2015-12-07</th>\n",
       "      <td>06M325</td>\n",
       "      <td>20152016</td>\n",
       "      <td>242</td>\n",
       "      <td>220</td>\n",
       "      <td>22</td>\n",
       "      <td>0</td>\n",
       "      <td>2015</td>\n",
       "      <td>12</td>\n",
       "      <td>99.5885</td>\n",
       "    </tr>\n",
       "    <tr>\n",
       "      <th>2015-12-08</th>\n",
       "      <td>06M325</td>\n",
       "      <td>20152016</td>\n",
       "      <td>242</td>\n",
       "      <td>227</td>\n",
       "      <td>15</td>\n",
       "      <td>0</td>\n",
       "      <td>2015</td>\n",
       "      <td>12</td>\n",
       "      <td>99.5885</td>\n",
       "    </tr>\n",
       "    <tr>\n",
       "      <th>2015-12-09</th>\n",
       "      <td>06M325</td>\n",
       "      <td>20152016</td>\n",
       "      <td>242</td>\n",
       "      <td>224</td>\n",
       "      <td>18</td>\n",
       "      <td>0</td>\n",
       "      <td>2015</td>\n",
       "      <td>12</td>\n",
       "      <td>99.5885</td>\n",
       "    </tr>\n",
       "    <tr>\n",
       "      <th>2015-12-10</th>\n",
       "      <td>06M325</td>\n",
       "      <td>20152016</td>\n",
       "      <td>242</td>\n",
       "      <td>233</td>\n",
       "      <td>9</td>\n",
       "      <td>0</td>\n",
       "      <td>2015</td>\n",
       "      <td>12</td>\n",
       "      <td>99.5885</td>\n",
       "    </tr>\n",
       "    <tr>\n",
       "      <th>2015-12-11</th>\n",
       "      <td>06M325</td>\n",
       "      <td>20152016</td>\n",
       "      <td>242</td>\n",
       "      <td>229</td>\n",
       "      <td>13</td>\n",
       "      <td>0</td>\n",
       "      <td>2015</td>\n",
       "      <td>12</td>\n",
       "      <td>99.5885</td>\n",
       "    </tr>\n",
       "    <tr>\n",
       "      <th>2015-12-14</th>\n",
       "      <td>06M325</td>\n",
       "      <td>20152016</td>\n",
       "      <td>242</td>\n",
       "      <td>225</td>\n",
       "      <td>17</td>\n",
       "      <td>0</td>\n",
       "      <td>2015</td>\n",
       "      <td>12</td>\n",
       "      <td>99.5885</td>\n",
       "    </tr>\n",
       "    <tr>\n",
       "      <th>2015-12-15</th>\n",
       "      <td>06M325</td>\n",
       "      <td>20152016</td>\n",
       "      <td>243</td>\n",
       "      <td>234</td>\n",
       "      <td>9</td>\n",
       "      <td>0</td>\n",
       "      <td>2015</td>\n",
       "      <td>12</td>\n",
       "      <td>100.0000</td>\n",
       "    </tr>\n",
       "    <tr>\n",
       "      <th>2015-12-16</th>\n",
       "      <td>06M325</td>\n",
       "      <td>20152016</td>\n",
       "      <td>243</td>\n",
       "      <td>225</td>\n",
       "      <td>18</td>\n",
       "      <td>0</td>\n",
       "      <td>2015</td>\n",
       "      <td>12</td>\n",
       "      <td>100.0000</td>\n",
       "    </tr>\n",
       "    <tr>\n",
       "      <th>2015-12-17</th>\n",
       "      <td>06M325</td>\n",
       "      <td>20152016</td>\n",
       "      <td>243</td>\n",
       "      <td>226</td>\n",
       "      <td>17</td>\n",
       "      <td>0</td>\n",
       "      <td>2015</td>\n",
       "      <td>12</td>\n",
       "      <td>100.0000</td>\n",
       "    </tr>\n",
       "    <tr>\n",
       "      <th>2015-12-18</th>\n",
       "      <td>06M325</td>\n",
       "      <td>20152016</td>\n",
       "      <td>242</td>\n",
       "      <td>217</td>\n",
       "      <td>25</td>\n",
       "      <td>0</td>\n",
       "      <td>2015</td>\n",
       "      <td>12</td>\n",
       "      <td>99.5885</td>\n",
       "    </tr>\n",
       "    <tr>\n",
       "      <th>2015-12-21</th>\n",
       "      <td>06M325</td>\n",
       "      <td>20152016</td>\n",
       "      <td>242</td>\n",
       "      <td>209</td>\n",
       "      <td>33</td>\n",
       "      <td>0</td>\n",
       "      <td>2015</td>\n",
       "      <td>12</td>\n",
       "      <td>99.5885</td>\n",
       "    </tr>\n",
       "    <tr>\n",
       "      <th>2015-12-22</th>\n",
       "      <td>06M325</td>\n",
       "      <td>20152016</td>\n",
       "      <td>242</td>\n",
       "      <td>219</td>\n",
       "      <td>23</td>\n",
       "      <td>0</td>\n",
       "      <td>2015</td>\n",
       "      <td>12</td>\n",
       "      <td>99.5885</td>\n",
       "    </tr>\n",
       "    <tr>\n",
       "      <th>2015-12-23</th>\n",
       "      <td>06M325</td>\n",
       "      <td>20152016</td>\n",
       "      <td>242</td>\n",
       "      <td>207</td>\n",
       "      <td>35</td>\n",
       "      <td>0</td>\n",
       "      <td>2015</td>\n",
       "      <td>12</td>\n",
       "      <td>99.5885</td>\n",
       "    </tr>\n",
       "  </tbody>\n",
       "</table>\n",
       "</div>"
      ],
      "text/plain": [
       "            School  SchoolYear  Enrolled  Present  Absent  Released   Año  \\\n",
       "Date                                                                        \n",
       "2015-12-01  06M325    20152016       240      221      19         0  2015   \n",
       "2015-12-02  06M325    20152016       241      231      10         0  2015   \n",
       "2015-12-03  06M325    20152016       242      211      13        18  2015   \n",
       "2015-12-04  06M325    20152016       242      222      20         0  2015   \n",
       "2015-12-07  06M325    20152016       242      220      22         0  2015   \n",
       "2015-12-08  06M325    20152016       242      227      15         0  2015   \n",
       "2015-12-09  06M325    20152016       242      224      18         0  2015   \n",
       "2015-12-10  06M325    20152016       242      233       9         0  2015   \n",
       "2015-12-11  06M325    20152016       242      229      13         0  2015   \n",
       "2015-12-14  06M325    20152016       242      225      17         0  2015   \n",
       "2015-12-15  06M325    20152016       243      234       9         0  2015   \n",
       "2015-12-16  06M325    20152016       243      225      18         0  2015   \n",
       "2015-12-17  06M325    20152016       243      226      17         0  2015   \n",
       "2015-12-18  06M325    20152016       242      217      25         0  2015   \n",
       "2015-12-21  06M325    20152016       242      209      33         0  2015   \n",
       "2015-12-22  06M325    20152016       242      219      23         0  2015   \n",
       "2015-12-23  06M325    20152016       242      207      35         0  2015   \n",
       "\n",
       "            Mes  % Inscritos 2015-12  \n",
       "Date                                  \n",
       "2015-12-01   12              98.7654  \n",
       "2015-12-02   12              99.1770  \n",
       "2015-12-03   12              99.5885  \n",
       "2015-12-04   12              99.5885  \n",
       "2015-12-07   12              99.5885  \n",
       "2015-12-08   12              99.5885  \n",
       "2015-12-09   12              99.5885  \n",
       "2015-12-10   12              99.5885  \n",
       "2015-12-11   12              99.5885  \n",
       "2015-12-14   12              99.5885  \n",
       "2015-12-15   12             100.0000  \n",
       "2015-12-16   12             100.0000  \n",
       "2015-12-17   12             100.0000  \n",
       "2015-12-18   12              99.5885  \n",
       "2015-12-21   12              99.5885  \n",
       "2015-12-22   12              99.5885  \n",
       "2015-12-23   12              99.5885  "
      ]
     },
     "execution_count": 48,
     "metadata": {},
     "output_type": "execute_result"
    }
   ],
   "source": [
    "filter_grupo_escuelas.loc[(filter_grupo_escuelas.School== \"06M325\")]"
   ]
  },
  {
   "cell_type": "code",
   "execution_count": 52,
   "metadata": {},
   "outputs": [],
   "source": [
    "# Para añadir una nueva columna de porcentaje de ausentes de una solo una escuela\n",
    "filter_escuela_ausente = add_percent(nombre_escuela = \"06M325\", datos = datawork, intervalo = '2015-10', label = '% Ausentes', work_with = \"Absent\")"
   ]
  },
  {
   "cell_type": "code",
   "execution_count": 53,
   "metadata": {},
   "outputs": [
    {
     "data": {
      "text/html": [
       "<div>\n",
       "<style scoped>\n",
       "    .dataframe tbody tr th:only-of-type {\n",
       "        vertical-align: middle;\n",
       "    }\n",
       "\n",
       "    .dataframe tbody tr th {\n",
       "        vertical-align: top;\n",
       "    }\n",
       "\n",
       "    .dataframe thead th {\n",
       "        text-align: right;\n",
       "    }\n",
       "</style>\n",
       "<table border=\"1\" class=\"dataframe\">\n",
       "  <thead>\n",
       "    <tr style=\"text-align: right;\">\n",
       "      <th></th>\n",
       "      <th>School</th>\n",
       "      <th>SchoolYear</th>\n",
       "      <th>Enrolled</th>\n",
       "      <th>Present</th>\n",
       "      <th>Absent</th>\n",
       "      <th>Released</th>\n",
       "      <th>Año</th>\n",
       "      <th>Mes</th>\n",
       "      <th>% Ausentes 2015-10</th>\n",
       "    </tr>\n",
       "    <tr>\n",
       "      <th>Date</th>\n",
       "      <th></th>\n",
       "      <th></th>\n",
       "      <th></th>\n",
       "      <th></th>\n",
       "      <th></th>\n",
       "      <th></th>\n",
       "      <th></th>\n",
       "      <th></th>\n",
       "      <th></th>\n",
       "    </tr>\n",
       "  </thead>\n",
       "  <tbody>\n",
       "    <tr>\n",
       "      <th>2015-10-01</th>\n",
       "      <td>06M325</td>\n",
       "      <td>20152016</td>\n",
       "      <td>242</td>\n",
       "      <td>223</td>\n",
       "      <td>19</td>\n",
       "      <td>0</td>\n",
       "      <td>2015</td>\n",
       "      <td>10</td>\n",
       "      <td>73.0769</td>\n",
       "    </tr>\n",
       "    <tr>\n",
       "      <th>2015-10-02</th>\n",
       "      <td>06M325</td>\n",
       "      <td>20152016</td>\n",
       "      <td>242</td>\n",
       "      <td>216</td>\n",
       "      <td>26</td>\n",
       "      <td>0</td>\n",
       "      <td>2015</td>\n",
       "      <td>10</td>\n",
       "      <td>100.0000</td>\n",
       "    </tr>\n",
       "    <tr>\n",
       "      <th>2015-10-05</th>\n",
       "      <td>06M325</td>\n",
       "      <td>20152016</td>\n",
       "      <td>242</td>\n",
       "      <td>232</td>\n",
       "      <td>10</td>\n",
       "      <td>0</td>\n",
       "      <td>2015</td>\n",
       "      <td>10</td>\n",
       "      <td>38.4615</td>\n",
       "    </tr>\n",
       "    <tr>\n",
       "      <th>2015-10-06</th>\n",
       "      <td>06M325</td>\n",
       "      <td>20152016</td>\n",
       "      <td>242</td>\n",
       "      <td>230</td>\n",
       "      <td>12</td>\n",
       "      <td>0</td>\n",
       "      <td>2015</td>\n",
       "      <td>10</td>\n",
       "      <td>46.1538</td>\n",
       "    </tr>\n",
       "    <tr>\n",
       "      <th>2015-10-07</th>\n",
       "      <td>06M325</td>\n",
       "      <td>20152016</td>\n",
       "      <td>242</td>\n",
       "      <td>229</td>\n",
       "      <td>13</td>\n",
       "      <td>0</td>\n",
       "      <td>2015</td>\n",
       "      <td>10</td>\n",
       "      <td>50.0000</td>\n",
       "    </tr>\n",
       "    <tr>\n",
       "      <th>2015-10-08</th>\n",
       "      <td>06M325</td>\n",
       "      <td>20152016</td>\n",
       "      <td>243</td>\n",
       "      <td>229</td>\n",
       "      <td>14</td>\n",
       "      <td>0</td>\n",
       "      <td>2015</td>\n",
       "      <td>10</td>\n",
       "      <td>53.8462</td>\n",
       "    </tr>\n",
       "    <tr>\n",
       "      <th>2015-10-09</th>\n",
       "      <td>06M325</td>\n",
       "      <td>20152016</td>\n",
       "      <td>243</td>\n",
       "      <td>229</td>\n",
       "      <td>14</td>\n",
       "      <td>0</td>\n",
       "      <td>2015</td>\n",
       "      <td>10</td>\n",
       "      <td>53.8462</td>\n",
       "    </tr>\n",
       "    <tr>\n",
       "      <th>2015-10-13</th>\n",
       "      <td>06M325</td>\n",
       "      <td>20152016</td>\n",
       "      <td>243</td>\n",
       "      <td>223</td>\n",
       "      <td>20</td>\n",
       "      <td>0</td>\n",
       "      <td>2015</td>\n",
       "      <td>10</td>\n",
       "      <td>76.9231</td>\n",
       "    </tr>\n",
       "    <tr>\n",
       "      <th>2015-10-14</th>\n",
       "      <td>06M325</td>\n",
       "      <td>20152016</td>\n",
       "      <td>244</td>\n",
       "      <td>228</td>\n",
       "      <td>16</td>\n",
       "      <td>0</td>\n",
       "      <td>2015</td>\n",
       "      <td>10</td>\n",
       "      <td>61.5385</td>\n",
       "    </tr>\n",
       "    <tr>\n",
       "      <th>2015-10-15</th>\n",
       "      <td>06M325</td>\n",
       "      <td>20152016</td>\n",
       "      <td>244</td>\n",
       "      <td>236</td>\n",
       "      <td>8</td>\n",
       "      <td>0</td>\n",
       "      <td>2015</td>\n",
       "      <td>10</td>\n",
       "      <td>30.7692</td>\n",
       "    </tr>\n",
       "    <tr>\n",
       "      <th>2015-10-16</th>\n",
       "      <td>06M325</td>\n",
       "      <td>20152016</td>\n",
       "      <td>244</td>\n",
       "      <td>218</td>\n",
       "      <td>26</td>\n",
       "      <td>0</td>\n",
       "      <td>2015</td>\n",
       "      <td>10</td>\n",
       "      <td>100.0000</td>\n",
       "    </tr>\n",
       "    <tr>\n",
       "      <th>2015-10-19</th>\n",
       "      <td>06M325</td>\n",
       "      <td>20152016</td>\n",
       "      <td>244</td>\n",
       "      <td>226</td>\n",
       "      <td>18</td>\n",
       "      <td>0</td>\n",
       "      <td>2015</td>\n",
       "      <td>10</td>\n",
       "      <td>69.2308</td>\n",
       "    </tr>\n",
       "    <tr>\n",
       "      <th>2015-10-20</th>\n",
       "      <td>06M325</td>\n",
       "      <td>20152016</td>\n",
       "      <td>244</td>\n",
       "      <td>228</td>\n",
       "      <td>16</td>\n",
       "      <td>0</td>\n",
       "      <td>2015</td>\n",
       "      <td>10</td>\n",
       "      <td>61.5385</td>\n",
       "    </tr>\n",
       "    <tr>\n",
       "      <th>2015-10-21</th>\n",
       "      <td>06M325</td>\n",
       "      <td>20152016</td>\n",
       "      <td>244</td>\n",
       "      <td>234</td>\n",
       "      <td>10</td>\n",
       "      <td>0</td>\n",
       "      <td>2015</td>\n",
       "      <td>10</td>\n",
       "      <td>38.4615</td>\n",
       "    </tr>\n",
       "    <tr>\n",
       "      <th>2015-10-22</th>\n",
       "      <td>06M325</td>\n",
       "      <td>20152016</td>\n",
       "      <td>244</td>\n",
       "      <td>232</td>\n",
       "      <td>12</td>\n",
       "      <td>0</td>\n",
       "      <td>2015</td>\n",
       "      <td>10</td>\n",
       "      <td>46.1538</td>\n",
       "    </tr>\n",
       "    <tr>\n",
       "      <th>2015-10-23</th>\n",
       "      <td>06M325</td>\n",
       "      <td>20152016</td>\n",
       "      <td>244</td>\n",
       "      <td>229</td>\n",
       "      <td>15</td>\n",
       "      <td>0</td>\n",
       "      <td>2015</td>\n",
       "      <td>10</td>\n",
       "      <td>57.6923</td>\n",
       "    </tr>\n",
       "    <tr>\n",
       "      <th>2015-10-26</th>\n",
       "      <td>06M325</td>\n",
       "      <td>20152016</td>\n",
       "      <td>244</td>\n",
       "      <td>229</td>\n",
       "      <td>15</td>\n",
       "      <td>0</td>\n",
       "      <td>2015</td>\n",
       "      <td>10</td>\n",
       "      <td>57.6923</td>\n",
       "    </tr>\n",
       "    <tr>\n",
       "      <th>2015-10-27</th>\n",
       "      <td>06M325</td>\n",
       "      <td>20152016</td>\n",
       "      <td>243</td>\n",
       "      <td>236</td>\n",
       "      <td>7</td>\n",
       "      <td>0</td>\n",
       "      <td>2015</td>\n",
       "      <td>10</td>\n",
       "      <td>26.9231</td>\n",
       "    </tr>\n",
       "    <tr>\n",
       "      <th>2015-10-28</th>\n",
       "      <td>06M325</td>\n",
       "      <td>20152016</td>\n",
       "      <td>243</td>\n",
       "      <td>231</td>\n",
       "      <td>12</td>\n",
       "      <td>0</td>\n",
       "      <td>2015</td>\n",
       "      <td>10</td>\n",
       "      <td>46.1538</td>\n",
       "    </tr>\n",
       "    <tr>\n",
       "      <th>2015-10-29</th>\n",
       "      <td>06M325</td>\n",
       "      <td>20152016</td>\n",
       "      <td>243</td>\n",
       "      <td>230</td>\n",
       "      <td>13</td>\n",
       "      <td>0</td>\n",
       "      <td>2015</td>\n",
       "      <td>10</td>\n",
       "      <td>50.0000</td>\n",
       "    </tr>\n",
       "    <tr>\n",
       "      <th>2015-10-30</th>\n",
       "      <td>06M325</td>\n",
       "      <td>20152016</td>\n",
       "      <td>243</td>\n",
       "      <td>220</td>\n",
       "      <td>23</td>\n",
       "      <td>0</td>\n",
       "      <td>2015</td>\n",
       "      <td>10</td>\n",
       "      <td>88.4615</td>\n",
       "    </tr>\n",
       "  </tbody>\n",
       "</table>\n",
       "</div>"
      ],
      "text/plain": [
       "            School  SchoolYear  Enrolled  Present  Absent  Released   Año  \\\n",
       "Date                                                                        \n",
       "2015-10-01  06M325    20152016       242      223      19         0  2015   \n",
       "2015-10-02  06M325    20152016       242      216      26         0  2015   \n",
       "2015-10-05  06M325    20152016       242      232      10         0  2015   \n",
       "2015-10-06  06M325    20152016       242      230      12         0  2015   \n",
       "2015-10-07  06M325    20152016       242      229      13         0  2015   \n",
       "2015-10-08  06M325    20152016       243      229      14         0  2015   \n",
       "2015-10-09  06M325    20152016       243      229      14         0  2015   \n",
       "2015-10-13  06M325    20152016       243      223      20         0  2015   \n",
       "2015-10-14  06M325    20152016       244      228      16         0  2015   \n",
       "2015-10-15  06M325    20152016       244      236       8         0  2015   \n",
       "2015-10-16  06M325    20152016       244      218      26         0  2015   \n",
       "2015-10-19  06M325    20152016       244      226      18         0  2015   \n",
       "2015-10-20  06M325    20152016       244      228      16         0  2015   \n",
       "2015-10-21  06M325    20152016       244      234      10         0  2015   \n",
       "2015-10-22  06M325    20152016       244      232      12         0  2015   \n",
       "2015-10-23  06M325    20152016       244      229      15         0  2015   \n",
       "2015-10-26  06M325    20152016       244      229      15         0  2015   \n",
       "2015-10-27  06M325    20152016       243      236       7         0  2015   \n",
       "2015-10-28  06M325    20152016       243      231      12         0  2015   \n",
       "2015-10-29  06M325    20152016       243      230      13         0  2015   \n",
       "2015-10-30  06M325    20152016       243      220      23         0  2015   \n",
       "\n",
       "            Mes  % Ausentes 2015-10  \n",
       "Date                                 \n",
       "2015-10-01   10             73.0769  \n",
       "2015-10-02   10            100.0000  \n",
       "2015-10-05   10             38.4615  \n",
       "2015-10-06   10             46.1538  \n",
       "2015-10-07   10             50.0000  \n",
       "2015-10-08   10             53.8462  \n",
       "2015-10-09   10             53.8462  \n",
       "2015-10-13   10             76.9231  \n",
       "2015-10-14   10             61.5385  \n",
       "2015-10-15   10             30.7692  \n",
       "2015-10-16   10            100.0000  \n",
       "2015-10-19   10             69.2308  \n",
       "2015-10-20   10             61.5385  \n",
       "2015-10-21   10             38.4615  \n",
       "2015-10-22   10             46.1538  \n",
       "2015-10-23   10             57.6923  \n",
       "2015-10-26   10             57.6923  \n",
       "2015-10-27   10             26.9231  \n",
       "2015-10-28   10             46.1538  \n",
       "2015-10-29   10             50.0000  \n",
       "2015-10-30   10             88.4615  "
      ]
     },
     "execution_count": 53,
     "metadata": {},
     "output_type": "execute_result"
    }
   ],
   "source": [
    "filter_escuela_ausente.head()"
   ]
  },
  {
   "cell_type": "markdown",
   "metadata": {},
   "source": [
    "<a id=\"3\"><h3>\n",
    "- Visualiza cada variable\n",
    "</h3></a>"
   ]
  },
  {
   "cell_type": "code",
   "execution_count": 55,
   "metadata": {},
   "outputs": [
    {
     "data": {
      "text/plain": [
       "<AxesSubplot:xlabel='Año'>"
      ]
     },
     "execution_count": 55,
     "metadata": {},
     "output_type": "execute_result"
    },
    {
     "data": {
      "image/png": "[encoded data removed]",
      "text/plain": [
       "<Figure size 432x288 with 1 Axes>"
      ]
     },
     "metadata": {
      "needs_background": "light"
     },
     "output_type": "display_data"
    }
   ],
   "source": [
    "# Inscrito\n",
    "Enrolled = datawork[[\"Enrolled\", \"Año\"]]\n",
    "Enrolled.groupby('Año').mean().plot.line()"
   ]
  },
  {
   "cell_type": "markdown",
   "metadata": {},
   "source": [
    "> No sé a dónde corresponden estos datos de escuelas pero al parecer hay una fuerte tendencia a no inscribirse a la escuela conforme pasan los años. En promedio, conforme pasa el tiempo, menos alumnos se inscriben"
   ]
  },
  {
   "cell_type": "code",
   "execution_count": 58,
   "metadata": {},
   "outputs": [
    {
     "data": {
      "text/plain": [
       "<AxesSubplot:xlabel='Mes'>"
      ]
     },
     "execution_count": 58,
     "metadata": {},
     "output_type": "execute_result"
    },
    {
     "data": {
      "image/png": "[encoded data removed]",
      "text/plain": [
       "<Figure size 432x288 with 1 Axes>"
      ]
     },
     "metadata": {
      "needs_background": "light"
     },
     "output_type": "display_data"
    }
   ],
   "source": [
    "# Inscrito by month\n",
    "Enrolled_month = datawork[[\"Enrolled\", \"Mes\"]]\n",
    "Enrolled_month.groupby('Mes').mean().plot.line()"
   ]
  },
  {
   "cell_type": "markdown",
   "metadata": {},
   "source": [
    "> Pero si revisamos el promedio por mes, podemos ver que hay una tendencia a la alza en el segundo semestre del año. "
   ]
  },
  {
   "cell_type": "code",
   "execution_count": 72,
   "metadata": {},
   "outputs": [
    {
     "data": {
      "text/plain": [
       "<AxesSubplot:xlabel='Año'>"
      ]
     },
     "execution_count": 72,
     "metadata": {},
     "output_type": "execute_result"
    },
    {
     "data": {
      "image/png": "[encoded data removed]",
      "text/plain": [
       "<Figure size 432x288 with 1 Axes>"
      ]
     },
     "metadata": {
      "needs_background": "light"
     },
     "output_type": "display_data"
    }
   ],
   "source": [
    "# Presente\n",
    "Present = datawork[[\"Present\", \"Año\"]]\n",
    "Present.groupby('Año').mean().plot.line()"
   ]
  },
  {
   "cell_type": "markdown",
   "metadata": {},
   "source": [
    "> Consecuentemente, en promedio, la presencia a disminuido..."
   ]
  },
  {
   "cell_type": "code",
   "execution_count": 71,
   "metadata": {},
   "outputs": [
    {
     "data": {
      "text/plain": [
       "<AxesSubplot:xlabel='Mes'>"
      ]
     },
     "execution_count": 71,
     "metadata": {},
     "output_type": "execute_result"
    },
    {
     "data": {
      "image/png": "[encoded data removed]",
      "text/plain": [
       "<Figure size 432x288 with 1 Axes>"
      ]
     },
     "metadata": {
      "needs_background": "light"
     },
     "output_type": "display_data"
    }
   ],
   "source": [
    "# Presente by month\n",
    "Present_month = datawork[[\"Present\", \"Mes\"]]\n",
    "Present_month.groupby('Mes').mean().plot.line()"
   ]
  },
  {
   "cell_type": "markdown",
   "metadata": {},
   "source": [
    "> Sin embargo, al observarlo por mes vemos una tendencia similar a la de inscritos por mes. \n",
    "Tal vez la disminución estrepitosa al finalizar el primer semestre del año e iniciar el segundo\n",
    "se debe a las vacaciones. "
   ]
  },
  {
   "cell_type": "code",
   "execution_count": 68,
   "metadata": {},
   "outputs": [
    {
     "data": {
      "text/plain": [
       "<AxesSubplot:xlabel='Año'>"
      ]
     },
     "execution_count": 68,
     "metadata": {},
     "output_type": "execute_result"
    },
    {
     "data": {
      "image/png": "[encoded data removed]",
      "text/plain": [
       "<Figure size 432x288 with 1 Axes>"
      ]
     },
     "metadata": {
      "needs_background": "light"
     },
     "output_type": "display_data"
    }
   ],
   "source": [
    "# Ausente\n",
    "Absent = datawork[[\"Absent\", \"Año\"]]\n",
    "Absent.groupby('Año').mean().plot.line()"
   ]
  },
  {
   "cell_type": "markdown",
   "metadata": {},
   "source": [
    "> Y la ausencia a aumentado"
   ]
  },
  {
   "cell_type": "code",
   "execution_count": 69,
   "metadata": {},
   "outputs": [
    {
     "data": {
      "text/plain": [
       "<AxesSubplot:xlabel='Mes'>"
      ]
     },
     "execution_count": 69,
     "metadata": {},
     "output_type": "execute_result"
    },
    {
     "data": {
      "image/png": "[encoded data removed]",
      "text/plain": [
       "<Figure size 432x288 with 1 Axes>"
      ]
     },
     "metadata": {
      "needs_background": "light"
     },
     "output_type": "display_data"
    }
   ],
   "source": [
    "# Ausente by month\n",
    "Absent_month = datawork[[\"Absent\", \"Mes\"]]\n",
    "Absent_month.groupby('Mes').mean().plot.line()"
   ]
  },
  {
   "cell_type": "markdown",
   "metadata": {},
   "source": [
    "> Podemos observar una clara correlación negativa entre absent y present"
   ]
  },
  {
   "cell_type": "markdown",
   "metadata": {},
   "source": [
    "<a id=\"4\"><h3>\n",
    "- Visualiza las parejas de variables. Usa scatter para ver relaciones. hex plots?\n",
    "</h3></a>"
   ]
  },
  {
   "cell_type": "code",
   "execution_count": 76,
   "metadata": {},
   "outputs": [
    {
     "data": {
      "text/html": [
       "<div>\n",
       "<style scoped>\n",
       "    .dataframe tbody tr th:only-of-type {\n",
       "        vertical-align: middle;\n",
       "    }\n",
       "\n",
       "    .dataframe tbody tr th {\n",
       "        vertical-align: top;\n",
       "    }\n",
       "\n",
       "    .dataframe thead th {\n",
       "        text-align: right;\n",
       "    }\n",
       "</style>\n",
       "<table border=\"1\" class=\"dataframe\">\n",
       "  <thead>\n",
       "    <tr style=\"text-align: right;\">\n",
       "      <th></th>\n",
       "      <th>SchoolYear</th>\n",
       "      <th>Enrolled</th>\n",
       "      <th>Present</th>\n",
       "      <th>Absent</th>\n",
       "      <th>Released</th>\n",
       "      <th>Año</th>\n",
       "      <th>Mes</th>\n",
       "    </tr>\n",
       "  </thead>\n",
       "  <tbody>\n",
       "    <tr>\n",
       "      <th>SchoolYear</th>\n",
       "      <td>1.000000</td>\n",
       "      <td>-0.003342</td>\n",
       "      <td>-0.005629</td>\n",
       "      <td>0.016644</td>\n",
       "      <td>-0.001931</td>\n",
       "      <td>0.855987</td>\n",
       "      <td>0.011759</td>\n",
       "    </tr>\n",
       "    <tr>\n",
       "      <th>Enrolled</th>\n",
       "      <td>-0.003342</td>\n",
       "      <td>1.000000</td>\n",
       "      <td>0.991840</td>\n",
       "      <td>0.540501</td>\n",
       "      <td>0.008282</td>\n",
       "      <td>-0.003923</td>\n",
       "      <td>0.001535</td>\n",
       "    </tr>\n",
       "    <tr>\n",
       "      <th>Present</th>\n",
       "      <td>-0.005629</td>\n",
       "      <td>0.991840</td>\n",
       "      <td>1.000000</td>\n",
       "      <td>0.443876</td>\n",
       "      <td>-0.054243</td>\n",
       "      <td>-0.014506</td>\n",
       "      <td>0.012602</td>\n",
       "    </tr>\n",
       "    <tr>\n",
       "      <th>Absent</th>\n",
       "      <td>0.016644</td>\n",
       "      <td>0.540501</td>\n",
       "      <td>0.443876</td>\n",
       "      <td>1.000000</td>\n",
       "      <td>-0.015763</td>\n",
       "      <td>0.066332</td>\n",
       "      <td>-0.066765</td>\n",
       "    </tr>\n",
       "    <tr>\n",
       "      <th>Released</th>\n",
       "      <td>-0.001931</td>\n",
       "      <td>0.008282</td>\n",
       "      <td>-0.054243</td>\n",
       "      <td>-0.015763</td>\n",
       "      <td>1.000000</td>\n",
       "      <td>0.024063</td>\n",
       "      <td>-0.032971</td>\n",
       "    </tr>\n",
       "    <tr>\n",
       "      <th>Año</th>\n",
       "      <td>0.855987</td>\n",
       "      <td>-0.003923</td>\n",
       "      <td>-0.014506</td>\n",
       "      <td>0.066332</td>\n",
       "      <td>0.024063</td>\n",
       "      <td>1.000000</td>\n",
       "      <td>-0.465485</td>\n",
       "    </tr>\n",
       "    <tr>\n",
       "      <th>Mes</th>\n",
       "      <td>0.011759</td>\n",
       "      <td>0.001535</td>\n",
       "      <td>0.012602</td>\n",
       "      <td>-0.066765</td>\n",
       "      <td>-0.032971</td>\n",
       "      <td>-0.465485</td>\n",
       "      <td>1.000000</td>\n",
       "    </tr>\n",
       "  </tbody>\n",
       "</table>\n",
       "</div>"
      ],
      "text/plain": [
       "            SchoolYear  Enrolled   Present    Absent  Released       Año  \\\n",
       "SchoolYear    1.000000 -0.003342 -0.005629  0.016644 -0.001931  0.855987   \n",
       "Enrolled     -0.003342  1.000000  0.991840  0.540501  0.008282 -0.003923   \n",
       "Present      -0.005629  0.991840  1.000000  0.443876 -0.054243 -0.014506   \n",
       "Absent        0.016644  0.540501  0.443876  1.000000 -0.015763  0.066332   \n",
       "Released     -0.001931  0.008282 -0.054243 -0.015763  1.000000  0.024063   \n",
       "Año           0.855987 -0.003923 -0.014506  0.066332  0.024063  1.000000   \n",
       "Mes           0.011759  0.001535  0.012602 -0.066765 -0.032971 -0.465485   \n",
       "\n",
       "                 Mes  \n",
       "SchoolYear  0.011759  \n",
       "Enrolled    0.001535  \n",
       "Present     0.012602  \n",
       "Absent     -0.066765  \n",
       "Released   -0.032971  \n",
       "Año        -0.465485  \n",
       "Mes         1.000000  "
      ]
     },
     "execution_count": 76,
     "metadata": {},
     "output_type": "execute_result"
    }
   ],
   "source": [
    "# Antes de proceder a buscar relaciones, busco las correlaciones entre variables\n",
    "# para darme una idea de que busco\n",
    "datawork.corr(method='pearson')"
   ]
  },
  {
   "cell_type": "markdown",
   "metadata": {},
   "source": [
    "Observamos tres correlaciones que sobresalen del resto: Present-Enrolled, Absent-Enrolled, Absent-Present"
   ]
  },
  {
   "cell_type": "code",
   "execution_count": 91,
   "metadata": {},
   "outputs": [
    {
     "data": {
      "text/plain": [
       "[<matplotlib.lines.Line2D at 0x7f86d144e730>]"
      ]
     },
     "execution_count": 91,
     "metadata": {},
     "output_type": "execute_result"
    },
    {
     "data": {
      "image/png": "[encoded data removed]",
      "text/plain": [
       "<Figure size 432x288 with 1 Axes>"
      ]
     },
     "metadata": {
      "needs_background": "light"
     },
     "output_type": "display_data"
    }
   ],
   "source": [
    "from matplotlib import pylab, mlab, pyplot\n",
    "#datawork[\"Año\"]\n",
    "\n",
    "grid()\n",
    "xlabel(\"Present\")\n",
    "ylabel(\"Enrolled\")\n",
    "plot(datawork.Present, datawork.Enrolled, 'b.')"
   ]
  },
  {
   "cell_type": "code",
   "execution_count": 103,
   "metadata": {},
   "outputs": [
    {
     "data": {
      "text/plain": [
       "<matplotlib.collections.PolyCollection at 0x7f86d0cf36a0>"
      ]
     },
     "execution_count": 103,
     "metadata": {},
     "output_type": "execute_result"
    },
    {
     "data": {
      "image/png": "[encoded data removed]",
      "text/plain": [
       "<Figure size 432x288 with 1 Axes>"
      ]
     },
     "metadata": {
      "needs_background": "light"
     },
     "output_type": "display_data"
    }
   ],
   "source": [
    "grid()\n",
    "xlabel(\"Present\")\n",
    "ylabel(\"Enrolled\")\n",
    "plt.hexbin(datawork.Present, datawork.Enrolled)"
   ]
  },
  {
   "cell_type": "code",
   "execution_count": 92,
   "metadata": {},
   "outputs": [
    {
     "data": {
      "text/plain": [
       "[<matplotlib.lines.Line2D at 0x7f86d12ebb50>]"
      ]
     },
     "execution_count": 92,
     "metadata": {},
     "output_type": "execute_result"
    },
    {
     "data": {
      "image/png": "[encoded data removed]",
      "text/plain": [
       "<Figure size 432x288 with 1 Axes>"
      ]
     },
     "metadata": {
      "needs_background": "light"
     },
     "output_type": "display_data"
    }
   ],
   "source": [
    "grid()\n",
    "xlabel(\"Absent\")\n",
    "ylabel(\"Enrolled\")\n",
    "plot(datawork.Absent, datawork.Enrolled, 'rd')"
   ]
  },
  {
   "cell_type": "code",
   "execution_count": 102,
   "metadata": {},
   "outputs": [
    {
     "data": {
      "text/plain": [
       "<matplotlib.collections.PolyCollection at 0x7f86d123c1f0>"
      ]
     },
     "execution_count": 102,
     "metadata": {},
     "output_type": "execute_result"
    },
    {
     "data": {
      "image/png": "[encoded data removed]",
      "text/plain": [
       "<Figure size 432x288 with 1 Axes>"
      ]
     },
     "metadata": {
      "needs_background": "light"
     },
     "output_type": "display_data"
    }
   ],
   "source": [
    "grid()\n",
    "xlabel(\"Absent\")\n",
    "ylabel(\"Enrolled\")\n",
    "plt.hexbin(datawork.Absent, datawork.Enrolled)"
   ]
  },
  {
   "cell_type": "code",
   "execution_count": 93,
   "metadata": {},
   "outputs": [
    {
     "data": {
      "text/plain": [
       "[<matplotlib.lines.Line2D at 0x7f86d11caf10>]"
      ]
     },
     "execution_count": 93,
     "metadata": {},
     "output_type": "execute_result"
    },
    {
     "data": {
      "image/png": "[encoded data removed]",
      "text/plain": [
       "<Figure size 432x288 with 1 Axes>"
      ]
     },
     "metadata": {
      "needs_background": "light"
     },
     "output_type": "display_data"
    }
   ],
   "source": [
    "grid()\n",
    "xlabel(\"Absent\")\n",
    "ylabel(\"Present\")\n",
    "plot(datawork.Absent, datawork.Present, 'g^')"
   ]
  },
  {
   "cell_type": "code",
   "execution_count": 100,
   "metadata": {},
   "outputs": [
    {
     "data": {
      "text/plain": [
       "<matplotlib.collections.PolyCollection at 0x7f86d1624040>"
      ]
     },
     "execution_count": 100,
     "metadata": {},
     "output_type": "execute_result"
    },
    {
     "data": {
      "image/png": "[encoded data removed]",
      "text/plain": [
       "<Figure size 432x288 with 1 Axes>"
      ]
     },
     "metadata": {
      "needs_background": "light"
     },
     "output_type": "display_data"
    }
   ],
   "source": [
    "# Make the plot\n",
    "#plt.hexbin(X, Y, gridsize=(15,15) )\n",
    "#plt.show()\n",
    "grid()\n",
    "xlabel(\"Absent\")\n",
    "ylabel(\"Present\")\n",
    "plt.hexbin(datawork.Absent, datawork.Present)"
   ]
  }
 ],
 "metadata": {
  "kernelspec": {
   "display_name": "Python 3",
   "language": "python",
   "name": "python3"
  },
  "language_info": {
   "codemirror_mode": {
    "name": "ipython",
    "version": 3
   },
   "file_extension": ".py",
   "mimetype": "text/x-python",
   "name": "python",
   "nbconvert_exporter": "python",
   "pygments_lexer": "ipython3",
   "version": "3.8.6"
  }
 },
 "nbformat": 4,
 "nbformat_minor": 4
}
