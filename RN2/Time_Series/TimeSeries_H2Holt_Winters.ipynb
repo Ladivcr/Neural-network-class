{
  "nbformat": 4,
  "nbformat_minor": 0,
  "metadata": {
    "colab": {
      "name": "TimeSeries_H2Holt_Winters.ipynb",
      "provenance": [],
      "collapsed_sections": []
    },
    "kernelspec": {
      "name": "python3",
      "display_name": "Python 3"
    },
    "language_info": {
      "name": "python"
    }
  },
  "cells": [
    {
      "cell_type": "markdown",
      "metadata": {
        "id": "YL033MFZjaGB"
      },
      "source": [
        "# Programa Holt-Winters \n",
        "\n",
        "(en los videos viene Holt. A ese código agrégale la s) y aplícalo a algun conjunto de datos de los vistos anteriormente\n",
        "\n",
        "- Programa este método. Para los primeros L periodos, 𝑠𝑡=1.\n",
        "\n",
        "- Grafica st, bt, ℓ𝑡.\n",
        "\n",
        "- Pregunta: ¿cómo se hace forecasting con este método? (hint: la respuesta contiene un \"módulo L\").\n",
        "\n",
        "- Mide el error."
      ]
    },
    {
      "cell_type": "code",
      "metadata": {
        "id": "vLb3TjS_hwzC"
      },
      "source": [
        "import numpy as np \n",
        "import pandas as pd\n",
        "from datetime import datetime\n",
        "import matplotlib\n",
        "import matplotlib.pyplot as plt"
      ],
      "execution_count": 102,
      "outputs": []
    },
    {
      "cell_type": "code",
      "metadata": {
        "colab": {
          "base_uri": "https://localhost:8080/",
          "height": 206
        },
        "id": "O72YnxaNiIEZ",
        "outputId": "9ae5cf57-cb6b-4a31-b95f-977e17ec2bc0"
      },
      "source": [
        "df = pd.read_csv('/content/macrodata.csv', index_col=\"Unnamed: 0\", parse_dates=True)\n",
        "#df = pd.read_csv('/content/daily-min-temperatures.csv', index_col='Date', parse_dates=True)\n",
        "\n",
        "\n",
        "df.head()"
      ],
      "execution_count": 103,
      "outputs": [
        {
          "output_type": "execute_result",
          "data": {
            "text/html": [
              "<div>\n",
              "<style scoped>\n",
              "    .dataframe tbody tr th:only-of-type {\n",
              "        vertical-align: middle;\n",
              "    }\n",
              "\n",
              "    .dataframe tbody tr th {\n",
              "        vertical-align: top;\n",
              "    }\n",
              "\n",
              "    .dataframe thead th {\n",
              "        text-align: right;\n",
              "    }\n",
              "</style>\n",
              "<table border=\"1\" class=\"dataframe\">\n",
              "  <thead>\n",
              "    <tr style=\"text-align: right;\">\n",
              "      <th></th>\n",
              "      <th>year</th>\n",
              "      <th>quarter</th>\n",
              "      <th>realgdp</th>\n",
              "      <th>realcons</th>\n",
              "      <th>realinv</th>\n",
              "      <th>realgovt</th>\n",
              "      <th>realdpi</th>\n",
              "      <th>cpi</th>\n",
              "      <th>m1</th>\n",
              "      <th>tbilrate</th>\n",
              "      <th>unemp</th>\n",
              "      <th>pop</th>\n",
              "      <th>infl</th>\n",
              "      <th>realint</th>\n",
              "    </tr>\n",
              "  </thead>\n",
              "  <tbody>\n",
              "    <tr>\n",
              "      <th>1959-03-31</th>\n",
              "      <td>1959</td>\n",
              "      <td>1</td>\n",
              "      <td>2710.349</td>\n",
              "      <td>1707.4</td>\n",
              "      <td>286.898</td>\n",
              "      <td>470.045</td>\n",
              "      <td>1886.9</td>\n",
              "      <td>28.98</td>\n",
              "      <td>139.7</td>\n",
              "      <td>2.82</td>\n",
              "      <td>5.8</td>\n",
              "      <td>177.146</td>\n",
              "      <td>0.00</td>\n",
              "      <td>0.00</td>\n",
              "    </tr>\n",
              "    <tr>\n",
              "      <th>1959-06-30</th>\n",
              "      <td>1959</td>\n",
              "      <td>2</td>\n",
              "      <td>2778.801</td>\n",
              "      <td>1733.7</td>\n",
              "      <td>310.859</td>\n",
              "      <td>481.301</td>\n",
              "      <td>1919.7</td>\n",
              "      <td>29.15</td>\n",
              "      <td>141.7</td>\n",
              "      <td>3.08</td>\n",
              "      <td>5.1</td>\n",
              "      <td>177.830</td>\n",
              "      <td>2.34</td>\n",
              "      <td>0.74</td>\n",
              "    </tr>\n",
              "    <tr>\n",
              "      <th>1959-09-30</th>\n",
              "      <td>1959</td>\n",
              "      <td>3</td>\n",
              "      <td>2775.488</td>\n",
              "      <td>1751.8</td>\n",
              "      <td>289.226</td>\n",
              "      <td>491.260</td>\n",
              "      <td>1916.4</td>\n",
              "      <td>29.35</td>\n",
              "      <td>140.5</td>\n",
              "      <td>3.82</td>\n",
              "      <td>5.3</td>\n",
              "      <td>178.657</td>\n",
              "      <td>2.74</td>\n",
              "      <td>1.09</td>\n",
              "    </tr>\n",
              "    <tr>\n",
              "      <th>1959-12-31</th>\n",
              "      <td>1959</td>\n",
              "      <td>4</td>\n",
              "      <td>2785.204</td>\n",
              "      <td>1753.7</td>\n",
              "      <td>299.356</td>\n",
              "      <td>484.052</td>\n",
              "      <td>1931.3</td>\n",
              "      <td>29.37</td>\n",
              "      <td>140.0</td>\n",
              "      <td>4.33</td>\n",
              "      <td>5.6</td>\n",
              "      <td>179.386</td>\n",
              "      <td>0.27</td>\n",
              "      <td>4.06</td>\n",
              "    </tr>\n",
              "    <tr>\n",
              "      <th>1960-03-31</th>\n",
              "      <td>1960</td>\n",
              "      <td>1</td>\n",
              "      <td>2847.699</td>\n",
              "      <td>1770.5</td>\n",
              "      <td>331.722</td>\n",
              "      <td>462.199</td>\n",
              "      <td>1955.5</td>\n",
              "      <td>29.54</td>\n",
              "      <td>139.6</td>\n",
              "      <td>3.50</td>\n",
              "      <td>5.2</td>\n",
              "      <td>180.007</td>\n",
              "      <td>2.31</td>\n",
              "      <td>1.19</td>\n",
              "    </tr>\n",
              "  </tbody>\n",
              "</table>\n",
              "</div>"
            ],
            "text/plain": [
              "            year  quarter   realgdp  realcons  ...  unemp      pop  infl  realint\n",
              "1959-03-31  1959        1  2710.349    1707.4  ...    5.8  177.146  0.00     0.00\n",
              "1959-06-30  1959        2  2778.801    1733.7  ...    5.1  177.830  2.34     0.74\n",
              "1959-09-30  1959        3  2775.488    1751.8  ...    5.3  178.657  2.74     1.09\n",
              "1959-12-31  1959        4  2785.204    1753.7  ...    5.6  179.386  0.27     4.06\n",
              "1960-03-31  1960        1  2847.699    1770.5  ...    5.2  180.007  2.31     1.19\n",
              "\n",
              "[5 rows x 14 columns]"
            ]
          },
          "metadata": {
            "tags": []
          },
          "execution_count": 103
        }
      ]
    },
    {
      "cell_type": "code",
      "metadata": {
        "colab": {
          "base_uri": "https://localhost:8080/"
        },
        "id": "eIKcJwQXUpiW",
        "outputId": "de5eed4d-ed91-4e90-f102-60490a84869c"
      },
      "source": [
        "len(df)"
      ],
      "execution_count": 104,
      "outputs": [
        {
          "output_type": "execute_result",
          "data": {
            "text/plain": [
              "203"
            ]
          },
          "metadata": {
            "tags": []
          },
          "execution_count": 104
        }
      ]
    },
    {
      "cell_type": "code",
      "metadata": {
        "id": "iwH4xj4CU_-M"
      },
      "source": [
        "def error_rmse(df, colA, colB, init_step): \n",
        "    \"\"\"Función para calcular el error rmse\n",
        "    \"\"\"\n",
        "    valid_df = df[init_step:]\n",
        "    return np.sqrt(np.mean(np.square(valid_df[colA] - valid_df[colB])))\n"
      ],
      "execution_count": 105,
      "outputs": []
    },
    {
      "cell_type": "code",
      "metadata": {
        "id": "m4munKICVMWH"
      },
      "source": [
        "def error_l1(df, colA, colB, init_step): \n",
        "    \"\"\"Función para calcular el error l1\n",
        "    \"\"\"\n",
        "    valid_df = df[init_step:]\n",
        "    return np.mean(np.abs(valid_df[colA] - valid_df[colB]))"
      ],
      "execution_count": 106,
      "outputs": []
    },
    {
      "cell_type": "markdown",
      "metadata": {
        "id": "lmhWSRdmKMpr"
      },
      "source": [
        "# Método de Holt-Winters\n",
        "\n",
        "¿Cuál es el problema de EWMA? Imaginemos que los valores fueran creciendo constantemente. Sería razonable pensar que seguirá creciendo. EWMA siempre predice más pequeños que el último, porque es simplemente un promedio pesado. Vamos entonces a usar una componente de \"tendencia\" $b_{t}$, en donde simplemente mediremos qué tanto van creciendo o disminuyendo los valores _(método de Holt)_. <- **Método de Holt**\n",
        "\n",
        "Posteriormente le agregaremos una componente de \"periodicidad\" $s_{t}$ (seasonality), en donde tomaremos en cuenta los valores del periodo anterior para modelar los ciclos que vemos. \n",
        "\n",
        "En resumen, usamos 3 componentes: \n",
        "\n",
        "1. $\\ell_{t}$ para el \"nivel\" (EWMA básicamente) \n",
        "2. $b_{t}$ para la tendencia\n",
        "3. $s_{t}$ para la periodicidad \n",
        "\n",
        "Cada uno tendrá su parámentro de suavizado: $\\alpha, \\beta, \\gamma$\n",
        "\n",
        "> Vamos a hacer un EWMA para los tres, de ahí que cada uno tenga su parámetro de suavizado\n",
        "\n",
        "Primero veremos una versión más sencilla, el método de Holt, donde solo tomamos en cuenta $\\ell$ y $b$."
      ]
    },
    {
      "cell_type": "markdown",
      "metadata": {
        "id": "fgruQUR6KPy_"
      },
      "source": [
        "# Método de Holt \n",
        "\n",
        "En EWMA teníamos: \n",
        "\n",
        "$$y_{1} = x_{0}$$\n",
        "$$y_{n} = \\alpha x_{n-1} + (1-\\alpha)y_{n-1}$$\n",
        "\n",
        "Para tomar en cuenta la tendencía, debemos medir cómo va cambiando el nivel en cada medición y tomaremos el promedio de éstos: \n",
        "\n",
        "$$\\ell_{t} = (1 - \\alpha)\\ell_{t-1} + \\alpha x_{t}$$\n",
        "$$b_{t} = (1 - \\beta)b_{t-1} + \\beta(\\ell_{t} - \\ell_{t-1})$$\n",
        "$$y_{t} = \\ell_{t} + b_{t}$$\n",
        "\n",
        "> $\\ell_{t}$ es lo que antes era $y$\n",
        "\n",
        "> en $b_{t}$ (tendecia) estamos comparando los niveles contra los anteriores para ver como va cambiando entre cada tiempo y el siguiente tiempo. Y tomamos un promedio pesado, un promedio con EWMA, tenemos que hacer lo que dicta la formula. \n",
        "\n",
        "Si bien para esta actividad debemos agregar la $s$ a este método, entonces nos quedaría de la siguiente manera: \n",
        "\n",
        "$$\n",
        "s_{t} = (1- \\gamma)s_{t-1} + \\gamma(b_{t} - b_{t-1})\n",
        "$$\n",
        "$$\n",
        "y_{t} = \\ell_{t} + b_{t} * s_{t}\n",
        "$$"
      ]
    },
    {
      "cell_type": "markdown",
      "metadata": {
        "id": "bPtpy0GtkPO3"
      },
      "source": [
        "# Programa este método. Para los primeros L periodos, 𝑠𝑡=1.\n"
      ]
    },
    {
      "cell_type": "code",
      "metadata": {
        "id": "IHXZ23FPIkro"
      },
      "source": [
        "def holts(X, alpha, beta, gamma, L, data):\n",
        "  \"\"\"\n",
        "  INPUT\n",
        "  ---------------\n",
        "  X = serie\n",
        "  alpha = float\n",
        "  beta = float\n",
        "  gamma = float\n",
        "  L = Int\n",
        "  data = pd.DataFrame\n",
        "\n",
        "  RETURN\n",
        "  ------------\n",
        "  Y = result holt-winters\n",
        "  data _ pd.DataFrame\n",
        "  \"\"\"\n",
        "  n = len(X)\n",
        "  l = [X[0]]\n",
        "  B = [0]\n",
        "  S = [0]*L\n",
        "  Y = [X[0]]\n",
        "  for i in range(1, n): \n",
        "    li = alpha*X[i] + (1-alpha)*l[i-1]\n",
        "    l.append(li)\n",
        "    bi = (1-beta)*B[-1] + beta*(l[i] - l[i-1])\n",
        "    B.append(bi)\n",
        "\n",
        "    # Contabilizar periodos\n",
        "    if i >= L:\n",
        "      si = (1-gamma)*S[i-L] + gamma*(B[i] - B[i-1])\n",
        "      S.append(si)\n",
        "\n",
        "      yi = li + bi * si\n",
        "      Y.append(yi)\n",
        "    else: \n",
        "      yi = li + bi * S[i]\n",
        "      Y.append(yi)\n",
        "    \n",
        "\n",
        "  data[\"St\"] = S\n",
        "  data[\"Bt\"] = B\n",
        "  data[\"Lt\"] = L\n",
        "  return (Y, data)"
      ],
      "execution_count": 107,
      "outputs": []
    },
    {
      "cell_type": "code",
      "metadata": {
        "id": "B5GmebpnSiJ8"
      },
      "source": [
        "df['Holt_temps'], our_data = holts(df['realgdp'], 0.1, 0.2, 1, 10, df.copy())\n",
        "#df['Holt_temps'], our_data = holts(df['Temp'], 0.1, 0.2, 1, 10, df.copy())"
      ],
      "execution_count": 108,
      "outputs": []
    },
    {
      "cell_type": "code",
      "metadata": {
        "colab": {
          "base_uri": "https://localhost:8080/",
          "height": 282
        },
        "id": "BqDG78MKSkxk",
        "outputId": "7b653b01-ba09-4baf-ecc5-7d5a6ac63573"
      },
      "source": [
        "df[['Holt_temps', 'realgdp']].plot()\n",
        "#df[['Holt_temps', 'Temp']][100:600].plot()"
      ],
      "execution_count": 109,
      "outputs": [
        {
          "output_type": "execute_result",
          "data": {
            "text/plain": [
              "<matplotlib.axes._subplots.AxesSubplot at 0x7f182463d310>"
            ]
          },
          "metadata": {
            "tags": []
          },
          "execution_count": 109
        },
        {
          "output_type": "display_data",
          "data": {
            "image/png": "[encoded data removed]",
            "text/plain": [
              "<Figure size 432x288 with 1 Axes>"
            ]
          },
          "metadata": {
            "tags": [],
            "needs_background": "light"
          }
        }
      ]
    },
    {
      "cell_type": "markdown",
      "metadata": {
        "id": "GsOwQoLxkJfd"
      },
      "source": [
        "# Mide el error"
      ]
    },
    {
      "cell_type": "code",
      "metadata": {
        "colab": {
          "base_uri": "https://localhost:8080/"
        },
        "id": "eX2bO76GUhoK",
        "outputId": "e96c677c-40f1-4002-b8e2-9b0f44c6ce8b"
      },
      "source": [
        "error_rmse(df, 'realgdp', 'Holt_temps', 100)\n",
        "#error_rmse(df, 'Temp', 'Holt_temps', 3285)"
      ],
      "execution_count": 110,
      "outputs": [
        {
          "output_type": "execute_result",
          "data": {
            "text/plain": [
              "626.3060589386708"
            ]
          },
          "metadata": {
            "tags": []
          },
          "execution_count": 110
        }
      ]
    },
    {
      "cell_type": "code",
      "metadata": {
        "colab": {
          "base_uri": "https://localhost:8080/"
        },
        "id": "vp0LyxcKVV4I",
        "outputId": "71c23eb3-db41-4ddc-a975-b45af5919328"
      },
      "source": [
        "error_l1(df, 'realgdp', 'Holt_temps', 100)\n",
        "#error_rmse(df, 'Temp', 'Holt_temps', 3285)"
      ],
      "execution_count": 111,
      "outputs": [
        {
          "output_type": "execute_result",
          "data": {
            "text/plain": [
              "604.2422831953655"
            ]
          },
          "metadata": {
            "tags": []
          },
          "execution_count": 111
        }
      ]
    },
    {
      "cell_type": "markdown",
      "metadata": {
        "id": "QDhVoTsRkFME"
      },
      "source": [
        "# Grafica st, bt, ℓ𝑡."
      ]
    },
    {
      "cell_type": "code",
      "metadata": {
        "colab": {
          "base_uri": "https://localhost:8080/",
          "height": 294
        },
        "id": "QsVyxsk2ZAKU",
        "outputId": "b24d6c4a-be28-4dfe-f319-cd54be5fea87"
      },
      "source": [
        "our_data[[\"St\", \"Bt\", \"Lt\"]][200:400].plot()"
      ],
      "execution_count": 112,
      "outputs": [
        {
          "output_type": "execute_result",
          "data": {
            "text/plain": [
              "<matplotlib.axes._subplots.AxesSubplot at 0x7f18248cafd0>"
            ]
          },
          "metadata": {
            "tags": []
          },
          "execution_count": 112
        },
        {
          "output_type": "display_data",
          "data": {
            "image/png": "[encoded data removed]",
            "text/plain": [
              "<Figure size 432x288 with 1 Axes>"
            ]
          },
          "metadata": {
            "tags": [],
            "needs_background": "light"
          }
        }
      ]
    },
    {
      "cell_type": "markdown",
      "metadata": {
        "id": "isrhrt2hkTep"
      },
      "source": [
        "# ¿cómo se hace forecasting con este método? (hint: la respuesta contiene un \"módulo L\")"
      ]
    },
    {
      "cell_type": "code",
      "metadata": {
        "id": "kByWSK6db60J"
      },
      "source": [
        ""
      ],
      "execution_count": 112,
      "outputs": []
    }
  ]
}