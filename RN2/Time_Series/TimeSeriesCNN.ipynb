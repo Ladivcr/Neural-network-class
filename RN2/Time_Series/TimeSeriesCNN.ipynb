{
  "nbformat": 4,
  "nbformat_minor": 0,
  "metadata": {
    "colab": {
      "name": "TimeSeriesNN.ipynb",
      "provenance": [],
      "collapsed_sections": []
    },
    "kernelspec": {
      "name": "python3",
      "display_name": "Python 3"
    },
    "language_info": {
      "name": "python"
    },
    "accelerator": "GPU"
  },
  "cells": [
    {
      "cell_type": "code",
      "metadata": {
        "colab": {
          "base_uri": "https://localhost:8080/"
        },
        "id": "gJxMKCXsNywV",
        "outputId": "2a767df3-8cce-440a-a9d2-802664725ce3"
      },
      "source": [
        "!pip install -Uqq fastbook\n",
        "import fastbook\n",
        "fastbook.setup_book()"
      ],
      "execution_count": 1,
      "outputs": [
        {
          "output_type": "stream",
          "text": [
            "\u001b[K     |████████████████████████████████| 720 kB 7.4 MB/s \n",
            "\u001b[K     |████████████████████████████████| 46 kB 2.3 MB/s \n",
            "\u001b[K     |████████████████████████████████| 1.2 MB 56.8 MB/s \n",
            "\u001b[K     |████████████████████████████████| 188 kB 64.2 MB/s \n",
            "\u001b[K     |████████████████████████████████| 56 kB 5.7 MB/s \n",
            "\u001b[K     |████████████████████████████████| 51 kB 449 kB/s \n",
            "\u001b[?25hMounted at /content/gdrive\n"
          ],
          "name": "stdout"
        }
      ]
    },
    {
      "cell_type": "code",
      "metadata": {
        "id": "-dUTkYs0N2ba"
      },
      "source": [
        "from fastbook import *"
      ],
      "execution_count": 2,
      "outputs": []
    },
    {
      "cell_type": "markdown",
      "metadata": {
        "id": "70VtdkT_KPK4"
      },
      "source": [
        "# Series de tiempo y redes neuronales \n",
        " Hay varias maneras de usar redes neuronales para predecir series de tiempo. Nuestro objetivo será llegar a redes neuronales **recurrentes**.\n",
        "\n",
        " Vamos a hacer redes neuronales _\"fully connected\"_, pero si lo piensas bien, estamos usando la idea de las redes neuronales convolucionales."
      ]
    },
    {
      "cell_type": "code",
      "metadata": {
        "id": "3IqXuvXnnXDM"
      },
      "source": [
        "import numpy as np \n",
        "import pandas as pd \n",
        "import fastai.tabular.all as ft\n",
        "import torch \n",
        "import torch.nn as nn\n",
        "import torch.nn.functional as F"
      ],
      "execution_count": 3,
      "outputs": []
    },
    {
      "cell_type": "code",
      "metadata": {
        "id": "LaaRuk9kKrZW"
      },
      "source": [
        "df = pd.read_csv(\"/content/daily-min-temperatures.csv\", index_col=\"Date\", parse_dates = True)"
      ],
      "execution_count": 6,
      "outputs": []
    },
    {
      "cell_type": "code",
      "metadata": {
        "colab": {
          "base_uri": "https://localhost:8080/",
          "height": 286
        },
        "id": "qvI8pd6BK64X",
        "outputId": "b63c64fe-26d1-4246-dc9a-a3d0868a653e"
      },
      "source": [
        "df.plot()"
      ],
      "execution_count": 7,
      "outputs": [
        {
          "output_type": "execute_result",
          "data": {
            "text/plain": [
              "<matplotlib.axes._subplots.AxesSubplot at 0x7ff04cd93210>"
            ]
          },
          "metadata": {
            "tags": []
          },
          "execution_count": 7
        },
        {
          "output_type": "display_data",
          "data": {
            "image/png": "[encoded data removed]",
            "text/plain": [
              "<Figure size 432x288 with 1 Axes>"
            ]
          },
          "metadata": {
            "tags": [],
            "needs_background": "light"
          }
        }
      ]
    },
    {
      "cell_type": "markdown",
      "metadata": {
        "id": "1IYEEJO2MtNh"
      },
      "source": [
        "# ¿Cómo usar redes neuronales? \n",
        "\n",
        "1. Que la red tome exclusivamente la temperatura del día anterior pare predecir la temperatura del día siguiente\n",
        "\n",
        "2. Convolucionales: Agregarle las últimas $k$ temperaturas para que pueda hacer la predicción \n",
        "3. Agregarle información del mes y del año \n",
        "4. Agreagarle por ejemplo EWMA\n",
        "5. Agreagarle la desviación estándar y otra información \n",
        "6. ¿Por qué redes recurrentes? \n",
        "\n",
        "# Cargar datos\n",
        "\n",
        "> Recordemos que fastai puede cargar datos \"tabulares\" (e.g. un dataframe en pandas) \n"
      ]
    },
    {
      "cell_type": "code",
      "metadata": {
        "colab": {
          "base_uri": "https://localhost:8080/",
          "height": 238
        },
        "id": "d2n2YqIbK8JS",
        "outputId": "9a7d786a-0cb0-4e5c-b41f-667d0904fc44"
      },
      "source": [
        "df.head()"
      ],
      "execution_count": 8,
      "outputs": [
        {
          "output_type": "execute_result",
          "data": {
            "text/html": [
              "<div>\n",
              "<style scoped>\n",
              "    .dataframe tbody tr th:only-of-type {\n",
              "        vertical-align: middle;\n",
              "    }\n",
              "\n",
              "    .dataframe tbody tr th {\n",
              "        vertical-align: top;\n",
              "    }\n",
              "\n",
              "    .dataframe thead th {\n",
              "        text-align: right;\n",
              "    }\n",
              "</style>\n",
              "<table border=\"1\" class=\"dataframe\">\n",
              "  <thead>\n",
              "    <tr style=\"text-align: right;\">\n",
              "      <th></th>\n",
              "      <th>Temp</th>\n",
              "    </tr>\n",
              "    <tr>\n",
              "      <th>Date</th>\n",
              "      <th></th>\n",
              "    </tr>\n",
              "  </thead>\n",
              "  <tbody>\n",
              "    <tr>\n",
              "      <th>1981-01-01</th>\n",
              "      <td>20.7</td>\n",
              "    </tr>\n",
              "    <tr>\n",
              "      <th>1981-01-02</th>\n",
              "      <td>17.9</td>\n",
              "    </tr>\n",
              "    <tr>\n",
              "      <th>1981-01-03</th>\n",
              "      <td>18.8</td>\n",
              "    </tr>\n",
              "    <tr>\n",
              "      <th>1981-01-04</th>\n",
              "      <td>14.6</td>\n",
              "    </tr>\n",
              "    <tr>\n",
              "      <th>1981-01-05</th>\n",
              "      <td>15.8</td>\n",
              "    </tr>\n",
              "  </tbody>\n",
              "</table>\n",
              "</div>"
            ],
            "text/plain": [
              "            Temp\n",
              "Date            \n",
              "1981-01-01  20.7\n",
              "1981-01-02  17.9\n",
              "1981-01-03  18.8\n",
              "1981-01-04  14.6\n",
              "1981-01-05  15.8"
            ]
          },
          "metadata": {
            "tags": []
          },
          "execution_count": 8
        }
      ]
    },
    {
      "cell_type": "markdown",
      "metadata": {
        "id": "Lxcy-XFUOfdu"
      },
      "source": [
        "Queremos predecir la temperatura cada día basados en la temperatura anterior, así que debemos crear la columna \"ultima_temp\""
      ]
    },
    {
      "cell_type": "code",
      "metadata": {
        "id": "mud4k7T1OStR"
      },
      "source": [
        "df[\"ultima_temp\"] = df[\"Temp\"].shift(1)"
      ],
      "execution_count": 10,
      "outputs": []
    },
    {
      "cell_type": "code",
      "metadata": {
        "colab": {
          "base_uri": "https://localhost:8080/",
          "height": 238
        },
        "id": "sHUjc1LDOqxr",
        "outputId": "56b165db-1b74-4cda-d902-d8e355e6496c"
      },
      "source": [
        "df.head()"
      ],
      "execution_count": 11,
      "outputs": [
        {
          "output_type": "execute_result",
          "data": {
            "text/html": [
              "<div>\n",
              "<style scoped>\n",
              "    .dataframe tbody tr th:only-of-type {\n",
              "        vertical-align: middle;\n",
              "    }\n",
              "\n",
              "    .dataframe tbody tr th {\n",
              "        vertical-align: top;\n",
              "    }\n",
              "\n",
              "    .dataframe thead th {\n",
              "        text-align: right;\n",
              "    }\n",
              "</style>\n",
              "<table border=\"1\" class=\"dataframe\">\n",
              "  <thead>\n",
              "    <tr style=\"text-align: right;\">\n",
              "      <th></th>\n",
              "      <th>Temp</th>\n",
              "      <th>ultima_temp</th>\n",
              "    </tr>\n",
              "    <tr>\n",
              "      <th>Date</th>\n",
              "      <th></th>\n",
              "      <th></th>\n",
              "    </tr>\n",
              "  </thead>\n",
              "  <tbody>\n",
              "    <tr>\n",
              "      <th>1981-01-01</th>\n",
              "      <td>20.7</td>\n",
              "      <td>NaN</td>\n",
              "    </tr>\n",
              "    <tr>\n",
              "      <th>1981-01-02</th>\n",
              "      <td>17.9</td>\n",
              "      <td>20.7</td>\n",
              "    </tr>\n",
              "    <tr>\n",
              "      <th>1981-01-03</th>\n",
              "      <td>18.8</td>\n",
              "      <td>17.9</td>\n",
              "    </tr>\n",
              "    <tr>\n",
              "      <th>1981-01-04</th>\n",
              "      <td>14.6</td>\n",
              "      <td>18.8</td>\n",
              "    </tr>\n",
              "    <tr>\n",
              "      <th>1981-01-05</th>\n",
              "      <td>15.8</td>\n",
              "      <td>14.6</td>\n",
              "    </tr>\n",
              "  </tbody>\n",
              "</table>\n",
              "</div>"
            ],
            "text/plain": [
              "            Temp  ultima_temp\n",
              "Date                         \n",
              "1981-01-01  20.7          NaN\n",
              "1981-01-02  17.9         20.7\n",
              "1981-01-03  18.8         17.9\n",
              "1981-01-04  14.6         18.8\n",
              "1981-01-05  15.8         14.6"
            ]
          },
          "metadata": {
            "tags": []
          },
          "execution_count": 11
        }
      ]
    },
    {
      "cell_type": "code",
      "metadata": {
        "id": "UIrOpXAAOt14"
      },
      "source": [
        "def error_l1(df, colA, colB): \n",
        "  df = df.iloc[-365:]\n",
        "  return np.mean(np.abs(df[colA]-df[colB]))\n",
        "\n",
        "def error_rmse(df, colA, colB):\n",
        "  df = df.iloc[-365:] \n",
        "  return np.sqrt(np.mean(np.square(df[colA]-df[colB])))"
      ],
      "execution_count": 30,
      "outputs": []
    },
    {
      "cell_type": "code",
      "metadata": {
        "colab": {
          "base_uri": "https://localhost:8080/"
        },
        "id": "8POMw1jUPG6q",
        "outputId": "cbe8fe07-8e04-4bcb-a7a6-cd7125df8773"
      },
      "source": [
        "error_l1(df, 'Temp', 'ultima_temp')"
      ],
      "execution_count": 31,
      "outputs": [
        {
          "output_type": "execute_result",
          "data": {
            "text/plain": [
              "2.0249315068493146"
            ]
          },
          "metadata": {
            "tags": []
          },
          "execution_count": 31
        }
      ]
    },
    {
      "cell_type": "code",
      "metadata": {
        "colab": {
          "base_uri": "https://localhost:8080/"
        },
        "id": "iskiZKaKPKSL",
        "outputId": "29c6070b-c102-4912-ab05-37c1eeaf4662"
      },
      "source": [
        "error_rmse(df, 'Temp', 'ultima_temp')"
      ],
      "execution_count": 32,
      "outputs": [
        {
          "output_type": "execute_result",
          "data": {
            "text/plain": [
              "2.5824009217292243"
            ]
          },
          "metadata": {
            "tags": []
          },
          "execution_count": 32
        }
      ]
    },
    {
      "cell_type": "code",
      "metadata": {
        "id": "xOjA30LsPN9X"
      },
      "source": [
        "df.dropna(inplace=True)"
      ],
      "execution_count": 15,
      "outputs": []
    },
    {
      "cell_type": "code",
      "metadata": {
        "id": "FdAi4ar4PP8g"
      },
      "source": [
        "def cargar_datos(df): \n",
        "  X = ft.range_of(df)\n",
        "  valid_cut = len(df) - 365\n",
        "  src = ft.TabularPandas(df,\n",
        "                         cont_names=list(df.columns[1:]), # Tomate estas columnas\n",
        "                         y_names=['Temp'], # Para predecir esta\n",
        "                        splits = (X[:valid_cut], X[valid_cut:])) # primeros para entrerar, últimos para validar\n",
        "  return src.dataloaders(bs=1024)"
      ],
      "execution_count": 18,
      "outputs": []
    },
    {
      "cell_type": "code",
      "metadata": {
        "id": "Y2drHbfKQI9o"
      },
      "source": [
        "dls = cargar_datos(df)"
      ],
      "execution_count": 19,
      "outputs": []
    },
    {
      "cell_type": "code",
      "metadata": {
        "colab": {
          "base_uri": "https://localhost:8080/"
        },
        "id": "5BW-abFXQKlR",
        "outputId": "5d63467f-686e-4188-a29f-6f73af5487b9"
      },
      "source": [
        "dls.one_batch()"
      ],
      "execution_count": 20,
      "outputs": [
        {
          "output_type": "execute_result",
          "data": {
            "text/plain": [
              "(tensor([], size=(1024, 0), dtype=torch.int64), tensor([[11.2000],\n",
              "         [ 4.2000],\n",
              "         [16.3000],\n",
              "         ...,\n",
              "         [11.1000],\n",
              "         [15.2000],\n",
              "         [ 8.5000]]), tensor([[ 7.5000],\n",
              "         [ 6.3000],\n",
              "         [16.8000],\n",
              "         ...,\n",
              "         [ 4.7000],\n",
              "         [14.1000],\n",
              "         [ 1.4000]]))"
            ]
          },
          "metadata": {
            "tags": []
          },
          "execution_count": 20
        }
      ]
    },
    {
      "cell_type": "markdown",
      "metadata": {
        "id": "JJ_dSOTNQnlh"
      },
      "source": [
        "La razón del tensor vacío, es que fastai divide en datos categóricos y datos contínuos. Sin embargo, ahora no tenemos ningún dato categórico, así que simplemente da vacio en los datos categóricos. "
      ]
    },
    {
      "cell_type": "code",
      "metadata": {
        "id": "wn_-NDtDQ_yH"
      },
      "source": [
        "def rmse_loss(pred, targ): \n",
        "  return torch.sqrt(F.mse_loss(pred, targ))"
      ],
      "execution_count": 26,
      "outputs": []
    },
    {
      "cell_type": "code",
      "metadata": {
        "id": "eA_Vk9SyRJZ8"
      },
      "source": [
        "learn = ft.tabular_learner(dls, layers=[], metrics=[F.l1_loss, rmse_loss])"
      ],
      "execution_count": 27,
      "outputs": []
    },
    {
      "cell_type": "markdown",
      "metadata": {
        "id": "iaVmz3ySRZ0u"
      },
      "source": [
        "> Cuando tienes una red neuronal que solo tiene input y output, sin capaz intermedias (layers) eso es básicamente regresión lineal"
      ]
    },
    {
      "cell_type": "code",
      "metadata": {
        "colab": {
          "base_uri": "https://localhost:8080/",
          "height": 834
        },
        "id": "bhYR9MrUR7HK",
        "outputId": "38c5ced8-cc77-4a33-fa79-7eba6e14e2d1"
      },
      "source": [
        "learn.fit_one_cycle(25, 1e-1)"
      ],
      "execution_count": 28,
      "outputs": [
        {
          "output_type": "display_data",
          "data": {
            "text/html": [
              "<table border=\"1\" class=\"dataframe\">\n",
              "  <thead>\n",
              "    <tr style=\"text-align: left;\">\n",
              "      <th>epoch</th>\n",
              "      <th>train_loss</th>\n",
              "      <th>valid_loss</th>\n",
              "      <th>l1_loss</th>\n",
              "      <th>rmse_loss</th>\n",
              "      <th>time</th>\n",
              "    </tr>\n",
              "  </thead>\n",
              "  <tbody>\n",
              "    <tr>\n",
              "      <td>0</td>\n",
              "      <td>119.411011</td>\n",
              "      <td>99.746979</td>\n",
              "      <td>9.395020</td>\n",
              "      <td>9.987341</td>\n",
              "      <td>00:00</td>\n",
              "    </tr>\n",
              "    <tr>\n",
              "      <td>1</td>\n",
              "      <td>119.618584</td>\n",
              "      <td>107.589256</td>\n",
              "      <td>9.790328</td>\n",
              "      <td>10.372524</td>\n",
              "      <td>00:00</td>\n",
              "    </tr>\n",
              "    <tr>\n",
              "      <td>2</td>\n",
              "      <td>119.189323</td>\n",
              "      <td>107.251617</td>\n",
              "      <td>9.794400</td>\n",
              "      <td>10.356236</td>\n",
              "      <td>00:00</td>\n",
              "    </tr>\n",
              "    <tr>\n",
              "      <td>3</td>\n",
              "      <td>117.436386</td>\n",
              "      <td>101.066772</td>\n",
              "      <td>9.527665</td>\n",
              "      <td>10.053197</td>\n",
              "      <td>00:00</td>\n",
              "    </tr>\n",
              "    <tr>\n",
              "      <td>4</td>\n",
              "      <td>114.717743</td>\n",
              "      <td>88.856163</td>\n",
              "      <td>8.957002</td>\n",
              "      <td>9.426354</td>\n",
              "      <td>00:00</td>\n",
              "    </tr>\n",
              "    <tr>\n",
              "      <td>5</td>\n",
              "      <td>110.600815</td>\n",
              "      <td>71.139557</td>\n",
              "      <td>8.023890</td>\n",
              "      <td>8.434427</td>\n",
              "      <td>00:00</td>\n",
              "    </tr>\n",
              "    <tr>\n",
              "      <td>6</td>\n",
              "      <td>104.964951</td>\n",
              "      <td>52.029598</td>\n",
              "      <td>6.790985</td>\n",
              "      <td>7.213154</td>\n",
              "      <td>00:00</td>\n",
              "    </tr>\n",
              "    <tr>\n",
              "      <td>7</td>\n",
              "      <td>97.912498</td>\n",
              "      <td>35.861462</td>\n",
              "      <td>5.418596</td>\n",
              "      <td>5.988444</td>\n",
              "      <td>00:00</td>\n",
              "    </tr>\n",
              "    <tr>\n",
              "      <td>8</td>\n",
              "      <td>90.101234</td>\n",
              "      <td>24.121454</td>\n",
              "      <td>4.200578</td>\n",
              "      <td>4.911360</td>\n",
              "      <td>00:00</td>\n",
              "    </tr>\n",
              "    <tr>\n",
              "      <td>9</td>\n",
              "      <td>82.053619</td>\n",
              "      <td>15.252042</td>\n",
              "      <td>3.218178</td>\n",
              "      <td>3.905386</td>\n",
              "      <td>00:00</td>\n",
              "    </tr>\n",
              "    <tr>\n",
              "      <td>10</td>\n",
              "      <td>74.143478</td>\n",
              "      <td>9.275519</td>\n",
              "      <td>2.454903</td>\n",
              "      <td>3.045574</td>\n",
              "      <td>00:00</td>\n",
              "    </tr>\n",
              "    <tr>\n",
              "      <td>11</td>\n",
              "      <td>66.847374</td>\n",
              "      <td>6.498481</td>\n",
              "      <td>2.017496</td>\n",
              "      <td>2.549212</td>\n",
              "      <td>00:00</td>\n",
              "    </tr>\n",
              "    <tr>\n",
              "      <td>12</td>\n",
              "      <td>60.397068</td>\n",
              "      <td>6.130536</td>\n",
              "      <td>1.944161</td>\n",
              "      <td>2.475992</td>\n",
              "      <td>00:00</td>\n",
              "    </tr>\n",
              "    <tr>\n",
              "      <td>13</td>\n",
              "      <td>54.926456</td>\n",
              "      <td>6.729984</td>\n",
              "      <td>2.048779</td>\n",
              "      <td>2.594221</td>\n",
              "      <td>00:00</td>\n",
              "    </tr>\n",
              "    <tr>\n",
              "      <td>14</td>\n",
              "      <td>50.291355</td>\n",
              "      <td>7.125451</td>\n",
              "      <td>2.110600</td>\n",
              "      <td>2.669354</td>\n",
              "      <td>00:00</td>\n",
              "    </tr>\n",
              "    <tr>\n",
              "      <td>15</td>\n",
              "      <td>46.314980</td>\n",
              "      <td>7.074394</td>\n",
              "      <td>2.104315</td>\n",
              "      <td>2.659773</td>\n",
              "      <td>00:00</td>\n",
              "    </tr>\n",
              "    <tr>\n",
              "      <td>16</td>\n",
              "      <td>42.827003</td>\n",
              "      <td>6.785244</td>\n",
              "      <td>2.063927</td>\n",
              "      <td>2.604850</td>\n",
              "      <td>00:00</td>\n",
              "    </tr>\n",
              "    <tr>\n",
              "      <td>17</td>\n",
              "      <td>39.718559</td>\n",
              "      <td>6.484311</td>\n",
              "      <td>2.019967</td>\n",
              "      <td>2.546431</td>\n",
              "      <td>00:00</td>\n",
              "    </tr>\n",
              "    <tr>\n",
              "      <td>18</td>\n",
              "      <td>36.944805</td>\n",
              "      <td>6.268571</td>\n",
              "      <td>1.985026</td>\n",
              "      <td>2.503711</td>\n",
              "      <td>00:00</td>\n",
              "    </tr>\n",
              "    <tr>\n",
              "      <td>19</td>\n",
              "      <td>34.456123</td>\n",
              "      <td>6.135816</td>\n",
              "      <td>1.964604</td>\n",
              "      <td>2.477058</td>\n",
              "      <td>00:00</td>\n",
              "    </tr>\n",
              "    <tr>\n",
              "      <td>20</td>\n",
              "      <td>32.215378</td>\n",
              "      <td>6.066239</td>\n",
              "      <td>1.955006</td>\n",
              "      <td>2.462974</td>\n",
              "      <td>00:00</td>\n",
              "    </tr>\n",
              "    <tr>\n",
              "      <td>21</td>\n",
              "      <td>30.188814</td>\n",
              "      <td>6.029346</td>\n",
              "      <td>1.949359</td>\n",
              "      <td>2.455473</td>\n",
              "      <td>00:00</td>\n",
              "    </tr>\n",
              "    <tr>\n",
              "      <td>22</td>\n",
              "      <td>28.370182</td>\n",
              "      <td>6.009863</td>\n",
              "      <td>1.945992</td>\n",
              "      <td>2.451502</td>\n",
              "      <td>00:00</td>\n",
              "    </tr>\n",
              "    <tr>\n",
              "      <td>23</td>\n",
              "      <td>26.720818</td>\n",
              "      <td>6.003170</td>\n",
              "      <td>1.944686</td>\n",
              "      <td>2.450137</td>\n",
              "      <td>00:00</td>\n",
              "    </tr>\n",
              "    <tr>\n",
              "      <td>24</td>\n",
              "      <td>25.218761</td>\n",
              "      <td>6.002365</td>\n",
              "      <td>1.944349</td>\n",
              "      <td>2.449972</td>\n",
              "      <td>00:00</td>\n",
              "    </tr>\n",
              "  </tbody>\n",
              "</table>"
            ],
            "text/plain": [
              "<IPython.core.display.HTML object>"
            ]
          },
          "metadata": {
            "tags": []
          }
        }
      ]
    },
    {
      "cell_type": "markdown",
      "metadata": {
        "id": "hJbG5nRESaCN"
      },
      "source": [
        "Más o menos tiene el mismo error que la baseline"
      ]
    },
    {
      "cell_type": "code",
      "metadata": {
        "id": "ejpDRF8JSOYw"
      },
      "source": [
        "learn = ft.tabular_learner(dls, layers=[128, 128], metrics=[F.l1_loss, rmse_loss])"
      ],
      "execution_count": 33,
      "outputs": []
    },
    {
      "cell_type": "code",
      "metadata": {
        "colab": {
          "base_uri": "https://localhost:8080/",
          "height": 300
        },
        "id": "0jPFnckfTGF1",
        "outputId": "36338033-048b-4eba-ea13-d20a7ef21fbe"
      },
      "source": [
        "learn.lr_find()"
      ],
      "execution_count": 34,
      "outputs": [
        {
          "output_type": "display_data",
          "data": {
            "text/html": [
              ""
            ],
            "text/plain": [
              "<IPython.core.display.HTML object>"
            ]
          },
          "metadata": {
            "tags": []
          }
        },
        {
          "output_type": "execute_result",
          "data": {
            "text/plain": [
              "SuggestedLRs(valley=0.0030199517495930195)"
            ]
          },
          "metadata": {
            "tags": []
          },
          "execution_count": 34
        },
        {
          "output_type": "display_data",
          "data": {
            "image/png": "[encoded data removed]",
            "text/plain": [
              "<Figure size 432x288 with 1 Axes>"
            ]
          },
          "metadata": {
            "tags": [],
            "needs_background": "light"
          }
        }
      ]
    },
    {
      "cell_type": "code",
      "metadata": {
        "colab": {
          "base_uri": "https://localhost:8080/",
          "height": 834
        },
        "id": "27DS-UiFSnFY",
        "outputId": "32462fc3-4bbe-4221-91b2-509787c927c2"
      },
      "source": [
        "learn.fit_one_cycle(25, 3e-2)"
      ],
      "execution_count": 35,
      "outputs": [
        {
          "output_type": "display_data",
          "data": {
            "text/html": [
              "<table border=\"1\" class=\"dataframe\">\n",
              "  <thead>\n",
              "    <tr style=\"text-align: left;\">\n",
              "      <th>epoch</th>\n",
              "      <th>train_loss</th>\n",
              "      <th>valid_loss</th>\n",
              "      <th>l1_loss</th>\n",
              "      <th>rmse_loss</th>\n",
              "      <th>time</th>\n",
              "    </tr>\n",
              "  </thead>\n",
              "  <tbody>\n",
              "    <tr>\n",
              "      <td>0</td>\n",
              "      <td>137.183640</td>\n",
              "      <td>148.589844</td>\n",
              "      <td>11.563702</td>\n",
              "      <td>12.189743</td>\n",
              "      <td>00:00</td>\n",
              "    </tr>\n",
              "    <tr>\n",
              "      <td>1</td>\n",
              "      <td>133.649399</td>\n",
              "      <td>103.200600</td>\n",
              "      <td>9.675129</td>\n",
              "      <td>10.158770</td>\n",
              "      <td>00:00</td>\n",
              "    </tr>\n",
              "    <tr>\n",
              "      <td>2</td>\n",
              "      <td>131.487946</td>\n",
              "      <td>83.703323</td>\n",
              "      <td>8.770566</td>\n",
              "      <td>9.148952</td>\n",
              "      <td>00:00</td>\n",
              "    </tr>\n",
              "    <tr>\n",
              "      <td>3</td>\n",
              "      <td>128.826706</td>\n",
              "      <td>72.634689</td>\n",
              "      <td>8.162223</td>\n",
              "      <td>8.522598</td>\n",
              "      <td>00:00</td>\n",
              "    </tr>\n",
              "    <tr>\n",
              "      <td>4</td>\n",
              "      <td>124.548050</td>\n",
              "      <td>63.241009</td>\n",
              "      <td>7.570801</td>\n",
              "      <td>7.952421</td>\n",
              "      <td>00:00</td>\n",
              "    </tr>\n",
              "    <tr>\n",
              "      <td>5</td>\n",
              "      <td>116.393265</td>\n",
              "      <td>46.941151</td>\n",
              "      <td>6.295391</td>\n",
              "      <td>6.851361</td>\n",
              "      <td>00:00</td>\n",
              "    </tr>\n",
              "    <tr>\n",
              "      <td>6</td>\n",
              "      <td>102.586349</td>\n",
              "      <td>12.436832</td>\n",
              "      <td>2.840730</td>\n",
              "      <td>3.526589</td>\n",
              "      <td>00:00</td>\n",
              "    </tr>\n",
              "    <tr>\n",
              "      <td>7</td>\n",
              "      <td>88.317024</td>\n",
              "      <td>19.839996</td>\n",
              "      <td>3.784734</td>\n",
              "      <td>4.454211</td>\n",
              "      <td>00:00</td>\n",
              "    </tr>\n",
              "    <tr>\n",
              "      <td>8</td>\n",
              "      <td>78.962814</td>\n",
              "      <td>18.470236</td>\n",
              "      <td>3.703346</td>\n",
              "      <td>4.297701</td>\n",
              "      <td>00:00</td>\n",
              "    </tr>\n",
              "    <tr>\n",
              "      <td>9</td>\n",
              "      <td>70.455139</td>\n",
              "      <td>6.481621</td>\n",
              "      <td>2.016283</td>\n",
              "      <td>2.545903</td>\n",
              "      <td>00:00</td>\n",
              "    </tr>\n",
              "    <tr>\n",
              "      <td>10</td>\n",
              "      <td>62.836506</td>\n",
              "      <td>7.846422</td>\n",
              "      <td>2.268811</td>\n",
              "      <td>2.801147</td>\n",
              "      <td>00:00</td>\n",
              "    </tr>\n",
              "    <tr>\n",
              "      <td>11</td>\n",
              "      <td>56.828911</td>\n",
              "      <td>9.593576</td>\n",
              "      <td>2.538268</td>\n",
              "      <td>3.097350</td>\n",
              "      <td>00:00</td>\n",
              "    </tr>\n",
              "    <tr>\n",
              "      <td>12</td>\n",
              "      <td>51.733013</td>\n",
              "      <td>7.040074</td>\n",
              "      <td>2.137718</td>\n",
              "      <td>2.653314</td>\n",
              "      <td>00:00</td>\n",
              "    </tr>\n",
              "    <tr>\n",
              "      <td>13</td>\n",
              "      <td>47.178547</td>\n",
              "      <td>5.944574</td>\n",
              "      <td>1.933330</td>\n",
              "      <td>2.438150</td>\n",
              "      <td>00:00</td>\n",
              "    </tr>\n",
              "    <tr>\n",
              "      <td>14</td>\n",
              "      <td>43.191998</td>\n",
              "      <td>6.256459</td>\n",
              "      <td>1.962700</td>\n",
              "      <td>2.501292</td>\n",
              "      <td>00:00</td>\n",
              "    </tr>\n",
              "    <tr>\n",
              "      <td>15</td>\n",
              "      <td>39.781029</td>\n",
              "      <td>6.640635</td>\n",
              "      <td>2.021368</td>\n",
              "      <td>2.576943</td>\n",
              "      <td>00:00</td>\n",
              "    </tr>\n",
              "    <tr>\n",
              "      <td>16</td>\n",
              "      <td>36.820080</td>\n",
              "      <td>6.448098</td>\n",
              "      <td>1.989944</td>\n",
              "      <td>2.539310</td>\n",
              "      <td>00:00</td>\n",
              "    </tr>\n",
              "    <tr>\n",
              "      <td>17</td>\n",
              "      <td>34.194221</td>\n",
              "      <td>6.133092</td>\n",
              "      <td>1.942750</td>\n",
              "      <td>2.476508</td>\n",
              "      <td>00:00</td>\n",
              "    </tr>\n",
              "    <tr>\n",
              "      <td>18</td>\n",
              "      <td>31.837957</td>\n",
              "      <td>5.968519</td>\n",
              "      <td>1.921713</td>\n",
              "      <td>2.443055</td>\n",
              "      <td>00:00</td>\n",
              "    </tr>\n",
              "    <tr>\n",
              "      <td>19</td>\n",
              "      <td>29.724585</td>\n",
              "      <td>5.878452</td>\n",
              "      <td>1.908320</td>\n",
              "      <td>2.424552</td>\n",
              "      <td>00:00</td>\n",
              "    </tr>\n",
              "    <tr>\n",
              "      <td>20</td>\n",
              "      <td>27.836176</td>\n",
              "      <td>5.847635</td>\n",
              "      <td>1.905842</td>\n",
              "      <td>2.418188</td>\n",
              "      <td>00:00</td>\n",
              "    </tr>\n",
              "    <tr>\n",
              "      <td>21</td>\n",
              "      <td>26.143141</td>\n",
              "      <td>5.843765</td>\n",
              "      <td>1.906897</td>\n",
              "      <td>2.417388</td>\n",
              "      <td>00:00</td>\n",
              "    </tr>\n",
              "    <tr>\n",
              "      <td>22</td>\n",
              "      <td>24.619915</td>\n",
              "      <td>5.845153</td>\n",
              "      <td>1.908998</td>\n",
              "      <td>2.417675</td>\n",
              "      <td>00:00</td>\n",
              "    </tr>\n",
              "    <tr>\n",
              "      <td>23</td>\n",
              "      <td>23.244270</td>\n",
              "      <td>5.848172</td>\n",
              "      <td>1.910991</td>\n",
              "      <td>2.418299</td>\n",
              "      <td>00:00</td>\n",
              "    </tr>\n",
              "    <tr>\n",
              "      <td>24</td>\n",
              "      <td>21.991287</td>\n",
              "      <td>5.850062</td>\n",
              "      <td>1.912835</td>\n",
              "      <td>2.418690</td>\n",
              "      <td>00:00</td>\n",
              "    </tr>\n",
              "  </tbody>\n",
              "</table>"
            ],
            "text/plain": [
              "<IPython.core.display.HTML object>"
            ]
          },
          "metadata": {
            "tags": []
          }
        }
      ]
    },
    {
      "cell_type": "markdown",
      "metadata": {
        "id": "pYCBqMkuTY7d"
      },
      "source": [
        "Un poco mejor, pero no mucho. La razón: nada más le dimos la temperatura anterior. Cómo le va a hacer para hacerlo mejor? "
      ]
    },
    {
      "cell_type": "markdown",
      "metadata": {
        "id": "LjXZmHjZTmeL"
      },
      "source": [
        "# Redes convolucionales\n",
        "\n",
        "Si en vez de darle la temperatura anterior le damos $k$ anteriores. ¿Mejorara? "
      ]
    },
    {
      "cell_type": "code",
      "metadata": {
        "id": "mfI_4qfOTmNh"
      },
      "source": [
        "df = pd.read_csv(\"/content/daily-min-temperatures.csv\", index_col = 'Date', parse_dates=True)"
      ],
      "execution_count": 36,
      "outputs": []
    },
    {
      "cell_type": "code",
      "metadata": {
        "id": "R0FvWnDZTJjZ"
      },
      "source": [
        "k = 10 \n",
        "for i in range(1, k+1): \n",
        "  df[f'ultima_{i}'] = df['Temp'].shift(i)"
      ],
      "execution_count": 37,
      "outputs": []
    },
    {
      "cell_type": "code",
      "metadata": {
        "colab": {
          "base_uri": "https://localhost:8080/",
          "height": 455
        },
        "id": "IahEMu1CT5Yl",
        "outputId": "29efae7b-41be-45aa-bb71-f5d295a765a4"
      },
      "source": [
        "df"
      ],
      "execution_count": 38,
      "outputs": [
        {
          "output_type": "execute_result",
          "data": {
            "text/html": [
              "<div>\n",
              "<style scoped>\n",
              "    .dataframe tbody tr th:only-of-type {\n",
              "        vertical-align: middle;\n",
              "    }\n",
              "\n",
              "    .dataframe tbody tr th {\n",
              "        vertical-align: top;\n",
              "    }\n",
              "\n",
              "    .dataframe thead th {\n",
              "        text-align: right;\n",
              "    }\n",
              "</style>\n",
              "<table border=\"1\" class=\"dataframe\">\n",
              "  <thead>\n",
              "    <tr style=\"text-align: right;\">\n",
              "      <th></th>\n",
              "      <th>Temp</th>\n",
              "      <th>ultima_1</th>\n",
              "      <th>ultima_2</th>\n",
              "      <th>ultima_3</th>\n",
              "      <th>ultima_4</th>\n",
              "      <th>ultima_5</th>\n",
              "      <th>ultima_6</th>\n",
              "      <th>ultima_7</th>\n",
              "      <th>ultima_8</th>\n",
              "      <th>ultima_9</th>\n",
              "      <th>ultima_10</th>\n",
              "    </tr>\n",
              "    <tr>\n",
              "      <th>Date</th>\n",
              "      <th></th>\n",
              "      <th></th>\n",
              "      <th></th>\n",
              "      <th></th>\n",
              "      <th></th>\n",
              "      <th></th>\n",
              "      <th></th>\n",
              "      <th></th>\n",
              "      <th></th>\n",
              "      <th></th>\n",
              "      <th></th>\n",
              "    </tr>\n",
              "  </thead>\n",
              "  <tbody>\n",
              "    <tr>\n",
              "      <th>1981-01-01</th>\n",
              "      <td>20.7</td>\n",
              "      <td>NaN</td>\n",
              "      <td>NaN</td>\n",
              "      <td>NaN</td>\n",
              "      <td>NaN</td>\n",
              "      <td>NaN</td>\n",
              "      <td>NaN</td>\n",
              "      <td>NaN</td>\n",
              "      <td>NaN</td>\n",
              "      <td>NaN</td>\n",
              "      <td>NaN</td>\n",
              "    </tr>\n",
              "    <tr>\n",
              "      <th>1981-01-02</th>\n",
              "      <td>17.9</td>\n",
              "      <td>20.7</td>\n",
              "      <td>NaN</td>\n",
              "      <td>NaN</td>\n",
              "      <td>NaN</td>\n",
              "      <td>NaN</td>\n",
              "      <td>NaN</td>\n",
              "      <td>NaN</td>\n",
              "      <td>NaN</td>\n",
              "      <td>NaN</td>\n",
              "      <td>NaN</td>\n",
              "    </tr>\n",
              "    <tr>\n",
              "      <th>1981-01-03</th>\n",
              "      <td>18.8</td>\n",
              "      <td>17.9</td>\n",
              "      <td>20.7</td>\n",
              "      <td>NaN</td>\n",
              "      <td>NaN</td>\n",
              "      <td>NaN</td>\n",
              "      <td>NaN</td>\n",
              "      <td>NaN</td>\n",
              "      <td>NaN</td>\n",
              "      <td>NaN</td>\n",
              "      <td>NaN</td>\n",
              "    </tr>\n",
              "    <tr>\n",
              "      <th>1981-01-04</th>\n",
              "      <td>14.6</td>\n",
              "      <td>18.8</td>\n",
              "      <td>17.9</td>\n",
              "      <td>20.7</td>\n",
              "      <td>NaN</td>\n",
              "      <td>NaN</td>\n",
              "      <td>NaN</td>\n",
              "      <td>NaN</td>\n",
              "      <td>NaN</td>\n",
              "      <td>NaN</td>\n",
              "      <td>NaN</td>\n",
              "    </tr>\n",
              "    <tr>\n",
              "      <th>1981-01-05</th>\n",
              "      <td>15.8</td>\n",
              "      <td>14.6</td>\n",
              "      <td>18.8</td>\n",
              "      <td>17.9</td>\n",
              "      <td>20.7</td>\n",
              "      <td>NaN</td>\n",
              "      <td>NaN</td>\n",
              "      <td>NaN</td>\n",
              "      <td>NaN</td>\n",
              "      <td>NaN</td>\n",
              "      <td>NaN</td>\n",
              "    </tr>\n",
              "    <tr>\n",
              "      <th>...</th>\n",
              "      <td>...</td>\n",
              "      <td>...</td>\n",
              "      <td>...</td>\n",
              "      <td>...</td>\n",
              "      <td>...</td>\n",
              "      <td>...</td>\n",
              "      <td>...</td>\n",
              "      <td>...</td>\n",
              "      <td>...</td>\n",
              "      <td>...</td>\n",
              "      <td>...</td>\n",
              "    </tr>\n",
              "    <tr>\n",
              "      <th>1990-12-27</th>\n",
              "      <td>14.0</td>\n",
              "      <td>14.6</td>\n",
              "      <td>12.9</td>\n",
              "      <td>10.0</td>\n",
              "      <td>13.9</td>\n",
              "      <td>13.2</td>\n",
              "      <td>13.1</td>\n",
              "      <td>15.4</td>\n",
              "      <td>14.7</td>\n",
              "      <td>17.2</td>\n",
              "      <td>13.9</td>\n",
              "    </tr>\n",
              "    <tr>\n",
              "      <th>1990-12-28</th>\n",
              "      <td>13.6</td>\n",
              "      <td>14.0</td>\n",
              "      <td>14.6</td>\n",
              "      <td>12.9</td>\n",
              "      <td>10.0</td>\n",
              "      <td>13.9</td>\n",
              "      <td>13.2</td>\n",
              "      <td>13.1</td>\n",
              "      <td>15.4</td>\n",
              "      <td>14.7</td>\n",
              "      <td>17.2</td>\n",
              "    </tr>\n",
              "    <tr>\n",
              "      <th>1990-12-29</th>\n",
              "      <td>13.5</td>\n",
              "      <td>13.6</td>\n",
              "      <td>14.0</td>\n",
              "      <td>14.6</td>\n",
              "      <td>12.9</td>\n",
              "      <td>10.0</td>\n",
              "      <td>13.9</td>\n",
              "      <td>13.2</td>\n",
              "      <td>13.1</td>\n",
              "      <td>15.4</td>\n",
              "      <td>14.7</td>\n",
              "    </tr>\n",
              "    <tr>\n",
              "      <th>1990-12-30</th>\n",
              "      <td>15.7</td>\n",
              "      <td>13.5</td>\n",
              "      <td>13.6</td>\n",
              "      <td>14.0</td>\n",
              "      <td>14.6</td>\n",
              "      <td>12.9</td>\n",
              "      <td>10.0</td>\n",
              "      <td>13.9</td>\n",
              "      <td>13.2</td>\n",
              "      <td>13.1</td>\n",
              "      <td>15.4</td>\n",
              "    </tr>\n",
              "    <tr>\n",
              "      <th>1990-12-31</th>\n",
              "      <td>13.0</td>\n",
              "      <td>15.7</td>\n",
              "      <td>13.5</td>\n",
              "      <td>13.6</td>\n",
              "      <td>14.0</td>\n",
              "      <td>14.6</td>\n",
              "      <td>12.9</td>\n",
              "      <td>10.0</td>\n",
              "      <td>13.9</td>\n",
              "      <td>13.2</td>\n",
              "      <td>13.1</td>\n",
              "    </tr>\n",
              "  </tbody>\n",
              "</table>\n",
              "<p>3650 rows × 11 columns</p>\n",
              "</div>"
            ],
            "text/plain": [
              "            Temp  ultima_1  ultima_2  ultima_3  ultima_4  ultima_5  ultima_6  \\\n",
              "Date                                                                           \n",
              "1981-01-01  20.7       NaN       NaN       NaN       NaN       NaN       NaN   \n",
              "1981-01-02  17.9      20.7       NaN       NaN       NaN       NaN       NaN   \n",
              "1981-01-03  18.8      17.9      20.7       NaN       NaN       NaN       NaN   \n",
              "1981-01-04  14.6      18.8      17.9      20.7       NaN       NaN       NaN   \n",
              "1981-01-05  15.8      14.6      18.8      17.9      20.7       NaN       NaN   \n",
              "...          ...       ...       ...       ...       ...       ...       ...   \n",
              "1990-12-27  14.0      14.6      12.9      10.0      13.9      13.2      13.1   \n",
              "1990-12-28  13.6      14.0      14.6      12.9      10.0      13.9      13.2   \n",
              "1990-12-29  13.5      13.6      14.0      14.6      12.9      10.0      13.9   \n",
              "1990-12-30  15.7      13.5      13.6      14.0      14.6      12.9      10.0   \n",
              "1990-12-31  13.0      15.7      13.5      13.6      14.0      14.6      12.9   \n",
              "\n",
              "            ultima_7  ultima_8  ultima_9  ultima_10  \n",
              "Date                                                 \n",
              "1981-01-01       NaN       NaN       NaN        NaN  \n",
              "1981-01-02       NaN       NaN       NaN        NaN  \n",
              "1981-01-03       NaN       NaN       NaN        NaN  \n",
              "1981-01-04       NaN       NaN       NaN        NaN  \n",
              "1981-01-05       NaN       NaN       NaN        NaN  \n",
              "...              ...       ...       ...        ...  \n",
              "1990-12-27      15.4      14.7      17.2       13.9  \n",
              "1990-12-28      13.1      15.4      14.7       17.2  \n",
              "1990-12-29      13.2      13.1      15.4       14.7  \n",
              "1990-12-30      13.9      13.2      13.1       15.4  \n",
              "1990-12-31      10.0      13.9      13.2       13.1  \n",
              "\n",
              "[3650 rows x 11 columns]"
            ]
          },
          "metadata": {
            "tags": []
          },
          "execution_count": 38
        }
      ]
    },
    {
      "cell_type": "code",
      "metadata": {
        "id": "khEVtAOxT5wx"
      },
      "source": [
        "df.dropna(inplace=True)"
      ],
      "execution_count": 39,
      "outputs": []
    },
    {
      "cell_type": "code",
      "metadata": {
        "id": "j-gg5wl7T7tQ"
      },
      "source": [
        "dls = cargar_datos(df)"
      ],
      "execution_count": 40,
      "outputs": []
    },
    {
      "cell_type": "code",
      "metadata": {
        "id": "NroPbrD7T9PU"
      },
      "source": [
        "learn = ft.tabular_learner(dls, layers=[256, 128], metrics=[rmse_loss, F.l1_loss])"
      ],
      "execution_count": 43,
      "outputs": []
    },
    {
      "cell_type": "code",
      "metadata": {
        "colab": {
          "base_uri": "https://localhost:8080/",
          "height": 1000
        },
        "id": "3csqbE6LUMuh",
        "outputId": "04f47aef-ad8b-4129-f82d-65100cee2ebd"
      },
      "source": [
        "learn.fit_one_cycle(50, 3e-2)"
      ],
      "execution_count": 44,
      "outputs": [
        {
          "output_type": "display_data",
          "data": {
            "text/html": [
              "<table border=\"1\" class=\"dataframe\">\n",
              "  <thead>\n",
              "    <tr style=\"text-align: left;\">\n",
              "      <th>epoch</th>\n",
              "      <th>train_loss</th>\n",
              "      <th>valid_loss</th>\n",
              "      <th>l1_loss</th>\n",
              "      <th>rmse_loss</th>\n",
              "      <th>time</th>\n",
              "    </tr>\n",
              "  </thead>\n",
              "  <tbody>\n",
              "    <tr>\n",
              "      <td>0</td>\n",
              "      <td>6.716267</td>\n",
              "      <td>5.813984</td>\n",
              "      <td>1.908991</td>\n",
              "      <td>2.411220</td>\n",
              "      <td>00:00</td>\n",
              "    </tr>\n",
              "    <tr>\n",
              "      <td>1</td>\n",
              "      <td>6.644068</td>\n",
              "      <td>5.811386</td>\n",
              "      <td>1.910565</td>\n",
              "      <td>2.410681</td>\n",
              "      <td>00:00</td>\n",
              "    </tr>\n",
              "    <tr>\n",
              "      <td>2</td>\n",
              "      <td>6.612760</td>\n",
              "      <td>5.807263</td>\n",
              "      <td>1.910819</td>\n",
              "      <td>2.409826</td>\n",
              "      <td>00:00</td>\n",
              "    </tr>\n",
              "    <tr>\n",
              "      <td>3</td>\n",
              "      <td>6.613541</td>\n",
              "      <td>5.778076</td>\n",
              "      <td>1.902535</td>\n",
              "      <td>2.403763</td>\n",
              "      <td>00:00</td>\n",
              "    </tr>\n",
              "    <tr>\n",
              "      <td>4</td>\n",
              "      <td>6.591526</td>\n",
              "      <td>5.791072</td>\n",
              "      <td>1.899684</td>\n",
              "      <td>2.406465</td>\n",
              "      <td>00:00</td>\n",
              "    </tr>\n",
              "    <tr>\n",
              "      <td>5</td>\n",
              "      <td>6.612793</td>\n",
              "      <td>5.823544</td>\n",
              "      <td>1.914969</td>\n",
              "      <td>2.413202</td>\n",
              "      <td>00:00</td>\n",
              "    </tr>\n",
              "    <tr>\n",
              "      <td>6</td>\n",
              "      <td>6.614173</td>\n",
              "      <td>5.798828</td>\n",
              "      <td>1.900912</td>\n",
              "      <td>2.408076</td>\n",
              "      <td>00:00</td>\n",
              "    </tr>\n",
              "    <tr>\n",
              "      <td>7</td>\n",
              "      <td>6.625362</td>\n",
              "      <td>5.886679</td>\n",
              "      <td>1.918192</td>\n",
              "      <td>2.426248</td>\n",
              "      <td>00:00</td>\n",
              "    </tr>\n",
              "    <tr>\n",
              "      <td>8</td>\n",
              "      <td>6.637168</td>\n",
              "      <td>5.792759</td>\n",
              "      <td>1.902601</td>\n",
              "      <td>2.406815</td>\n",
              "      <td>00:00</td>\n",
              "    </tr>\n",
              "    <tr>\n",
              "      <td>9</td>\n",
              "      <td>6.635448</td>\n",
              "      <td>5.904768</td>\n",
              "      <td>1.931525</td>\n",
              "      <td>2.429973</td>\n",
              "      <td>00:00</td>\n",
              "    </tr>\n",
              "    <tr>\n",
              "      <td>10</td>\n",
              "      <td>6.656715</td>\n",
              "      <td>6.211172</td>\n",
              "      <td>1.995654</td>\n",
              "      <td>2.492222</td>\n",
              "      <td>00:00</td>\n",
              "    </tr>\n",
              "    <tr>\n",
              "      <td>11</td>\n",
              "      <td>6.691515</td>\n",
              "      <td>6.016821</td>\n",
              "      <td>1.918023</td>\n",
              "      <td>2.452921</td>\n",
              "      <td>00:00</td>\n",
              "    </tr>\n",
              "    <tr>\n",
              "      <td>12</td>\n",
              "      <td>6.720677</td>\n",
              "      <td>6.283805</td>\n",
              "      <td>1.973919</td>\n",
              "      <td>2.506752</td>\n",
              "      <td>00:00</td>\n",
              "    </tr>\n",
              "    <tr>\n",
              "      <td>13</td>\n",
              "      <td>6.731937</td>\n",
              "      <td>6.298546</td>\n",
              "      <td>2.009922</td>\n",
              "      <td>2.509690</td>\n",
              "      <td>00:00</td>\n",
              "    </tr>\n",
              "    <tr>\n",
              "      <td>14</td>\n",
              "      <td>6.733787</td>\n",
              "      <td>5.945460</td>\n",
              "      <td>1.938751</td>\n",
              "      <td>2.438331</td>\n",
              "      <td>00:00</td>\n",
              "    </tr>\n",
              "    <tr>\n",
              "      <td>15</td>\n",
              "      <td>6.726865</td>\n",
              "      <td>6.092451</td>\n",
              "      <td>1.935840</td>\n",
              "      <td>2.468289</td>\n",
              "      <td>00:00</td>\n",
              "    </tr>\n",
              "    <tr>\n",
              "      <td>16</td>\n",
              "      <td>6.750414</td>\n",
              "      <td>6.091762</td>\n",
              "      <td>1.935957</td>\n",
              "      <td>2.468149</td>\n",
              "      <td>00:00</td>\n",
              "    </tr>\n",
              "    <tr>\n",
              "      <td>17</td>\n",
              "      <td>6.761629</td>\n",
              "      <td>6.014697</td>\n",
              "      <td>1.936277</td>\n",
              "      <td>2.452488</td>\n",
              "      <td>00:00</td>\n",
              "    </tr>\n",
              "    <tr>\n",
              "      <td>18</td>\n",
              "      <td>6.754157</td>\n",
              "      <td>5.917064</td>\n",
              "      <td>1.926642</td>\n",
              "      <td>2.432502</td>\n",
              "      <td>00:00</td>\n",
              "    </tr>\n",
              "    <tr>\n",
              "      <td>19</td>\n",
              "      <td>6.745528</td>\n",
              "      <td>6.046438</td>\n",
              "      <td>1.955582</td>\n",
              "      <td>2.458951</td>\n",
              "      <td>00:00</td>\n",
              "    </tr>\n",
              "    <tr>\n",
              "      <td>20</td>\n",
              "      <td>6.740376</td>\n",
              "      <td>5.958371</td>\n",
              "      <td>1.941276</td>\n",
              "      <td>2.440978</td>\n",
              "      <td>00:00</td>\n",
              "    </tr>\n",
              "    <tr>\n",
              "      <td>21</td>\n",
              "      <td>6.735323</td>\n",
              "      <td>5.953314</td>\n",
              "      <td>1.937900</td>\n",
              "      <td>2.439941</td>\n",
              "      <td>00:00</td>\n",
              "    </tr>\n",
              "    <tr>\n",
              "      <td>22</td>\n",
              "      <td>6.735292</td>\n",
              "      <td>5.937867</td>\n",
              "      <td>1.914068</td>\n",
              "      <td>2.436774</td>\n",
              "      <td>00:00</td>\n",
              "    </tr>\n",
              "    <tr>\n",
              "      <td>23</td>\n",
              "      <td>6.730757</td>\n",
              "      <td>5.972804</td>\n",
              "      <td>1.950354</td>\n",
              "      <td>2.443932</td>\n",
              "      <td>00:00</td>\n",
              "    </tr>\n",
              "    <tr>\n",
              "      <td>24</td>\n",
              "      <td>6.730116</td>\n",
              "      <td>5.973764</td>\n",
              "      <td>1.936767</td>\n",
              "      <td>2.444129</td>\n",
              "      <td>00:00</td>\n",
              "    </tr>\n",
              "    <tr>\n",
              "      <td>25</td>\n",
              "      <td>6.731995</td>\n",
              "      <td>5.956872</td>\n",
              "      <td>1.936267</td>\n",
              "      <td>2.440670</td>\n",
              "      <td>00:00</td>\n",
              "    </tr>\n",
              "    <tr>\n",
              "      <td>26</td>\n",
              "      <td>6.730039</td>\n",
              "      <td>5.983936</td>\n",
              "      <td>1.947010</td>\n",
              "      <td>2.446208</td>\n",
              "      <td>00:00</td>\n",
              "    </tr>\n",
              "    <tr>\n",
              "      <td>27</td>\n",
              "      <td>6.728227</td>\n",
              "      <td>5.798565</td>\n",
              "      <td>1.896704</td>\n",
              "      <td>2.408021</td>\n",
              "      <td>00:00</td>\n",
              "    </tr>\n",
              "    <tr>\n",
              "      <td>28</td>\n",
              "      <td>6.722792</td>\n",
              "      <td>5.900889</td>\n",
              "      <td>1.928997</td>\n",
              "      <td>2.429175</td>\n",
              "      <td>00:00</td>\n",
              "    </tr>\n",
              "    <tr>\n",
              "      <td>29</td>\n",
              "      <td>6.720690</td>\n",
              "      <td>5.976792</td>\n",
              "      <td>1.944615</td>\n",
              "      <td>2.444748</td>\n",
              "      <td>00:00</td>\n",
              "    </tr>\n",
              "    <tr>\n",
              "      <td>30</td>\n",
              "      <td>6.713080</td>\n",
              "      <td>5.840014</td>\n",
              "      <td>1.909832</td>\n",
              "      <td>2.416612</td>\n",
              "      <td>00:00</td>\n",
              "    </tr>\n",
              "    <tr>\n",
              "      <td>31</td>\n",
              "      <td>6.714058</td>\n",
              "      <td>5.830887</td>\n",
              "      <td>1.903748</td>\n",
              "      <td>2.414723</td>\n",
              "      <td>00:00</td>\n",
              "    </tr>\n",
              "    <tr>\n",
              "      <td>32</td>\n",
              "      <td>6.708180</td>\n",
              "      <td>5.949903</td>\n",
              "      <td>1.924198</td>\n",
              "      <td>2.439242</td>\n",
              "      <td>00:00</td>\n",
              "    </tr>\n",
              "    <tr>\n",
              "      <td>33</td>\n",
              "      <td>6.697809</td>\n",
              "      <td>5.921607</td>\n",
              "      <td>1.939743</td>\n",
              "      <td>2.433435</td>\n",
              "      <td>00:00</td>\n",
              "    </tr>\n",
              "    <tr>\n",
              "      <td>34</td>\n",
              "      <td>6.692897</td>\n",
              "      <td>5.828296</td>\n",
              "      <td>1.911486</td>\n",
              "      <td>2.414186</td>\n",
              "      <td>00:00</td>\n",
              "    </tr>\n",
              "    <tr>\n",
              "      <td>35</td>\n",
              "      <td>6.688336</td>\n",
              "      <td>5.829507</td>\n",
              "      <td>1.896460</td>\n",
              "      <td>2.414437</td>\n",
              "      <td>00:00</td>\n",
              "    </tr>\n",
              "    <tr>\n",
              "      <td>36</td>\n",
              "      <td>6.681366</td>\n",
              "      <td>5.873655</td>\n",
              "      <td>1.919501</td>\n",
              "      <td>2.423563</td>\n",
              "      <td>00:00</td>\n",
              "    </tr>\n",
              "    <tr>\n",
              "      <td>37</td>\n",
              "      <td>6.676178</td>\n",
              "      <td>5.919123</td>\n",
              "      <td>1.935326</td>\n",
              "      <td>2.432925</td>\n",
              "      <td>00:00</td>\n",
              "    </tr>\n",
              "    <tr>\n",
              "      <td>38</td>\n",
              "      <td>6.672267</td>\n",
              "      <td>5.878381</td>\n",
              "      <td>1.920550</td>\n",
              "      <td>2.424537</td>\n",
              "      <td>00:00</td>\n",
              "    </tr>\n",
              "    <tr>\n",
              "      <td>39</td>\n",
              "      <td>6.665600</td>\n",
              "      <td>5.898049</td>\n",
              "      <td>1.916966</td>\n",
              "      <td>2.428590</td>\n",
              "      <td>00:00</td>\n",
              "    </tr>\n",
              "    <tr>\n",
              "      <td>40</td>\n",
              "      <td>6.671830</td>\n",
              "      <td>5.854067</td>\n",
              "      <td>1.912982</td>\n",
              "      <td>2.419518</td>\n",
              "      <td>00:00</td>\n",
              "    </tr>\n",
              "    <tr>\n",
              "      <td>41</td>\n",
              "      <td>6.670745</td>\n",
              "      <td>5.863297</td>\n",
              "      <td>1.921908</td>\n",
              "      <td>2.421425</td>\n",
              "      <td>00:00</td>\n",
              "    </tr>\n",
              "    <tr>\n",
              "      <td>42</td>\n",
              "      <td>6.668418</td>\n",
              "      <td>5.874055</td>\n",
              "      <td>1.924104</td>\n",
              "      <td>2.423645</td>\n",
              "      <td>00:00</td>\n",
              "    </tr>\n",
              "    <tr>\n",
              "      <td>43</td>\n",
              "      <td>6.662949</td>\n",
              "      <td>5.855156</td>\n",
              "      <td>1.917963</td>\n",
              "      <td>2.419743</td>\n",
              "      <td>00:00</td>\n",
              "    </tr>\n",
              "    <tr>\n",
              "      <td>44</td>\n",
              "      <td>6.660284</td>\n",
              "      <td>5.840709</td>\n",
              "      <td>1.912530</td>\n",
              "      <td>2.416756</td>\n",
              "      <td>00:00</td>\n",
              "    </tr>\n",
              "    <tr>\n",
              "      <td>45</td>\n",
              "      <td>6.658713</td>\n",
              "      <td>5.833540</td>\n",
              "      <td>1.908923</td>\n",
              "      <td>2.415272</td>\n",
              "      <td>00:00</td>\n",
              "    </tr>\n",
              "    <tr>\n",
              "      <td>46</td>\n",
              "      <td>6.649887</td>\n",
              "      <td>5.833268</td>\n",
              "      <td>1.908238</td>\n",
              "      <td>2.415216</td>\n",
              "      <td>00:00</td>\n",
              "    </tr>\n",
              "    <tr>\n",
              "      <td>47</td>\n",
              "      <td>6.645133</td>\n",
              "      <td>5.832980</td>\n",
              "      <td>1.908185</td>\n",
              "      <td>2.415156</td>\n",
              "      <td>00:00</td>\n",
              "    </tr>\n",
              "    <tr>\n",
              "      <td>48</td>\n",
              "      <td>6.639591</td>\n",
              "      <td>5.833631</td>\n",
              "      <td>1.908103</td>\n",
              "      <td>2.415291</td>\n",
              "      <td>00:00</td>\n",
              "    </tr>\n",
              "    <tr>\n",
              "      <td>49</td>\n",
              "      <td>6.635022</td>\n",
              "      <td>5.832681</td>\n",
              "      <td>1.907821</td>\n",
              "      <td>2.415094</td>\n",
              "      <td>00:00</td>\n",
              "    </tr>\n",
              "  </tbody>\n",
              "</table>"
            ],
            "text/plain": [
              "<IPython.core.display.HTML object>"
            ]
          },
          "metadata": {
            "tags": []
          }
        }
      ]
    },
    {
      "cell_type": "markdown",
      "metadata": {
        "id": "Sf5hMGlyUaNL"
      },
      "source": [
        "Mejor..."
      ]
    },
    {
      "cell_type": "markdown",
      "metadata": {
        "id": "90E_Gvy9Ub3l"
      },
      "source": [
        "# Modelo \n",
        "\n",
        "Estamos usando un red neuronal \"fully connected\""
      ]
    },
    {
      "cell_type": "code",
      "metadata": {
        "colab": {
          "base_uri": "https://localhost:8080/"
        },
        "id": "F5NAM57JUPZp",
        "outputId": "bd0d2e3f-0216-41f3-9578-1cc0e07df75e"
      },
      "source": [
        "learn.model"
      ],
      "execution_count": 45,
      "outputs": [
        {
          "output_type": "execute_result",
          "data": {
            "text/plain": [
              "TabularModel(\n",
              "  (embeds): ModuleList()\n",
              "  (emb_drop): Dropout(p=0.0, inplace=False)\n",
              "  (bn_cont): BatchNorm1d(1, eps=1e-05, momentum=0.1, affine=True, track_running_stats=True)\n",
              "  (layers): Sequential(\n",
              "    (0): LinBnDrop(\n",
              "      (0): Linear(in_features=1, out_features=128, bias=False)\n",
              "      (1): ReLU(inplace=True)\n",
              "      (2): BatchNorm1d(128, eps=1e-05, momentum=0.1, affine=True, track_running_stats=True)\n",
              "    )\n",
              "    (1): LinBnDrop(\n",
              "      (0): Linear(in_features=128, out_features=128, bias=False)\n",
              "      (1): ReLU(inplace=True)\n",
              "      (2): BatchNorm1d(128, eps=1e-05, momentum=0.1, affine=True, track_running_stats=True)\n",
              "    )\n",
              "    (2): LinBnDrop(\n",
              "      (0): Linear(in_features=128, out_features=1, bias=True)\n",
              "    )\n",
              "  )\n",
              ")"
            ]
          },
          "metadata": {
            "tags": []
          },
          "execution_count": 45
        }
      ]
    },
    {
      "cell_type": "markdown",
      "metadata": {
        "id": "nRpUecARUjhm"
      },
      "source": [
        "- embeds es vacio porque no tenemos variables categóricas\n",
        "- emb_drop es el embedding dropout. Podemos agregarle si queremos\n",
        "- bn_cont es la capa batchnorm que le aplicamos a las variables continuas. En este caso solo tenemos una variable\n",
        "- layers son las capas que le dijimos\n",
        "\n",
        "Podemos modificarla como normalmente hacemos, por ejemplo: "
      ]
    },
    {
      "cell_type": "code",
      "metadata": {
        "id": "9fuRBux3UhPg"
      },
      "source": [
        "leanr.model.layers[0][2] = nn.LeakyReLU(inplace=True)"
      ],
      "execution_count": 46,
      "outputs": []
    },
    {
      "cell_type": "code",
      "metadata": {
        "id": "C7m1_DTHVKeT"
      },
      "source": [
        "learn.model.layers[1][2] = nn.LeakyReLU(inplace=True)"
      ],
      "execution_count": 47,
      "outputs": []
    },
    {
      "cell_type": "code",
      "metadata": {
        "id": "LaMpFW99Vccn"
      },
      "source": [
        "learn = ft.tabular_learner(dls, layers=[256, 128], metrics=[rmse_loss, F.l1_loss])"
      ],
      "execution_count": 50,
      "outputs": []
    },
    {
      "cell_type": "code",
      "metadata": {
        "colab": {
          "base_uri": "https://localhost:8080/"
        },
        "id": "QMKzDEydVPAc",
        "outputId": "a789cdd8-1ff7-424f-abf6-8c201ff9a82c"
      },
      "source": [
        "learn.model"
      ],
      "execution_count": 51,
      "outputs": [
        {
          "output_type": "execute_result",
          "data": {
            "text/plain": [
              "TabularModel(\n",
              "  (embeds): ModuleList()\n",
              "  (emb_drop): Dropout(p=0.0, inplace=False)\n",
              "  (bn_cont): BatchNorm1d(10, eps=1e-05, momentum=0.1, affine=True, track_running_stats=True)\n",
              "  (layers): Sequential(\n",
              "    (0): LinBnDrop(\n",
              "      (0): Linear(in_features=10, out_features=256, bias=False)\n",
              "      (1): ReLU(inplace=True)\n",
              "      (2): BatchNorm1d(256, eps=1e-05, momentum=0.1, affine=True, track_running_stats=True)\n",
              "    )\n",
              "    (1): LinBnDrop(\n",
              "      (0): Linear(in_features=256, out_features=128, bias=False)\n",
              "      (1): ReLU(inplace=True)\n",
              "      (2): BatchNorm1d(128, eps=1e-05, momentum=0.1, affine=True, track_running_stats=True)\n",
              "    )\n",
              "    (2): LinBnDrop(\n",
              "      (0): Linear(in_features=128, out_features=1, bias=True)\n",
              "    )\n",
              "  )\n",
              ")"
            ]
          },
          "metadata": {
            "tags": []
          },
          "execution_count": 51
        }
      ]
    },
    {
      "cell_type": "code",
      "metadata": {
        "colab": {
          "base_uri": "https://localhost:8080/",
          "height": 1000
        },
        "id": "Gx5K3SY2VQqZ",
        "outputId": "9340cfd0-802d-4161-fc60-85d97280f1dd"
      },
      "source": [
        "learn.fit_one_cycle(50, 3e-2)"
      ],
      "execution_count": 52,
      "outputs": [
        {
          "output_type": "display_data",
          "data": {
            "text/html": [
              "<table border=\"1\" class=\"dataframe\">\n",
              "  <thead>\n",
              "    <tr style=\"text-align: left;\">\n",
              "      <th>epoch</th>\n",
              "      <th>train_loss</th>\n",
              "      <th>valid_loss</th>\n",
              "      <th>rmse_loss</th>\n",
              "      <th>l1_loss</th>\n",
              "      <th>time</th>\n",
              "    </tr>\n",
              "  </thead>\n",
              "  <tbody>\n",
              "    <tr>\n",
              "      <td>0</td>\n",
              "      <td>135.981552</td>\n",
              "      <td>98.326416</td>\n",
              "      <td>9.915967</td>\n",
              "      <td>9.359979</td>\n",
              "      <td>00:00</td>\n",
              "    </tr>\n",
              "    <tr>\n",
              "      <td>1</td>\n",
              "      <td>133.415344</td>\n",
              "      <td>71.251091</td>\n",
              "      <td>8.441036</td>\n",
              "      <td>7.971455</td>\n",
              "      <td>00:00</td>\n",
              "    </tr>\n",
              "    <tr>\n",
              "      <td>2</td>\n",
              "      <td>131.924103</td>\n",
              "      <td>67.747292</td>\n",
              "      <td>8.230874</td>\n",
              "      <td>7.843600</td>\n",
              "      <td>00:00</td>\n",
              "    </tr>\n",
              "    <tr>\n",
              "      <td>3</td>\n",
              "      <td>130.848618</td>\n",
              "      <td>82.878334</td>\n",
              "      <td>9.103754</td>\n",
              "      <td>8.780034</td>\n",
              "      <td>00:00</td>\n",
              "    </tr>\n",
              "    <tr>\n",
              "      <td>4</td>\n",
              "      <td>129.567429</td>\n",
              "      <td>86.865479</td>\n",
              "      <td>9.320165</td>\n",
              "      <td>9.035064</td>\n",
              "      <td>00:00</td>\n",
              "    </tr>\n",
              "    <tr>\n",
              "      <td>5</td>\n",
              "      <td>127.788750</td>\n",
              "      <td>75.006546</td>\n",
              "      <td>8.660632</td>\n",
              "      <td>8.285307</td>\n",
              "      <td>00:00</td>\n",
              "    </tr>\n",
              "    <tr>\n",
              "      <td>6</td>\n",
              "      <td>125.355019</td>\n",
              "      <td>70.624352</td>\n",
              "      <td>8.403830</td>\n",
              "      <td>7.976893</td>\n",
              "      <td>00:00</td>\n",
              "    </tr>\n",
              "    <tr>\n",
              "      <td>7</td>\n",
              "      <td>121.190590</td>\n",
              "      <td>67.324615</td>\n",
              "      <td>8.205158</td>\n",
              "      <td>7.840672</td>\n",
              "      <td>00:00</td>\n",
              "    </tr>\n",
              "    <tr>\n",
              "      <td>8</td>\n",
              "      <td>113.689514</td>\n",
              "      <td>45.842434</td>\n",
              "      <td>6.770704</td>\n",
              "      <td>6.115048</td>\n",
              "      <td>00:00</td>\n",
              "    </tr>\n",
              "    <tr>\n",
              "      <td>9</td>\n",
              "      <td>102.240829</td>\n",
              "      <td>21.417395</td>\n",
              "      <td>4.627893</td>\n",
              "      <td>3.821303</td>\n",
              "      <td>00:00</td>\n",
              "    </tr>\n",
              "    <tr>\n",
              "      <td>10</td>\n",
              "      <td>91.088730</td>\n",
              "      <td>27.627890</td>\n",
              "      <td>5.256224</td>\n",
              "      <td>4.223846</td>\n",
              "      <td>00:00</td>\n",
              "    </tr>\n",
              "    <tr>\n",
              "      <td>11</td>\n",
              "      <td>83.213036</td>\n",
              "      <td>11.436633</td>\n",
              "      <td>3.381809</td>\n",
              "      <td>2.766156</td>\n",
              "      <td>00:00</td>\n",
              "    </tr>\n",
              "    <tr>\n",
              "      <td>12</td>\n",
              "      <td>75.169716</td>\n",
              "      <td>6.228384</td>\n",
              "      <td>2.495673</td>\n",
              "      <td>1.999932</td>\n",
              "      <td>00:00</td>\n",
              "    </tr>\n",
              "    <tr>\n",
              "      <td>13</td>\n",
              "      <td>68.272873</td>\n",
              "      <td>10.559044</td>\n",
              "      <td>3.249468</td>\n",
              "      <td>2.690974</td>\n",
              "      <td>00:00</td>\n",
              "    </tr>\n",
              "    <tr>\n",
              "      <td>14</td>\n",
              "      <td>62.498344</td>\n",
              "      <td>7.796071</td>\n",
              "      <td>2.792145</td>\n",
              "      <td>2.265851</td>\n",
              "      <td>00:00</td>\n",
              "    </tr>\n",
              "    <tr>\n",
              "      <td>15</td>\n",
              "      <td>57.185646</td>\n",
              "      <td>5.363226</td>\n",
              "      <td>2.315864</td>\n",
              "      <td>1.825443</td>\n",
              "      <td>00:00</td>\n",
              "    </tr>\n",
              "    <tr>\n",
              "      <td>16</td>\n",
              "      <td>52.509659</td>\n",
              "      <td>6.996909</td>\n",
              "      <td>2.645167</td>\n",
              "      <td>2.098340</td>\n",
              "      <td>00:00</td>\n",
              "    </tr>\n",
              "    <tr>\n",
              "      <td>17</td>\n",
              "      <td>48.412491</td>\n",
              "      <td>5.341654</td>\n",
              "      <td>2.311202</td>\n",
              "      <td>1.792504</td>\n",
              "      <td>00:00</td>\n",
              "    </tr>\n",
              "    <tr>\n",
              "      <td>18</td>\n",
              "      <td>44.706650</td>\n",
              "      <td>5.585226</td>\n",
              "      <td>2.363308</td>\n",
              "      <td>1.855693</td>\n",
              "      <td>00:00</td>\n",
              "    </tr>\n",
              "    <tr>\n",
              "      <td>19</td>\n",
              "      <td>41.437309</td>\n",
              "      <td>5.647427</td>\n",
              "      <td>2.376432</td>\n",
              "      <td>1.881681</td>\n",
              "      <td>00:00</td>\n",
              "    </tr>\n",
              "    <tr>\n",
              "      <td>20</td>\n",
              "      <td>38.493477</td>\n",
              "      <td>5.248656</td>\n",
              "      <td>2.290994</td>\n",
              "      <td>1.787662</td>\n",
              "      <td>00:00</td>\n",
              "    </tr>\n",
              "    <tr>\n",
              "      <td>21</td>\n",
              "      <td>35.835320</td>\n",
              "      <td>5.335885</td>\n",
              "      <td>2.309953</td>\n",
              "      <td>1.777288</td>\n",
              "      <td>00:00</td>\n",
              "    </tr>\n",
              "    <tr>\n",
              "      <td>22</td>\n",
              "      <td>33.441994</td>\n",
              "      <td>5.335747</td>\n",
              "      <td>2.309924</td>\n",
              "      <td>1.782819</td>\n",
              "      <td>00:00</td>\n",
              "    </tr>\n",
              "    <tr>\n",
              "      <td>23</td>\n",
              "      <td>31.269342</td>\n",
              "      <td>5.352230</td>\n",
              "      <td>2.313489</td>\n",
              "      <td>1.794730</td>\n",
              "      <td>00:00</td>\n",
              "    </tr>\n",
              "    <tr>\n",
              "      <td>24</td>\n",
              "      <td>29.286795</td>\n",
              "      <td>5.508180</td>\n",
              "      <td>2.346951</td>\n",
              "      <td>1.832887</td>\n",
              "      <td>00:00</td>\n",
              "    </tr>\n",
              "    <tr>\n",
              "      <td>25</td>\n",
              "      <td>27.482443</td>\n",
              "      <td>5.532311</td>\n",
              "      <td>2.352087</td>\n",
              "      <td>1.827899</td>\n",
              "      <td>00:00</td>\n",
              "    </tr>\n",
              "    <tr>\n",
              "      <td>26</td>\n",
              "      <td>25.837078</td>\n",
              "      <td>5.478133</td>\n",
              "      <td>2.340541</td>\n",
              "      <td>1.818192</td>\n",
              "      <td>00:00</td>\n",
              "    </tr>\n",
              "    <tr>\n",
              "      <td>27</td>\n",
              "      <td>24.326908</td>\n",
              "      <td>5.489668</td>\n",
              "      <td>2.343004</td>\n",
              "      <td>1.828882</td>\n",
              "      <td>00:00</td>\n",
              "    </tr>\n",
              "    <tr>\n",
              "      <td>28</td>\n",
              "      <td>22.945086</td>\n",
              "      <td>5.383849</td>\n",
              "      <td>2.320312</td>\n",
              "      <td>1.796169</td>\n",
              "      <td>00:00</td>\n",
              "    </tr>\n",
              "    <tr>\n",
              "      <td>29</td>\n",
              "      <td>21.667183</td>\n",
              "      <td>5.532419</td>\n",
              "      <td>2.352109</td>\n",
              "      <td>1.841555</td>\n",
              "      <td>00:00</td>\n",
              "    </tr>\n",
              "    <tr>\n",
              "      <td>30</td>\n",
              "      <td>20.486897</td>\n",
              "      <td>5.597451</td>\n",
              "      <td>2.365893</td>\n",
              "      <td>1.840705</td>\n",
              "      <td>00:00</td>\n",
              "    </tr>\n",
              "    <tr>\n",
              "      <td>31</td>\n",
              "      <td>19.401102</td>\n",
              "      <td>5.643440</td>\n",
              "      <td>2.375592</td>\n",
              "      <td>1.867144</td>\n",
              "      <td>00:00</td>\n",
              "    </tr>\n",
              "    <tr>\n",
              "      <td>32</td>\n",
              "      <td>18.400263</td>\n",
              "      <td>5.482762</td>\n",
              "      <td>2.341530</td>\n",
              "      <td>1.815196</td>\n",
              "      <td>00:00</td>\n",
              "    </tr>\n",
              "    <tr>\n",
              "      <td>33</td>\n",
              "      <td>17.466969</td>\n",
              "      <td>5.595525</td>\n",
              "      <td>2.365486</td>\n",
              "      <td>1.836207</td>\n",
              "      <td>00:00</td>\n",
              "    </tr>\n",
              "    <tr>\n",
              "      <td>34</td>\n",
              "      <td>16.601658</td>\n",
              "      <td>5.544078</td>\n",
              "      <td>2.354587</td>\n",
              "      <td>1.826891</td>\n",
              "      <td>00:00</td>\n",
              "    </tr>\n",
              "    <tr>\n",
              "      <td>35</td>\n",
              "      <td>15.793155</td>\n",
              "      <td>5.515609</td>\n",
              "      <td>2.348533</td>\n",
              "      <td>1.832069</td>\n",
              "      <td>00:00</td>\n",
              "    </tr>\n",
              "    <tr>\n",
              "      <td>36</td>\n",
              "      <td>15.044175</td>\n",
              "      <td>5.577827</td>\n",
              "      <td>2.361742</td>\n",
              "      <td>1.833196</td>\n",
              "      <td>00:00</td>\n",
              "    </tr>\n",
              "    <tr>\n",
              "      <td>37</td>\n",
              "      <td>14.338573</td>\n",
              "      <td>5.621370</td>\n",
              "      <td>2.370943</td>\n",
              "      <td>1.842165</td>\n",
              "      <td>00:00</td>\n",
              "    </tr>\n",
              "    <tr>\n",
              "      <td>38</td>\n",
              "      <td>13.680594</td>\n",
              "      <td>5.579349</td>\n",
              "      <td>2.362065</td>\n",
              "      <td>1.832222</td>\n",
              "      <td>00:00</td>\n",
              "    </tr>\n",
              "    <tr>\n",
              "      <td>39</td>\n",
              "      <td>13.070804</td>\n",
              "      <td>5.593855</td>\n",
              "      <td>2.365133</td>\n",
              "      <td>1.833725</td>\n",
              "      <td>00:00</td>\n",
              "    </tr>\n",
              "    <tr>\n",
              "      <td>40</td>\n",
              "      <td>12.501486</td>\n",
              "      <td>5.595343</td>\n",
              "      <td>2.365448</td>\n",
              "      <td>1.832293</td>\n",
              "      <td>00:00</td>\n",
              "    </tr>\n",
              "    <tr>\n",
              "      <td>41</td>\n",
              "      <td>11.970263</td>\n",
              "      <td>5.612194</td>\n",
              "      <td>2.369007</td>\n",
              "      <td>1.840472</td>\n",
              "      <td>00:00</td>\n",
              "    </tr>\n",
              "    <tr>\n",
              "      <td>42</td>\n",
              "      <td>11.472534</td>\n",
              "      <td>5.689850</td>\n",
              "      <td>2.385341</td>\n",
              "      <td>1.867999</td>\n",
              "      <td>00:00</td>\n",
              "    </tr>\n",
              "    <tr>\n",
              "      <td>43</td>\n",
              "      <td>11.007578</td>\n",
              "      <td>5.778979</td>\n",
              "      <td>2.403951</td>\n",
              "      <td>1.885831</td>\n",
              "      <td>00:00</td>\n",
              "    </tr>\n",
              "    <tr>\n",
              "      <td>44</td>\n",
              "      <td>10.572979</td>\n",
              "      <td>5.737648</td>\n",
              "      <td>2.395339</td>\n",
              "      <td>1.877809</td>\n",
              "      <td>00:00</td>\n",
              "    </tr>\n",
              "    <tr>\n",
              "      <td>45</td>\n",
              "      <td>10.164712</td>\n",
              "      <td>5.708637</td>\n",
              "      <td>2.389275</td>\n",
              "      <td>1.867799</td>\n",
              "      <td>00:00</td>\n",
              "    </tr>\n",
              "    <tr>\n",
              "      <td>46</td>\n",
              "      <td>9.781862</td>\n",
              "      <td>5.695862</td>\n",
              "      <td>2.386600</td>\n",
              "      <td>1.860600</td>\n",
              "      <td>00:00</td>\n",
              "    </tr>\n",
              "    <tr>\n",
              "      <td>47</td>\n",
              "      <td>9.425412</td>\n",
              "      <td>5.700143</td>\n",
              "      <td>2.387497</td>\n",
              "      <td>1.860658</td>\n",
              "      <td>00:00</td>\n",
              "    </tr>\n",
              "    <tr>\n",
              "      <td>48</td>\n",
              "      <td>9.088502</td>\n",
              "      <td>5.697443</td>\n",
              "      <td>2.386932</td>\n",
              "      <td>1.859399</td>\n",
              "      <td>00:00</td>\n",
              "    </tr>\n",
              "    <tr>\n",
              "      <td>49</td>\n",
              "      <td>8.776579</td>\n",
              "      <td>5.704179</td>\n",
              "      <td>2.388342</td>\n",
              "      <td>1.860113</td>\n",
              "      <td>00:00</td>\n",
              "    </tr>\n",
              "  </tbody>\n",
              "</table>"
            ],
            "text/plain": [
              "<IPython.core.display.HTML object>"
            ]
          },
          "metadata": {
            "tags": []
          }
        }
      ]
    },
    {
      "cell_type": "code",
      "metadata": {
        "id": "IP2V6T-QVU2H"
      },
      "source": [
        ""
      ],
      "execution_count": null,
      "outputs": []
    }
  ]
}